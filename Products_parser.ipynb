{
 "cells": [
  {
   "cell_type": "code",
   "execution_count": 1,
   "metadata": {},
   "outputs": [
    {
     "name": "stdout",
     "output_type": "stream",
     "text": [
      "CPU times: user 375 ms, sys: 60.1 ms, total: 435 ms\n",
      "Wall time: 437 ms\n"
     ]
    }
   ],
   "source": [
    "%%time\n",
    "\n",
    "import requests, bs4, tqdm\n",
    "from bs4 import BeautifulSoup\n",
    "import tqdm\n",
    "from tqdm import tqdm_notebook\n",
    "import numpy as np\n",
    "from functools import reduce\n",
    "import pandas as pd\n",
    "import numpy as np\n",
    "from selenium import webdriver"
   ]
  },
  {
   "cell_type": "code",
   "execution_count": 2,
   "metadata": {},
   "outputs": [
    {
     "name": "stdout",
     "output_type": "stream",
     "text": [
      "CPU times: user 33 ms, sys: 15.3 ms, total: 48.2 ms\n",
      "Wall time: 6.41 s\n"
     ]
    }
   ],
   "source": [
    "%%time\n",
    "x = \"https://www.perekrestok.ru/catalog\"\n",
    "\n",
    "\n",
    "#вытаскиваем html-код главной страницы раздела\n",
    "def get_html(url):\n",
    "    r = requests.get(url)\n",
    "    return r.text\n",
    "\n",
    "ready_html = get_html(x)\n",
    "\n",
    "#print (ready_html)"
   ]
  },
  {
   "cell_type": "code",
   "execution_count": 3,
   "metadata": {},
   "outputs": [
    {
     "name": "stdout",
     "output_type": "stream",
     "text": [
      "34\n"
     ]
    }
   ],
   "source": [
    "def get_category_url(ready_html):\n",
    "    soup = BeautifulSoup(ready_html, 'lxml')\n",
    "    div = soup.find(\"section\", class_= \"xf-catalog-categories\")\n",
    "    table = div.findAll(\"a\", class_= \"xf-catalog-categories__link\")\n",
    "    a = list(table)\n",
    "    list_of_category_url = []\n",
    "    for i in a:\n",
    "        href = i.get('href')\n",
    "        category_url = \"https://www.perekrestok.ru\" + href\n",
    "        list_of_category_url.append(category_url)\n",
    "    return list_of_category_url\n",
    "\n",
    "print (len(get_category_url(ready_html)))"
   ]
  },
  {
   "cell_type": "code",
   "execution_count": 4,
   "metadata": {
    "scrolled": true
   },
   "outputs": [
    {
     "name": "stdout",
     "output_type": "stream",
     "text": [
      "['https://www.perekrestok.ru/catalog/avto-dom-sad-kuhnya'\n",
      " 'https://www.perekrestok.ru/catalog/fermerskie-produkty'\n",
      " 'https://www.perekrestok.ru/catalog/hleb-sladosti-sneki'\n",
      " 'https://www.perekrestok.ru/catalog/kofe-chay-sahar'\n",
      " 'https://www.perekrestok.ru/catalog/konservy-orehi-sousy'\n",
      " 'https://www.perekrestok.ru/catalog/krasota-gigiena-bytovaya-himiya'\n",
      " 'https://www.perekrestok.ru/catalog/makarony-krupy-spetsii'\n",
      " 'https://www.perekrestok.ru/catalog/moloko-syr-yaytsa'\n",
      " 'https://www.perekrestok.ru/catalog/myaso-ptitsa-delikatesy'\n",
      " 'https://www.perekrestok.ru/catalog/nashi-marki'\n",
      " 'https://www.perekrestok.ru/catalog/ovoschi-frukty-griby'\n",
      " 'https://www.perekrestok.ru/catalog/ryba-i-moreprodukty'\n",
      " 'https://www.perekrestok.ru/catalog/soki-vody-napitki'\n",
      " 'https://www.perekrestok.ru/catalog/tovary-dlya-jivotnyh'\n",
      " 'https://www.perekrestok.ru/catalog/tovary-dlya-mam-i-detey'\n",
      " 'https://www.perekrestok.ru/catalog/zamorojennye-produkty'\n",
      " 'https://www.perekrestok.ru/catalog/zdorovyy-vybor']\n"
     ]
    }
   ],
   "source": [
    "#list url-ов категорий\n",
    "f_of_category_url = list(get_category_url(ready_html))\n",
    "\n",
    "f_of_category_url = np.unique(f_of_category_url)\n",
    "print (f_of_category_url)"
   ]
  },
  {
   "cell_type": "code",
   "execution_count": 53,
   "metadata": {},
   "outputs": [
    {
     "ename": "NameError",
     "evalue": "name 'f_of_category_url' is not defined",
     "output_type": "error",
     "traceback": [
      "\u001b[0;31m---------------------------------------------------------------------------\u001b[0m",
      "\u001b[0;31mNameError\u001b[0m                                 Traceback (most recent call last)",
      "\u001b[0;32m<ipython-input-53-5a23a6c1e89d>\u001b[0m in \u001b[0;36m<module>\u001b[0;34m()\u001b[0m\n\u001b[0;32m----> 1\u001b[0;31m \u001b[0mf_of_category_url\u001b[0m\u001b[0;34m[\u001b[0m\u001b[0;36m0\u001b[0m\u001b[0;34m]\u001b[0m \u001b[0;34m=\u001b[0m \u001b[0;36m64\u001b[0m\u001b[0;34m\u001b[0m\u001b[0m\n\u001b[0m\u001b[1;32m      2\u001b[0m \u001b[0mf_of_category_url\u001b[0m\u001b[0;34m[\u001b[0m\u001b[0;36m1\u001b[0m\u001b[0;34m]\u001b[0m \u001b[0;34m=\u001b[0m \u001b[0;36m17\u001b[0m\u001b[0;34m\u001b[0m\u001b[0m\n\u001b[1;32m      3\u001b[0m \u001b[0mf_of_category_url\u001b[0m\u001b[0;34m[\u001b[0m\u001b[0;36m2\u001b[0m\u001b[0;34m]\u001b[0m \u001b[0;34m=\u001b[0m \u001b[0;36m26\u001b[0m\u001b[0;34m\u001b[0m\u001b[0m\n\u001b[1;32m      4\u001b[0m \u001b[0mf_of_category_url\u001b[0m\u001b[0;34m[\u001b[0m\u001b[0;36m3\u001b[0m\u001b[0;34m]\u001b[0m \u001b[0;34m=\u001b[0m \u001b[0;36m14\u001b[0m\u001b[0;34m\u001b[0m\u001b[0m\n\u001b[1;32m      5\u001b[0m \u001b[0mf_of_category_url\u001b[0m\u001b[0;34m[\u001b[0m\u001b[0;36m0\u001b[0m\u001b[0;34m]\u001b[0m \u001b[0;34m=\u001b[0m \u001b[0;36m64\u001b[0m\u001b[0;34m\u001b[0m\u001b[0m\n",
      "\u001b[0;31mNameError\u001b[0m: name 'f_of_category_url' is not defined"
     ]
    }
   ],
   "source": [
    "f_of_category_url[0] = 32\n",
    "f_of_category_url[1] = 1\n",
    "f_of_category_url[2] = 26\n",
    "f_of_category_url[3] = 14\n",
    "f_of_category_url[5] = 42\n",
    "f_of_category_url[6] = 15\n",
    "f_of_category_url[7] = 1\n",
    "f_of_category_url[8] = 65\n",
    "f_of_category_url[9] = 12\n",
    "f_of_category_url[10] = 22\n",
    "f_of_category_url[11] = 10\n",
    "f_of_category_url[12] = 66\n",
    "f_of_category_url[13] = 34\n",
    "f_of_category_url[14] = 32\n",
    "f_of_category_url[15] = 22\n",
    "f_of_category_url[16] = 64"
   ]
  },
  {
   "cell_type": "code",
   "execution_count": 9,
   "metadata": {
    "scrolled": true
   },
   "outputs": [
    {
     "name": "stdout",
     "output_type": "stream",
     "text": [
      "CPU times: user 59.4 ms, sys: 7.76 ms, total: 67.1 ms\n",
      "Wall time: 2.06 s\n"
     ]
    }
   ],
   "source": [
    "%%time\n",
    "#вытаскивает со страницы все товары, ссылки на них и цены\n",
    "x1 = \"https://www.perekrestok.ru/catalog/moloko-syr-yaytsa?page=18\"\n",
    "\n",
    "\n",
    "#вытаскиваем html-код главной страницы раздела\n",
    "def get_html(url):\n",
    "    r = requests.get(url)\n",
    "    return r.text\n",
    "\n",
    "ready_html = get_html(x1)\n",
    "\n",
    "#print (ready_html)\n",
    "\n",
    "def get_goods_sp(ready_html):\n",
    "    soup = BeautifulSoup(ready_html, 'lxml')\n",
    "    div = soup.find(\"section\", class_= \"xf-products-section\")\n",
    "    main = div.find(\"main\", class_= \"xf-products-section__products\")\n",
    "    div1 = main.find(\"div\", class_= \"catalog__items-wrap js-catalog-wrap\")\n",
    "    ul = div1.find(\"ul\", class_ = \"xf-catalog js-catalog\")\n",
    "    li = ul.findAll(\"li\", class_ = \"js-catalog-product _additionals xf-catalog__item\")\n",
    "    li = list(li)\n",
    "    list_of_all_products = []\n",
    "    for i in li:\n",
    "        list_of_product_sp = []\n",
    "        a = i.find(\"a\", class_= \"xf-product-title__link js-product__title\")\n",
    "        href = a.get('href')\n",
    "        title = a.get(\"title\")\n",
    "        div2 = i.find(\"div\", class_ = \"xf-product__cost xf-product-cost\")\n",
    "        cost1 = div2.find(class_ = \"xf-price__rouble\")\n",
    "        ncost1 = str(cost1).split(\">\")[1].split(\"<\")[0]\n",
    "        cost2 = div2.find(class_ = \"xf-price__penny\")\n",
    "        ncost2 = str(cost2).split(\">\")[1].split(\" <\")[0]\n",
    "        ncost = str(ncost1 + ncost2).replace('\\n                        ', '')\n",
    "        list_of_product_sp.extend((href, title, ncost))\n",
    "        list_of_all_products.append(list_of_product_sp)\n",
    "    return list_of_all_products\n",
    "\n",
    "#print (get_goods_sp(ready_html))\n",
    "#prom_res = get_category_url(ready_html)"
   ]
  },
  {
   "cell_type": "code",
   "execution_count": 5,
   "metadata": {
    "scrolled": true
   },
   "outputs": [
    {
     "name": "stdout",
     "output_type": "stream",
     "text": [
      "[['https://www.perekrestok.ru/catalog/avto-dom-sad-kuhnya?page=1', 'https://www.perekrestok.ru/catalog/avto-dom-sad-kuhnya?page=2', 'https://www.perekrestok.ru/catalog/avto-dom-sad-kuhnya?page=3', 'https://www.perekrestok.ru/catalog/avto-dom-sad-kuhnya?page=4', 'https://www.perekrestok.ru/catalog/avto-dom-sad-kuhnya?page=5', 'https://www.perekrestok.ru/catalog/avto-dom-sad-kuhnya?page=6', 'https://www.perekrestok.ru/catalog/avto-dom-sad-kuhnya?page=7', 'https://www.perekrestok.ru/catalog/avto-dom-sad-kuhnya?page=8', 'https://www.perekrestok.ru/catalog/avto-dom-sad-kuhnya?page=9', 'https://www.perekrestok.ru/catalog/avto-dom-sad-kuhnya?page=10', 'https://www.perekrestok.ru/catalog/avto-dom-sad-kuhnya?page=11', 'https://www.perekrestok.ru/catalog/avto-dom-sad-kuhnya?page=12', 'https://www.perekrestok.ru/catalog/avto-dom-sad-kuhnya?page=13', 'https://www.perekrestok.ru/catalog/avto-dom-sad-kuhnya?page=14', 'https://www.perekrestok.ru/catalog/avto-dom-sad-kuhnya?page=15', 'https://www.perekrestok.ru/catalog/avto-dom-sad-kuhnya?page=16', 'https://www.perekrestok.ru/catalog/avto-dom-sad-kuhnya?page=17', 'https://www.perekrestok.ru/catalog/avto-dom-sad-kuhnya?page=18', 'https://www.perekrestok.ru/catalog/avto-dom-sad-kuhnya?page=19', 'https://www.perekrestok.ru/catalog/avto-dom-sad-kuhnya?page=20', 'https://www.perekrestok.ru/catalog/avto-dom-sad-kuhnya?page=21', 'https://www.perekrestok.ru/catalog/avto-dom-sad-kuhnya?page=22', 'https://www.perekrestok.ru/catalog/avto-dom-sad-kuhnya?page=23', 'https://www.perekrestok.ru/catalog/avto-dom-sad-kuhnya?page=24', 'https://www.perekrestok.ru/catalog/avto-dom-sad-kuhnya?page=25', 'https://www.perekrestok.ru/catalog/avto-dom-sad-kuhnya?page=26', 'https://www.perekrestok.ru/catalog/avto-dom-sad-kuhnya?page=27', 'https://www.perekrestok.ru/catalog/avto-dom-sad-kuhnya?page=28', 'https://www.perekrestok.ru/catalog/avto-dom-sad-kuhnya?page=29', 'https://www.perekrestok.ru/catalog/avto-dom-sad-kuhnya?page=30', 'https://www.perekrestok.ru/catalog/avto-dom-sad-kuhnya?page=31', 'https://www.perekrestok.ru/catalog/avto-dom-sad-kuhnya?page=32', 'https://www.perekrestok.ru/catalog/avto-dom-sad-kuhnya?page=33', 'https://www.perekrestok.ru/catalog/avto-dom-sad-kuhnya?page=34', 'https://www.perekrestok.ru/catalog/avto-dom-sad-kuhnya?page=35', 'https://www.perekrestok.ru/catalog/avto-dom-sad-kuhnya?page=36', 'https://www.perekrestok.ru/catalog/avto-dom-sad-kuhnya?page=37', 'https://www.perekrestok.ru/catalog/avto-dom-sad-kuhnya?page=38', 'https://www.perekrestok.ru/catalog/avto-dom-sad-kuhnya?page=39', 'https://www.perekrestok.ru/catalog/avto-dom-sad-kuhnya?page=40', 'https://www.perekrestok.ru/catalog/avto-dom-sad-kuhnya?page=41', 'https://www.perekrestok.ru/catalog/avto-dom-sad-kuhnya?page=42', 'https://www.perekrestok.ru/catalog/avto-dom-sad-kuhnya?page=43', 'https://www.perekrestok.ru/catalog/avto-dom-sad-kuhnya?page=44', 'https://www.perekrestok.ru/catalog/avto-dom-sad-kuhnya?page=45', 'https://www.perekrestok.ru/catalog/avto-dom-sad-kuhnya?page=46', 'https://www.perekrestok.ru/catalog/avto-dom-sad-kuhnya?page=47', 'https://www.perekrestok.ru/catalog/avto-dom-sad-kuhnya?page=48', 'https://www.perekrestok.ru/catalog/avto-dom-sad-kuhnya?page=49', 'https://www.perekrestok.ru/catalog/avto-dom-sad-kuhnya?page=50', 'https://www.perekrestok.ru/catalog/avto-dom-sad-kuhnya?page=51', 'https://www.perekrestok.ru/catalog/avto-dom-sad-kuhnya?page=52', 'https://www.perekrestok.ru/catalog/avto-dom-sad-kuhnya?page=53', 'https://www.perekrestok.ru/catalog/avto-dom-sad-kuhnya?page=54', 'https://www.perekrestok.ru/catalog/avto-dom-sad-kuhnya?page=55', 'https://www.perekrestok.ru/catalog/avto-dom-sad-kuhnya?page=56', 'https://www.perekrestok.ru/catalog/avto-dom-sad-kuhnya?page=57', 'https://www.perekrestok.ru/catalog/avto-dom-sad-kuhnya?page=58', 'https://www.perekrestok.ru/catalog/avto-dom-sad-kuhnya?page=59', 'https://www.perekrestok.ru/catalog/avto-dom-sad-kuhnya?page=60', 'https://www.perekrestok.ru/catalog/avto-dom-sad-kuhnya?page=61', 'https://www.perekrestok.ru/catalog/avto-dom-sad-kuhnya?page=62', 'https://www.perekrestok.ru/catalog/avto-dom-sad-kuhnya?page=63', 'https://www.perekrestok.ru/catalog/avto-dom-sad-kuhnya?page=64', 'https://www.perekrestok.ru/catalog/avto-dom-sad-kuhnya?page=65', 'https://www.perekrestok.ru/catalog/avto-dom-sad-kuhnya?page=66'], ['https://www.perekrestok.ru/catalog/fermerskie-produkty?page=1', 'https://www.perekrestok.ru/catalog/fermerskie-produkty?page=2', 'https://www.perekrestok.ru/catalog/fermerskie-produkty?page=3', 'https://www.perekrestok.ru/catalog/fermerskie-produkty?page=4', 'https://www.perekrestok.ru/catalog/fermerskie-produkty?page=5', 'https://www.perekrestok.ru/catalog/fermerskie-produkty?page=6', 'https://www.perekrestok.ru/catalog/fermerskie-produkty?page=7', 'https://www.perekrestok.ru/catalog/fermerskie-produkty?page=8', 'https://www.perekrestok.ru/catalog/fermerskie-produkty?page=9', 'https://www.perekrestok.ru/catalog/fermerskie-produkty?page=10', 'https://www.perekrestok.ru/catalog/fermerskie-produkty?page=11', 'https://www.perekrestok.ru/catalog/fermerskie-produkty?page=12', 'https://www.perekrestok.ru/catalog/fermerskie-produkty?page=13', 'https://www.perekrestok.ru/catalog/fermerskie-produkty?page=14', 'https://www.perekrestok.ru/catalog/fermerskie-produkty?page=15', 'https://www.perekrestok.ru/catalog/fermerskie-produkty?page=16', 'https://www.perekrestok.ru/catalog/fermerskie-produkty?page=17', 'https://www.perekrestok.ru/catalog/fermerskie-produkty?page=18', 'https://www.perekrestok.ru/catalog/fermerskie-produkty?page=19', 'https://www.perekrestok.ru/catalog/fermerskie-produkty?page=20', 'https://www.perekrestok.ru/catalog/fermerskie-produkty?page=21', 'https://www.perekrestok.ru/catalog/fermerskie-produkty?page=22', 'https://www.perekrestok.ru/catalog/fermerskie-produkty?page=23', 'https://www.perekrestok.ru/catalog/fermerskie-produkty?page=24', 'https://www.perekrestok.ru/catalog/fermerskie-produkty?page=25', 'https://www.perekrestok.ru/catalog/fermerskie-produkty?page=26', 'https://www.perekrestok.ru/catalog/fermerskie-produkty?page=27', 'https://www.perekrestok.ru/catalog/fermerskie-produkty?page=28', 'https://www.perekrestok.ru/catalog/fermerskie-produkty?page=29', 'https://www.perekrestok.ru/catalog/fermerskie-produkty?page=30', 'https://www.perekrestok.ru/catalog/fermerskie-produkty?page=31', 'https://www.perekrestok.ru/catalog/fermerskie-produkty?page=32', 'https://www.perekrestok.ru/catalog/fermerskie-produkty?page=33', 'https://www.perekrestok.ru/catalog/fermerskie-produkty?page=34', 'https://www.perekrestok.ru/catalog/fermerskie-produkty?page=35', 'https://www.perekrestok.ru/catalog/fermerskie-produkty?page=36', 'https://www.perekrestok.ru/catalog/fermerskie-produkty?page=37', 'https://www.perekrestok.ru/catalog/fermerskie-produkty?page=38', 'https://www.perekrestok.ru/catalog/fermerskie-produkty?page=39', 'https://www.perekrestok.ru/catalog/fermerskie-produkty?page=40', 'https://www.perekrestok.ru/catalog/fermerskie-produkty?page=41', 'https://www.perekrestok.ru/catalog/fermerskie-produkty?page=42', 'https://www.perekrestok.ru/catalog/fermerskie-produkty?page=43', 'https://www.perekrestok.ru/catalog/fermerskie-produkty?page=44', 'https://www.perekrestok.ru/catalog/fermerskie-produkty?page=45', 'https://www.perekrestok.ru/catalog/fermerskie-produkty?page=46', 'https://www.perekrestok.ru/catalog/fermerskie-produkty?page=47', 'https://www.perekrestok.ru/catalog/fermerskie-produkty?page=48', 'https://www.perekrestok.ru/catalog/fermerskie-produkty?page=49', 'https://www.perekrestok.ru/catalog/fermerskie-produkty?page=50', 'https://www.perekrestok.ru/catalog/fermerskie-produkty?page=51', 'https://www.perekrestok.ru/catalog/fermerskie-produkty?page=52', 'https://www.perekrestok.ru/catalog/fermerskie-produkty?page=53', 'https://www.perekrestok.ru/catalog/fermerskie-produkty?page=54', 'https://www.perekrestok.ru/catalog/fermerskie-produkty?page=55', 'https://www.perekrestok.ru/catalog/fermerskie-produkty?page=56', 'https://www.perekrestok.ru/catalog/fermerskie-produkty?page=57', 'https://www.perekrestok.ru/catalog/fermerskie-produkty?page=58', 'https://www.perekrestok.ru/catalog/fermerskie-produkty?page=59', 'https://www.perekrestok.ru/catalog/fermerskie-produkty?page=60', 'https://www.perekrestok.ru/catalog/fermerskie-produkty?page=61', 'https://www.perekrestok.ru/catalog/fermerskie-produkty?page=62', 'https://www.perekrestok.ru/catalog/fermerskie-produkty?page=63', 'https://www.perekrestok.ru/catalog/fermerskie-produkty?page=64', 'https://www.perekrestok.ru/catalog/fermerskie-produkty?page=65', 'https://www.perekrestok.ru/catalog/fermerskie-produkty?page=66'], ['https://www.perekrestok.ru/catalog/hleb-sladosti-sneki?page=1', 'https://www.perekrestok.ru/catalog/hleb-sladosti-sneki?page=2', 'https://www.perekrestok.ru/catalog/hleb-sladosti-sneki?page=3', 'https://www.perekrestok.ru/catalog/hleb-sladosti-sneki?page=4', 'https://www.perekrestok.ru/catalog/hleb-sladosti-sneki?page=5', 'https://www.perekrestok.ru/catalog/hleb-sladosti-sneki?page=6', 'https://www.perekrestok.ru/catalog/hleb-sladosti-sneki?page=7', 'https://www.perekrestok.ru/catalog/hleb-sladosti-sneki?page=8', 'https://www.perekrestok.ru/catalog/hleb-sladosti-sneki?page=9', 'https://www.perekrestok.ru/catalog/hleb-sladosti-sneki?page=10', 'https://www.perekrestok.ru/catalog/hleb-sladosti-sneki?page=11', 'https://www.perekrestok.ru/catalog/hleb-sladosti-sneki?page=12', 'https://www.perekrestok.ru/catalog/hleb-sladosti-sneki?page=13', 'https://www.perekrestok.ru/catalog/hleb-sladosti-sneki?page=14', 'https://www.perekrestok.ru/catalog/hleb-sladosti-sneki?page=15', 'https://www.perekrestok.ru/catalog/hleb-sladosti-sneki?page=16', 'https://www.perekrestok.ru/catalog/hleb-sladosti-sneki?page=17', 'https://www.perekrestok.ru/catalog/hleb-sladosti-sneki?page=18', 'https://www.perekrestok.ru/catalog/hleb-sladosti-sneki?page=19', 'https://www.perekrestok.ru/catalog/hleb-sladosti-sneki?page=20', 'https://www.perekrestok.ru/catalog/hleb-sladosti-sneki?page=21', 'https://www.perekrestok.ru/catalog/hleb-sladosti-sneki?page=22', 'https://www.perekrestok.ru/catalog/hleb-sladosti-sneki?page=23', 'https://www.perekrestok.ru/catalog/hleb-sladosti-sneki?page=24', 'https://www.perekrestok.ru/catalog/hleb-sladosti-sneki?page=25', 'https://www.perekrestok.ru/catalog/hleb-sladosti-sneki?page=26', 'https://www.perekrestok.ru/catalog/hleb-sladosti-sneki?page=27', 'https://www.perekrestok.ru/catalog/hleb-sladosti-sneki?page=28', 'https://www.perekrestok.ru/catalog/hleb-sladosti-sneki?page=29', 'https://www.perekrestok.ru/catalog/hleb-sladosti-sneki?page=30', 'https://www.perekrestok.ru/catalog/hleb-sladosti-sneki?page=31', 'https://www.perekrestok.ru/catalog/hleb-sladosti-sneki?page=32', 'https://www.perekrestok.ru/catalog/hleb-sladosti-sneki?page=33', 'https://www.perekrestok.ru/catalog/hleb-sladosti-sneki?page=34', 'https://www.perekrestok.ru/catalog/hleb-sladosti-sneki?page=35', 'https://www.perekrestok.ru/catalog/hleb-sladosti-sneki?page=36', 'https://www.perekrestok.ru/catalog/hleb-sladosti-sneki?page=37', 'https://www.perekrestok.ru/catalog/hleb-sladosti-sneki?page=38', 'https://www.perekrestok.ru/catalog/hleb-sladosti-sneki?page=39', 'https://www.perekrestok.ru/catalog/hleb-sladosti-sneki?page=40', 'https://www.perekrestok.ru/catalog/hleb-sladosti-sneki?page=41', 'https://www.perekrestok.ru/catalog/hleb-sladosti-sneki?page=42', 'https://www.perekrestok.ru/catalog/hleb-sladosti-sneki?page=43', 'https://www.perekrestok.ru/catalog/hleb-sladosti-sneki?page=44', 'https://www.perekrestok.ru/catalog/hleb-sladosti-sneki?page=45', 'https://www.perekrestok.ru/catalog/hleb-sladosti-sneki?page=46', 'https://www.perekrestok.ru/catalog/hleb-sladosti-sneki?page=47', 'https://www.perekrestok.ru/catalog/hleb-sladosti-sneki?page=48', 'https://www.perekrestok.ru/catalog/hleb-sladosti-sneki?page=49', 'https://www.perekrestok.ru/catalog/hleb-sladosti-sneki?page=50', 'https://www.perekrestok.ru/catalog/hleb-sladosti-sneki?page=51', 'https://www.perekrestok.ru/catalog/hleb-sladosti-sneki?page=52', 'https://www.perekrestok.ru/catalog/hleb-sladosti-sneki?page=53', 'https://www.perekrestok.ru/catalog/hleb-sladosti-sneki?page=54', 'https://www.perekrestok.ru/catalog/hleb-sladosti-sneki?page=55', 'https://www.perekrestok.ru/catalog/hleb-sladosti-sneki?page=56', 'https://www.perekrestok.ru/catalog/hleb-sladosti-sneki?page=57', 'https://www.perekrestok.ru/catalog/hleb-sladosti-sneki?page=58', 'https://www.perekrestok.ru/catalog/hleb-sladosti-sneki?page=59', 'https://www.perekrestok.ru/catalog/hleb-sladosti-sneki?page=60', 'https://www.perekrestok.ru/catalog/hleb-sladosti-sneki?page=61', 'https://www.perekrestok.ru/catalog/hleb-sladosti-sneki?page=62', 'https://www.perekrestok.ru/catalog/hleb-sladosti-sneki?page=63', 'https://www.perekrestok.ru/catalog/hleb-sladosti-sneki?page=64', 'https://www.perekrestok.ru/catalog/hleb-sladosti-sneki?page=65', 'https://www.perekrestok.ru/catalog/hleb-sladosti-sneki?page=66'], ['https://www.perekrestok.ru/catalog/kofe-chay-sahar?page=1', 'https://www.perekrestok.ru/catalog/kofe-chay-sahar?page=2', 'https://www.perekrestok.ru/catalog/kofe-chay-sahar?page=3', 'https://www.perekrestok.ru/catalog/kofe-chay-sahar?page=4', 'https://www.perekrestok.ru/catalog/kofe-chay-sahar?page=5', 'https://www.perekrestok.ru/catalog/kofe-chay-sahar?page=6', 'https://www.perekrestok.ru/catalog/kofe-chay-sahar?page=7', 'https://www.perekrestok.ru/catalog/kofe-chay-sahar?page=8', 'https://www.perekrestok.ru/catalog/kofe-chay-sahar?page=9', 'https://www.perekrestok.ru/catalog/kofe-chay-sahar?page=10', 'https://www.perekrestok.ru/catalog/kofe-chay-sahar?page=11', 'https://www.perekrestok.ru/catalog/kofe-chay-sahar?page=12', 'https://www.perekrestok.ru/catalog/kofe-chay-sahar?page=13', 'https://www.perekrestok.ru/catalog/kofe-chay-sahar?page=14', 'https://www.perekrestok.ru/catalog/kofe-chay-sahar?page=15', 'https://www.perekrestok.ru/catalog/kofe-chay-sahar?page=16', 'https://www.perekrestok.ru/catalog/kofe-chay-sahar?page=17', 'https://www.perekrestok.ru/catalog/kofe-chay-sahar?page=18', 'https://www.perekrestok.ru/catalog/kofe-chay-sahar?page=19', 'https://www.perekrestok.ru/catalog/kofe-chay-sahar?page=20', 'https://www.perekrestok.ru/catalog/kofe-chay-sahar?page=21', 'https://www.perekrestok.ru/catalog/kofe-chay-sahar?page=22', 'https://www.perekrestok.ru/catalog/kofe-chay-sahar?page=23', 'https://www.perekrestok.ru/catalog/kofe-chay-sahar?page=24', 'https://www.perekrestok.ru/catalog/kofe-chay-sahar?page=25', 'https://www.perekrestok.ru/catalog/kofe-chay-sahar?page=26', 'https://www.perekrestok.ru/catalog/kofe-chay-sahar?page=27', 'https://www.perekrestok.ru/catalog/kofe-chay-sahar?page=28', 'https://www.perekrestok.ru/catalog/kofe-chay-sahar?page=29', 'https://www.perekrestok.ru/catalog/kofe-chay-sahar?page=30', 'https://www.perekrestok.ru/catalog/kofe-chay-sahar?page=31', 'https://www.perekrestok.ru/catalog/kofe-chay-sahar?page=32', 'https://www.perekrestok.ru/catalog/kofe-chay-sahar?page=33', 'https://www.perekrestok.ru/catalog/kofe-chay-sahar?page=34', 'https://www.perekrestok.ru/catalog/kofe-chay-sahar?page=35', 'https://www.perekrestok.ru/catalog/kofe-chay-sahar?page=36', 'https://www.perekrestok.ru/catalog/kofe-chay-sahar?page=37', 'https://www.perekrestok.ru/catalog/kofe-chay-sahar?page=38', 'https://www.perekrestok.ru/catalog/kofe-chay-sahar?page=39', 'https://www.perekrestok.ru/catalog/kofe-chay-sahar?page=40', 'https://www.perekrestok.ru/catalog/kofe-chay-sahar?page=41', 'https://www.perekrestok.ru/catalog/kofe-chay-sahar?page=42', 'https://www.perekrestok.ru/catalog/kofe-chay-sahar?page=43', 'https://www.perekrestok.ru/catalog/kofe-chay-sahar?page=44', 'https://www.perekrestok.ru/catalog/kofe-chay-sahar?page=45', 'https://www.perekrestok.ru/catalog/kofe-chay-sahar?page=46', 'https://www.perekrestok.ru/catalog/kofe-chay-sahar?page=47', 'https://www.perekrestok.ru/catalog/kofe-chay-sahar?page=48', 'https://www.perekrestok.ru/catalog/kofe-chay-sahar?page=49', 'https://www.perekrestok.ru/catalog/kofe-chay-sahar?page=50', 'https://www.perekrestok.ru/catalog/kofe-chay-sahar?page=51', 'https://www.perekrestok.ru/catalog/kofe-chay-sahar?page=52', 'https://www.perekrestok.ru/catalog/kofe-chay-sahar?page=53', 'https://www.perekrestok.ru/catalog/kofe-chay-sahar?page=54', 'https://www.perekrestok.ru/catalog/kofe-chay-sahar?page=55', 'https://www.perekrestok.ru/catalog/kofe-chay-sahar?page=56', 'https://www.perekrestok.ru/catalog/kofe-chay-sahar?page=57', 'https://www.perekrestok.ru/catalog/kofe-chay-sahar?page=58', 'https://www.perekrestok.ru/catalog/kofe-chay-sahar?page=59', 'https://www.perekrestok.ru/catalog/kofe-chay-sahar?page=60', 'https://www.perekrestok.ru/catalog/kofe-chay-sahar?page=61', 'https://www.perekrestok.ru/catalog/kofe-chay-sahar?page=62', 'https://www.perekrestok.ru/catalog/kofe-chay-sahar?page=63', 'https://www.perekrestok.ru/catalog/kofe-chay-sahar?page=64', 'https://www.perekrestok.ru/catalog/kofe-chay-sahar?page=65', 'https://www.perekrestok.ru/catalog/kofe-chay-sahar?page=66'], ['https://www.perekrestok.ru/catalog/konservy-orehi-sousy?page=1', 'https://www.perekrestok.ru/catalog/konservy-orehi-sousy?page=2', 'https://www.perekrestok.ru/catalog/konservy-orehi-sousy?page=3', 'https://www.perekrestok.ru/catalog/konservy-orehi-sousy?page=4', 'https://www.perekrestok.ru/catalog/konservy-orehi-sousy?page=5', 'https://www.perekrestok.ru/catalog/konservy-orehi-sousy?page=6', 'https://www.perekrestok.ru/catalog/konservy-orehi-sousy?page=7', 'https://www.perekrestok.ru/catalog/konservy-orehi-sousy?page=8', 'https://www.perekrestok.ru/catalog/konservy-orehi-sousy?page=9', 'https://www.perekrestok.ru/catalog/konservy-orehi-sousy?page=10', 'https://www.perekrestok.ru/catalog/konservy-orehi-sousy?page=11', 'https://www.perekrestok.ru/catalog/konservy-orehi-sousy?page=12', 'https://www.perekrestok.ru/catalog/konservy-orehi-sousy?page=13', 'https://www.perekrestok.ru/catalog/konservy-orehi-sousy?page=14', 'https://www.perekrestok.ru/catalog/konservy-orehi-sousy?page=15', 'https://www.perekrestok.ru/catalog/konservy-orehi-sousy?page=16', 'https://www.perekrestok.ru/catalog/konservy-orehi-sousy?page=17', 'https://www.perekrestok.ru/catalog/konservy-orehi-sousy?page=18', 'https://www.perekrestok.ru/catalog/konservy-orehi-sousy?page=19', 'https://www.perekrestok.ru/catalog/konservy-orehi-sousy?page=20', 'https://www.perekrestok.ru/catalog/konservy-orehi-sousy?page=21', 'https://www.perekrestok.ru/catalog/konservy-orehi-sousy?page=22', 'https://www.perekrestok.ru/catalog/konservy-orehi-sousy?page=23', 'https://www.perekrestok.ru/catalog/konservy-orehi-sousy?page=24', 'https://www.perekrestok.ru/catalog/konservy-orehi-sousy?page=25', 'https://www.perekrestok.ru/catalog/konservy-orehi-sousy?page=26', 'https://www.perekrestok.ru/catalog/konservy-orehi-sousy?page=27', 'https://www.perekrestok.ru/catalog/konservy-orehi-sousy?page=28', 'https://www.perekrestok.ru/catalog/konservy-orehi-sousy?page=29', 'https://www.perekrestok.ru/catalog/konservy-orehi-sousy?page=30', 'https://www.perekrestok.ru/catalog/konservy-orehi-sousy?page=31', 'https://www.perekrestok.ru/catalog/konservy-orehi-sousy?page=32', 'https://www.perekrestok.ru/catalog/konservy-orehi-sousy?page=33', 'https://www.perekrestok.ru/catalog/konservy-orehi-sousy?page=34', 'https://www.perekrestok.ru/catalog/konservy-orehi-sousy?page=35', 'https://www.perekrestok.ru/catalog/konservy-orehi-sousy?page=36', 'https://www.perekrestok.ru/catalog/konservy-orehi-sousy?page=37', 'https://www.perekrestok.ru/catalog/konservy-orehi-sousy?page=38', 'https://www.perekrestok.ru/catalog/konservy-orehi-sousy?page=39', 'https://www.perekrestok.ru/catalog/konservy-orehi-sousy?page=40', 'https://www.perekrestok.ru/catalog/konservy-orehi-sousy?page=41', 'https://www.perekrestok.ru/catalog/konservy-orehi-sousy?page=42', 'https://www.perekrestok.ru/catalog/konservy-orehi-sousy?page=43', 'https://www.perekrestok.ru/catalog/konservy-orehi-sousy?page=44', 'https://www.perekrestok.ru/catalog/konservy-orehi-sousy?page=45', 'https://www.perekrestok.ru/catalog/konservy-orehi-sousy?page=46', 'https://www.perekrestok.ru/catalog/konservy-orehi-sousy?page=47', 'https://www.perekrestok.ru/catalog/konservy-orehi-sousy?page=48', 'https://www.perekrestok.ru/catalog/konservy-orehi-sousy?page=49', 'https://www.perekrestok.ru/catalog/konservy-orehi-sousy?page=50', 'https://www.perekrestok.ru/catalog/konservy-orehi-sousy?page=51', 'https://www.perekrestok.ru/catalog/konservy-orehi-sousy?page=52', 'https://www.perekrestok.ru/catalog/konservy-orehi-sousy?page=53', 'https://www.perekrestok.ru/catalog/konservy-orehi-sousy?page=54', 'https://www.perekrestok.ru/catalog/konservy-orehi-sousy?page=55', 'https://www.perekrestok.ru/catalog/konservy-orehi-sousy?page=56', 'https://www.perekrestok.ru/catalog/konservy-orehi-sousy?page=57', 'https://www.perekrestok.ru/catalog/konservy-orehi-sousy?page=58', 'https://www.perekrestok.ru/catalog/konservy-orehi-sousy?page=59', 'https://www.perekrestok.ru/catalog/konservy-orehi-sousy?page=60', 'https://www.perekrestok.ru/catalog/konservy-orehi-sousy?page=61', 'https://www.perekrestok.ru/catalog/konservy-orehi-sousy?page=62', 'https://www.perekrestok.ru/catalog/konservy-orehi-sousy?page=63', 'https://www.perekrestok.ru/catalog/konservy-orehi-sousy?page=64', 'https://www.perekrestok.ru/catalog/konservy-orehi-sousy?page=65', 'https://www.perekrestok.ru/catalog/konservy-orehi-sousy?page=66'], ['https://www.perekrestok.ru/catalog/krasota-gigiena-bytovaya-himiya?page=1', 'https://www.perekrestok.ru/catalog/krasota-gigiena-bytovaya-himiya?page=2', 'https://www.perekrestok.ru/catalog/krasota-gigiena-bytovaya-himiya?page=3', 'https://www.perekrestok.ru/catalog/krasota-gigiena-bytovaya-himiya?page=4', 'https://www.perekrestok.ru/catalog/krasota-gigiena-bytovaya-himiya?page=5', 'https://www.perekrestok.ru/catalog/krasota-gigiena-bytovaya-himiya?page=6', 'https://www.perekrestok.ru/catalog/krasota-gigiena-bytovaya-himiya?page=7', 'https://www.perekrestok.ru/catalog/krasota-gigiena-bytovaya-himiya?page=8', 'https://www.perekrestok.ru/catalog/krasota-gigiena-bytovaya-himiya?page=9', 'https://www.perekrestok.ru/catalog/krasota-gigiena-bytovaya-himiya?page=10', 'https://www.perekrestok.ru/catalog/krasota-gigiena-bytovaya-himiya?page=11', 'https://www.perekrestok.ru/catalog/krasota-gigiena-bytovaya-himiya?page=12', 'https://www.perekrestok.ru/catalog/krasota-gigiena-bytovaya-himiya?page=13', 'https://www.perekrestok.ru/catalog/krasota-gigiena-bytovaya-himiya?page=14', 'https://www.perekrestok.ru/catalog/krasota-gigiena-bytovaya-himiya?page=15', 'https://www.perekrestok.ru/catalog/krasota-gigiena-bytovaya-himiya?page=16', 'https://www.perekrestok.ru/catalog/krasota-gigiena-bytovaya-himiya?page=17', 'https://www.perekrestok.ru/catalog/krasota-gigiena-bytovaya-himiya?page=18', 'https://www.perekrestok.ru/catalog/krasota-gigiena-bytovaya-himiya?page=19', 'https://www.perekrestok.ru/catalog/krasota-gigiena-bytovaya-himiya?page=20', 'https://www.perekrestok.ru/catalog/krasota-gigiena-bytovaya-himiya?page=21', 'https://www.perekrestok.ru/catalog/krasota-gigiena-bytovaya-himiya?page=22', 'https://www.perekrestok.ru/catalog/krasota-gigiena-bytovaya-himiya?page=23', 'https://www.perekrestok.ru/catalog/krasota-gigiena-bytovaya-himiya?page=24', 'https://www.perekrestok.ru/catalog/krasota-gigiena-bytovaya-himiya?page=25', 'https://www.perekrestok.ru/catalog/krasota-gigiena-bytovaya-himiya?page=26', 'https://www.perekrestok.ru/catalog/krasota-gigiena-bytovaya-himiya?page=27', 'https://www.perekrestok.ru/catalog/krasota-gigiena-bytovaya-himiya?page=28', 'https://www.perekrestok.ru/catalog/krasota-gigiena-bytovaya-himiya?page=29', 'https://www.perekrestok.ru/catalog/krasota-gigiena-bytovaya-himiya?page=30', 'https://www.perekrestok.ru/catalog/krasota-gigiena-bytovaya-himiya?page=31', 'https://www.perekrestok.ru/catalog/krasota-gigiena-bytovaya-himiya?page=32', 'https://www.perekrestok.ru/catalog/krasota-gigiena-bytovaya-himiya?page=33', 'https://www.perekrestok.ru/catalog/krasota-gigiena-bytovaya-himiya?page=34', 'https://www.perekrestok.ru/catalog/krasota-gigiena-bytovaya-himiya?page=35', 'https://www.perekrestok.ru/catalog/krasota-gigiena-bytovaya-himiya?page=36', 'https://www.perekrestok.ru/catalog/krasota-gigiena-bytovaya-himiya?page=37', 'https://www.perekrestok.ru/catalog/krasota-gigiena-bytovaya-himiya?page=38', 'https://www.perekrestok.ru/catalog/krasota-gigiena-bytovaya-himiya?page=39', 'https://www.perekrestok.ru/catalog/krasota-gigiena-bytovaya-himiya?page=40', 'https://www.perekrestok.ru/catalog/krasota-gigiena-bytovaya-himiya?page=41', 'https://www.perekrestok.ru/catalog/krasota-gigiena-bytovaya-himiya?page=42', 'https://www.perekrestok.ru/catalog/krasota-gigiena-bytovaya-himiya?page=43', 'https://www.perekrestok.ru/catalog/krasota-gigiena-bytovaya-himiya?page=44', 'https://www.perekrestok.ru/catalog/krasota-gigiena-bytovaya-himiya?page=45', 'https://www.perekrestok.ru/catalog/krasota-gigiena-bytovaya-himiya?page=46', 'https://www.perekrestok.ru/catalog/krasota-gigiena-bytovaya-himiya?page=47', 'https://www.perekrestok.ru/catalog/krasota-gigiena-bytovaya-himiya?page=48', 'https://www.perekrestok.ru/catalog/krasota-gigiena-bytovaya-himiya?page=49', 'https://www.perekrestok.ru/catalog/krasota-gigiena-bytovaya-himiya?page=50', 'https://www.perekrestok.ru/catalog/krasota-gigiena-bytovaya-himiya?page=51', 'https://www.perekrestok.ru/catalog/krasota-gigiena-bytovaya-himiya?page=52', 'https://www.perekrestok.ru/catalog/krasota-gigiena-bytovaya-himiya?page=53', 'https://www.perekrestok.ru/catalog/krasota-gigiena-bytovaya-himiya?page=54', 'https://www.perekrestok.ru/catalog/krasota-gigiena-bytovaya-himiya?page=55', 'https://www.perekrestok.ru/catalog/krasota-gigiena-bytovaya-himiya?page=56', 'https://www.perekrestok.ru/catalog/krasota-gigiena-bytovaya-himiya?page=57', 'https://www.perekrestok.ru/catalog/krasota-gigiena-bytovaya-himiya?page=58', 'https://www.perekrestok.ru/catalog/krasota-gigiena-bytovaya-himiya?page=59', 'https://www.perekrestok.ru/catalog/krasota-gigiena-bytovaya-himiya?page=60', 'https://www.perekrestok.ru/catalog/krasota-gigiena-bytovaya-himiya?page=61', 'https://www.perekrestok.ru/catalog/krasota-gigiena-bytovaya-himiya?page=62', 'https://www.perekrestok.ru/catalog/krasota-gigiena-bytovaya-himiya?page=63', 'https://www.perekrestok.ru/catalog/krasota-gigiena-bytovaya-himiya?page=64', 'https://www.perekrestok.ru/catalog/krasota-gigiena-bytovaya-himiya?page=65', 'https://www.perekrestok.ru/catalog/krasota-gigiena-bytovaya-himiya?page=66'], ['https://www.perekrestok.ru/catalog/makarony-krupy-spetsii?page=1', 'https://www.perekrestok.ru/catalog/makarony-krupy-spetsii?page=2', 'https://www.perekrestok.ru/catalog/makarony-krupy-spetsii?page=3', 'https://www.perekrestok.ru/catalog/makarony-krupy-spetsii?page=4', 'https://www.perekrestok.ru/catalog/makarony-krupy-spetsii?page=5', 'https://www.perekrestok.ru/catalog/makarony-krupy-spetsii?page=6', 'https://www.perekrestok.ru/catalog/makarony-krupy-spetsii?page=7', 'https://www.perekrestok.ru/catalog/makarony-krupy-spetsii?page=8', 'https://www.perekrestok.ru/catalog/makarony-krupy-spetsii?page=9', 'https://www.perekrestok.ru/catalog/makarony-krupy-spetsii?page=10', 'https://www.perekrestok.ru/catalog/makarony-krupy-spetsii?page=11', 'https://www.perekrestok.ru/catalog/makarony-krupy-spetsii?page=12', 'https://www.perekrestok.ru/catalog/makarony-krupy-spetsii?page=13', 'https://www.perekrestok.ru/catalog/makarony-krupy-spetsii?page=14', 'https://www.perekrestok.ru/catalog/makarony-krupy-spetsii?page=15', 'https://www.perekrestok.ru/catalog/makarony-krupy-spetsii?page=16', 'https://www.perekrestok.ru/catalog/makarony-krupy-spetsii?page=17', 'https://www.perekrestok.ru/catalog/makarony-krupy-spetsii?page=18', 'https://www.perekrestok.ru/catalog/makarony-krupy-spetsii?page=19', 'https://www.perekrestok.ru/catalog/makarony-krupy-spetsii?page=20', 'https://www.perekrestok.ru/catalog/makarony-krupy-spetsii?page=21', 'https://www.perekrestok.ru/catalog/makarony-krupy-spetsii?page=22', 'https://www.perekrestok.ru/catalog/makarony-krupy-spetsii?page=23', 'https://www.perekrestok.ru/catalog/makarony-krupy-spetsii?page=24', 'https://www.perekrestok.ru/catalog/makarony-krupy-spetsii?page=25', 'https://www.perekrestok.ru/catalog/makarony-krupy-spetsii?page=26', 'https://www.perekrestok.ru/catalog/makarony-krupy-spetsii?page=27', 'https://www.perekrestok.ru/catalog/makarony-krupy-spetsii?page=28', 'https://www.perekrestok.ru/catalog/makarony-krupy-spetsii?page=29', 'https://www.perekrestok.ru/catalog/makarony-krupy-spetsii?page=30', 'https://www.perekrestok.ru/catalog/makarony-krupy-spetsii?page=31', 'https://www.perekrestok.ru/catalog/makarony-krupy-spetsii?page=32', 'https://www.perekrestok.ru/catalog/makarony-krupy-spetsii?page=33', 'https://www.perekrestok.ru/catalog/makarony-krupy-spetsii?page=34', 'https://www.perekrestok.ru/catalog/makarony-krupy-spetsii?page=35', 'https://www.perekrestok.ru/catalog/makarony-krupy-spetsii?page=36', 'https://www.perekrestok.ru/catalog/makarony-krupy-spetsii?page=37', 'https://www.perekrestok.ru/catalog/makarony-krupy-spetsii?page=38', 'https://www.perekrestok.ru/catalog/makarony-krupy-spetsii?page=39', 'https://www.perekrestok.ru/catalog/makarony-krupy-spetsii?page=40', 'https://www.perekrestok.ru/catalog/makarony-krupy-spetsii?page=41', 'https://www.perekrestok.ru/catalog/makarony-krupy-spetsii?page=42', 'https://www.perekrestok.ru/catalog/makarony-krupy-spetsii?page=43', 'https://www.perekrestok.ru/catalog/makarony-krupy-spetsii?page=44', 'https://www.perekrestok.ru/catalog/makarony-krupy-spetsii?page=45', 'https://www.perekrestok.ru/catalog/makarony-krupy-spetsii?page=46', 'https://www.perekrestok.ru/catalog/makarony-krupy-spetsii?page=47', 'https://www.perekrestok.ru/catalog/makarony-krupy-spetsii?page=48', 'https://www.perekrestok.ru/catalog/makarony-krupy-spetsii?page=49', 'https://www.perekrestok.ru/catalog/makarony-krupy-spetsii?page=50', 'https://www.perekrestok.ru/catalog/makarony-krupy-spetsii?page=51', 'https://www.perekrestok.ru/catalog/makarony-krupy-spetsii?page=52', 'https://www.perekrestok.ru/catalog/makarony-krupy-spetsii?page=53', 'https://www.perekrestok.ru/catalog/makarony-krupy-spetsii?page=54', 'https://www.perekrestok.ru/catalog/makarony-krupy-spetsii?page=55', 'https://www.perekrestok.ru/catalog/makarony-krupy-spetsii?page=56', 'https://www.perekrestok.ru/catalog/makarony-krupy-spetsii?page=57', 'https://www.perekrestok.ru/catalog/makarony-krupy-spetsii?page=58', 'https://www.perekrestok.ru/catalog/makarony-krupy-spetsii?page=59', 'https://www.perekrestok.ru/catalog/makarony-krupy-spetsii?page=60', 'https://www.perekrestok.ru/catalog/makarony-krupy-spetsii?page=61', 'https://www.perekrestok.ru/catalog/makarony-krupy-spetsii?page=62', 'https://www.perekrestok.ru/catalog/makarony-krupy-spetsii?page=63', 'https://www.perekrestok.ru/catalog/makarony-krupy-spetsii?page=64', 'https://www.perekrestok.ru/catalog/makarony-krupy-spetsii?page=65', 'https://www.perekrestok.ru/catalog/makarony-krupy-spetsii?page=66'], ['https://www.perekrestok.ru/catalog/moloko-syr-yaytsa?page=1', 'https://www.perekrestok.ru/catalog/moloko-syr-yaytsa?page=2', 'https://www.perekrestok.ru/catalog/moloko-syr-yaytsa?page=3', 'https://www.perekrestok.ru/catalog/moloko-syr-yaytsa?page=4', 'https://www.perekrestok.ru/catalog/moloko-syr-yaytsa?page=5', 'https://www.perekrestok.ru/catalog/moloko-syr-yaytsa?page=6', 'https://www.perekrestok.ru/catalog/moloko-syr-yaytsa?page=7', 'https://www.perekrestok.ru/catalog/moloko-syr-yaytsa?page=8', 'https://www.perekrestok.ru/catalog/moloko-syr-yaytsa?page=9', 'https://www.perekrestok.ru/catalog/moloko-syr-yaytsa?page=10', 'https://www.perekrestok.ru/catalog/moloko-syr-yaytsa?page=11', 'https://www.perekrestok.ru/catalog/moloko-syr-yaytsa?page=12', 'https://www.perekrestok.ru/catalog/moloko-syr-yaytsa?page=13', 'https://www.perekrestok.ru/catalog/moloko-syr-yaytsa?page=14', 'https://www.perekrestok.ru/catalog/moloko-syr-yaytsa?page=15', 'https://www.perekrestok.ru/catalog/moloko-syr-yaytsa?page=16', 'https://www.perekrestok.ru/catalog/moloko-syr-yaytsa?page=17', 'https://www.perekrestok.ru/catalog/moloko-syr-yaytsa?page=18', 'https://www.perekrestok.ru/catalog/moloko-syr-yaytsa?page=19', 'https://www.perekrestok.ru/catalog/moloko-syr-yaytsa?page=20', 'https://www.perekrestok.ru/catalog/moloko-syr-yaytsa?page=21', 'https://www.perekrestok.ru/catalog/moloko-syr-yaytsa?page=22', 'https://www.perekrestok.ru/catalog/moloko-syr-yaytsa?page=23', 'https://www.perekrestok.ru/catalog/moloko-syr-yaytsa?page=24', 'https://www.perekrestok.ru/catalog/moloko-syr-yaytsa?page=25', 'https://www.perekrestok.ru/catalog/moloko-syr-yaytsa?page=26', 'https://www.perekrestok.ru/catalog/moloko-syr-yaytsa?page=27', 'https://www.perekrestok.ru/catalog/moloko-syr-yaytsa?page=28', 'https://www.perekrestok.ru/catalog/moloko-syr-yaytsa?page=29', 'https://www.perekrestok.ru/catalog/moloko-syr-yaytsa?page=30', 'https://www.perekrestok.ru/catalog/moloko-syr-yaytsa?page=31', 'https://www.perekrestok.ru/catalog/moloko-syr-yaytsa?page=32', 'https://www.perekrestok.ru/catalog/moloko-syr-yaytsa?page=33', 'https://www.perekrestok.ru/catalog/moloko-syr-yaytsa?page=34', 'https://www.perekrestok.ru/catalog/moloko-syr-yaytsa?page=35', 'https://www.perekrestok.ru/catalog/moloko-syr-yaytsa?page=36', 'https://www.perekrestok.ru/catalog/moloko-syr-yaytsa?page=37', 'https://www.perekrestok.ru/catalog/moloko-syr-yaytsa?page=38', 'https://www.perekrestok.ru/catalog/moloko-syr-yaytsa?page=39', 'https://www.perekrestok.ru/catalog/moloko-syr-yaytsa?page=40', 'https://www.perekrestok.ru/catalog/moloko-syr-yaytsa?page=41', 'https://www.perekrestok.ru/catalog/moloko-syr-yaytsa?page=42', 'https://www.perekrestok.ru/catalog/moloko-syr-yaytsa?page=43', 'https://www.perekrestok.ru/catalog/moloko-syr-yaytsa?page=44', 'https://www.perekrestok.ru/catalog/moloko-syr-yaytsa?page=45', 'https://www.perekrestok.ru/catalog/moloko-syr-yaytsa?page=46', 'https://www.perekrestok.ru/catalog/moloko-syr-yaytsa?page=47', 'https://www.perekrestok.ru/catalog/moloko-syr-yaytsa?page=48', 'https://www.perekrestok.ru/catalog/moloko-syr-yaytsa?page=49', 'https://www.perekrestok.ru/catalog/moloko-syr-yaytsa?page=50', 'https://www.perekrestok.ru/catalog/moloko-syr-yaytsa?page=51', 'https://www.perekrestok.ru/catalog/moloko-syr-yaytsa?page=52', 'https://www.perekrestok.ru/catalog/moloko-syr-yaytsa?page=53', 'https://www.perekrestok.ru/catalog/moloko-syr-yaytsa?page=54', 'https://www.perekrestok.ru/catalog/moloko-syr-yaytsa?page=55', 'https://www.perekrestok.ru/catalog/moloko-syr-yaytsa?page=56', 'https://www.perekrestok.ru/catalog/moloko-syr-yaytsa?page=57', 'https://www.perekrestok.ru/catalog/moloko-syr-yaytsa?page=58', 'https://www.perekrestok.ru/catalog/moloko-syr-yaytsa?page=59', 'https://www.perekrestok.ru/catalog/moloko-syr-yaytsa?page=60', 'https://www.perekrestok.ru/catalog/moloko-syr-yaytsa?page=61', 'https://www.perekrestok.ru/catalog/moloko-syr-yaytsa?page=62', 'https://www.perekrestok.ru/catalog/moloko-syr-yaytsa?page=63', 'https://www.perekrestok.ru/catalog/moloko-syr-yaytsa?page=64', 'https://www.perekrestok.ru/catalog/moloko-syr-yaytsa?page=65', 'https://www.perekrestok.ru/catalog/moloko-syr-yaytsa?page=66'], ['https://www.perekrestok.ru/catalog/myaso-ptitsa-delikatesy?page=1', 'https://www.perekrestok.ru/catalog/myaso-ptitsa-delikatesy?page=2', 'https://www.perekrestok.ru/catalog/myaso-ptitsa-delikatesy?page=3', 'https://www.perekrestok.ru/catalog/myaso-ptitsa-delikatesy?page=4', 'https://www.perekrestok.ru/catalog/myaso-ptitsa-delikatesy?page=5', 'https://www.perekrestok.ru/catalog/myaso-ptitsa-delikatesy?page=6', 'https://www.perekrestok.ru/catalog/myaso-ptitsa-delikatesy?page=7', 'https://www.perekrestok.ru/catalog/myaso-ptitsa-delikatesy?page=8', 'https://www.perekrestok.ru/catalog/myaso-ptitsa-delikatesy?page=9', 'https://www.perekrestok.ru/catalog/myaso-ptitsa-delikatesy?page=10', 'https://www.perekrestok.ru/catalog/myaso-ptitsa-delikatesy?page=11', 'https://www.perekrestok.ru/catalog/myaso-ptitsa-delikatesy?page=12', 'https://www.perekrestok.ru/catalog/myaso-ptitsa-delikatesy?page=13', 'https://www.perekrestok.ru/catalog/myaso-ptitsa-delikatesy?page=14', 'https://www.perekrestok.ru/catalog/myaso-ptitsa-delikatesy?page=15', 'https://www.perekrestok.ru/catalog/myaso-ptitsa-delikatesy?page=16', 'https://www.perekrestok.ru/catalog/myaso-ptitsa-delikatesy?page=17', 'https://www.perekrestok.ru/catalog/myaso-ptitsa-delikatesy?page=18', 'https://www.perekrestok.ru/catalog/myaso-ptitsa-delikatesy?page=19', 'https://www.perekrestok.ru/catalog/myaso-ptitsa-delikatesy?page=20', 'https://www.perekrestok.ru/catalog/myaso-ptitsa-delikatesy?page=21', 'https://www.perekrestok.ru/catalog/myaso-ptitsa-delikatesy?page=22', 'https://www.perekrestok.ru/catalog/myaso-ptitsa-delikatesy?page=23', 'https://www.perekrestok.ru/catalog/myaso-ptitsa-delikatesy?page=24', 'https://www.perekrestok.ru/catalog/myaso-ptitsa-delikatesy?page=25', 'https://www.perekrestok.ru/catalog/myaso-ptitsa-delikatesy?page=26', 'https://www.perekrestok.ru/catalog/myaso-ptitsa-delikatesy?page=27', 'https://www.perekrestok.ru/catalog/myaso-ptitsa-delikatesy?page=28', 'https://www.perekrestok.ru/catalog/myaso-ptitsa-delikatesy?page=29', 'https://www.perekrestok.ru/catalog/myaso-ptitsa-delikatesy?page=30', 'https://www.perekrestok.ru/catalog/myaso-ptitsa-delikatesy?page=31', 'https://www.perekrestok.ru/catalog/myaso-ptitsa-delikatesy?page=32', 'https://www.perekrestok.ru/catalog/myaso-ptitsa-delikatesy?page=33', 'https://www.perekrestok.ru/catalog/myaso-ptitsa-delikatesy?page=34', 'https://www.perekrestok.ru/catalog/myaso-ptitsa-delikatesy?page=35', 'https://www.perekrestok.ru/catalog/myaso-ptitsa-delikatesy?page=36', 'https://www.perekrestok.ru/catalog/myaso-ptitsa-delikatesy?page=37', 'https://www.perekrestok.ru/catalog/myaso-ptitsa-delikatesy?page=38', 'https://www.perekrestok.ru/catalog/myaso-ptitsa-delikatesy?page=39', 'https://www.perekrestok.ru/catalog/myaso-ptitsa-delikatesy?page=40', 'https://www.perekrestok.ru/catalog/myaso-ptitsa-delikatesy?page=41', 'https://www.perekrestok.ru/catalog/myaso-ptitsa-delikatesy?page=42', 'https://www.perekrestok.ru/catalog/myaso-ptitsa-delikatesy?page=43', 'https://www.perekrestok.ru/catalog/myaso-ptitsa-delikatesy?page=44', 'https://www.perekrestok.ru/catalog/myaso-ptitsa-delikatesy?page=45', 'https://www.perekrestok.ru/catalog/myaso-ptitsa-delikatesy?page=46', 'https://www.perekrestok.ru/catalog/myaso-ptitsa-delikatesy?page=47', 'https://www.perekrestok.ru/catalog/myaso-ptitsa-delikatesy?page=48', 'https://www.perekrestok.ru/catalog/myaso-ptitsa-delikatesy?page=49', 'https://www.perekrestok.ru/catalog/myaso-ptitsa-delikatesy?page=50', 'https://www.perekrestok.ru/catalog/myaso-ptitsa-delikatesy?page=51', 'https://www.perekrestok.ru/catalog/myaso-ptitsa-delikatesy?page=52', 'https://www.perekrestok.ru/catalog/myaso-ptitsa-delikatesy?page=53', 'https://www.perekrestok.ru/catalog/myaso-ptitsa-delikatesy?page=54', 'https://www.perekrestok.ru/catalog/myaso-ptitsa-delikatesy?page=55', 'https://www.perekrestok.ru/catalog/myaso-ptitsa-delikatesy?page=56', 'https://www.perekrestok.ru/catalog/myaso-ptitsa-delikatesy?page=57', 'https://www.perekrestok.ru/catalog/myaso-ptitsa-delikatesy?page=58', 'https://www.perekrestok.ru/catalog/myaso-ptitsa-delikatesy?page=59', 'https://www.perekrestok.ru/catalog/myaso-ptitsa-delikatesy?page=60', 'https://www.perekrestok.ru/catalog/myaso-ptitsa-delikatesy?page=61', 'https://www.perekrestok.ru/catalog/myaso-ptitsa-delikatesy?page=62', 'https://www.perekrestok.ru/catalog/myaso-ptitsa-delikatesy?page=63', 'https://www.perekrestok.ru/catalog/myaso-ptitsa-delikatesy?page=64', 'https://www.perekrestok.ru/catalog/myaso-ptitsa-delikatesy?page=65', 'https://www.perekrestok.ru/catalog/myaso-ptitsa-delikatesy?page=66'], ['https://www.perekrestok.ru/catalog/nashi-marki?page=1', 'https://www.perekrestok.ru/catalog/nashi-marki?page=2', 'https://www.perekrestok.ru/catalog/nashi-marki?page=3', 'https://www.perekrestok.ru/catalog/nashi-marki?page=4', 'https://www.perekrestok.ru/catalog/nashi-marki?page=5', 'https://www.perekrestok.ru/catalog/nashi-marki?page=6', 'https://www.perekrestok.ru/catalog/nashi-marki?page=7', 'https://www.perekrestok.ru/catalog/nashi-marki?page=8', 'https://www.perekrestok.ru/catalog/nashi-marki?page=9', 'https://www.perekrestok.ru/catalog/nashi-marki?page=10', 'https://www.perekrestok.ru/catalog/nashi-marki?page=11', 'https://www.perekrestok.ru/catalog/nashi-marki?page=12', 'https://www.perekrestok.ru/catalog/nashi-marki?page=13', 'https://www.perekrestok.ru/catalog/nashi-marki?page=14', 'https://www.perekrestok.ru/catalog/nashi-marki?page=15', 'https://www.perekrestok.ru/catalog/nashi-marki?page=16', 'https://www.perekrestok.ru/catalog/nashi-marki?page=17', 'https://www.perekrestok.ru/catalog/nashi-marki?page=18', 'https://www.perekrestok.ru/catalog/nashi-marki?page=19', 'https://www.perekrestok.ru/catalog/nashi-marki?page=20', 'https://www.perekrestok.ru/catalog/nashi-marki?page=21', 'https://www.perekrestok.ru/catalog/nashi-marki?page=22', 'https://www.perekrestok.ru/catalog/nashi-marki?page=23', 'https://www.perekrestok.ru/catalog/nashi-marki?page=24', 'https://www.perekrestok.ru/catalog/nashi-marki?page=25', 'https://www.perekrestok.ru/catalog/nashi-marki?page=26', 'https://www.perekrestok.ru/catalog/nashi-marki?page=27', 'https://www.perekrestok.ru/catalog/nashi-marki?page=28', 'https://www.perekrestok.ru/catalog/nashi-marki?page=29', 'https://www.perekrestok.ru/catalog/nashi-marki?page=30', 'https://www.perekrestok.ru/catalog/nashi-marki?page=31', 'https://www.perekrestok.ru/catalog/nashi-marki?page=32', 'https://www.perekrestok.ru/catalog/nashi-marki?page=33', 'https://www.perekrestok.ru/catalog/nashi-marki?page=34', 'https://www.perekrestok.ru/catalog/nashi-marki?page=35', 'https://www.perekrestok.ru/catalog/nashi-marki?page=36', 'https://www.perekrestok.ru/catalog/nashi-marki?page=37', 'https://www.perekrestok.ru/catalog/nashi-marki?page=38', 'https://www.perekrestok.ru/catalog/nashi-marki?page=39', 'https://www.perekrestok.ru/catalog/nashi-marki?page=40', 'https://www.perekrestok.ru/catalog/nashi-marki?page=41', 'https://www.perekrestok.ru/catalog/nashi-marki?page=42', 'https://www.perekrestok.ru/catalog/nashi-marki?page=43', 'https://www.perekrestok.ru/catalog/nashi-marki?page=44', 'https://www.perekrestok.ru/catalog/nashi-marki?page=45', 'https://www.perekrestok.ru/catalog/nashi-marki?page=46', 'https://www.perekrestok.ru/catalog/nashi-marki?page=47', 'https://www.perekrestok.ru/catalog/nashi-marki?page=48', 'https://www.perekrestok.ru/catalog/nashi-marki?page=49', 'https://www.perekrestok.ru/catalog/nashi-marki?page=50', 'https://www.perekrestok.ru/catalog/nashi-marki?page=51', 'https://www.perekrestok.ru/catalog/nashi-marki?page=52', 'https://www.perekrestok.ru/catalog/nashi-marki?page=53', 'https://www.perekrestok.ru/catalog/nashi-marki?page=54', 'https://www.perekrestok.ru/catalog/nashi-marki?page=55', 'https://www.perekrestok.ru/catalog/nashi-marki?page=56', 'https://www.perekrestok.ru/catalog/nashi-marki?page=57', 'https://www.perekrestok.ru/catalog/nashi-marki?page=58', 'https://www.perekrestok.ru/catalog/nashi-marki?page=59', 'https://www.perekrestok.ru/catalog/nashi-marki?page=60', 'https://www.perekrestok.ru/catalog/nashi-marki?page=61', 'https://www.perekrestok.ru/catalog/nashi-marki?page=62', 'https://www.perekrestok.ru/catalog/nashi-marki?page=63', 'https://www.perekrestok.ru/catalog/nashi-marki?page=64', 'https://www.perekrestok.ru/catalog/nashi-marki?page=65', 'https://www.perekrestok.ru/catalog/nashi-marki?page=66'], ['https://www.perekrestok.ru/catalog/ovoschi-frukty-griby?page=1', 'https://www.perekrestok.ru/catalog/ovoschi-frukty-griby?page=2', 'https://www.perekrestok.ru/catalog/ovoschi-frukty-griby?page=3', 'https://www.perekrestok.ru/catalog/ovoschi-frukty-griby?page=4', 'https://www.perekrestok.ru/catalog/ovoschi-frukty-griby?page=5', 'https://www.perekrestok.ru/catalog/ovoschi-frukty-griby?page=6', 'https://www.perekrestok.ru/catalog/ovoschi-frukty-griby?page=7', 'https://www.perekrestok.ru/catalog/ovoschi-frukty-griby?page=8', 'https://www.perekrestok.ru/catalog/ovoschi-frukty-griby?page=9', 'https://www.perekrestok.ru/catalog/ovoschi-frukty-griby?page=10', 'https://www.perekrestok.ru/catalog/ovoschi-frukty-griby?page=11', 'https://www.perekrestok.ru/catalog/ovoschi-frukty-griby?page=12', 'https://www.perekrestok.ru/catalog/ovoschi-frukty-griby?page=13', 'https://www.perekrestok.ru/catalog/ovoschi-frukty-griby?page=14', 'https://www.perekrestok.ru/catalog/ovoschi-frukty-griby?page=15', 'https://www.perekrestok.ru/catalog/ovoschi-frukty-griby?page=16', 'https://www.perekrestok.ru/catalog/ovoschi-frukty-griby?page=17', 'https://www.perekrestok.ru/catalog/ovoschi-frukty-griby?page=18', 'https://www.perekrestok.ru/catalog/ovoschi-frukty-griby?page=19', 'https://www.perekrestok.ru/catalog/ovoschi-frukty-griby?page=20', 'https://www.perekrestok.ru/catalog/ovoschi-frukty-griby?page=21', 'https://www.perekrestok.ru/catalog/ovoschi-frukty-griby?page=22', 'https://www.perekrestok.ru/catalog/ovoschi-frukty-griby?page=23', 'https://www.perekrestok.ru/catalog/ovoschi-frukty-griby?page=24', 'https://www.perekrestok.ru/catalog/ovoschi-frukty-griby?page=25', 'https://www.perekrestok.ru/catalog/ovoschi-frukty-griby?page=26', 'https://www.perekrestok.ru/catalog/ovoschi-frukty-griby?page=27', 'https://www.perekrestok.ru/catalog/ovoschi-frukty-griby?page=28', 'https://www.perekrestok.ru/catalog/ovoschi-frukty-griby?page=29', 'https://www.perekrestok.ru/catalog/ovoschi-frukty-griby?page=30', 'https://www.perekrestok.ru/catalog/ovoschi-frukty-griby?page=31', 'https://www.perekrestok.ru/catalog/ovoschi-frukty-griby?page=32', 'https://www.perekrestok.ru/catalog/ovoschi-frukty-griby?page=33', 'https://www.perekrestok.ru/catalog/ovoschi-frukty-griby?page=34', 'https://www.perekrestok.ru/catalog/ovoschi-frukty-griby?page=35', 'https://www.perekrestok.ru/catalog/ovoschi-frukty-griby?page=36', 'https://www.perekrestok.ru/catalog/ovoschi-frukty-griby?page=37', 'https://www.perekrestok.ru/catalog/ovoschi-frukty-griby?page=38', 'https://www.perekrestok.ru/catalog/ovoschi-frukty-griby?page=39', 'https://www.perekrestok.ru/catalog/ovoschi-frukty-griby?page=40', 'https://www.perekrestok.ru/catalog/ovoschi-frukty-griby?page=41', 'https://www.perekrestok.ru/catalog/ovoschi-frukty-griby?page=42', 'https://www.perekrestok.ru/catalog/ovoschi-frukty-griby?page=43', 'https://www.perekrestok.ru/catalog/ovoschi-frukty-griby?page=44', 'https://www.perekrestok.ru/catalog/ovoschi-frukty-griby?page=45', 'https://www.perekrestok.ru/catalog/ovoschi-frukty-griby?page=46', 'https://www.perekrestok.ru/catalog/ovoschi-frukty-griby?page=47', 'https://www.perekrestok.ru/catalog/ovoschi-frukty-griby?page=48', 'https://www.perekrestok.ru/catalog/ovoschi-frukty-griby?page=49', 'https://www.perekrestok.ru/catalog/ovoschi-frukty-griby?page=50', 'https://www.perekrestok.ru/catalog/ovoschi-frukty-griby?page=51', 'https://www.perekrestok.ru/catalog/ovoschi-frukty-griby?page=52', 'https://www.perekrestok.ru/catalog/ovoschi-frukty-griby?page=53', 'https://www.perekrestok.ru/catalog/ovoschi-frukty-griby?page=54', 'https://www.perekrestok.ru/catalog/ovoschi-frukty-griby?page=55', 'https://www.perekrestok.ru/catalog/ovoschi-frukty-griby?page=56', 'https://www.perekrestok.ru/catalog/ovoschi-frukty-griby?page=57', 'https://www.perekrestok.ru/catalog/ovoschi-frukty-griby?page=58', 'https://www.perekrestok.ru/catalog/ovoschi-frukty-griby?page=59', 'https://www.perekrestok.ru/catalog/ovoschi-frukty-griby?page=60', 'https://www.perekrestok.ru/catalog/ovoschi-frukty-griby?page=61', 'https://www.perekrestok.ru/catalog/ovoschi-frukty-griby?page=62', 'https://www.perekrestok.ru/catalog/ovoschi-frukty-griby?page=63', 'https://www.perekrestok.ru/catalog/ovoschi-frukty-griby?page=64', 'https://www.perekrestok.ru/catalog/ovoschi-frukty-griby?page=65', 'https://www.perekrestok.ru/catalog/ovoschi-frukty-griby?page=66'], ['https://www.perekrestok.ru/catalog/ryba-i-moreprodukty?page=1', 'https://www.perekrestok.ru/catalog/ryba-i-moreprodukty?page=2', 'https://www.perekrestok.ru/catalog/ryba-i-moreprodukty?page=3', 'https://www.perekrestok.ru/catalog/ryba-i-moreprodukty?page=4', 'https://www.perekrestok.ru/catalog/ryba-i-moreprodukty?page=5', 'https://www.perekrestok.ru/catalog/ryba-i-moreprodukty?page=6', 'https://www.perekrestok.ru/catalog/ryba-i-moreprodukty?page=7', 'https://www.perekrestok.ru/catalog/ryba-i-moreprodukty?page=8', 'https://www.perekrestok.ru/catalog/ryba-i-moreprodukty?page=9', 'https://www.perekrestok.ru/catalog/ryba-i-moreprodukty?page=10', 'https://www.perekrestok.ru/catalog/ryba-i-moreprodukty?page=11', 'https://www.perekrestok.ru/catalog/ryba-i-moreprodukty?page=12', 'https://www.perekrestok.ru/catalog/ryba-i-moreprodukty?page=13', 'https://www.perekrestok.ru/catalog/ryba-i-moreprodukty?page=14', 'https://www.perekrestok.ru/catalog/ryba-i-moreprodukty?page=15', 'https://www.perekrestok.ru/catalog/ryba-i-moreprodukty?page=16', 'https://www.perekrestok.ru/catalog/ryba-i-moreprodukty?page=17', 'https://www.perekrestok.ru/catalog/ryba-i-moreprodukty?page=18', 'https://www.perekrestok.ru/catalog/ryba-i-moreprodukty?page=19', 'https://www.perekrestok.ru/catalog/ryba-i-moreprodukty?page=20', 'https://www.perekrestok.ru/catalog/ryba-i-moreprodukty?page=21', 'https://www.perekrestok.ru/catalog/ryba-i-moreprodukty?page=22', 'https://www.perekrestok.ru/catalog/ryba-i-moreprodukty?page=23', 'https://www.perekrestok.ru/catalog/ryba-i-moreprodukty?page=24', 'https://www.perekrestok.ru/catalog/ryba-i-moreprodukty?page=25', 'https://www.perekrestok.ru/catalog/ryba-i-moreprodukty?page=26', 'https://www.perekrestok.ru/catalog/ryba-i-moreprodukty?page=27', 'https://www.perekrestok.ru/catalog/ryba-i-moreprodukty?page=28', 'https://www.perekrestok.ru/catalog/ryba-i-moreprodukty?page=29', 'https://www.perekrestok.ru/catalog/ryba-i-moreprodukty?page=30', 'https://www.perekrestok.ru/catalog/ryba-i-moreprodukty?page=31', 'https://www.perekrestok.ru/catalog/ryba-i-moreprodukty?page=32', 'https://www.perekrestok.ru/catalog/ryba-i-moreprodukty?page=33', 'https://www.perekrestok.ru/catalog/ryba-i-moreprodukty?page=34', 'https://www.perekrestok.ru/catalog/ryba-i-moreprodukty?page=35', 'https://www.perekrestok.ru/catalog/ryba-i-moreprodukty?page=36', 'https://www.perekrestok.ru/catalog/ryba-i-moreprodukty?page=37', 'https://www.perekrestok.ru/catalog/ryba-i-moreprodukty?page=38', 'https://www.perekrestok.ru/catalog/ryba-i-moreprodukty?page=39', 'https://www.perekrestok.ru/catalog/ryba-i-moreprodukty?page=40', 'https://www.perekrestok.ru/catalog/ryba-i-moreprodukty?page=41', 'https://www.perekrestok.ru/catalog/ryba-i-moreprodukty?page=42', 'https://www.perekrestok.ru/catalog/ryba-i-moreprodukty?page=43', 'https://www.perekrestok.ru/catalog/ryba-i-moreprodukty?page=44', 'https://www.perekrestok.ru/catalog/ryba-i-moreprodukty?page=45', 'https://www.perekrestok.ru/catalog/ryba-i-moreprodukty?page=46', 'https://www.perekrestok.ru/catalog/ryba-i-moreprodukty?page=47', 'https://www.perekrestok.ru/catalog/ryba-i-moreprodukty?page=48', 'https://www.perekrestok.ru/catalog/ryba-i-moreprodukty?page=49', 'https://www.perekrestok.ru/catalog/ryba-i-moreprodukty?page=50', 'https://www.perekrestok.ru/catalog/ryba-i-moreprodukty?page=51', 'https://www.perekrestok.ru/catalog/ryba-i-moreprodukty?page=52', 'https://www.perekrestok.ru/catalog/ryba-i-moreprodukty?page=53', 'https://www.perekrestok.ru/catalog/ryba-i-moreprodukty?page=54', 'https://www.perekrestok.ru/catalog/ryba-i-moreprodukty?page=55', 'https://www.perekrestok.ru/catalog/ryba-i-moreprodukty?page=56', 'https://www.perekrestok.ru/catalog/ryba-i-moreprodukty?page=57', 'https://www.perekrestok.ru/catalog/ryba-i-moreprodukty?page=58', 'https://www.perekrestok.ru/catalog/ryba-i-moreprodukty?page=59', 'https://www.perekrestok.ru/catalog/ryba-i-moreprodukty?page=60', 'https://www.perekrestok.ru/catalog/ryba-i-moreprodukty?page=61', 'https://www.perekrestok.ru/catalog/ryba-i-moreprodukty?page=62', 'https://www.perekrestok.ru/catalog/ryba-i-moreprodukty?page=63', 'https://www.perekrestok.ru/catalog/ryba-i-moreprodukty?page=64', 'https://www.perekrestok.ru/catalog/ryba-i-moreprodukty?page=65', 'https://www.perekrestok.ru/catalog/ryba-i-moreprodukty?page=66'], ['https://www.perekrestok.ru/catalog/soki-vody-napitki?page=1', 'https://www.perekrestok.ru/catalog/soki-vody-napitki?page=2', 'https://www.perekrestok.ru/catalog/soki-vody-napitki?page=3', 'https://www.perekrestok.ru/catalog/soki-vody-napitki?page=4', 'https://www.perekrestok.ru/catalog/soki-vody-napitki?page=5', 'https://www.perekrestok.ru/catalog/soki-vody-napitki?page=6', 'https://www.perekrestok.ru/catalog/soki-vody-napitki?page=7', 'https://www.perekrestok.ru/catalog/soki-vody-napitki?page=8', 'https://www.perekrestok.ru/catalog/soki-vody-napitki?page=9', 'https://www.perekrestok.ru/catalog/soki-vody-napitki?page=10', 'https://www.perekrestok.ru/catalog/soki-vody-napitki?page=11', 'https://www.perekrestok.ru/catalog/soki-vody-napitki?page=12', 'https://www.perekrestok.ru/catalog/soki-vody-napitki?page=13', 'https://www.perekrestok.ru/catalog/soki-vody-napitki?page=14', 'https://www.perekrestok.ru/catalog/soki-vody-napitki?page=15', 'https://www.perekrestok.ru/catalog/soki-vody-napitki?page=16', 'https://www.perekrestok.ru/catalog/soki-vody-napitki?page=17', 'https://www.perekrestok.ru/catalog/soki-vody-napitki?page=18', 'https://www.perekrestok.ru/catalog/soki-vody-napitki?page=19', 'https://www.perekrestok.ru/catalog/soki-vody-napitki?page=20', 'https://www.perekrestok.ru/catalog/soki-vody-napitki?page=21', 'https://www.perekrestok.ru/catalog/soki-vody-napitki?page=22', 'https://www.perekrestok.ru/catalog/soki-vody-napitki?page=23', 'https://www.perekrestok.ru/catalog/soki-vody-napitki?page=24', 'https://www.perekrestok.ru/catalog/soki-vody-napitki?page=25', 'https://www.perekrestok.ru/catalog/soki-vody-napitki?page=26', 'https://www.perekrestok.ru/catalog/soki-vody-napitki?page=27', 'https://www.perekrestok.ru/catalog/soki-vody-napitki?page=28', 'https://www.perekrestok.ru/catalog/soki-vody-napitki?page=29', 'https://www.perekrestok.ru/catalog/soki-vody-napitki?page=30', 'https://www.perekrestok.ru/catalog/soki-vody-napitki?page=31', 'https://www.perekrestok.ru/catalog/soki-vody-napitki?page=32', 'https://www.perekrestok.ru/catalog/soki-vody-napitki?page=33', 'https://www.perekrestok.ru/catalog/soki-vody-napitki?page=34', 'https://www.perekrestok.ru/catalog/soki-vody-napitki?page=35', 'https://www.perekrestok.ru/catalog/soki-vody-napitki?page=36', 'https://www.perekrestok.ru/catalog/soki-vody-napitki?page=37', 'https://www.perekrestok.ru/catalog/soki-vody-napitki?page=38', 'https://www.perekrestok.ru/catalog/soki-vody-napitki?page=39', 'https://www.perekrestok.ru/catalog/soki-vody-napitki?page=40', 'https://www.perekrestok.ru/catalog/soki-vody-napitki?page=41', 'https://www.perekrestok.ru/catalog/soki-vody-napitki?page=42', 'https://www.perekrestok.ru/catalog/soki-vody-napitki?page=43', 'https://www.perekrestok.ru/catalog/soki-vody-napitki?page=44', 'https://www.perekrestok.ru/catalog/soki-vody-napitki?page=45', 'https://www.perekrestok.ru/catalog/soki-vody-napitki?page=46', 'https://www.perekrestok.ru/catalog/soki-vody-napitki?page=47', 'https://www.perekrestok.ru/catalog/soki-vody-napitki?page=48', 'https://www.perekrestok.ru/catalog/soki-vody-napitki?page=49', 'https://www.perekrestok.ru/catalog/soki-vody-napitki?page=50', 'https://www.perekrestok.ru/catalog/soki-vody-napitki?page=51', 'https://www.perekrestok.ru/catalog/soki-vody-napitki?page=52', 'https://www.perekrestok.ru/catalog/soki-vody-napitki?page=53', 'https://www.perekrestok.ru/catalog/soki-vody-napitki?page=54', 'https://www.perekrestok.ru/catalog/soki-vody-napitki?page=55', 'https://www.perekrestok.ru/catalog/soki-vody-napitki?page=56', 'https://www.perekrestok.ru/catalog/soki-vody-napitki?page=57', 'https://www.perekrestok.ru/catalog/soki-vody-napitki?page=58', 'https://www.perekrestok.ru/catalog/soki-vody-napitki?page=59', 'https://www.perekrestok.ru/catalog/soki-vody-napitki?page=60', 'https://www.perekrestok.ru/catalog/soki-vody-napitki?page=61', 'https://www.perekrestok.ru/catalog/soki-vody-napitki?page=62', 'https://www.perekrestok.ru/catalog/soki-vody-napitki?page=63', 'https://www.perekrestok.ru/catalog/soki-vody-napitki?page=64', 'https://www.perekrestok.ru/catalog/soki-vody-napitki?page=65', 'https://www.perekrestok.ru/catalog/soki-vody-napitki?page=66'], ['https://www.perekrestok.ru/catalog/tovary-dlya-jivotnyh?page=1', 'https://www.perekrestok.ru/catalog/tovary-dlya-jivotnyh?page=2', 'https://www.perekrestok.ru/catalog/tovary-dlya-jivotnyh?page=3', 'https://www.perekrestok.ru/catalog/tovary-dlya-jivotnyh?page=4', 'https://www.perekrestok.ru/catalog/tovary-dlya-jivotnyh?page=5', 'https://www.perekrestok.ru/catalog/tovary-dlya-jivotnyh?page=6', 'https://www.perekrestok.ru/catalog/tovary-dlya-jivotnyh?page=7', 'https://www.perekrestok.ru/catalog/tovary-dlya-jivotnyh?page=8', 'https://www.perekrestok.ru/catalog/tovary-dlya-jivotnyh?page=9', 'https://www.perekrestok.ru/catalog/tovary-dlya-jivotnyh?page=10', 'https://www.perekrestok.ru/catalog/tovary-dlya-jivotnyh?page=11', 'https://www.perekrestok.ru/catalog/tovary-dlya-jivotnyh?page=12', 'https://www.perekrestok.ru/catalog/tovary-dlya-jivotnyh?page=13', 'https://www.perekrestok.ru/catalog/tovary-dlya-jivotnyh?page=14', 'https://www.perekrestok.ru/catalog/tovary-dlya-jivotnyh?page=15', 'https://www.perekrestok.ru/catalog/tovary-dlya-jivotnyh?page=16', 'https://www.perekrestok.ru/catalog/tovary-dlya-jivotnyh?page=17', 'https://www.perekrestok.ru/catalog/tovary-dlya-jivotnyh?page=18', 'https://www.perekrestok.ru/catalog/tovary-dlya-jivotnyh?page=19', 'https://www.perekrestok.ru/catalog/tovary-dlya-jivotnyh?page=20', 'https://www.perekrestok.ru/catalog/tovary-dlya-jivotnyh?page=21', 'https://www.perekrestok.ru/catalog/tovary-dlya-jivotnyh?page=22', 'https://www.perekrestok.ru/catalog/tovary-dlya-jivotnyh?page=23', 'https://www.perekrestok.ru/catalog/tovary-dlya-jivotnyh?page=24', 'https://www.perekrestok.ru/catalog/tovary-dlya-jivotnyh?page=25', 'https://www.perekrestok.ru/catalog/tovary-dlya-jivotnyh?page=26', 'https://www.perekrestok.ru/catalog/tovary-dlya-jivotnyh?page=27', 'https://www.perekrestok.ru/catalog/tovary-dlya-jivotnyh?page=28', 'https://www.perekrestok.ru/catalog/tovary-dlya-jivotnyh?page=29', 'https://www.perekrestok.ru/catalog/tovary-dlya-jivotnyh?page=30', 'https://www.perekrestok.ru/catalog/tovary-dlya-jivotnyh?page=31', 'https://www.perekrestok.ru/catalog/tovary-dlya-jivotnyh?page=32', 'https://www.perekrestok.ru/catalog/tovary-dlya-jivotnyh?page=33', 'https://www.perekrestok.ru/catalog/tovary-dlya-jivotnyh?page=34', 'https://www.perekrestok.ru/catalog/tovary-dlya-jivotnyh?page=35', 'https://www.perekrestok.ru/catalog/tovary-dlya-jivotnyh?page=36', 'https://www.perekrestok.ru/catalog/tovary-dlya-jivotnyh?page=37', 'https://www.perekrestok.ru/catalog/tovary-dlya-jivotnyh?page=38', 'https://www.perekrestok.ru/catalog/tovary-dlya-jivotnyh?page=39', 'https://www.perekrestok.ru/catalog/tovary-dlya-jivotnyh?page=40', 'https://www.perekrestok.ru/catalog/tovary-dlya-jivotnyh?page=41', 'https://www.perekrestok.ru/catalog/tovary-dlya-jivotnyh?page=42', 'https://www.perekrestok.ru/catalog/tovary-dlya-jivotnyh?page=43', 'https://www.perekrestok.ru/catalog/tovary-dlya-jivotnyh?page=44', 'https://www.perekrestok.ru/catalog/tovary-dlya-jivotnyh?page=45', 'https://www.perekrestok.ru/catalog/tovary-dlya-jivotnyh?page=46', 'https://www.perekrestok.ru/catalog/tovary-dlya-jivotnyh?page=47', 'https://www.perekrestok.ru/catalog/tovary-dlya-jivotnyh?page=48', 'https://www.perekrestok.ru/catalog/tovary-dlya-jivotnyh?page=49', 'https://www.perekrestok.ru/catalog/tovary-dlya-jivotnyh?page=50', 'https://www.perekrestok.ru/catalog/tovary-dlya-jivotnyh?page=51', 'https://www.perekrestok.ru/catalog/tovary-dlya-jivotnyh?page=52', 'https://www.perekrestok.ru/catalog/tovary-dlya-jivotnyh?page=53', 'https://www.perekrestok.ru/catalog/tovary-dlya-jivotnyh?page=54', 'https://www.perekrestok.ru/catalog/tovary-dlya-jivotnyh?page=55', 'https://www.perekrestok.ru/catalog/tovary-dlya-jivotnyh?page=56', 'https://www.perekrestok.ru/catalog/tovary-dlya-jivotnyh?page=57', 'https://www.perekrestok.ru/catalog/tovary-dlya-jivotnyh?page=58', 'https://www.perekrestok.ru/catalog/tovary-dlya-jivotnyh?page=59', 'https://www.perekrestok.ru/catalog/tovary-dlya-jivotnyh?page=60', 'https://www.perekrestok.ru/catalog/tovary-dlya-jivotnyh?page=61', 'https://www.perekrestok.ru/catalog/tovary-dlya-jivotnyh?page=62', 'https://www.perekrestok.ru/catalog/tovary-dlya-jivotnyh?page=63', 'https://www.perekrestok.ru/catalog/tovary-dlya-jivotnyh?page=64', 'https://www.perekrestok.ru/catalog/tovary-dlya-jivotnyh?page=65', 'https://www.perekrestok.ru/catalog/tovary-dlya-jivotnyh?page=66'], ['https://www.perekrestok.ru/catalog/tovary-dlya-mam-i-detey?page=1', 'https://www.perekrestok.ru/catalog/tovary-dlya-mam-i-detey?page=2', 'https://www.perekrestok.ru/catalog/tovary-dlya-mam-i-detey?page=3', 'https://www.perekrestok.ru/catalog/tovary-dlya-mam-i-detey?page=4', 'https://www.perekrestok.ru/catalog/tovary-dlya-mam-i-detey?page=5', 'https://www.perekrestok.ru/catalog/tovary-dlya-mam-i-detey?page=6', 'https://www.perekrestok.ru/catalog/tovary-dlya-mam-i-detey?page=7', 'https://www.perekrestok.ru/catalog/tovary-dlya-mam-i-detey?page=8', 'https://www.perekrestok.ru/catalog/tovary-dlya-mam-i-detey?page=9', 'https://www.perekrestok.ru/catalog/tovary-dlya-mam-i-detey?page=10', 'https://www.perekrestok.ru/catalog/tovary-dlya-mam-i-detey?page=11', 'https://www.perekrestok.ru/catalog/tovary-dlya-mam-i-detey?page=12', 'https://www.perekrestok.ru/catalog/tovary-dlya-mam-i-detey?page=13', 'https://www.perekrestok.ru/catalog/tovary-dlya-mam-i-detey?page=14', 'https://www.perekrestok.ru/catalog/tovary-dlya-mam-i-detey?page=15', 'https://www.perekrestok.ru/catalog/tovary-dlya-mam-i-detey?page=16', 'https://www.perekrestok.ru/catalog/tovary-dlya-mam-i-detey?page=17', 'https://www.perekrestok.ru/catalog/tovary-dlya-mam-i-detey?page=18', 'https://www.perekrestok.ru/catalog/tovary-dlya-mam-i-detey?page=19', 'https://www.perekrestok.ru/catalog/tovary-dlya-mam-i-detey?page=20', 'https://www.perekrestok.ru/catalog/tovary-dlya-mam-i-detey?page=21', 'https://www.perekrestok.ru/catalog/tovary-dlya-mam-i-detey?page=22', 'https://www.perekrestok.ru/catalog/tovary-dlya-mam-i-detey?page=23', 'https://www.perekrestok.ru/catalog/tovary-dlya-mam-i-detey?page=24', 'https://www.perekrestok.ru/catalog/tovary-dlya-mam-i-detey?page=25', 'https://www.perekrestok.ru/catalog/tovary-dlya-mam-i-detey?page=26', 'https://www.perekrestok.ru/catalog/tovary-dlya-mam-i-detey?page=27', 'https://www.perekrestok.ru/catalog/tovary-dlya-mam-i-detey?page=28', 'https://www.perekrestok.ru/catalog/tovary-dlya-mam-i-detey?page=29', 'https://www.perekrestok.ru/catalog/tovary-dlya-mam-i-detey?page=30', 'https://www.perekrestok.ru/catalog/tovary-dlya-mam-i-detey?page=31', 'https://www.perekrestok.ru/catalog/tovary-dlya-mam-i-detey?page=32', 'https://www.perekrestok.ru/catalog/tovary-dlya-mam-i-detey?page=33', 'https://www.perekrestok.ru/catalog/tovary-dlya-mam-i-detey?page=34', 'https://www.perekrestok.ru/catalog/tovary-dlya-mam-i-detey?page=35', 'https://www.perekrestok.ru/catalog/tovary-dlya-mam-i-detey?page=36', 'https://www.perekrestok.ru/catalog/tovary-dlya-mam-i-detey?page=37', 'https://www.perekrestok.ru/catalog/tovary-dlya-mam-i-detey?page=38', 'https://www.perekrestok.ru/catalog/tovary-dlya-mam-i-detey?page=39', 'https://www.perekrestok.ru/catalog/tovary-dlya-mam-i-detey?page=40', 'https://www.perekrestok.ru/catalog/tovary-dlya-mam-i-detey?page=41', 'https://www.perekrestok.ru/catalog/tovary-dlya-mam-i-detey?page=42', 'https://www.perekrestok.ru/catalog/tovary-dlya-mam-i-detey?page=43', 'https://www.perekrestok.ru/catalog/tovary-dlya-mam-i-detey?page=44', 'https://www.perekrestok.ru/catalog/tovary-dlya-mam-i-detey?page=45', 'https://www.perekrestok.ru/catalog/tovary-dlya-mam-i-detey?page=46', 'https://www.perekrestok.ru/catalog/tovary-dlya-mam-i-detey?page=47', 'https://www.perekrestok.ru/catalog/tovary-dlya-mam-i-detey?page=48', 'https://www.perekrestok.ru/catalog/tovary-dlya-mam-i-detey?page=49', 'https://www.perekrestok.ru/catalog/tovary-dlya-mam-i-detey?page=50', 'https://www.perekrestok.ru/catalog/tovary-dlya-mam-i-detey?page=51', 'https://www.perekrestok.ru/catalog/tovary-dlya-mam-i-detey?page=52', 'https://www.perekrestok.ru/catalog/tovary-dlya-mam-i-detey?page=53', 'https://www.perekrestok.ru/catalog/tovary-dlya-mam-i-detey?page=54', 'https://www.perekrestok.ru/catalog/tovary-dlya-mam-i-detey?page=55', 'https://www.perekrestok.ru/catalog/tovary-dlya-mam-i-detey?page=56', 'https://www.perekrestok.ru/catalog/tovary-dlya-mam-i-detey?page=57', 'https://www.perekrestok.ru/catalog/tovary-dlya-mam-i-detey?page=58', 'https://www.perekrestok.ru/catalog/tovary-dlya-mam-i-detey?page=59', 'https://www.perekrestok.ru/catalog/tovary-dlya-mam-i-detey?page=60', 'https://www.perekrestok.ru/catalog/tovary-dlya-mam-i-detey?page=61', 'https://www.perekrestok.ru/catalog/tovary-dlya-mam-i-detey?page=62', 'https://www.perekrestok.ru/catalog/tovary-dlya-mam-i-detey?page=63', 'https://www.perekrestok.ru/catalog/tovary-dlya-mam-i-detey?page=64', 'https://www.perekrestok.ru/catalog/tovary-dlya-mam-i-detey?page=65', 'https://www.perekrestok.ru/catalog/tovary-dlya-mam-i-detey?page=66'], ['https://www.perekrestok.ru/catalog/zamorojennye-produkty?page=1', 'https://www.perekrestok.ru/catalog/zamorojennye-produkty?page=2', 'https://www.perekrestok.ru/catalog/zamorojennye-produkty?page=3', 'https://www.perekrestok.ru/catalog/zamorojennye-produkty?page=4', 'https://www.perekrestok.ru/catalog/zamorojennye-produkty?page=5', 'https://www.perekrestok.ru/catalog/zamorojennye-produkty?page=6', 'https://www.perekrestok.ru/catalog/zamorojennye-produkty?page=7', 'https://www.perekrestok.ru/catalog/zamorojennye-produkty?page=8', 'https://www.perekrestok.ru/catalog/zamorojennye-produkty?page=9', 'https://www.perekrestok.ru/catalog/zamorojennye-produkty?page=10', 'https://www.perekrestok.ru/catalog/zamorojennye-produkty?page=11', 'https://www.perekrestok.ru/catalog/zamorojennye-produkty?page=12', 'https://www.perekrestok.ru/catalog/zamorojennye-produkty?page=13', 'https://www.perekrestok.ru/catalog/zamorojennye-produkty?page=14', 'https://www.perekrestok.ru/catalog/zamorojennye-produkty?page=15', 'https://www.perekrestok.ru/catalog/zamorojennye-produkty?page=16', 'https://www.perekrestok.ru/catalog/zamorojennye-produkty?page=17', 'https://www.perekrestok.ru/catalog/zamorojennye-produkty?page=18', 'https://www.perekrestok.ru/catalog/zamorojennye-produkty?page=19', 'https://www.perekrestok.ru/catalog/zamorojennye-produkty?page=20', 'https://www.perekrestok.ru/catalog/zamorojennye-produkty?page=21', 'https://www.perekrestok.ru/catalog/zamorojennye-produkty?page=22', 'https://www.perekrestok.ru/catalog/zamorojennye-produkty?page=23', 'https://www.perekrestok.ru/catalog/zamorojennye-produkty?page=24', 'https://www.perekrestok.ru/catalog/zamorojennye-produkty?page=25', 'https://www.perekrestok.ru/catalog/zamorojennye-produkty?page=26', 'https://www.perekrestok.ru/catalog/zamorojennye-produkty?page=27', 'https://www.perekrestok.ru/catalog/zamorojennye-produkty?page=28', 'https://www.perekrestok.ru/catalog/zamorojennye-produkty?page=29', 'https://www.perekrestok.ru/catalog/zamorojennye-produkty?page=30', 'https://www.perekrestok.ru/catalog/zamorojennye-produkty?page=31', 'https://www.perekrestok.ru/catalog/zamorojennye-produkty?page=32', 'https://www.perekrestok.ru/catalog/zamorojennye-produkty?page=33', 'https://www.perekrestok.ru/catalog/zamorojennye-produkty?page=34', 'https://www.perekrestok.ru/catalog/zamorojennye-produkty?page=35', 'https://www.perekrestok.ru/catalog/zamorojennye-produkty?page=36', 'https://www.perekrestok.ru/catalog/zamorojennye-produkty?page=37', 'https://www.perekrestok.ru/catalog/zamorojennye-produkty?page=38', 'https://www.perekrestok.ru/catalog/zamorojennye-produkty?page=39', 'https://www.perekrestok.ru/catalog/zamorojennye-produkty?page=40', 'https://www.perekrestok.ru/catalog/zamorojennye-produkty?page=41', 'https://www.perekrestok.ru/catalog/zamorojennye-produkty?page=42', 'https://www.perekrestok.ru/catalog/zamorojennye-produkty?page=43', 'https://www.perekrestok.ru/catalog/zamorojennye-produkty?page=44', 'https://www.perekrestok.ru/catalog/zamorojennye-produkty?page=45', 'https://www.perekrestok.ru/catalog/zamorojennye-produkty?page=46', 'https://www.perekrestok.ru/catalog/zamorojennye-produkty?page=47', 'https://www.perekrestok.ru/catalog/zamorojennye-produkty?page=48', 'https://www.perekrestok.ru/catalog/zamorojennye-produkty?page=49', 'https://www.perekrestok.ru/catalog/zamorojennye-produkty?page=50', 'https://www.perekrestok.ru/catalog/zamorojennye-produkty?page=51', 'https://www.perekrestok.ru/catalog/zamorojennye-produkty?page=52', 'https://www.perekrestok.ru/catalog/zamorojennye-produkty?page=53', 'https://www.perekrestok.ru/catalog/zamorojennye-produkty?page=54', 'https://www.perekrestok.ru/catalog/zamorojennye-produkty?page=55', 'https://www.perekrestok.ru/catalog/zamorojennye-produkty?page=56', 'https://www.perekrestok.ru/catalog/zamorojennye-produkty?page=57', 'https://www.perekrestok.ru/catalog/zamorojennye-produkty?page=58', 'https://www.perekrestok.ru/catalog/zamorojennye-produkty?page=59', 'https://www.perekrestok.ru/catalog/zamorojennye-produkty?page=60', 'https://www.perekrestok.ru/catalog/zamorojennye-produkty?page=61', 'https://www.perekrestok.ru/catalog/zamorojennye-produkty?page=62', 'https://www.perekrestok.ru/catalog/zamorojennye-produkty?page=63', 'https://www.perekrestok.ru/catalog/zamorojennye-produkty?page=64', 'https://www.perekrestok.ru/catalog/zamorojennye-produkty?page=65', 'https://www.perekrestok.ru/catalog/zamorojennye-produkty?page=66'], ['https://www.perekrestok.ru/catalog/zdorovyy-vybor?page=1', 'https://www.perekrestok.ru/catalog/zdorovyy-vybor?page=2', 'https://www.perekrestok.ru/catalog/zdorovyy-vybor?page=3', 'https://www.perekrestok.ru/catalog/zdorovyy-vybor?page=4', 'https://www.perekrestok.ru/catalog/zdorovyy-vybor?page=5', 'https://www.perekrestok.ru/catalog/zdorovyy-vybor?page=6', 'https://www.perekrestok.ru/catalog/zdorovyy-vybor?page=7', 'https://www.perekrestok.ru/catalog/zdorovyy-vybor?page=8', 'https://www.perekrestok.ru/catalog/zdorovyy-vybor?page=9', 'https://www.perekrestok.ru/catalog/zdorovyy-vybor?page=10', 'https://www.perekrestok.ru/catalog/zdorovyy-vybor?page=11', 'https://www.perekrestok.ru/catalog/zdorovyy-vybor?page=12', 'https://www.perekrestok.ru/catalog/zdorovyy-vybor?page=13', 'https://www.perekrestok.ru/catalog/zdorovyy-vybor?page=14', 'https://www.perekrestok.ru/catalog/zdorovyy-vybor?page=15', 'https://www.perekrestok.ru/catalog/zdorovyy-vybor?page=16', 'https://www.perekrestok.ru/catalog/zdorovyy-vybor?page=17', 'https://www.perekrestok.ru/catalog/zdorovyy-vybor?page=18', 'https://www.perekrestok.ru/catalog/zdorovyy-vybor?page=19', 'https://www.perekrestok.ru/catalog/zdorovyy-vybor?page=20', 'https://www.perekrestok.ru/catalog/zdorovyy-vybor?page=21', 'https://www.perekrestok.ru/catalog/zdorovyy-vybor?page=22', 'https://www.perekrestok.ru/catalog/zdorovyy-vybor?page=23', 'https://www.perekrestok.ru/catalog/zdorovyy-vybor?page=24', 'https://www.perekrestok.ru/catalog/zdorovyy-vybor?page=25', 'https://www.perekrestok.ru/catalog/zdorovyy-vybor?page=26', 'https://www.perekrestok.ru/catalog/zdorovyy-vybor?page=27', 'https://www.perekrestok.ru/catalog/zdorovyy-vybor?page=28', 'https://www.perekrestok.ru/catalog/zdorovyy-vybor?page=29', 'https://www.perekrestok.ru/catalog/zdorovyy-vybor?page=30', 'https://www.perekrestok.ru/catalog/zdorovyy-vybor?page=31', 'https://www.perekrestok.ru/catalog/zdorovyy-vybor?page=32', 'https://www.perekrestok.ru/catalog/zdorovyy-vybor?page=33', 'https://www.perekrestok.ru/catalog/zdorovyy-vybor?page=34', 'https://www.perekrestok.ru/catalog/zdorovyy-vybor?page=35', 'https://www.perekrestok.ru/catalog/zdorovyy-vybor?page=36', 'https://www.perekrestok.ru/catalog/zdorovyy-vybor?page=37', 'https://www.perekrestok.ru/catalog/zdorovyy-vybor?page=38', 'https://www.perekrestok.ru/catalog/zdorovyy-vybor?page=39', 'https://www.perekrestok.ru/catalog/zdorovyy-vybor?page=40', 'https://www.perekrestok.ru/catalog/zdorovyy-vybor?page=41', 'https://www.perekrestok.ru/catalog/zdorovyy-vybor?page=42', 'https://www.perekrestok.ru/catalog/zdorovyy-vybor?page=43', 'https://www.perekrestok.ru/catalog/zdorovyy-vybor?page=44', 'https://www.perekrestok.ru/catalog/zdorovyy-vybor?page=45', 'https://www.perekrestok.ru/catalog/zdorovyy-vybor?page=46', 'https://www.perekrestok.ru/catalog/zdorovyy-vybor?page=47', 'https://www.perekrestok.ru/catalog/zdorovyy-vybor?page=48', 'https://www.perekrestok.ru/catalog/zdorovyy-vybor?page=49', 'https://www.perekrestok.ru/catalog/zdorovyy-vybor?page=50', 'https://www.perekrestok.ru/catalog/zdorovyy-vybor?page=51', 'https://www.perekrestok.ru/catalog/zdorovyy-vybor?page=52', 'https://www.perekrestok.ru/catalog/zdorovyy-vybor?page=53', 'https://www.perekrestok.ru/catalog/zdorovyy-vybor?page=54', 'https://www.perekrestok.ru/catalog/zdorovyy-vybor?page=55', 'https://www.perekrestok.ru/catalog/zdorovyy-vybor?page=56', 'https://www.perekrestok.ru/catalog/zdorovyy-vybor?page=57', 'https://www.perekrestok.ru/catalog/zdorovyy-vybor?page=58', 'https://www.perekrestok.ru/catalog/zdorovyy-vybor?page=59', 'https://www.perekrestok.ru/catalog/zdorovyy-vybor?page=60', 'https://www.perekrestok.ru/catalog/zdorovyy-vybor?page=61', 'https://www.perekrestok.ru/catalog/zdorovyy-vybor?page=62', 'https://www.perekrestok.ru/catalog/zdorovyy-vybor?page=63', 'https://www.perekrestok.ru/catalog/zdorovyy-vybor?page=64', 'https://www.perekrestok.ru/catalog/zdorovyy-vybor?page=65', 'https://www.perekrestok.ru/catalog/zdorovyy-vybor?page=66']]\n"
     ]
    }
   ],
   "source": [
    "def get_category_pages(base_url):\n",
    "    page_part = \"?page=\"\n",
    "    urls = []\n",
    "    for i in range (1, 67):\n",
    "        url_gen = base_url + page_part + str(i)\n",
    "        urls.append(url_gen)\n",
    "    return urls\n",
    "\n",
    "\n",
    "category_pages_url = (list(map(get_category_pages, f_of_category_url)))\n",
    "print (category_pages_url)"
   ]
  },
  {
   "cell_type": "code",
   "execution_count": 17,
   "metadata": {},
   "outputs": [
    {
     "name": "stdout",
     "output_type": "stream",
     "text": [
      "['https://www.perekrestok.ru/catalog/avto-dom-sad-kuhnya?page=1', 'https://www.perekrestok.ru/catalog/avto-dom-sad-kuhnya?page=2', 'https://www.perekrestok.ru/catalog/avto-dom-sad-kuhnya?page=3', 'https://www.perekrestok.ru/catalog/avto-dom-sad-kuhnya?page=4', 'https://www.perekrestok.ru/catalog/avto-dom-sad-kuhnya?page=5', 'https://www.perekrestok.ru/catalog/avto-dom-sad-kuhnya?page=6', 'https://www.perekrestok.ru/catalog/avto-dom-sad-kuhnya?page=7', 'https://www.perekrestok.ru/catalog/avto-dom-sad-kuhnya?page=8', 'https://www.perekrestok.ru/catalog/avto-dom-sad-kuhnya?page=9', 'https://www.perekrestok.ru/catalog/avto-dom-sad-kuhnya?page=10', 'https://www.perekrestok.ru/catalog/avto-dom-sad-kuhnya?page=11', 'https://www.perekrestok.ru/catalog/avto-dom-sad-kuhnya?page=12', 'https://www.perekrestok.ru/catalog/avto-dom-sad-kuhnya?page=13', 'https://www.perekrestok.ru/catalog/avto-dom-sad-kuhnya?page=14', 'https://www.perekrestok.ru/catalog/avto-dom-sad-kuhnya?page=15', 'https://www.perekrestok.ru/catalog/avto-dom-sad-kuhnya?page=16', 'https://www.perekrestok.ru/catalog/avto-dom-sad-kuhnya?page=17', 'https://www.perekrestok.ru/catalog/avto-dom-sad-kuhnya?page=18', 'https://www.perekrestok.ru/catalog/avto-dom-sad-kuhnya?page=19', 'https://www.perekrestok.ru/catalog/avto-dom-sad-kuhnya?page=20', 'https://www.perekrestok.ru/catalog/avto-dom-sad-kuhnya?page=21', 'https://www.perekrestok.ru/catalog/avto-dom-sad-kuhnya?page=22', 'https://www.perekrestok.ru/catalog/avto-dom-sad-kuhnya?page=23', 'https://www.perekrestok.ru/catalog/avto-dom-sad-kuhnya?page=24', 'https://www.perekrestok.ru/catalog/avto-dom-sad-kuhnya?page=25', 'https://www.perekrestok.ru/catalog/avto-dom-sad-kuhnya?page=26', 'https://www.perekrestok.ru/catalog/avto-dom-sad-kuhnya?page=27', 'https://www.perekrestok.ru/catalog/avto-dom-sad-kuhnya?page=28', 'https://www.perekrestok.ru/catalog/avto-dom-sad-kuhnya?page=29', 'https://www.perekrestok.ru/catalog/avto-dom-sad-kuhnya?page=30', 'https://www.perekrestok.ru/catalog/avto-dom-sad-kuhnya?page=31', 'https://www.perekrestok.ru/catalog/avto-dom-sad-kuhnya?page=32', 'https://www.perekrestok.ru/catalog/avto-dom-sad-kuhnya?page=33', 'https://www.perekrestok.ru/catalog/avto-dom-sad-kuhnya?page=34', 'https://www.perekrestok.ru/catalog/avto-dom-sad-kuhnya?page=35', 'https://www.perekrestok.ru/catalog/avto-dom-sad-kuhnya?page=36', 'https://www.perekrestok.ru/catalog/avto-dom-sad-kuhnya?page=37', 'https://www.perekrestok.ru/catalog/avto-dom-sad-kuhnya?page=38', 'https://www.perekrestok.ru/catalog/avto-dom-sad-kuhnya?page=39', 'https://www.perekrestok.ru/catalog/avto-dom-sad-kuhnya?page=40', 'https://www.perekrestok.ru/catalog/avto-dom-sad-kuhnya?page=41', 'https://www.perekrestok.ru/catalog/avto-dom-sad-kuhnya?page=42', 'https://www.perekrestok.ru/catalog/avto-dom-sad-kuhnya?page=43', 'https://www.perekrestok.ru/catalog/avto-dom-sad-kuhnya?page=44', 'https://www.perekrestok.ru/catalog/avto-dom-sad-kuhnya?page=45', 'https://www.perekrestok.ru/catalog/avto-dom-sad-kuhnya?page=46', 'https://www.perekrestok.ru/catalog/avto-dom-sad-kuhnya?page=47', 'https://www.perekrestok.ru/catalog/avto-dom-sad-kuhnya?page=48', 'https://www.perekrestok.ru/catalog/avto-dom-sad-kuhnya?page=49', 'https://www.perekrestok.ru/catalog/avto-dom-sad-kuhnya?page=50', 'https://www.perekrestok.ru/catalog/avto-dom-sad-kuhnya?page=51', 'https://www.perekrestok.ru/catalog/avto-dom-sad-kuhnya?page=52', 'https://www.perekrestok.ru/catalog/avto-dom-sad-kuhnya?page=53', 'https://www.perekrestok.ru/catalog/avto-dom-sad-kuhnya?page=54', 'https://www.perekrestok.ru/catalog/avto-dom-sad-kuhnya?page=55', 'https://www.perekrestok.ru/catalog/avto-dom-sad-kuhnya?page=56', 'https://www.perekrestok.ru/catalog/avto-dom-sad-kuhnya?page=57', 'https://www.perekrestok.ru/catalog/avto-dom-sad-kuhnya?page=58', 'https://www.perekrestok.ru/catalog/avto-dom-sad-kuhnya?page=59', 'https://www.perekrestok.ru/catalog/avto-dom-sad-kuhnya?page=60', 'https://www.perekrestok.ru/catalog/avto-dom-sad-kuhnya?page=61', 'https://www.perekrestok.ru/catalog/avto-dom-sad-kuhnya?page=62', 'https://www.perekrestok.ru/catalog/avto-dom-sad-kuhnya?page=63', 'https://www.perekrestok.ru/catalog/avto-dom-sad-kuhnya?page=64', 'https://www.perekrestok.ru/catalog/avto-dom-sad-kuhnya?page=65', 'https://www.perekrestok.ru/catalog/avto-dom-sad-kuhnya?page=66', 'https://www.perekrestok.ru/catalog/fermerskie-produkty?page=1', 'https://www.perekrestok.ru/catalog/fermerskie-produkty?page=2', 'https://www.perekrestok.ru/catalog/fermerskie-produkty?page=3', 'https://www.perekrestok.ru/catalog/fermerskie-produkty?page=4', 'https://www.perekrestok.ru/catalog/fermerskie-produkty?page=5', 'https://www.perekrestok.ru/catalog/fermerskie-produkty?page=6', 'https://www.perekrestok.ru/catalog/fermerskie-produkty?page=7', 'https://www.perekrestok.ru/catalog/fermerskie-produkty?page=8', 'https://www.perekrestok.ru/catalog/fermerskie-produkty?page=9', 'https://www.perekrestok.ru/catalog/fermerskie-produkty?page=10', 'https://www.perekrestok.ru/catalog/fermerskie-produkty?page=11', 'https://www.perekrestok.ru/catalog/fermerskie-produkty?page=12', 'https://www.perekrestok.ru/catalog/fermerskie-produkty?page=13', 'https://www.perekrestok.ru/catalog/fermerskie-produkty?page=14', 'https://www.perekrestok.ru/catalog/fermerskie-produkty?page=15', 'https://www.perekrestok.ru/catalog/fermerskie-produkty?page=16', 'https://www.perekrestok.ru/catalog/fermerskie-produkty?page=17', 'https://www.perekrestok.ru/catalog/fermerskie-produkty?page=18', 'https://www.perekrestok.ru/catalog/fermerskie-produkty?page=19', 'https://www.perekrestok.ru/catalog/fermerskie-produkty?page=20', 'https://www.perekrestok.ru/catalog/fermerskie-produkty?page=21', 'https://www.perekrestok.ru/catalog/fermerskie-produkty?page=22', 'https://www.perekrestok.ru/catalog/fermerskie-produkty?page=23', 'https://www.perekrestok.ru/catalog/fermerskie-produkty?page=24', 'https://www.perekrestok.ru/catalog/fermerskie-produkty?page=25', 'https://www.perekrestok.ru/catalog/fermerskie-produkty?page=26', 'https://www.perekrestok.ru/catalog/fermerskie-produkty?page=27', 'https://www.perekrestok.ru/catalog/fermerskie-produkty?page=28', 'https://www.perekrestok.ru/catalog/fermerskie-produkty?page=29', 'https://www.perekrestok.ru/catalog/fermerskie-produkty?page=30', 'https://www.perekrestok.ru/catalog/fermerskie-produkty?page=31', 'https://www.perekrestok.ru/catalog/fermerskie-produkty?page=32', 'https://www.perekrestok.ru/catalog/fermerskie-produkty?page=33', 'https://www.perekrestok.ru/catalog/fermerskie-produkty?page=34', 'https://www.perekrestok.ru/catalog/fermerskie-produkty?page=35', 'https://www.perekrestok.ru/catalog/fermerskie-produkty?page=36', 'https://www.perekrestok.ru/catalog/fermerskie-produkty?page=37', 'https://www.perekrestok.ru/catalog/fermerskie-produkty?page=38', 'https://www.perekrestok.ru/catalog/fermerskie-produkty?page=39', 'https://www.perekrestok.ru/catalog/fermerskie-produkty?page=40', 'https://www.perekrestok.ru/catalog/fermerskie-produkty?page=41', 'https://www.perekrestok.ru/catalog/fermerskie-produkty?page=42', 'https://www.perekrestok.ru/catalog/fermerskie-produkty?page=43', 'https://www.perekrestok.ru/catalog/fermerskie-produkty?page=44', 'https://www.perekrestok.ru/catalog/fermerskie-produkty?page=45', 'https://www.perekrestok.ru/catalog/fermerskie-produkty?page=46', 'https://www.perekrestok.ru/catalog/fermerskie-produkty?page=47', 'https://www.perekrestok.ru/catalog/fermerskie-produkty?page=48', 'https://www.perekrestok.ru/catalog/fermerskie-produkty?page=49', 'https://www.perekrestok.ru/catalog/fermerskie-produkty?page=50', 'https://www.perekrestok.ru/catalog/fermerskie-produkty?page=51', 'https://www.perekrestok.ru/catalog/fermerskie-produkty?page=52', 'https://www.perekrestok.ru/catalog/fermerskie-produkty?page=53', 'https://www.perekrestok.ru/catalog/fermerskie-produkty?page=54', 'https://www.perekrestok.ru/catalog/fermerskie-produkty?page=55', 'https://www.perekrestok.ru/catalog/fermerskie-produkty?page=56', 'https://www.perekrestok.ru/catalog/fermerskie-produkty?page=57', 'https://www.perekrestok.ru/catalog/fermerskie-produkty?page=58', 'https://www.perekrestok.ru/catalog/fermerskie-produkty?page=59', 'https://www.perekrestok.ru/catalog/fermerskie-produkty?page=60', 'https://www.perekrestok.ru/catalog/fermerskie-produkty?page=61', 'https://www.perekrestok.ru/catalog/fermerskie-produkty?page=62', 'https://www.perekrestok.ru/catalog/fermerskie-produkty?page=63', 'https://www.perekrestok.ru/catalog/fermerskie-produkty?page=64', 'https://www.perekrestok.ru/catalog/fermerskie-produkty?page=65', 'https://www.perekrestok.ru/catalog/fermerskie-produkty?page=66', 'https://www.perekrestok.ru/catalog/hleb-sladosti-sneki?page=1', 'https://www.perekrestok.ru/catalog/hleb-sladosti-sneki?page=2', 'https://www.perekrestok.ru/catalog/hleb-sladosti-sneki?page=3', 'https://www.perekrestok.ru/catalog/hleb-sladosti-sneki?page=4', 'https://www.perekrestok.ru/catalog/hleb-sladosti-sneki?page=5', 'https://www.perekrestok.ru/catalog/hleb-sladosti-sneki?page=6', 'https://www.perekrestok.ru/catalog/hleb-sladosti-sneki?page=7', 'https://www.perekrestok.ru/catalog/hleb-sladosti-sneki?page=8', 'https://www.perekrestok.ru/catalog/hleb-sladosti-sneki?page=9', 'https://www.perekrestok.ru/catalog/hleb-sladosti-sneki?page=10', 'https://www.perekrestok.ru/catalog/hleb-sladosti-sneki?page=11', 'https://www.perekrestok.ru/catalog/hleb-sladosti-sneki?page=12', 'https://www.perekrestok.ru/catalog/hleb-sladosti-sneki?page=13', 'https://www.perekrestok.ru/catalog/hleb-sladosti-sneki?page=14', 'https://www.perekrestok.ru/catalog/hleb-sladosti-sneki?page=15', 'https://www.perekrestok.ru/catalog/hleb-sladosti-sneki?page=16', 'https://www.perekrestok.ru/catalog/hleb-sladosti-sneki?page=17', 'https://www.perekrestok.ru/catalog/hleb-sladosti-sneki?page=18', 'https://www.perekrestok.ru/catalog/hleb-sladosti-sneki?page=19', 'https://www.perekrestok.ru/catalog/hleb-sladosti-sneki?page=20', 'https://www.perekrestok.ru/catalog/hleb-sladosti-sneki?page=21', 'https://www.perekrestok.ru/catalog/hleb-sladosti-sneki?page=22', 'https://www.perekrestok.ru/catalog/hleb-sladosti-sneki?page=23', 'https://www.perekrestok.ru/catalog/hleb-sladosti-sneki?page=24', 'https://www.perekrestok.ru/catalog/hleb-sladosti-sneki?page=25', 'https://www.perekrestok.ru/catalog/hleb-sladosti-sneki?page=26', 'https://www.perekrestok.ru/catalog/hleb-sladosti-sneki?page=27', 'https://www.perekrestok.ru/catalog/hleb-sladosti-sneki?page=28', 'https://www.perekrestok.ru/catalog/hleb-sladosti-sneki?page=29', 'https://www.perekrestok.ru/catalog/hleb-sladosti-sneki?page=30', 'https://www.perekrestok.ru/catalog/hleb-sladosti-sneki?page=31', 'https://www.perekrestok.ru/catalog/hleb-sladosti-sneki?page=32', 'https://www.perekrestok.ru/catalog/hleb-sladosti-sneki?page=33', 'https://www.perekrestok.ru/catalog/hleb-sladosti-sneki?page=34', 'https://www.perekrestok.ru/catalog/hleb-sladosti-sneki?page=35', 'https://www.perekrestok.ru/catalog/hleb-sladosti-sneki?page=36', 'https://www.perekrestok.ru/catalog/hleb-sladosti-sneki?page=37', 'https://www.perekrestok.ru/catalog/hleb-sladosti-sneki?page=38', 'https://www.perekrestok.ru/catalog/hleb-sladosti-sneki?page=39', 'https://www.perekrestok.ru/catalog/hleb-sladosti-sneki?page=40', 'https://www.perekrestok.ru/catalog/hleb-sladosti-sneki?page=41', 'https://www.perekrestok.ru/catalog/hleb-sladosti-sneki?page=42', 'https://www.perekrestok.ru/catalog/hleb-sladosti-sneki?page=43', 'https://www.perekrestok.ru/catalog/hleb-sladosti-sneki?page=44', 'https://www.perekrestok.ru/catalog/hleb-sladosti-sneki?page=45', 'https://www.perekrestok.ru/catalog/hleb-sladosti-sneki?page=46', 'https://www.perekrestok.ru/catalog/hleb-sladosti-sneki?page=47', 'https://www.perekrestok.ru/catalog/hleb-sladosti-sneki?page=48', 'https://www.perekrestok.ru/catalog/hleb-sladosti-sneki?page=49', 'https://www.perekrestok.ru/catalog/hleb-sladosti-sneki?page=50', 'https://www.perekrestok.ru/catalog/hleb-sladosti-sneki?page=51', 'https://www.perekrestok.ru/catalog/hleb-sladosti-sneki?page=52', 'https://www.perekrestok.ru/catalog/hleb-sladosti-sneki?page=53', 'https://www.perekrestok.ru/catalog/hleb-sladosti-sneki?page=54', 'https://www.perekrestok.ru/catalog/hleb-sladosti-sneki?page=55', 'https://www.perekrestok.ru/catalog/hleb-sladosti-sneki?page=56', 'https://www.perekrestok.ru/catalog/hleb-sladosti-sneki?page=57', 'https://www.perekrestok.ru/catalog/hleb-sladosti-sneki?page=58', 'https://www.perekrestok.ru/catalog/hleb-sladosti-sneki?page=59', 'https://www.perekrestok.ru/catalog/hleb-sladosti-sneki?page=60', 'https://www.perekrestok.ru/catalog/hleb-sladosti-sneki?page=61', 'https://www.perekrestok.ru/catalog/hleb-sladosti-sneki?page=62', 'https://www.perekrestok.ru/catalog/hleb-sladosti-sneki?page=63', 'https://www.perekrestok.ru/catalog/hleb-sladosti-sneki?page=64', 'https://www.perekrestok.ru/catalog/hleb-sladosti-sneki?page=65', 'https://www.perekrestok.ru/catalog/hleb-sladosti-sneki?page=66', 'https://www.perekrestok.ru/catalog/kofe-chay-sahar?page=1', 'https://www.perekrestok.ru/catalog/kofe-chay-sahar?page=2', 'https://www.perekrestok.ru/catalog/kofe-chay-sahar?page=3', 'https://www.perekrestok.ru/catalog/kofe-chay-sahar?page=4', 'https://www.perekrestok.ru/catalog/kofe-chay-sahar?page=5', 'https://www.perekrestok.ru/catalog/kofe-chay-sahar?page=6', 'https://www.perekrestok.ru/catalog/kofe-chay-sahar?page=7', 'https://www.perekrestok.ru/catalog/kofe-chay-sahar?page=8', 'https://www.perekrestok.ru/catalog/kofe-chay-sahar?page=9', 'https://www.perekrestok.ru/catalog/kofe-chay-sahar?page=10', 'https://www.perekrestok.ru/catalog/kofe-chay-sahar?page=11', 'https://www.perekrestok.ru/catalog/kofe-chay-sahar?page=12', 'https://www.perekrestok.ru/catalog/kofe-chay-sahar?page=13', 'https://www.perekrestok.ru/catalog/kofe-chay-sahar?page=14', 'https://www.perekrestok.ru/catalog/kofe-chay-sahar?page=15', 'https://www.perekrestok.ru/catalog/kofe-chay-sahar?page=16', 'https://www.perekrestok.ru/catalog/kofe-chay-sahar?page=17', 'https://www.perekrestok.ru/catalog/kofe-chay-sahar?page=18', 'https://www.perekrestok.ru/catalog/kofe-chay-sahar?page=19', 'https://www.perekrestok.ru/catalog/kofe-chay-sahar?page=20', 'https://www.perekrestok.ru/catalog/kofe-chay-sahar?page=21', 'https://www.perekrestok.ru/catalog/kofe-chay-sahar?page=22', 'https://www.perekrestok.ru/catalog/kofe-chay-sahar?page=23', 'https://www.perekrestok.ru/catalog/kofe-chay-sahar?page=24', 'https://www.perekrestok.ru/catalog/kofe-chay-sahar?page=25', 'https://www.perekrestok.ru/catalog/kofe-chay-sahar?page=26', 'https://www.perekrestok.ru/catalog/kofe-chay-sahar?page=27', 'https://www.perekrestok.ru/catalog/kofe-chay-sahar?page=28', 'https://www.perekrestok.ru/catalog/kofe-chay-sahar?page=29', 'https://www.perekrestok.ru/catalog/kofe-chay-sahar?page=30', 'https://www.perekrestok.ru/catalog/kofe-chay-sahar?page=31', 'https://www.perekrestok.ru/catalog/kofe-chay-sahar?page=32', 'https://www.perekrestok.ru/catalog/kofe-chay-sahar?page=33', 'https://www.perekrestok.ru/catalog/kofe-chay-sahar?page=34', 'https://www.perekrestok.ru/catalog/kofe-chay-sahar?page=35', 'https://www.perekrestok.ru/catalog/kofe-chay-sahar?page=36', 'https://www.perekrestok.ru/catalog/kofe-chay-sahar?page=37', 'https://www.perekrestok.ru/catalog/kofe-chay-sahar?page=38', 'https://www.perekrestok.ru/catalog/kofe-chay-sahar?page=39', 'https://www.perekrestok.ru/catalog/kofe-chay-sahar?page=40', 'https://www.perekrestok.ru/catalog/kofe-chay-sahar?page=41', 'https://www.perekrestok.ru/catalog/kofe-chay-sahar?page=42', 'https://www.perekrestok.ru/catalog/kofe-chay-sahar?page=43', 'https://www.perekrestok.ru/catalog/kofe-chay-sahar?page=44', 'https://www.perekrestok.ru/catalog/kofe-chay-sahar?page=45', 'https://www.perekrestok.ru/catalog/kofe-chay-sahar?page=46', 'https://www.perekrestok.ru/catalog/kofe-chay-sahar?page=47', 'https://www.perekrestok.ru/catalog/kofe-chay-sahar?page=48', 'https://www.perekrestok.ru/catalog/kofe-chay-sahar?page=49', 'https://www.perekrestok.ru/catalog/kofe-chay-sahar?page=50', 'https://www.perekrestok.ru/catalog/kofe-chay-sahar?page=51', 'https://www.perekrestok.ru/catalog/kofe-chay-sahar?page=52', 'https://www.perekrestok.ru/catalog/kofe-chay-sahar?page=53', 'https://www.perekrestok.ru/catalog/kofe-chay-sahar?page=54', 'https://www.perekrestok.ru/catalog/kofe-chay-sahar?page=55', 'https://www.perekrestok.ru/catalog/kofe-chay-sahar?page=56', 'https://www.perekrestok.ru/catalog/kofe-chay-sahar?page=57', 'https://www.perekrestok.ru/catalog/kofe-chay-sahar?page=58', 'https://www.perekrestok.ru/catalog/kofe-chay-sahar?page=59', 'https://www.perekrestok.ru/catalog/kofe-chay-sahar?page=60', 'https://www.perekrestok.ru/catalog/kofe-chay-sahar?page=61', 'https://www.perekrestok.ru/catalog/kofe-chay-sahar?page=62', 'https://www.perekrestok.ru/catalog/kofe-chay-sahar?page=63', 'https://www.perekrestok.ru/catalog/kofe-chay-sahar?page=64', 'https://www.perekrestok.ru/catalog/kofe-chay-sahar?page=65', 'https://www.perekrestok.ru/catalog/kofe-chay-sahar?page=66', 'https://www.perekrestok.ru/catalog/konservy-orehi-sousy?page=1', 'https://www.perekrestok.ru/catalog/konservy-orehi-sousy?page=2', 'https://www.perekrestok.ru/catalog/konservy-orehi-sousy?page=3', 'https://www.perekrestok.ru/catalog/konservy-orehi-sousy?page=4', 'https://www.perekrestok.ru/catalog/konservy-orehi-sousy?page=5', 'https://www.perekrestok.ru/catalog/konservy-orehi-sousy?page=6', 'https://www.perekrestok.ru/catalog/konservy-orehi-sousy?page=7', 'https://www.perekrestok.ru/catalog/konservy-orehi-sousy?page=8', 'https://www.perekrestok.ru/catalog/konservy-orehi-sousy?page=9', 'https://www.perekrestok.ru/catalog/konservy-orehi-sousy?page=10', 'https://www.perekrestok.ru/catalog/konservy-orehi-sousy?page=11', 'https://www.perekrestok.ru/catalog/konservy-orehi-sousy?page=12', 'https://www.perekrestok.ru/catalog/konservy-orehi-sousy?page=13', 'https://www.perekrestok.ru/catalog/konservy-orehi-sousy?page=14', 'https://www.perekrestok.ru/catalog/konservy-orehi-sousy?page=15', 'https://www.perekrestok.ru/catalog/konservy-orehi-sousy?page=16', 'https://www.perekrestok.ru/catalog/konservy-orehi-sousy?page=17', 'https://www.perekrestok.ru/catalog/konservy-orehi-sousy?page=18', 'https://www.perekrestok.ru/catalog/konservy-orehi-sousy?page=19', 'https://www.perekrestok.ru/catalog/konservy-orehi-sousy?page=20', 'https://www.perekrestok.ru/catalog/konservy-orehi-sousy?page=21', 'https://www.perekrestok.ru/catalog/konservy-orehi-sousy?page=22', 'https://www.perekrestok.ru/catalog/konservy-orehi-sousy?page=23', 'https://www.perekrestok.ru/catalog/konservy-orehi-sousy?page=24', 'https://www.perekrestok.ru/catalog/konservy-orehi-sousy?page=25', 'https://www.perekrestok.ru/catalog/konservy-orehi-sousy?page=26', 'https://www.perekrestok.ru/catalog/konservy-orehi-sousy?page=27', 'https://www.perekrestok.ru/catalog/konservy-orehi-sousy?page=28', 'https://www.perekrestok.ru/catalog/konservy-orehi-sousy?page=29', 'https://www.perekrestok.ru/catalog/konservy-orehi-sousy?page=30', 'https://www.perekrestok.ru/catalog/konservy-orehi-sousy?page=31', 'https://www.perekrestok.ru/catalog/konservy-orehi-sousy?page=32', 'https://www.perekrestok.ru/catalog/konservy-orehi-sousy?page=33', 'https://www.perekrestok.ru/catalog/konservy-orehi-sousy?page=34', 'https://www.perekrestok.ru/catalog/konservy-orehi-sousy?page=35', 'https://www.perekrestok.ru/catalog/konservy-orehi-sousy?page=36', 'https://www.perekrestok.ru/catalog/konservy-orehi-sousy?page=37', 'https://www.perekrestok.ru/catalog/konservy-orehi-sousy?page=38', 'https://www.perekrestok.ru/catalog/konservy-orehi-sousy?page=39', 'https://www.perekrestok.ru/catalog/konservy-orehi-sousy?page=40', 'https://www.perekrestok.ru/catalog/konservy-orehi-sousy?page=41', 'https://www.perekrestok.ru/catalog/konservy-orehi-sousy?page=42', 'https://www.perekrestok.ru/catalog/konservy-orehi-sousy?page=43', 'https://www.perekrestok.ru/catalog/konservy-orehi-sousy?page=44', 'https://www.perekrestok.ru/catalog/konservy-orehi-sousy?page=45', 'https://www.perekrestok.ru/catalog/konservy-orehi-sousy?page=46', 'https://www.perekrestok.ru/catalog/konservy-orehi-sousy?page=47', 'https://www.perekrestok.ru/catalog/konservy-orehi-sousy?page=48', 'https://www.perekrestok.ru/catalog/konservy-orehi-sousy?page=49', 'https://www.perekrestok.ru/catalog/konservy-orehi-sousy?page=50', 'https://www.perekrestok.ru/catalog/konservy-orehi-sousy?page=51', 'https://www.perekrestok.ru/catalog/konservy-orehi-sousy?page=52', 'https://www.perekrestok.ru/catalog/konservy-orehi-sousy?page=53', 'https://www.perekrestok.ru/catalog/konservy-orehi-sousy?page=54', 'https://www.perekrestok.ru/catalog/konservy-orehi-sousy?page=55', 'https://www.perekrestok.ru/catalog/konservy-orehi-sousy?page=56', 'https://www.perekrestok.ru/catalog/konservy-orehi-sousy?page=57', 'https://www.perekrestok.ru/catalog/konservy-orehi-sousy?page=58', 'https://www.perekrestok.ru/catalog/konservy-orehi-sousy?page=59', 'https://www.perekrestok.ru/catalog/konservy-orehi-sousy?page=60', 'https://www.perekrestok.ru/catalog/konservy-orehi-sousy?page=61', 'https://www.perekrestok.ru/catalog/konservy-orehi-sousy?page=62', 'https://www.perekrestok.ru/catalog/konservy-orehi-sousy?page=63', 'https://www.perekrestok.ru/catalog/konservy-orehi-sousy?page=64', 'https://www.perekrestok.ru/catalog/konservy-orehi-sousy?page=65', 'https://www.perekrestok.ru/catalog/konservy-orehi-sousy?page=66', 'https://www.perekrestok.ru/catalog/krasota-gigiena-bytovaya-himiya?page=1', 'https://www.perekrestok.ru/catalog/krasota-gigiena-bytovaya-himiya?page=2', 'https://www.perekrestok.ru/catalog/krasota-gigiena-bytovaya-himiya?page=3', 'https://www.perekrestok.ru/catalog/krasota-gigiena-bytovaya-himiya?page=4', 'https://www.perekrestok.ru/catalog/krasota-gigiena-bytovaya-himiya?page=5', 'https://www.perekrestok.ru/catalog/krasota-gigiena-bytovaya-himiya?page=6', 'https://www.perekrestok.ru/catalog/krasota-gigiena-bytovaya-himiya?page=7', 'https://www.perekrestok.ru/catalog/krasota-gigiena-bytovaya-himiya?page=8', 'https://www.perekrestok.ru/catalog/krasota-gigiena-bytovaya-himiya?page=9', 'https://www.perekrestok.ru/catalog/krasota-gigiena-bytovaya-himiya?page=10', 'https://www.perekrestok.ru/catalog/krasota-gigiena-bytovaya-himiya?page=11', 'https://www.perekrestok.ru/catalog/krasota-gigiena-bytovaya-himiya?page=12', 'https://www.perekrestok.ru/catalog/krasota-gigiena-bytovaya-himiya?page=13', 'https://www.perekrestok.ru/catalog/krasota-gigiena-bytovaya-himiya?page=14', 'https://www.perekrestok.ru/catalog/krasota-gigiena-bytovaya-himiya?page=15', 'https://www.perekrestok.ru/catalog/krasota-gigiena-bytovaya-himiya?page=16', 'https://www.perekrestok.ru/catalog/krasota-gigiena-bytovaya-himiya?page=17', 'https://www.perekrestok.ru/catalog/krasota-gigiena-bytovaya-himiya?page=18', 'https://www.perekrestok.ru/catalog/krasota-gigiena-bytovaya-himiya?page=19', 'https://www.perekrestok.ru/catalog/krasota-gigiena-bytovaya-himiya?page=20', 'https://www.perekrestok.ru/catalog/krasota-gigiena-bytovaya-himiya?page=21', 'https://www.perekrestok.ru/catalog/krasota-gigiena-bytovaya-himiya?page=22', 'https://www.perekrestok.ru/catalog/krasota-gigiena-bytovaya-himiya?page=23', 'https://www.perekrestok.ru/catalog/krasota-gigiena-bytovaya-himiya?page=24', 'https://www.perekrestok.ru/catalog/krasota-gigiena-bytovaya-himiya?page=25', 'https://www.perekrestok.ru/catalog/krasota-gigiena-bytovaya-himiya?page=26', 'https://www.perekrestok.ru/catalog/krasota-gigiena-bytovaya-himiya?page=27', 'https://www.perekrestok.ru/catalog/krasota-gigiena-bytovaya-himiya?page=28', 'https://www.perekrestok.ru/catalog/krasota-gigiena-bytovaya-himiya?page=29', 'https://www.perekrestok.ru/catalog/krasota-gigiena-bytovaya-himiya?page=30', 'https://www.perekrestok.ru/catalog/krasota-gigiena-bytovaya-himiya?page=31', 'https://www.perekrestok.ru/catalog/krasota-gigiena-bytovaya-himiya?page=32', 'https://www.perekrestok.ru/catalog/krasota-gigiena-bytovaya-himiya?page=33', 'https://www.perekrestok.ru/catalog/krasota-gigiena-bytovaya-himiya?page=34', 'https://www.perekrestok.ru/catalog/krasota-gigiena-bytovaya-himiya?page=35', 'https://www.perekrestok.ru/catalog/krasota-gigiena-bytovaya-himiya?page=36', 'https://www.perekrestok.ru/catalog/krasota-gigiena-bytovaya-himiya?page=37', 'https://www.perekrestok.ru/catalog/krasota-gigiena-bytovaya-himiya?page=38', 'https://www.perekrestok.ru/catalog/krasota-gigiena-bytovaya-himiya?page=39', 'https://www.perekrestok.ru/catalog/krasota-gigiena-bytovaya-himiya?page=40', 'https://www.perekrestok.ru/catalog/krasota-gigiena-bytovaya-himiya?page=41', 'https://www.perekrestok.ru/catalog/krasota-gigiena-bytovaya-himiya?page=42', 'https://www.perekrestok.ru/catalog/krasota-gigiena-bytovaya-himiya?page=43', 'https://www.perekrestok.ru/catalog/krasota-gigiena-bytovaya-himiya?page=44', 'https://www.perekrestok.ru/catalog/krasota-gigiena-bytovaya-himiya?page=45', 'https://www.perekrestok.ru/catalog/krasota-gigiena-bytovaya-himiya?page=46', 'https://www.perekrestok.ru/catalog/krasota-gigiena-bytovaya-himiya?page=47', 'https://www.perekrestok.ru/catalog/krasota-gigiena-bytovaya-himiya?page=48', 'https://www.perekrestok.ru/catalog/krasota-gigiena-bytovaya-himiya?page=49', 'https://www.perekrestok.ru/catalog/krasota-gigiena-bytovaya-himiya?page=50', 'https://www.perekrestok.ru/catalog/krasota-gigiena-bytovaya-himiya?page=51', 'https://www.perekrestok.ru/catalog/krasota-gigiena-bytovaya-himiya?page=52', 'https://www.perekrestok.ru/catalog/krasota-gigiena-bytovaya-himiya?page=53', 'https://www.perekrestok.ru/catalog/krasota-gigiena-bytovaya-himiya?page=54', 'https://www.perekrestok.ru/catalog/krasota-gigiena-bytovaya-himiya?page=55', 'https://www.perekrestok.ru/catalog/krasota-gigiena-bytovaya-himiya?page=56', 'https://www.perekrestok.ru/catalog/krasota-gigiena-bytovaya-himiya?page=57', 'https://www.perekrestok.ru/catalog/krasota-gigiena-bytovaya-himiya?page=58', 'https://www.perekrestok.ru/catalog/krasota-gigiena-bytovaya-himiya?page=59', 'https://www.perekrestok.ru/catalog/krasota-gigiena-bytovaya-himiya?page=60', 'https://www.perekrestok.ru/catalog/krasota-gigiena-bytovaya-himiya?page=61', 'https://www.perekrestok.ru/catalog/krasota-gigiena-bytovaya-himiya?page=62', 'https://www.perekrestok.ru/catalog/krasota-gigiena-bytovaya-himiya?page=63', 'https://www.perekrestok.ru/catalog/krasota-gigiena-bytovaya-himiya?page=64', 'https://www.perekrestok.ru/catalog/krasota-gigiena-bytovaya-himiya?page=65', 'https://www.perekrestok.ru/catalog/krasota-gigiena-bytovaya-himiya?page=66', 'https://www.perekrestok.ru/catalog/makarony-krupy-spetsii?page=1', 'https://www.perekrestok.ru/catalog/makarony-krupy-spetsii?page=2', 'https://www.perekrestok.ru/catalog/makarony-krupy-spetsii?page=3', 'https://www.perekrestok.ru/catalog/makarony-krupy-spetsii?page=4', 'https://www.perekrestok.ru/catalog/makarony-krupy-spetsii?page=5', 'https://www.perekrestok.ru/catalog/makarony-krupy-spetsii?page=6', 'https://www.perekrestok.ru/catalog/makarony-krupy-spetsii?page=7', 'https://www.perekrestok.ru/catalog/makarony-krupy-spetsii?page=8', 'https://www.perekrestok.ru/catalog/makarony-krupy-spetsii?page=9', 'https://www.perekrestok.ru/catalog/makarony-krupy-spetsii?page=10', 'https://www.perekrestok.ru/catalog/makarony-krupy-spetsii?page=11', 'https://www.perekrestok.ru/catalog/makarony-krupy-spetsii?page=12', 'https://www.perekrestok.ru/catalog/makarony-krupy-spetsii?page=13', 'https://www.perekrestok.ru/catalog/makarony-krupy-spetsii?page=14', 'https://www.perekrestok.ru/catalog/makarony-krupy-spetsii?page=15', 'https://www.perekrestok.ru/catalog/makarony-krupy-spetsii?page=16', 'https://www.perekrestok.ru/catalog/makarony-krupy-spetsii?page=17', 'https://www.perekrestok.ru/catalog/makarony-krupy-spetsii?page=18', 'https://www.perekrestok.ru/catalog/makarony-krupy-spetsii?page=19', 'https://www.perekrestok.ru/catalog/makarony-krupy-spetsii?page=20', 'https://www.perekrestok.ru/catalog/makarony-krupy-spetsii?page=21', 'https://www.perekrestok.ru/catalog/makarony-krupy-spetsii?page=22', 'https://www.perekrestok.ru/catalog/makarony-krupy-spetsii?page=23', 'https://www.perekrestok.ru/catalog/makarony-krupy-spetsii?page=24', 'https://www.perekrestok.ru/catalog/makarony-krupy-spetsii?page=25', 'https://www.perekrestok.ru/catalog/makarony-krupy-spetsii?page=26', 'https://www.perekrestok.ru/catalog/makarony-krupy-spetsii?page=27', 'https://www.perekrestok.ru/catalog/makarony-krupy-spetsii?page=28', 'https://www.perekrestok.ru/catalog/makarony-krupy-spetsii?page=29', 'https://www.perekrestok.ru/catalog/makarony-krupy-spetsii?page=30', 'https://www.perekrestok.ru/catalog/makarony-krupy-spetsii?page=31', 'https://www.perekrestok.ru/catalog/makarony-krupy-spetsii?page=32', 'https://www.perekrestok.ru/catalog/makarony-krupy-spetsii?page=33', 'https://www.perekrestok.ru/catalog/makarony-krupy-spetsii?page=34', 'https://www.perekrestok.ru/catalog/makarony-krupy-spetsii?page=35', 'https://www.perekrestok.ru/catalog/makarony-krupy-spetsii?page=36', 'https://www.perekrestok.ru/catalog/makarony-krupy-spetsii?page=37', 'https://www.perekrestok.ru/catalog/makarony-krupy-spetsii?page=38', 'https://www.perekrestok.ru/catalog/makarony-krupy-spetsii?page=39', 'https://www.perekrestok.ru/catalog/makarony-krupy-spetsii?page=40', 'https://www.perekrestok.ru/catalog/makarony-krupy-spetsii?page=41', 'https://www.perekrestok.ru/catalog/makarony-krupy-spetsii?page=42', 'https://www.perekrestok.ru/catalog/makarony-krupy-spetsii?page=43', 'https://www.perekrestok.ru/catalog/makarony-krupy-spetsii?page=44', 'https://www.perekrestok.ru/catalog/makarony-krupy-spetsii?page=45', 'https://www.perekrestok.ru/catalog/makarony-krupy-spetsii?page=46', 'https://www.perekrestok.ru/catalog/makarony-krupy-spetsii?page=47', 'https://www.perekrestok.ru/catalog/makarony-krupy-spetsii?page=48', 'https://www.perekrestok.ru/catalog/makarony-krupy-spetsii?page=49', 'https://www.perekrestok.ru/catalog/makarony-krupy-spetsii?page=50', 'https://www.perekrestok.ru/catalog/makarony-krupy-spetsii?page=51', 'https://www.perekrestok.ru/catalog/makarony-krupy-spetsii?page=52', 'https://www.perekrestok.ru/catalog/makarony-krupy-spetsii?page=53', 'https://www.perekrestok.ru/catalog/makarony-krupy-spetsii?page=54', 'https://www.perekrestok.ru/catalog/makarony-krupy-spetsii?page=55', 'https://www.perekrestok.ru/catalog/makarony-krupy-spetsii?page=56', 'https://www.perekrestok.ru/catalog/makarony-krupy-spetsii?page=57', 'https://www.perekrestok.ru/catalog/makarony-krupy-spetsii?page=58', 'https://www.perekrestok.ru/catalog/makarony-krupy-spetsii?page=59', 'https://www.perekrestok.ru/catalog/makarony-krupy-spetsii?page=60', 'https://www.perekrestok.ru/catalog/makarony-krupy-spetsii?page=61', 'https://www.perekrestok.ru/catalog/makarony-krupy-spetsii?page=62', 'https://www.perekrestok.ru/catalog/makarony-krupy-spetsii?page=63', 'https://www.perekrestok.ru/catalog/makarony-krupy-spetsii?page=64', 'https://www.perekrestok.ru/catalog/makarony-krupy-spetsii?page=65', 'https://www.perekrestok.ru/catalog/makarony-krupy-spetsii?page=66', 'https://www.perekrestok.ru/catalog/moloko-syr-yaytsa?page=1', 'https://www.perekrestok.ru/catalog/moloko-syr-yaytsa?page=2', 'https://www.perekrestok.ru/catalog/moloko-syr-yaytsa?page=3', 'https://www.perekrestok.ru/catalog/moloko-syr-yaytsa?page=4', 'https://www.perekrestok.ru/catalog/moloko-syr-yaytsa?page=5', 'https://www.perekrestok.ru/catalog/moloko-syr-yaytsa?page=6', 'https://www.perekrestok.ru/catalog/moloko-syr-yaytsa?page=7', 'https://www.perekrestok.ru/catalog/moloko-syr-yaytsa?page=8', 'https://www.perekrestok.ru/catalog/moloko-syr-yaytsa?page=9', 'https://www.perekrestok.ru/catalog/moloko-syr-yaytsa?page=10', 'https://www.perekrestok.ru/catalog/moloko-syr-yaytsa?page=11', 'https://www.perekrestok.ru/catalog/moloko-syr-yaytsa?page=12', 'https://www.perekrestok.ru/catalog/moloko-syr-yaytsa?page=13', 'https://www.perekrestok.ru/catalog/moloko-syr-yaytsa?page=14', 'https://www.perekrestok.ru/catalog/moloko-syr-yaytsa?page=15', 'https://www.perekrestok.ru/catalog/moloko-syr-yaytsa?page=16', 'https://www.perekrestok.ru/catalog/moloko-syr-yaytsa?page=17', 'https://www.perekrestok.ru/catalog/moloko-syr-yaytsa?page=18', 'https://www.perekrestok.ru/catalog/moloko-syr-yaytsa?page=19', 'https://www.perekrestok.ru/catalog/moloko-syr-yaytsa?page=20', 'https://www.perekrestok.ru/catalog/moloko-syr-yaytsa?page=21', 'https://www.perekrestok.ru/catalog/moloko-syr-yaytsa?page=22', 'https://www.perekrestok.ru/catalog/moloko-syr-yaytsa?page=23', 'https://www.perekrestok.ru/catalog/moloko-syr-yaytsa?page=24', 'https://www.perekrestok.ru/catalog/moloko-syr-yaytsa?page=25', 'https://www.perekrestok.ru/catalog/moloko-syr-yaytsa?page=26', 'https://www.perekrestok.ru/catalog/moloko-syr-yaytsa?page=27', 'https://www.perekrestok.ru/catalog/moloko-syr-yaytsa?page=28', 'https://www.perekrestok.ru/catalog/moloko-syr-yaytsa?page=29', 'https://www.perekrestok.ru/catalog/moloko-syr-yaytsa?page=30', 'https://www.perekrestok.ru/catalog/moloko-syr-yaytsa?page=31', 'https://www.perekrestok.ru/catalog/moloko-syr-yaytsa?page=32', 'https://www.perekrestok.ru/catalog/moloko-syr-yaytsa?page=33', 'https://www.perekrestok.ru/catalog/moloko-syr-yaytsa?page=34', 'https://www.perekrestok.ru/catalog/moloko-syr-yaytsa?page=35', 'https://www.perekrestok.ru/catalog/moloko-syr-yaytsa?page=36', 'https://www.perekrestok.ru/catalog/moloko-syr-yaytsa?page=37', 'https://www.perekrestok.ru/catalog/moloko-syr-yaytsa?page=38', 'https://www.perekrestok.ru/catalog/moloko-syr-yaytsa?page=39', 'https://www.perekrestok.ru/catalog/moloko-syr-yaytsa?page=40', 'https://www.perekrestok.ru/catalog/moloko-syr-yaytsa?page=41', 'https://www.perekrestok.ru/catalog/moloko-syr-yaytsa?page=42', 'https://www.perekrestok.ru/catalog/moloko-syr-yaytsa?page=43', 'https://www.perekrestok.ru/catalog/moloko-syr-yaytsa?page=44', 'https://www.perekrestok.ru/catalog/moloko-syr-yaytsa?page=45', 'https://www.perekrestok.ru/catalog/moloko-syr-yaytsa?page=46', 'https://www.perekrestok.ru/catalog/moloko-syr-yaytsa?page=47', 'https://www.perekrestok.ru/catalog/moloko-syr-yaytsa?page=48', 'https://www.perekrestok.ru/catalog/moloko-syr-yaytsa?page=49', 'https://www.perekrestok.ru/catalog/moloko-syr-yaytsa?page=50', 'https://www.perekrestok.ru/catalog/moloko-syr-yaytsa?page=51', 'https://www.perekrestok.ru/catalog/moloko-syr-yaytsa?page=52', 'https://www.perekrestok.ru/catalog/moloko-syr-yaytsa?page=53', 'https://www.perekrestok.ru/catalog/moloko-syr-yaytsa?page=54', 'https://www.perekrestok.ru/catalog/moloko-syr-yaytsa?page=55', 'https://www.perekrestok.ru/catalog/moloko-syr-yaytsa?page=56', 'https://www.perekrestok.ru/catalog/moloko-syr-yaytsa?page=57', 'https://www.perekrestok.ru/catalog/moloko-syr-yaytsa?page=58', 'https://www.perekrestok.ru/catalog/moloko-syr-yaytsa?page=59', 'https://www.perekrestok.ru/catalog/moloko-syr-yaytsa?page=60', 'https://www.perekrestok.ru/catalog/moloko-syr-yaytsa?page=61', 'https://www.perekrestok.ru/catalog/moloko-syr-yaytsa?page=62', 'https://www.perekrestok.ru/catalog/moloko-syr-yaytsa?page=63', 'https://www.perekrestok.ru/catalog/moloko-syr-yaytsa?page=64', 'https://www.perekrestok.ru/catalog/moloko-syr-yaytsa?page=65', 'https://www.perekrestok.ru/catalog/moloko-syr-yaytsa?page=66', 'https://www.perekrestok.ru/catalog/myaso-ptitsa-delikatesy?page=1', 'https://www.perekrestok.ru/catalog/myaso-ptitsa-delikatesy?page=2', 'https://www.perekrestok.ru/catalog/myaso-ptitsa-delikatesy?page=3', 'https://www.perekrestok.ru/catalog/myaso-ptitsa-delikatesy?page=4', 'https://www.perekrestok.ru/catalog/myaso-ptitsa-delikatesy?page=5', 'https://www.perekrestok.ru/catalog/myaso-ptitsa-delikatesy?page=6', 'https://www.perekrestok.ru/catalog/myaso-ptitsa-delikatesy?page=7', 'https://www.perekrestok.ru/catalog/myaso-ptitsa-delikatesy?page=8', 'https://www.perekrestok.ru/catalog/myaso-ptitsa-delikatesy?page=9', 'https://www.perekrestok.ru/catalog/myaso-ptitsa-delikatesy?page=10', 'https://www.perekrestok.ru/catalog/myaso-ptitsa-delikatesy?page=11', 'https://www.perekrestok.ru/catalog/myaso-ptitsa-delikatesy?page=12', 'https://www.perekrestok.ru/catalog/myaso-ptitsa-delikatesy?page=13', 'https://www.perekrestok.ru/catalog/myaso-ptitsa-delikatesy?page=14', 'https://www.perekrestok.ru/catalog/myaso-ptitsa-delikatesy?page=15', 'https://www.perekrestok.ru/catalog/myaso-ptitsa-delikatesy?page=16', 'https://www.perekrestok.ru/catalog/myaso-ptitsa-delikatesy?page=17', 'https://www.perekrestok.ru/catalog/myaso-ptitsa-delikatesy?page=18', 'https://www.perekrestok.ru/catalog/myaso-ptitsa-delikatesy?page=19', 'https://www.perekrestok.ru/catalog/myaso-ptitsa-delikatesy?page=20', 'https://www.perekrestok.ru/catalog/myaso-ptitsa-delikatesy?page=21', 'https://www.perekrestok.ru/catalog/myaso-ptitsa-delikatesy?page=22', 'https://www.perekrestok.ru/catalog/myaso-ptitsa-delikatesy?page=23', 'https://www.perekrestok.ru/catalog/myaso-ptitsa-delikatesy?page=24', 'https://www.perekrestok.ru/catalog/myaso-ptitsa-delikatesy?page=25', 'https://www.perekrestok.ru/catalog/myaso-ptitsa-delikatesy?page=26', 'https://www.perekrestok.ru/catalog/myaso-ptitsa-delikatesy?page=27', 'https://www.perekrestok.ru/catalog/myaso-ptitsa-delikatesy?page=28', 'https://www.perekrestok.ru/catalog/myaso-ptitsa-delikatesy?page=29', 'https://www.perekrestok.ru/catalog/myaso-ptitsa-delikatesy?page=30', 'https://www.perekrestok.ru/catalog/myaso-ptitsa-delikatesy?page=31', 'https://www.perekrestok.ru/catalog/myaso-ptitsa-delikatesy?page=32', 'https://www.perekrestok.ru/catalog/myaso-ptitsa-delikatesy?page=33', 'https://www.perekrestok.ru/catalog/myaso-ptitsa-delikatesy?page=34', 'https://www.perekrestok.ru/catalog/myaso-ptitsa-delikatesy?page=35', 'https://www.perekrestok.ru/catalog/myaso-ptitsa-delikatesy?page=36', 'https://www.perekrestok.ru/catalog/myaso-ptitsa-delikatesy?page=37', 'https://www.perekrestok.ru/catalog/myaso-ptitsa-delikatesy?page=38', 'https://www.perekrestok.ru/catalog/myaso-ptitsa-delikatesy?page=39', 'https://www.perekrestok.ru/catalog/myaso-ptitsa-delikatesy?page=40', 'https://www.perekrestok.ru/catalog/myaso-ptitsa-delikatesy?page=41', 'https://www.perekrestok.ru/catalog/myaso-ptitsa-delikatesy?page=42', 'https://www.perekrestok.ru/catalog/myaso-ptitsa-delikatesy?page=43', 'https://www.perekrestok.ru/catalog/myaso-ptitsa-delikatesy?page=44', 'https://www.perekrestok.ru/catalog/myaso-ptitsa-delikatesy?page=45', 'https://www.perekrestok.ru/catalog/myaso-ptitsa-delikatesy?page=46', 'https://www.perekrestok.ru/catalog/myaso-ptitsa-delikatesy?page=47', 'https://www.perekrestok.ru/catalog/myaso-ptitsa-delikatesy?page=48', 'https://www.perekrestok.ru/catalog/myaso-ptitsa-delikatesy?page=49', 'https://www.perekrestok.ru/catalog/myaso-ptitsa-delikatesy?page=50', 'https://www.perekrestok.ru/catalog/myaso-ptitsa-delikatesy?page=51', 'https://www.perekrestok.ru/catalog/myaso-ptitsa-delikatesy?page=52', 'https://www.perekrestok.ru/catalog/myaso-ptitsa-delikatesy?page=53', 'https://www.perekrestok.ru/catalog/myaso-ptitsa-delikatesy?page=54', 'https://www.perekrestok.ru/catalog/myaso-ptitsa-delikatesy?page=55', 'https://www.perekrestok.ru/catalog/myaso-ptitsa-delikatesy?page=56', 'https://www.perekrestok.ru/catalog/myaso-ptitsa-delikatesy?page=57', 'https://www.perekrestok.ru/catalog/myaso-ptitsa-delikatesy?page=58', 'https://www.perekrestok.ru/catalog/myaso-ptitsa-delikatesy?page=59', 'https://www.perekrestok.ru/catalog/myaso-ptitsa-delikatesy?page=60', 'https://www.perekrestok.ru/catalog/myaso-ptitsa-delikatesy?page=61', 'https://www.perekrestok.ru/catalog/myaso-ptitsa-delikatesy?page=62', 'https://www.perekrestok.ru/catalog/myaso-ptitsa-delikatesy?page=63', 'https://www.perekrestok.ru/catalog/myaso-ptitsa-delikatesy?page=64', 'https://www.perekrestok.ru/catalog/myaso-ptitsa-delikatesy?page=65', 'https://www.perekrestok.ru/catalog/myaso-ptitsa-delikatesy?page=66', 'https://www.perekrestok.ru/catalog/nashi-marki?page=1', 'https://www.perekrestok.ru/catalog/nashi-marki?page=2', 'https://www.perekrestok.ru/catalog/nashi-marki?page=3', 'https://www.perekrestok.ru/catalog/nashi-marki?page=4', 'https://www.perekrestok.ru/catalog/nashi-marki?page=5', 'https://www.perekrestok.ru/catalog/nashi-marki?page=6', 'https://www.perekrestok.ru/catalog/nashi-marki?page=7', 'https://www.perekrestok.ru/catalog/nashi-marki?page=8', 'https://www.perekrestok.ru/catalog/nashi-marki?page=9', 'https://www.perekrestok.ru/catalog/nashi-marki?page=10', 'https://www.perekrestok.ru/catalog/nashi-marki?page=11', 'https://www.perekrestok.ru/catalog/nashi-marki?page=12', 'https://www.perekrestok.ru/catalog/nashi-marki?page=13', 'https://www.perekrestok.ru/catalog/nashi-marki?page=14', 'https://www.perekrestok.ru/catalog/nashi-marki?page=15', 'https://www.perekrestok.ru/catalog/nashi-marki?page=16', 'https://www.perekrestok.ru/catalog/nashi-marki?page=17', 'https://www.perekrestok.ru/catalog/nashi-marki?page=18', 'https://www.perekrestok.ru/catalog/nashi-marki?page=19', 'https://www.perekrestok.ru/catalog/nashi-marki?page=20', 'https://www.perekrestok.ru/catalog/nashi-marki?page=21', 'https://www.perekrestok.ru/catalog/nashi-marki?page=22', 'https://www.perekrestok.ru/catalog/nashi-marki?page=23', 'https://www.perekrestok.ru/catalog/nashi-marki?page=24', 'https://www.perekrestok.ru/catalog/nashi-marki?page=25', 'https://www.perekrestok.ru/catalog/nashi-marki?page=26', 'https://www.perekrestok.ru/catalog/nashi-marki?page=27', 'https://www.perekrestok.ru/catalog/nashi-marki?page=28', 'https://www.perekrestok.ru/catalog/nashi-marki?page=29', 'https://www.perekrestok.ru/catalog/nashi-marki?page=30', 'https://www.perekrestok.ru/catalog/nashi-marki?page=31', 'https://www.perekrestok.ru/catalog/nashi-marki?page=32', 'https://www.perekrestok.ru/catalog/nashi-marki?page=33', 'https://www.perekrestok.ru/catalog/nashi-marki?page=34', 'https://www.perekrestok.ru/catalog/nashi-marki?page=35', 'https://www.perekrestok.ru/catalog/nashi-marki?page=36', 'https://www.perekrestok.ru/catalog/nashi-marki?page=37', 'https://www.perekrestok.ru/catalog/nashi-marki?page=38', 'https://www.perekrestok.ru/catalog/nashi-marki?page=39', 'https://www.perekrestok.ru/catalog/nashi-marki?page=40', 'https://www.perekrestok.ru/catalog/nashi-marki?page=41', 'https://www.perekrestok.ru/catalog/nashi-marki?page=42', 'https://www.perekrestok.ru/catalog/nashi-marki?page=43', 'https://www.perekrestok.ru/catalog/nashi-marki?page=44', 'https://www.perekrestok.ru/catalog/nashi-marki?page=45', 'https://www.perekrestok.ru/catalog/nashi-marki?page=46', 'https://www.perekrestok.ru/catalog/nashi-marki?page=47', 'https://www.perekrestok.ru/catalog/nashi-marki?page=48', 'https://www.perekrestok.ru/catalog/nashi-marki?page=49', 'https://www.perekrestok.ru/catalog/nashi-marki?page=50', 'https://www.perekrestok.ru/catalog/nashi-marki?page=51', 'https://www.perekrestok.ru/catalog/nashi-marki?page=52', 'https://www.perekrestok.ru/catalog/nashi-marki?page=53', 'https://www.perekrestok.ru/catalog/nashi-marki?page=54', 'https://www.perekrestok.ru/catalog/nashi-marki?page=55', 'https://www.perekrestok.ru/catalog/nashi-marki?page=56', 'https://www.perekrestok.ru/catalog/nashi-marki?page=57', 'https://www.perekrestok.ru/catalog/nashi-marki?page=58', 'https://www.perekrestok.ru/catalog/nashi-marki?page=59', 'https://www.perekrestok.ru/catalog/nashi-marki?page=60', 'https://www.perekrestok.ru/catalog/nashi-marki?page=61', 'https://www.perekrestok.ru/catalog/nashi-marki?page=62', 'https://www.perekrestok.ru/catalog/nashi-marki?page=63', 'https://www.perekrestok.ru/catalog/nashi-marki?page=64', 'https://www.perekrestok.ru/catalog/nashi-marki?page=65', 'https://www.perekrestok.ru/catalog/nashi-marki?page=66', 'https://www.perekrestok.ru/catalog/ovoschi-frukty-griby?page=1', 'https://www.perekrestok.ru/catalog/ovoschi-frukty-griby?page=2', 'https://www.perekrestok.ru/catalog/ovoschi-frukty-griby?page=3', 'https://www.perekrestok.ru/catalog/ovoschi-frukty-griby?page=4', 'https://www.perekrestok.ru/catalog/ovoschi-frukty-griby?page=5', 'https://www.perekrestok.ru/catalog/ovoschi-frukty-griby?page=6', 'https://www.perekrestok.ru/catalog/ovoschi-frukty-griby?page=7', 'https://www.perekrestok.ru/catalog/ovoschi-frukty-griby?page=8', 'https://www.perekrestok.ru/catalog/ovoschi-frukty-griby?page=9', 'https://www.perekrestok.ru/catalog/ovoschi-frukty-griby?page=10', 'https://www.perekrestok.ru/catalog/ovoschi-frukty-griby?page=11', 'https://www.perekrestok.ru/catalog/ovoschi-frukty-griby?page=12', 'https://www.perekrestok.ru/catalog/ovoschi-frukty-griby?page=13', 'https://www.perekrestok.ru/catalog/ovoschi-frukty-griby?page=14', 'https://www.perekrestok.ru/catalog/ovoschi-frukty-griby?page=15', 'https://www.perekrestok.ru/catalog/ovoschi-frukty-griby?page=16', 'https://www.perekrestok.ru/catalog/ovoschi-frukty-griby?page=17', 'https://www.perekrestok.ru/catalog/ovoschi-frukty-griby?page=18', 'https://www.perekrestok.ru/catalog/ovoschi-frukty-griby?page=19', 'https://www.perekrestok.ru/catalog/ovoschi-frukty-griby?page=20', 'https://www.perekrestok.ru/catalog/ovoschi-frukty-griby?page=21', 'https://www.perekrestok.ru/catalog/ovoschi-frukty-griby?page=22', 'https://www.perekrestok.ru/catalog/ovoschi-frukty-griby?page=23', 'https://www.perekrestok.ru/catalog/ovoschi-frukty-griby?page=24', 'https://www.perekrestok.ru/catalog/ovoschi-frukty-griby?page=25', 'https://www.perekrestok.ru/catalog/ovoschi-frukty-griby?page=26', 'https://www.perekrestok.ru/catalog/ovoschi-frukty-griby?page=27', 'https://www.perekrestok.ru/catalog/ovoschi-frukty-griby?page=28', 'https://www.perekrestok.ru/catalog/ovoschi-frukty-griby?page=29', 'https://www.perekrestok.ru/catalog/ovoschi-frukty-griby?page=30', 'https://www.perekrestok.ru/catalog/ovoschi-frukty-griby?page=31', 'https://www.perekrestok.ru/catalog/ovoschi-frukty-griby?page=32', 'https://www.perekrestok.ru/catalog/ovoschi-frukty-griby?page=33', 'https://www.perekrestok.ru/catalog/ovoschi-frukty-griby?page=34', 'https://www.perekrestok.ru/catalog/ovoschi-frukty-griby?page=35', 'https://www.perekrestok.ru/catalog/ovoschi-frukty-griby?page=36', 'https://www.perekrestok.ru/catalog/ovoschi-frukty-griby?page=37', 'https://www.perekrestok.ru/catalog/ovoschi-frukty-griby?page=38', 'https://www.perekrestok.ru/catalog/ovoschi-frukty-griby?page=39', 'https://www.perekrestok.ru/catalog/ovoschi-frukty-griby?page=40', 'https://www.perekrestok.ru/catalog/ovoschi-frukty-griby?page=41', 'https://www.perekrestok.ru/catalog/ovoschi-frukty-griby?page=42', 'https://www.perekrestok.ru/catalog/ovoschi-frukty-griby?page=43', 'https://www.perekrestok.ru/catalog/ovoschi-frukty-griby?page=44', 'https://www.perekrestok.ru/catalog/ovoschi-frukty-griby?page=45', 'https://www.perekrestok.ru/catalog/ovoschi-frukty-griby?page=46', 'https://www.perekrestok.ru/catalog/ovoschi-frukty-griby?page=47', 'https://www.perekrestok.ru/catalog/ovoschi-frukty-griby?page=48', 'https://www.perekrestok.ru/catalog/ovoschi-frukty-griby?page=49', 'https://www.perekrestok.ru/catalog/ovoschi-frukty-griby?page=50', 'https://www.perekrestok.ru/catalog/ovoschi-frukty-griby?page=51', 'https://www.perekrestok.ru/catalog/ovoschi-frukty-griby?page=52', 'https://www.perekrestok.ru/catalog/ovoschi-frukty-griby?page=53', 'https://www.perekrestok.ru/catalog/ovoschi-frukty-griby?page=54', 'https://www.perekrestok.ru/catalog/ovoschi-frukty-griby?page=55', 'https://www.perekrestok.ru/catalog/ovoschi-frukty-griby?page=56', 'https://www.perekrestok.ru/catalog/ovoschi-frukty-griby?page=57', 'https://www.perekrestok.ru/catalog/ovoschi-frukty-griby?page=58', 'https://www.perekrestok.ru/catalog/ovoschi-frukty-griby?page=59', 'https://www.perekrestok.ru/catalog/ovoschi-frukty-griby?page=60', 'https://www.perekrestok.ru/catalog/ovoschi-frukty-griby?page=61', 'https://www.perekrestok.ru/catalog/ovoschi-frukty-griby?page=62', 'https://www.perekrestok.ru/catalog/ovoschi-frukty-griby?page=63', 'https://www.perekrestok.ru/catalog/ovoschi-frukty-griby?page=64', 'https://www.perekrestok.ru/catalog/ovoschi-frukty-griby?page=65', 'https://www.perekrestok.ru/catalog/ovoschi-frukty-griby?page=66', 'https://www.perekrestok.ru/catalog/ryba-i-moreprodukty?page=1', 'https://www.perekrestok.ru/catalog/ryba-i-moreprodukty?page=2', 'https://www.perekrestok.ru/catalog/ryba-i-moreprodukty?page=3', 'https://www.perekrestok.ru/catalog/ryba-i-moreprodukty?page=4', 'https://www.perekrestok.ru/catalog/ryba-i-moreprodukty?page=5', 'https://www.perekrestok.ru/catalog/ryba-i-moreprodukty?page=6', 'https://www.perekrestok.ru/catalog/ryba-i-moreprodukty?page=7', 'https://www.perekrestok.ru/catalog/ryba-i-moreprodukty?page=8', 'https://www.perekrestok.ru/catalog/ryba-i-moreprodukty?page=9', 'https://www.perekrestok.ru/catalog/ryba-i-moreprodukty?page=10', 'https://www.perekrestok.ru/catalog/ryba-i-moreprodukty?page=11', 'https://www.perekrestok.ru/catalog/ryba-i-moreprodukty?page=12', 'https://www.perekrestok.ru/catalog/ryba-i-moreprodukty?page=13', 'https://www.perekrestok.ru/catalog/ryba-i-moreprodukty?page=14', 'https://www.perekrestok.ru/catalog/ryba-i-moreprodukty?page=15', 'https://www.perekrestok.ru/catalog/ryba-i-moreprodukty?page=16', 'https://www.perekrestok.ru/catalog/ryba-i-moreprodukty?page=17', 'https://www.perekrestok.ru/catalog/ryba-i-moreprodukty?page=18', 'https://www.perekrestok.ru/catalog/ryba-i-moreprodukty?page=19', 'https://www.perekrestok.ru/catalog/ryba-i-moreprodukty?page=20', 'https://www.perekrestok.ru/catalog/ryba-i-moreprodukty?page=21', 'https://www.perekrestok.ru/catalog/ryba-i-moreprodukty?page=22', 'https://www.perekrestok.ru/catalog/ryba-i-moreprodukty?page=23', 'https://www.perekrestok.ru/catalog/ryba-i-moreprodukty?page=24', 'https://www.perekrestok.ru/catalog/ryba-i-moreprodukty?page=25', 'https://www.perekrestok.ru/catalog/ryba-i-moreprodukty?page=26', 'https://www.perekrestok.ru/catalog/ryba-i-moreprodukty?page=27', 'https://www.perekrestok.ru/catalog/ryba-i-moreprodukty?page=28', 'https://www.perekrestok.ru/catalog/ryba-i-moreprodukty?page=29', 'https://www.perekrestok.ru/catalog/ryba-i-moreprodukty?page=30', 'https://www.perekrestok.ru/catalog/ryba-i-moreprodukty?page=31', 'https://www.perekrestok.ru/catalog/ryba-i-moreprodukty?page=32', 'https://www.perekrestok.ru/catalog/ryba-i-moreprodukty?page=33', 'https://www.perekrestok.ru/catalog/ryba-i-moreprodukty?page=34', 'https://www.perekrestok.ru/catalog/ryba-i-moreprodukty?page=35', 'https://www.perekrestok.ru/catalog/ryba-i-moreprodukty?page=36', 'https://www.perekrestok.ru/catalog/ryba-i-moreprodukty?page=37', 'https://www.perekrestok.ru/catalog/ryba-i-moreprodukty?page=38', 'https://www.perekrestok.ru/catalog/ryba-i-moreprodukty?page=39', 'https://www.perekrestok.ru/catalog/ryba-i-moreprodukty?page=40', 'https://www.perekrestok.ru/catalog/ryba-i-moreprodukty?page=41', 'https://www.perekrestok.ru/catalog/ryba-i-moreprodukty?page=42', 'https://www.perekrestok.ru/catalog/ryba-i-moreprodukty?page=43', 'https://www.perekrestok.ru/catalog/ryba-i-moreprodukty?page=44', 'https://www.perekrestok.ru/catalog/ryba-i-moreprodukty?page=45', 'https://www.perekrestok.ru/catalog/ryba-i-moreprodukty?page=46', 'https://www.perekrestok.ru/catalog/ryba-i-moreprodukty?page=47', 'https://www.perekrestok.ru/catalog/ryba-i-moreprodukty?page=48', 'https://www.perekrestok.ru/catalog/ryba-i-moreprodukty?page=49', 'https://www.perekrestok.ru/catalog/ryba-i-moreprodukty?page=50', 'https://www.perekrestok.ru/catalog/ryba-i-moreprodukty?page=51', 'https://www.perekrestok.ru/catalog/ryba-i-moreprodukty?page=52', 'https://www.perekrestok.ru/catalog/ryba-i-moreprodukty?page=53', 'https://www.perekrestok.ru/catalog/ryba-i-moreprodukty?page=54', 'https://www.perekrestok.ru/catalog/ryba-i-moreprodukty?page=55', 'https://www.perekrestok.ru/catalog/ryba-i-moreprodukty?page=56', 'https://www.perekrestok.ru/catalog/ryba-i-moreprodukty?page=57', 'https://www.perekrestok.ru/catalog/ryba-i-moreprodukty?page=58', 'https://www.perekrestok.ru/catalog/ryba-i-moreprodukty?page=59', 'https://www.perekrestok.ru/catalog/ryba-i-moreprodukty?page=60', 'https://www.perekrestok.ru/catalog/ryba-i-moreprodukty?page=61', 'https://www.perekrestok.ru/catalog/ryba-i-moreprodukty?page=62', 'https://www.perekrestok.ru/catalog/ryba-i-moreprodukty?page=63', 'https://www.perekrestok.ru/catalog/ryba-i-moreprodukty?page=64', 'https://www.perekrestok.ru/catalog/ryba-i-moreprodukty?page=65', 'https://www.perekrestok.ru/catalog/ryba-i-moreprodukty?page=66', 'https://www.perekrestok.ru/catalog/soki-vody-napitki?page=1', 'https://www.perekrestok.ru/catalog/soki-vody-napitki?page=2', 'https://www.perekrestok.ru/catalog/soki-vody-napitki?page=3', 'https://www.perekrestok.ru/catalog/soki-vody-napitki?page=4', 'https://www.perekrestok.ru/catalog/soki-vody-napitki?page=5', 'https://www.perekrestok.ru/catalog/soki-vody-napitki?page=6', 'https://www.perekrestok.ru/catalog/soki-vody-napitki?page=7', 'https://www.perekrestok.ru/catalog/soki-vody-napitki?page=8', 'https://www.perekrestok.ru/catalog/soki-vody-napitki?page=9', 'https://www.perekrestok.ru/catalog/soki-vody-napitki?page=10', 'https://www.perekrestok.ru/catalog/soki-vody-napitki?page=11', 'https://www.perekrestok.ru/catalog/soki-vody-napitki?page=12', 'https://www.perekrestok.ru/catalog/soki-vody-napitki?page=13', 'https://www.perekrestok.ru/catalog/soki-vody-napitki?page=14', 'https://www.perekrestok.ru/catalog/soki-vody-napitki?page=15', 'https://www.perekrestok.ru/catalog/soki-vody-napitki?page=16', 'https://www.perekrestok.ru/catalog/soki-vody-napitki?page=17', 'https://www.perekrestok.ru/catalog/soki-vody-napitki?page=18', 'https://www.perekrestok.ru/catalog/soki-vody-napitki?page=19', 'https://www.perekrestok.ru/catalog/soki-vody-napitki?page=20', 'https://www.perekrestok.ru/catalog/soki-vody-napitki?page=21', 'https://www.perekrestok.ru/catalog/soki-vody-napitki?page=22', 'https://www.perekrestok.ru/catalog/soki-vody-napitki?page=23', 'https://www.perekrestok.ru/catalog/soki-vody-napitki?page=24', 'https://www.perekrestok.ru/catalog/soki-vody-napitki?page=25', 'https://www.perekrestok.ru/catalog/soki-vody-napitki?page=26', 'https://www.perekrestok.ru/catalog/soki-vody-napitki?page=27', 'https://www.perekrestok.ru/catalog/soki-vody-napitki?page=28', 'https://www.perekrestok.ru/catalog/soki-vody-napitki?page=29', 'https://www.perekrestok.ru/catalog/soki-vody-napitki?page=30', 'https://www.perekrestok.ru/catalog/soki-vody-napitki?page=31', 'https://www.perekrestok.ru/catalog/soki-vody-napitki?page=32', 'https://www.perekrestok.ru/catalog/soki-vody-napitki?page=33', 'https://www.perekrestok.ru/catalog/soki-vody-napitki?page=34', 'https://www.perekrestok.ru/catalog/soki-vody-napitki?page=35', 'https://www.perekrestok.ru/catalog/soki-vody-napitki?page=36', 'https://www.perekrestok.ru/catalog/soki-vody-napitki?page=37', 'https://www.perekrestok.ru/catalog/soki-vody-napitki?page=38', 'https://www.perekrestok.ru/catalog/soki-vody-napitki?page=39', 'https://www.perekrestok.ru/catalog/soki-vody-napitki?page=40', 'https://www.perekrestok.ru/catalog/soki-vody-napitki?page=41', 'https://www.perekrestok.ru/catalog/soki-vody-napitki?page=42', 'https://www.perekrestok.ru/catalog/soki-vody-napitki?page=43', 'https://www.perekrestok.ru/catalog/soki-vody-napitki?page=44', 'https://www.perekrestok.ru/catalog/soki-vody-napitki?page=45', 'https://www.perekrestok.ru/catalog/soki-vody-napitki?page=46', 'https://www.perekrestok.ru/catalog/soki-vody-napitki?page=47', 'https://www.perekrestok.ru/catalog/soki-vody-napitki?page=48', 'https://www.perekrestok.ru/catalog/soki-vody-napitki?page=49', 'https://www.perekrestok.ru/catalog/soki-vody-napitki?page=50', 'https://www.perekrestok.ru/catalog/soki-vody-napitki?page=51', 'https://www.perekrestok.ru/catalog/soki-vody-napitki?page=52', 'https://www.perekrestok.ru/catalog/soki-vody-napitki?page=53', 'https://www.perekrestok.ru/catalog/soki-vody-napitki?page=54', 'https://www.perekrestok.ru/catalog/soki-vody-napitki?page=55', 'https://www.perekrestok.ru/catalog/soki-vody-napitki?page=56', 'https://www.perekrestok.ru/catalog/soki-vody-napitki?page=57', 'https://www.perekrestok.ru/catalog/soki-vody-napitki?page=58', 'https://www.perekrestok.ru/catalog/soki-vody-napitki?page=59', 'https://www.perekrestok.ru/catalog/soki-vody-napitki?page=60', 'https://www.perekrestok.ru/catalog/soki-vody-napitki?page=61', 'https://www.perekrestok.ru/catalog/soki-vody-napitki?page=62', 'https://www.perekrestok.ru/catalog/soki-vody-napitki?page=63', 'https://www.perekrestok.ru/catalog/soki-vody-napitki?page=64', 'https://www.perekrestok.ru/catalog/soki-vody-napitki?page=65', 'https://www.perekrestok.ru/catalog/soki-vody-napitki?page=66', 'https://www.perekrestok.ru/catalog/tovary-dlya-jivotnyh?page=1', 'https://www.perekrestok.ru/catalog/tovary-dlya-jivotnyh?page=2', 'https://www.perekrestok.ru/catalog/tovary-dlya-jivotnyh?page=3', 'https://www.perekrestok.ru/catalog/tovary-dlya-jivotnyh?page=4', 'https://www.perekrestok.ru/catalog/tovary-dlya-jivotnyh?page=5', 'https://www.perekrestok.ru/catalog/tovary-dlya-jivotnyh?page=6', 'https://www.perekrestok.ru/catalog/tovary-dlya-jivotnyh?page=7', 'https://www.perekrestok.ru/catalog/tovary-dlya-jivotnyh?page=8', 'https://www.perekrestok.ru/catalog/tovary-dlya-jivotnyh?page=9', 'https://www.perekrestok.ru/catalog/tovary-dlya-jivotnyh?page=10', 'https://www.perekrestok.ru/catalog/tovary-dlya-jivotnyh?page=11', 'https://www.perekrestok.ru/catalog/tovary-dlya-jivotnyh?page=12', 'https://www.perekrestok.ru/catalog/tovary-dlya-jivotnyh?page=13', 'https://www.perekrestok.ru/catalog/tovary-dlya-jivotnyh?page=14', 'https://www.perekrestok.ru/catalog/tovary-dlya-jivotnyh?page=15', 'https://www.perekrestok.ru/catalog/tovary-dlya-jivotnyh?page=16', 'https://www.perekrestok.ru/catalog/tovary-dlya-jivotnyh?page=17', 'https://www.perekrestok.ru/catalog/tovary-dlya-jivotnyh?page=18', 'https://www.perekrestok.ru/catalog/tovary-dlya-jivotnyh?page=19', 'https://www.perekrestok.ru/catalog/tovary-dlya-jivotnyh?page=20', 'https://www.perekrestok.ru/catalog/tovary-dlya-jivotnyh?page=21', 'https://www.perekrestok.ru/catalog/tovary-dlya-jivotnyh?page=22', 'https://www.perekrestok.ru/catalog/tovary-dlya-jivotnyh?page=23', 'https://www.perekrestok.ru/catalog/tovary-dlya-jivotnyh?page=24', 'https://www.perekrestok.ru/catalog/tovary-dlya-jivotnyh?page=25', 'https://www.perekrestok.ru/catalog/tovary-dlya-jivotnyh?page=26', 'https://www.perekrestok.ru/catalog/tovary-dlya-jivotnyh?page=27', 'https://www.perekrestok.ru/catalog/tovary-dlya-jivotnyh?page=28', 'https://www.perekrestok.ru/catalog/tovary-dlya-jivotnyh?page=29', 'https://www.perekrestok.ru/catalog/tovary-dlya-jivotnyh?page=30', 'https://www.perekrestok.ru/catalog/tovary-dlya-jivotnyh?page=31', 'https://www.perekrestok.ru/catalog/tovary-dlya-jivotnyh?page=32', 'https://www.perekrestok.ru/catalog/tovary-dlya-jivotnyh?page=33', 'https://www.perekrestok.ru/catalog/tovary-dlya-jivotnyh?page=34', 'https://www.perekrestok.ru/catalog/tovary-dlya-jivotnyh?page=35', 'https://www.perekrestok.ru/catalog/tovary-dlya-jivotnyh?page=36', 'https://www.perekrestok.ru/catalog/tovary-dlya-jivotnyh?page=37', 'https://www.perekrestok.ru/catalog/tovary-dlya-jivotnyh?page=38', 'https://www.perekrestok.ru/catalog/tovary-dlya-jivotnyh?page=39', 'https://www.perekrestok.ru/catalog/tovary-dlya-jivotnyh?page=40', 'https://www.perekrestok.ru/catalog/tovary-dlya-jivotnyh?page=41', 'https://www.perekrestok.ru/catalog/tovary-dlya-jivotnyh?page=42', 'https://www.perekrestok.ru/catalog/tovary-dlya-jivotnyh?page=43', 'https://www.perekrestok.ru/catalog/tovary-dlya-jivotnyh?page=44', 'https://www.perekrestok.ru/catalog/tovary-dlya-jivotnyh?page=45', 'https://www.perekrestok.ru/catalog/tovary-dlya-jivotnyh?page=46', 'https://www.perekrestok.ru/catalog/tovary-dlya-jivotnyh?page=47', 'https://www.perekrestok.ru/catalog/tovary-dlya-jivotnyh?page=48', 'https://www.perekrestok.ru/catalog/tovary-dlya-jivotnyh?page=49', 'https://www.perekrestok.ru/catalog/tovary-dlya-jivotnyh?page=50', 'https://www.perekrestok.ru/catalog/tovary-dlya-jivotnyh?page=51', 'https://www.perekrestok.ru/catalog/tovary-dlya-jivotnyh?page=52', 'https://www.perekrestok.ru/catalog/tovary-dlya-jivotnyh?page=53', 'https://www.perekrestok.ru/catalog/tovary-dlya-jivotnyh?page=54', 'https://www.perekrestok.ru/catalog/tovary-dlya-jivotnyh?page=55', 'https://www.perekrestok.ru/catalog/tovary-dlya-jivotnyh?page=56', 'https://www.perekrestok.ru/catalog/tovary-dlya-jivotnyh?page=57', 'https://www.perekrestok.ru/catalog/tovary-dlya-jivotnyh?page=58', 'https://www.perekrestok.ru/catalog/tovary-dlya-jivotnyh?page=59', 'https://www.perekrestok.ru/catalog/tovary-dlya-jivotnyh?page=60', 'https://www.perekrestok.ru/catalog/tovary-dlya-jivotnyh?page=61', 'https://www.perekrestok.ru/catalog/tovary-dlya-jivotnyh?page=62', 'https://www.perekrestok.ru/catalog/tovary-dlya-jivotnyh?page=63', 'https://www.perekrestok.ru/catalog/tovary-dlya-jivotnyh?page=64', 'https://www.perekrestok.ru/catalog/tovary-dlya-jivotnyh?page=65', 'https://www.perekrestok.ru/catalog/tovary-dlya-jivotnyh?page=66', 'https://www.perekrestok.ru/catalog/tovary-dlya-mam-i-detey?page=1', 'https://www.perekrestok.ru/catalog/tovary-dlya-mam-i-detey?page=2', 'https://www.perekrestok.ru/catalog/tovary-dlya-mam-i-detey?page=3', 'https://www.perekrestok.ru/catalog/tovary-dlya-mam-i-detey?page=4', 'https://www.perekrestok.ru/catalog/tovary-dlya-mam-i-detey?page=5', 'https://www.perekrestok.ru/catalog/tovary-dlya-mam-i-detey?page=6', 'https://www.perekrestok.ru/catalog/tovary-dlya-mam-i-detey?page=7', 'https://www.perekrestok.ru/catalog/tovary-dlya-mam-i-detey?page=8', 'https://www.perekrestok.ru/catalog/tovary-dlya-mam-i-detey?page=9', 'https://www.perekrestok.ru/catalog/tovary-dlya-mam-i-detey?page=10', 'https://www.perekrestok.ru/catalog/tovary-dlya-mam-i-detey?page=11', 'https://www.perekrestok.ru/catalog/tovary-dlya-mam-i-detey?page=12', 'https://www.perekrestok.ru/catalog/tovary-dlya-mam-i-detey?page=13', 'https://www.perekrestok.ru/catalog/tovary-dlya-mam-i-detey?page=14', 'https://www.perekrestok.ru/catalog/tovary-dlya-mam-i-detey?page=15', 'https://www.perekrestok.ru/catalog/tovary-dlya-mam-i-detey?page=16', 'https://www.perekrestok.ru/catalog/tovary-dlya-mam-i-detey?page=17', 'https://www.perekrestok.ru/catalog/tovary-dlya-mam-i-detey?page=18', 'https://www.perekrestok.ru/catalog/tovary-dlya-mam-i-detey?page=19', 'https://www.perekrestok.ru/catalog/tovary-dlya-mam-i-detey?page=20', 'https://www.perekrestok.ru/catalog/tovary-dlya-mam-i-detey?page=21', 'https://www.perekrestok.ru/catalog/tovary-dlya-mam-i-detey?page=22', 'https://www.perekrestok.ru/catalog/tovary-dlya-mam-i-detey?page=23', 'https://www.perekrestok.ru/catalog/tovary-dlya-mam-i-detey?page=24', 'https://www.perekrestok.ru/catalog/tovary-dlya-mam-i-detey?page=25', 'https://www.perekrestok.ru/catalog/tovary-dlya-mam-i-detey?page=26', 'https://www.perekrestok.ru/catalog/tovary-dlya-mam-i-detey?page=27', 'https://www.perekrestok.ru/catalog/tovary-dlya-mam-i-detey?page=28', 'https://www.perekrestok.ru/catalog/tovary-dlya-mam-i-detey?page=29', 'https://www.perekrestok.ru/catalog/tovary-dlya-mam-i-detey?page=30', 'https://www.perekrestok.ru/catalog/tovary-dlya-mam-i-detey?page=31', 'https://www.perekrestok.ru/catalog/tovary-dlya-mam-i-detey?page=32', 'https://www.perekrestok.ru/catalog/tovary-dlya-mam-i-detey?page=33', 'https://www.perekrestok.ru/catalog/tovary-dlya-mam-i-detey?page=34', 'https://www.perekrestok.ru/catalog/tovary-dlya-mam-i-detey?page=35', 'https://www.perekrestok.ru/catalog/tovary-dlya-mam-i-detey?page=36', 'https://www.perekrestok.ru/catalog/tovary-dlya-mam-i-detey?page=37', 'https://www.perekrestok.ru/catalog/tovary-dlya-mam-i-detey?page=38', 'https://www.perekrestok.ru/catalog/tovary-dlya-mam-i-detey?page=39', 'https://www.perekrestok.ru/catalog/tovary-dlya-mam-i-detey?page=40', 'https://www.perekrestok.ru/catalog/tovary-dlya-mam-i-detey?page=41', 'https://www.perekrestok.ru/catalog/tovary-dlya-mam-i-detey?page=42', 'https://www.perekrestok.ru/catalog/tovary-dlya-mam-i-detey?page=43', 'https://www.perekrestok.ru/catalog/tovary-dlya-mam-i-detey?page=44', 'https://www.perekrestok.ru/catalog/tovary-dlya-mam-i-detey?page=45', 'https://www.perekrestok.ru/catalog/tovary-dlya-mam-i-detey?page=46', 'https://www.perekrestok.ru/catalog/tovary-dlya-mam-i-detey?page=47', 'https://www.perekrestok.ru/catalog/tovary-dlya-mam-i-detey?page=48', 'https://www.perekrestok.ru/catalog/tovary-dlya-mam-i-detey?page=49', 'https://www.perekrestok.ru/catalog/tovary-dlya-mam-i-detey?page=50', 'https://www.perekrestok.ru/catalog/tovary-dlya-mam-i-detey?page=51', 'https://www.perekrestok.ru/catalog/tovary-dlya-mam-i-detey?page=52', 'https://www.perekrestok.ru/catalog/tovary-dlya-mam-i-detey?page=53', 'https://www.perekrestok.ru/catalog/tovary-dlya-mam-i-detey?page=54', 'https://www.perekrestok.ru/catalog/tovary-dlya-mam-i-detey?page=55', 'https://www.perekrestok.ru/catalog/tovary-dlya-mam-i-detey?page=56', 'https://www.perekrestok.ru/catalog/tovary-dlya-mam-i-detey?page=57', 'https://www.perekrestok.ru/catalog/tovary-dlya-mam-i-detey?page=58', 'https://www.perekrestok.ru/catalog/tovary-dlya-mam-i-detey?page=59', 'https://www.perekrestok.ru/catalog/tovary-dlya-mam-i-detey?page=60', 'https://www.perekrestok.ru/catalog/tovary-dlya-mam-i-detey?page=61', 'https://www.perekrestok.ru/catalog/tovary-dlya-mam-i-detey?page=62', 'https://www.perekrestok.ru/catalog/tovary-dlya-mam-i-detey?page=63', 'https://www.perekrestok.ru/catalog/tovary-dlya-mam-i-detey?page=64', 'https://www.perekrestok.ru/catalog/tovary-dlya-mam-i-detey?page=65', 'https://www.perekrestok.ru/catalog/tovary-dlya-mam-i-detey?page=66', 'https://www.perekrestok.ru/catalog/zamorojennye-produkty?page=1', 'https://www.perekrestok.ru/catalog/zamorojennye-produkty?page=2', 'https://www.perekrestok.ru/catalog/zamorojennye-produkty?page=3', 'https://www.perekrestok.ru/catalog/zamorojennye-produkty?page=4', 'https://www.perekrestok.ru/catalog/zamorojennye-produkty?page=5', 'https://www.perekrestok.ru/catalog/zamorojennye-produkty?page=6', 'https://www.perekrestok.ru/catalog/zamorojennye-produkty?page=7', 'https://www.perekrestok.ru/catalog/zamorojennye-produkty?page=8', 'https://www.perekrestok.ru/catalog/zamorojennye-produkty?page=9', 'https://www.perekrestok.ru/catalog/zamorojennye-produkty?page=10', 'https://www.perekrestok.ru/catalog/zamorojennye-produkty?page=11', 'https://www.perekrestok.ru/catalog/zamorojennye-produkty?page=12', 'https://www.perekrestok.ru/catalog/zamorojennye-produkty?page=13', 'https://www.perekrestok.ru/catalog/zamorojennye-produkty?page=14', 'https://www.perekrestok.ru/catalog/zamorojennye-produkty?page=15', 'https://www.perekrestok.ru/catalog/zamorojennye-produkty?page=16', 'https://www.perekrestok.ru/catalog/zamorojennye-produkty?page=17', 'https://www.perekrestok.ru/catalog/zamorojennye-produkty?page=18', 'https://www.perekrestok.ru/catalog/zamorojennye-produkty?page=19', 'https://www.perekrestok.ru/catalog/zamorojennye-produkty?page=20', 'https://www.perekrestok.ru/catalog/zamorojennye-produkty?page=21', 'https://www.perekrestok.ru/catalog/zamorojennye-produkty?page=22', 'https://www.perekrestok.ru/catalog/zamorojennye-produkty?page=23', 'https://www.perekrestok.ru/catalog/zamorojennye-produkty?page=24', 'https://www.perekrestok.ru/catalog/zamorojennye-produkty?page=25', 'https://www.perekrestok.ru/catalog/zamorojennye-produkty?page=26', 'https://www.perekrestok.ru/catalog/zamorojennye-produkty?page=27', 'https://www.perekrestok.ru/catalog/zamorojennye-produkty?page=28', 'https://www.perekrestok.ru/catalog/zamorojennye-produkty?page=29', 'https://www.perekrestok.ru/catalog/zamorojennye-produkty?page=30', 'https://www.perekrestok.ru/catalog/zamorojennye-produkty?page=31', 'https://www.perekrestok.ru/catalog/zamorojennye-produkty?page=32', 'https://www.perekrestok.ru/catalog/zamorojennye-produkty?page=33', 'https://www.perekrestok.ru/catalog/zamorojennye-produkty?page=34', 'https://www.perekrestok.ru/catalog/zamorojennye-produkty?page=35', 'https://www.perekrestok.ru/catalog/zamorojennye-produkty?page=36', 'https://www.perekrestok.ru/catalog/zamorojennye-produkty?page=37', 'https://www.perekrestok.ru/catalog/zamorojennye-produkty?page=38', 'https://www.perekrestok.ru/catalog/zamorojennye-produkty?page=39', 'https://www.perekrestok.ru/catalog/zamorojennye-produkty?page=40', 'https://www.perekrestok.ru/catalog/zamorojennye-produkty?page=41', 'https://www.perekrestok.ru/catalog/zamorojennye-produkty?page=42', 'https://www.perekrestok.ru/catalog/zamorojennye-produkty?page=43', 'https://www.perekrestok.ru/catalog/zamorojennye-produkty?page=44', 'https://www.perekrestok.ru/catalog/zamorojennye-produkty?page=45', 'https://www.perekrestok.ru/catalog/zamorojennye-produkty?page=46', 'https://www.perekrestok.ru/catalog/zamorojennye-produkty?page=47', 'https://www.perekrestok.ru/catalog/zamorojennye-produkty?page=48', 'https://www.perekrestok.ru/catalog/zamorojennye-produkty?page=49', 'https://www.perekrestok.ru/catalog/zamorojennye-produkty?page=50', 'https://www.perekrestok.ru/catalog/zamorojennye-produkty?page=51', 'https://www.perekrestok.ru/catalog/zamorojennye-produkty?page=52', 'https://www.perekrestok.ru/catalog/zamorojennye-produkty?page=53', 'https://www.perekrestok.ru/catalog/zamorojennye-produkty?page=54', 'https://www.perekrestok.ru/catalog/zamorojennye-produkty?page=55', 'https://www.perekrestok.ru/catalog/zamorojennye-produkty?page=56', 'https://www.perekrestok.ru/catalog/zamorojennye-produkty?page=57', 'https://www.perekrestok.ru/catalog/zamorojennye-produkty?page=58', 'https://www.perekrestok.ru/catalog/zamorojennye-produkty?page=59', 'https://www.perekrestok.ru/catalog/zamorojennye-produkty?page=60', 'https://www.perekrestok.ru/catalog/zamorojennye-produkty?page=61', 'https://www.perekrestok.ru/catalog/zamorojennye-produkty?page=62', 'https://www.perekrestok.ru/catalog/zamorojennye-produkty?page=63', 'https://www.perekrestok.ru/catalog/zamorojennye-produkty?page=64', 'https://www.perekrestok.ru/catalog/zamorojennye-produkty?page=65', 'https://www.perekrestok.ru/catalog/zamorojennye-produkty?page=66', 'https://www.perekrestok.ru/catalog/zdorovyy-vybor?page=1', 'https://www.perekrestok.ru/catalog/zdorovyy-vybor?page=2', 'https://www.perekrestok.ru/catalog/zdorovyy-vybor?page=3', 'https://www.perekrestok.ru/catalog/zdorovyy-vybor?page=4', 'https://www.perekrestok.ru/catalog/zdorovyy-vybor?page=5', 'https://www.perekrestok.ru/catalog/zdorovyy-vybor?page=6', 'https://www.perekrestok.ru/catalog/zdorovyy-vybor?page=7', 'https://www.perekrestok.ru/catalog/zdorovyy-vybor?page=8', 'https://www.perekrestok.ru/catalog/zdorovyy-vybor?page=9', 'https://www.perekrestok.ru/catalog/zdorovyy-vybor?page=10', 'https://www.perekrestok.ru/catalog/zdorovyy-vybor?page=11', 'https://www.perekrestok.ru/catalog/zdorovyy-vybor?page=12', 'https://www.perekrestok.ru/catalog/zdorovyy-vybor?page=13', 'https://www.perekrestok.ru/catalog/zdorovyy-vybor?page=14', 'https://www.perekrestok.ru/catalog/zdorovyy-vybor?page=15', 'https://www.perekrestok.ru/catalog/zdorovyy-vybor?page=16', 'https://www.perekrestok.ru/catalog/zdorovyy-vybor?page=17', 'https://www.perekrestok.ru/catalog/zdorovyy-vybor?page=18', 'https://www.perekrestok.ru/catalog/zdorovyy-vybor?page=19', 'https://www.perekrestok.ru/catalog/zdorovyy-vybor?page=20', 'https://www.perekrestok.ru/catalog/zdorovyy-vybor?page=21', 'https://www.perekrestok.ru/catalog/zdorovyy-vybor?page=22', 'https://www.perekrestok.ru/catalog/zdorovyy-vybor?page=23', 'https://www.perekrestok.ru/catalog/zdorovyy-vybor?page=24', 'https://www.perekrestok.ru/catalog/zdorovyy-vybor?page=25', 'https://www.perekrestok.ru/catalog/zdorovyy-vybor?page=26', 'https://www.perekrestok.ru/catalog/zdorovyy-vybor?page=27', 'https://www.perekrestok.ru/catalog/zdorovyy-vybor?page=28', 'https://www.perekrestok.ru/catalog/zdorovyy-vybor?page=29', 'https://www.perekrestok.ru/catalog/zdorovyy-vybor?page=30', 'https://www.perekrestok.ru/catalog/zdorovyy-vybor?page=31', 'https://www.perekrestok.ru/catalog/zdorovyy-vybor?page=32', 'https://www.perekrestok.ru/catalog/zdorovyy-vybor?page=33', 'https://www.perekrestok.ru/catalog/zdorovyy-vybor?page=34', 'https://www.perekrestok.ru/catalog/zdorovyy-vybor?page=35', 'https://www.perekrestok.ru/catalog/zdorovyy-vybor?page=36', 'https://www.perekrestok.ru/catalog/zdorovyy-vybor?page=37', 'https://www.perekrestok.ru/catalog/zdorovyy-vybor?page=38', 'https://www.perekrestok.ru/catalog/zdorovyy-vybor?page=39', 'https://www.perekrestok.ru/catalog/zdorovyy-vybor?page=40', 'https://www.perekrestok.ru/catalog/zdorovyy-vybor?page=41', 'https://www.perekrestok.ru/catalog/zdorovyy-vybor?page=42', 'https://www.perekrestok.ru/catalog/zdorovyy-vybor?page=43', 'https://www.perekrestok.ru/catalog/zdorovyy-vybor?page=44', 'https://www.perekrestok.ru/catalog/zdorovyy-vybor?page=45', 'https://www.perekrestok.ru/catalog/zdorovyy-vybor?page=46', 'https://www.perekrestok.ru/catalog/zdorovyy-vybor?page=47', 'https://www.perekrestok.ru/catalog/zdorovyy-vybor?page=48', 'https://www.perekrestok.ru/catalog/zdorovyy-vybor?page=49', 'https://www.perekrestok.ru/catalog/zdorovyy-vybor?page=50', 'https://www.perekrestok.ru/catalog/zdorovyy-vybor?page=51', 'https://www.perekrestok.ru/catalog/zdorovyy-vybor?page=52', 'https://www.perekrestok.ru/catalog/zdorovyy-vybor?page=53', 'https://www.perekrestok.ru/catalog/zdorovyy-vybor?page=54', 'https://www.perekrestok.ru/catalog/zdorovyy-vybor?page=55', 'https://www.perekrestok.ru/catalog/zdorovyy-vybor?page=56', 'https://www.perekrestok.ru/catalog/zdorovyy-vybor?page=57', 'https://www.perekrestok.ru/catalog/zdorovyy-vybor?page=58', 'https://www.perekrestok.ru/catalog/zdorovyy-vybor?page=59', 'https://www.perekrestok.ru/catalog/zdorovyy-vybor?page=60', 'https://www.perekrestok.ru/catalog/zdorovyy-vybor?page=61', 'https://www.perekrestok.ru/catalog/zdorovyy-vybor?page=62', 'https://www.perekrestok.ru/catalog/zdorovyy-vybor?page=63', 'https://www.perekrestok.ru/catalog/zdorovyy-vybor?page=64', 'https://www.perekrestok.ru/catalog/zdorovyy-vybor?page=65', 'https://www.perekrestok.ru/catalog/zdorovyy-vybor?page=66']\n"
     ]
    }
   ],
   "source": [
    "flat_list=[]\n",
    "for sublist in category_pages_url:\n",
    "    for item in sublist:\n",
    "        flat_list.append(item)\n",
    "        \n",
    "print (flat_list)"
   ]
  },
  {
   "cell_type": "code",
   "execution_count": 6,
   "metadata": {},
   "outputs": [
    {
     "data": {
      "application/vnd.jupyter.widget-view+json": {
       "model_id": "1de171ce97874522b305a3193b720ba3",
       "version_major": 2,
       "version_minor": 0
      },
      "text/plain": [
       "HBox(children=(IntProgress(value=0, max=17), HTML(value='')))"
      ]
     },
     "metadata": {},
     "output_type": "display_data"
    },
    {
     "data": {
      "application/vnd.jupyter.widget-view+json": {
       "model_id": "ce9c43fdb2564d4a958c146e0b115e4d",
       "version_major": 2,
       "version_minor": 0
      },
      "text/plain": [
       "HBox(children=(IntProgress(value=0, max=66), HTML(value='')))"
      ]
     },
     "metadata": {},
     "output_type": "display_data"
    },
    {
     "data": {
      "application/vnd.jupyter.widget-view+json": {
       "model_id": "66518bf8a72742878d139618c9d4a4ce",
       "version_major": 2,
       "version_minor": 0
      },
      "text/plain": [
       "HBox(children=(IntProgress(value=0, max=66), HTML(value='')))"
      ]
     },
     "metadata": {},
     "output_type": "display_data"
    },
    {
     "data": {
      "application/vnd.jupyter.widget-view+json": {
       "model_id": "0b5d00cb74ab4e9dba7c4cb6da25d256",
       "version_major": 2,
       "version_minor": 0
      },
      "text/plain": [
       "HBox(children=(IntProgress(value=0, max=66), HTML(value='')))"
      ]
     },
     "metadata": {},
     "output_type": "display_data"
    },
    {
     "data": {
      "application/vnd.jupyter.widget-view+json": {
       "model_id": "d110a411fca045b38cf3c0b8daac9142",
       "version_major": 2,
       "version_minor": 0
      },
      "text/plain": [
       "HBox(children=(IntProgress(value=0, max=66), HTML(value='')))"
      ]
     },
     "metadata": {},
     "output_type": "display_data"
    },
    {
     "data": {
      "application/vnd.jupyter.widget-view+json": {
       "model_id": "d9b0d91094ac425fa475b86e2de272c0",
       "version_major": 2,
       "version_minor": 0
      },
      "text/plain": [
       "HBox(children=(IntProgress(value=0, max=66), HTML(value='')))"
      ]
     },
     "metadata": {},
     "output_type": "display_data"
    },
    {
     "data": {
      "application/vnd.jupyter.widget-view+json": {
       "model_id": "61702f21f268419687e5960421713ade",
       "version_major": 2,
       "version_minor": 0
      },
      "text/plain": [
       "HBox(children=(IntProgress(value=0, max=66), HTML(value='')))"
      ]
     },
     "metadata": {},
     "output_type": "display_data"
    },
    {
     "data": {
      "application/vnd.jupyter.widget-view+json": {
       "model_id": "2041a839b9c04e8e9833debc4508808a",
       "version_major": 2,
       "version_minor": 0
      },
      "text/plain": [
       "HBox(children=(IntProgress(value=0, max=66), HTML(value='')))"
      ]
     },
     "metadata": {},
     "output_type": "display_data"
    },
    {
     "data": {
      "application/vnd.jupyter.widget-view+json": {
       "model_id": "d3d99537038d45ee897d5ced73f24294",
       "version_major": 2,
       "version_minor": 0
      },
      "text/plain": [
       "HBox(children=(IntProgress(value=0, max=66), HTML(value='')))"
      ]
     },
     "metadata": {},
     "output_type": "display_data"
    },
    {
     "data": {
      "application/vnd.jupyter.widget-view+json": {
       "model_id": "b638c47c9c3d47aab19abdd9e51bf258",
       "version_major": 2,
       "version_minor": 0
      },
      "text/plain": [
       "HBox(children=(IntProgress(value=0, max=66), HTML(value='')))"
      ]
     },
     "metadata": {},
     "output_type": "display_data"
    },
    {
     "data": {
      "application/vnd.jupyter.widget-view+json": {
       "model_id": "852c91809f594fa0b44d76c92eaa40a2",
       "version_major": 2,
       "version_minor": 0
      },
      "text/plain": [
       "HBox(children=(IntProgress(value=0, max=66), HTML(value='')))"
      ]
     },
     "metadata": {},
     "output_type": "display_data"
    },
    {
     "data": {
      "application/vnd.jupyter.widget-view+json": {
       "model_id": "57cafc749f014b928ed54ecca1b126b7",
       "version_major": 2,
       "version_minor": 0
      },
      "text/plain": [
       "HBox(children=(IntProgress(value=0, max=66), HTML(value='')))"
      ]
     },
     "metadata": {},
     "output_type": "display_data"
    },
    {
     "data": {
      "application/vnd.jupyter.widget-view+json": {
       "model_id": "cc0f84f51ada495f821688f98b696e3d",
       "version_major": 2,
       "version_minor": 0
      },
      "text/plain": [
       "HBox(children=(IntProgress(value=0, max=66), HTML(value='')))"
      ]
     },
     "metadata": {},
     "output_type": "display_data"
    },
    {
     "data": {
      "application/vnd.jupyter.widget-view+json": {
       "model_id": "64426bfa432f41f9915d081c54cbbb43",
       "version_major": 2,
       "version_minor": 0
      },
      "text/plain": [
       "HBox(children=(IntProgress(value=0, max=66), HTML(value='')))"
      ]
     },
     "metadata": {},
     "output_type": "display_data"
    },
    {
     "data": {
      "application/vnd.jupyter.widget-view+json": {
       "model_id": "3366142200c842499b19efe35c5f0ca1",
       "version_major": 2,
       "version_minor": 0
      },
      "text/plain": [
       "HBox(children=(IntProgress(value=0, max=66), HTML(value='')))"
      ]
     },
     "metadata": {},
     "output_type": "display_data"
    },
    {
     "data": {
      "application/vnd.jupyter.widget-view+json": {
       "model_id": "d4afabe55d2248c1b25e5f6b01c7eebe",
       "version_major": 2,
       "version_minor": 0
      },
      "text/plain": [
       "HBox(children=(IntProgress(value=0, max=66), HTML(value='')))"
      ]
     },
     "metadata": {},
     "output_type": "display_data"
    },
    {
     "data": {
      "application/vnd.jupyter.widget-view+json": {
       "model_id": "a0ce554e7444433fb48a433f4f9780aa",
       "version_major": 2,
       "version_minor": 0
      },
      "text/plain": [
       "HBox(children=(IntProgress(value=0, max=66), HTML(value='')))"
      ]
     },
     "metadata": {},
     "output_type": "display_data"
    },
    {
     "data": {
      "application/vnd.jupyter.widget-view+json": {
       "model_id": "eb083b60cdc1454a8cb1630224c61a5a",
       "version_major": 2,
       "version_minor": 0
      },
      "text/plain": [
       "HBox(children=(IntProgress(value=0, max=66), HTML(value='')))"
      ]
     },
     "metadata": {},
     "output_type": "display_data"
    },
    {
     "name": "stdout",
     "output_type": "stream",
     "text": [
      "\n"
     ]
    }
   ],
   "source": [
    "def get_html(url):\n",
    "    r = requests.get(url)\n",
    "    return r.text\n",
    "\n",
    "category_pages_urls = []\n",
    "for sublist in tqdm_notebook(category_pages_url):\n",
    "    for urls in tqdm_notebook(sublist):\n",
    "        try:\n",
    "            category_pages_urls.append(get_html(urls))\n",
    "        except:    \n",
    "            pass\n",
    "\n",
    "#get_html(list(map(get_html, category_pages_url)))\n"
   ]
  },
  {
   "cell_type": "code",
   "execution_count": 7,
   "metadata": {},
   "outputs": [],
   "source": [
    "pages_html = category_pages_urls"
   ]
  },
  {
   "cell_type": "code",
   "execution_count": 16,
   "metadata": {},
   "outputs": [
    {
     "data": {
      "application/vnd.jupyter.widget-view+json": {
       "model_id": "4a8b5f2f4345475c9239328150843de5",
       "version_major": 2,
       "version_minor": 0
      },
      "text/plain": [
       "HBox(children=(IntProgress(value=0, max=1122), HTML(value='')))"
      ]
     },
     "metadata": {},
     "output_type": "display_data"
    },
    {
     "data": {
      "application/vnd.jupyter.widget-view+json": {
       "model_id": "ec7a657999d849dbaf71ace50bd887cb",
       "version_major": 2,
       "version_minor": 0
      },
      "text/plain": [
       "HBox(children=(IntProgress(value=0, max=24), HTML(value='')))"
      ]
     },
     "metadata": {},
     "output_type": "display_data"
    },
    {
     "data": {
      "application/vnd.jupyter.widget-view+json": {
       "model_id": "6632bbf025034229826574d90e2867a2",
       "version_major": 2,
       "version_minor": 0
      },
      "text/plain": [
       "HBox(children=(IntProgress(value=0, max=24), HTML(value='')))"
      ]
     },
     "metadata": {},
     "output_type": "display_data"
    },
    {
     "data": {
      "application/vnd.jupyter.widget-view+json": {
       "model_id": "f9c10ec1c0d947569433172682e4e117",
       "version_major": 2,
       "version_minor": 0
      },
      "text/plain": [
       "HBox(children=(IntProgress(value=0, max=24), HTML(value='')))"
      ]
     },
     "metadata": {},
     "output_type": "display_data"
    },
    {
     "data": {
      "application/vnd.jupyter.widget-view+json": {
       "model_id": "3a85285dc31f4bb5b982a226b928deca",
       "version_major": 2,
       "version_minor": 0
      },
      "text/plain": [
       "HBox(children=(IntProgress(value=0, max=24), HTML(value='')))"
      ]
     },
     "metadata": {},
     "output_type": "display_data"
    },
    {
     "data": {
      "application/vnd.jupyter.widget-view+json": {
       "model_id": "d241da563945449db9784c6acc94df70",
       "version_major": 2,
       "version_minor": 0
      },
      "text/plain": [
       "HBox(children=(IntProgress(value=0, max=24), HTML(value='')))"
      ]
     },
     "metadata": {},
     "output_type": "display_data"
    },
    {
     "data": {
      "application/vnd.jupyter.widget-view+json": {
       "model_id": "ba17b49ca89740448db8140dbe44219e",
       "version_major": 2,
       "version_minor": 0
      },
      "text/plain": [
       "HBox(children=(IntProgress(value=0, max=24), HTML(value='')))"
      ]
     },
     "metadata": {},
     "output_type": "display_data"
    },
    {
     "data": {
      "application/vnd.jupyter.widget-view+json": {
       "model_id": "0fec173fae9143c5a0f0cd076e00b251",
       "version_major": 2,
       "version_minor": 0
      },
      "text/plain": [
       "HBox(children=(IntProgress(value=0, max=24), HTML(value='')))"
      ]
     },
     "metadata": {},
     "output_type": "display_data"
    },
    {
     "data": {
      "application/vnd.jupyter.widget-view+json": {
       "model_id": "d738cb17dba44b5bb29942366e902753",
       "version_major": 2,
       "version_minor": 0
      },
      "text/plain": [
       "HBox(children=(IntProgress(value=0, max=24), HTML(value='')))"
      ]
     },
     "metadata": {},
     "output_type": "display_data"
    },
    {
     "data": {
      "application/vnd.jupyter.widget-view+json": {
       "model_id": "0c943521d9e4460284014c6941e5e3bc",
       "version_major": 2,
       "version_minor": 0
      },
      "text/plain": [
       "HBox(children=(IntProgress(value=0, max=24), HTML(value='')))"
      ]
     },
     "metadata": {},
     "output_type": "display_data"
    },
    {
     "data": {
      "application/vnd.jupyter.widget-view+json": {
       "model_id": "5593d4e1e1ef4769a5f5e6d91f35a26d",
       "version_major": 2,
       "version_minor": 0
      },
      "text/plain": [
       "HBox(children=(IntProgress(value=0, max=24), HTML(value='')))"
      ]
     },
     "metadata": {},
     "output_type": "display_data"
    },
    {
     "data": {
      "application/vnd.jupyter.widget-view+json": {
       "model_id": "29ca8070cdd9415c82db75bc158f0d74",
       "version_major": 2,
       "version_minor": 0
      },
      "text/plain": [
       "HBox(children=(IntProgress(value=0, max=24), HTML(value='')))"
      ]
     },
     "metadata": {},
     "output_type": "display_data"
    },
    {
     "data": {
      "application/vnd.jupyter.widget-view+json": {
       "model_id": "fa77f9ad96d144c98bd8744dc68340e0",
       "version_major": 2,
       "version_minor": 0
      },
      "text/plain": [
       "HBox(children=(IntProgress(value=0, max=24), HTML(value='')))"
      ]
     },
     "metadata": {},
     "output_type": "display_data"
    },
    {
     "data": {
      "application/vnd.jupyter.widget-view+json": {
       "model_id": "c73c20c006964a45b8233f58da46d551",
       "version_major": 2,
       "version_minor": 0
      },
      "text/plain": [
       "HBox(children=(IntProgress(value=0, max=24), HTML(value='')))"
      ]
     },
     "metadata": {},
     "output_type": "display_data"
    },
    {
     "data": {
      "application/vnd.jupyter.widget-view+json": {
       "model_id": "9070a4195c75442e869787843374980d",
       "version_major": 2,
       "version_minor": 0
      },
      "text/plain": [
       "HBox(children=(IntProgress(value=0, max=24), HTML(value='')))"
      ]
     },
     "metadata": {},
     "output_type": "display_data"
    },
    {
     "data": {
      "application/vnd.jupyter.widget-view+json": {
       "model_id": "41d4e75072884866828d4bc52e3b20a8",
       "version_major": 2,
       "version_minor": 0
      },
      "text/plain": [
       "HBox(children=(IntProgress(value=0, max=24), HTML(value='')))"
      ]
     },
     "metadata": {},
     "output_type": "display_data"
    },
    {
     "data": {
      "application/vnd.jupyter.widget-view+json": {
       "model_id": "23a5169bdf82473f8b3cea13636be619",
       "version_major": 2,
       "version_minor": 0
      },
      "text/plain": [
       "HBox(children=(IntProgress(value=0, max=24), HTML(value='')))"
      ]
     },
     "metadata": {},
     "output_type": "display_data"
    },
    {
     "data": {
      "application/vnd.jupyter.widget-view+json": {
       "model_id": "13ecccfb584c45d9b72cdf95d41da850",
       "version_major": 2,
       "version_minor": 0
      },
      "text/plain": [
       "HBox(children=(IntProgress(value=0, max=24), HTML(value='')))"
      ]
     },
     "metadata": {},
     "output_type": "display_data"
    },
    {
     "data": {
      "application/vnd.jupyter.widget-view+json": {
       "model_id": "fa298673670b4948b65dfd6eb7adc4c2",
       "version_major": 2,
       "version_minor": 0
      },
      "text/plain": [
       "HBox(children=(IntProgress(value=0, max=24), HTML(value='')))"
      ]
     },
     "metadata": {},
     "output_type": "display_data"
    },
    {
     "data": {
      "application/vnd.jupyter.widget-view+json": {
       "model_id": "0b9da48465924decb2b6d39a6f187898",
       "version_major": 2,
       "version_minor": 0
      },
      "text/plain": [
       "HBox(children=(IntProgress(value=0, max=24), HTML(value='')))"
      ]
     },
     "metadata": {},
     "output_type": "display_data"
    },
    {
     "data": {
      "application/vnd.jupyter.widget-view+json": {
       "model_id": "b4716cf55a9d4971898305b038a50fc0",
       "version_major": 2,
       "version_minor": 0
      },
      "text/plain": [
       "HBox(children=(IntProgress(value=0, max=24), HTML(value='')))"
      ]
     },
     "metadata": {},
     "output_type": "display_data"
    },
    {
     "data": {
      "application/vnd.jupyter.widget-view+json": {
       "model_id": "a499670e22614f2dae65f1f6eb628032",
       "version_major": 2,
       "version_minor": 0
      },
      "text/plain": [
       "HBox(children=(IntProgress(value=0, max=24), HTML(value='')))"
      ]
     },
     "metadata": {},
     "output_type": "display_data"
    },
    {
     "data": {
      "application/vnd.jupyter.widget-view+json": {
       "model_id": "6c684de49e7c46e7aabc40f572428852",
       "version_major": 2,
       "version_minor": 0
      },
      "text/plain": [
       "HBox(children=(IntProgress(value=0, max=24), HTML(value='')))"
      ]
     },
     "metadata": {},
     "output_type": "display_data"
    },
    {
     "data": {
      "application/vnd.jupyter.widget-view+json": {
       "model_id": "3f35a91cd0cd48369693642bcceca808",
       "version_major": 2,
       "version_minor": 0
      },
      "text/plain": [
       "HBox(children=(IntProgress(value=0, max=24), HTML(value='')))"
      ]
     },
     "metadata": {},
     "output_type": "display_data"
    },
    {
     "data": {
      "application/vnd.jupyter.widget-view+json": {
       "model_id": "e2a927cea3084b3d9d3c9ca810ccd8f6",
       "version_major": 2,
       "version_minor": 0
      },
      "text/plain": [
       "HBox(children=(IntProgress(value=0, max=24), HTML(value='')))"
      ]
     },
     "metadata": {},
     "output_type": "display_data"
    },
    {
     "data": {
      "application/vnd.jupyter.widget-view+json": {
       "model_id": "49ebf2ce8e1e485cb3ac0d1d4ccdb1b5",
       "version_major": 2,
       "version_minor": 0
      },
      "text/plain": [
       "HBox(children=(IntProgress(value=0, max=24), HTML(value='')))"
      ]
     },
     "metadata": {},
     "output_type": "display_data"
    },
    {
     "data": {
      "application/vnd.jupyter.widget-view+json": {
       "model_id": "46023cff9bc34852898e6c8a30e98cae",
       "version_major": 2,
       "version_minor": 0
      },
      "text/plain": [
       "HBox(children=(IntProgress(value=0, max=24), HTML(value='')))"
      ]
     },
     "metadata": {},
     "output_type": "display_data"
    },
    {
     "data": {
      "application/vnd.jupyter.widget-view+json": {
       "model_id": "9c6ee1b5db394979b90a6e2dbc071b40",
       "version_major": 2,
       "version_minor": 0
      },
      "text/plain": [
       "HBox(children=(IntProgress(value=0, max=24), HTML(value='')))"
      ]
     },
     "metadata": {},
     "output_type": "display_data"
    },
    {
     "data": {
      "application/vnd.jupyter.widget-view+json": {
       "model_id": "0c63c41f4d4342eaab497cb8f2330d0d",
       "version_major": 2,
       "version_minor": 0
      },
      "text/plain": [
       "HBox(children=(IntProgress(value=0, max=24), HTML(value='')))"
      ]
     },
     "metadata": {},
     "output_type": "display_data"
    },
    {
     "data": {
      "application/vnd.jupyter.widget-view+json": {
       "model_id": "e9a1bbb05d85429ebca1b641ff47bedf",
       "version_major": 2,
       "version_minor": 0
      },
      "text/plain": [
       "HBox(children=(IntProgress(value=0, max=24), HTML(value='')))"
      ]
     },
     "metadata": {},
     "output_type": "display_data"
    },
    {
     "data": {
      "application/vnd.jupyter.widget-view+json": {
       "model_id": "781f2ddd76e74d65b4f80980070626b5",
       "version_major": 2,
       "version_minor": 0
      },
      "text/plain": [
       "HBox(children=(IntProgress(value=0, max=24), HTML(value='')))"
      ]
     },
     "metadata": {},
     "output_type": "display_data"
    },
    {
     "data": {
      "application/vnd.jupyter.widget-view+json": {
       "model_id": "c7755ab30bc04761b3f4d1ed3fa3b6df",
       "version_major": 2,
       "version_minor": 0
      },
      "text/plain": [
       "HBox(children=(IntProgress(value=0, max=24), HTML(value='')))"
      ]
     },
     "metadata": {},
     "output_type": "display_data"
    },
    {
     "data": {
      "application/vnd.jupyter.widget-view+json": {
       "model_id": "203665208a4944dabb774c923fcb52af",
       "version_major": 2,
       "version_minor": 0
      },
      "text/plain": [
       "HBox(children=(IntProgress(value=0, max=24), HTML(value='')))"
      ]
     },
     "metadata": {},
     "output_type": "display_data"
    },
    {
     "data": {
      "application/vnd.jupyter.widget-view+json": {
       "model_id": "90d28eeefd7246e0a3c054bce6569e4f",
       "version_major": 2,
       "version_minor": 0
      },
      "text/plain": [
       "HBox(children=(IntProgress(value=0, max=24), HTML(value='')))"
      ]
     },
     "metadata": {},
     "output_type": "display_data"
    },
    {
     "data": {
      "application/vnd.jupyter.widget-view+json": {
       "model_id": "2724a371779f4e71adc9e0e3bb7c7b77",
       "version_major": 2,
       "version_minor": 0
      },
      "text/plain": [
       "HBox(children=(IntProgress(value=0, max=24), HTML(value='')))"
      ]
     },
     "metadata": {},
     "output_type": "display_data"
    },
    {
     "data": {
      "application/vnd.jupyter.widget-view+json": {
       "model_id": "ba61dcd2d25844a3bacc470153e4a532",
       "version_major": 2,
       "version_minor": 0
      },
      "text/plain": [
       "HBox(children=(IntProgress(value=0, max=24), HTML(value='')))"
      ]
     },
     "metadata": {},
     "output_type": "display_data"
    },
    {
     "data": {
      "application/vnd.jupyter.widget-view+json": {
       "model_id": "44b7f379b72c4995a1ebf3ce434a568c",
       "version_major": 2,
       "version_minor": 0
      },
      "text/plain": [
       "HBox(children=(IntProgress(value=0, max=24), HTML(value='')))"
      ]
     },
     "metadata": {},
     "output_type": "display_data"
    },
    {
     "data": {
      "application/vnd.jupyter.widget-view+json": {
       "model_id": "073f591b1011479bbe603c8c8c2a33d0",
       "version_major": 2,
       "version_minor": 0
      },
      "text/plain": [
       "HBox(children=(IntProgress(value=0, max=24), HTML(value='')))"
      ]
     },
     "metadata": {},
     "output_type": "display_data"
    },
    {
     "data": {
      "application/vnd.jupyter.widget-view+json": {
       "model_id": "81132ed702c149ee846282844c3860fc",
       "version_major": 2,
       "version_minor": 0
      },
      "text/plain": [
       "HBox(children=(IntProgress(value=0, max=24), HTML(value='')))"
      ]
     },
     "metadata": {},
     "output_type": "display_data"
    },
    {
     "data": {
      "application/vnd.jupyter.widget-view+json": {
       "model_id": "9f9704965caa47bda3490a594a54ba7c",
       "version_major": 2,
       "version_minor": 0
      },
      "text/plain": [
       "HBox(children=(IntProgress(value=0, max=24), HTML(value='')))"
      ]
     },
     "metadata": {},
     "output_type": "display_data"
    },
    {
     "data": {
      "application/vnd.jupyter.widget-view+json": {
       "model_id": "5ccb142fc27c45dd9cc21c69910b09db",
       "version_major": 2,
       "version_minor": 0
      },
      "text/plain": [
       "HBox(children=(IntProgress(value=0, max=24), HTML(value='')))"
      ]
     },
     "metadata": {},
     "output_type": "display_data"
    },
    {
     "data": {
      "application/vnd.jupyter.widget-view+json": {
       "model_id": "31353f7b391f44fb93b75c5d96219586",
       "version_major": 2,
       "version_minor": 0
      },
      "text/plain": [
       "HBox(children=(IntProgress(value=0, max=24), HTML(value='')))"
      ]
     },
     "metadata": {},
     "output_type": "display_data"
    },
    {
     "data": {
      "application/vnd.jupyter.widget-view+json": {
       "model_id": "0e164b16024a45c8849eb2b6143f7599",
       "version_major": 2,
       "version_minor": 0
      },
      "text/plain": [
       "HBox(children=(IntProgress(value=0, max=24), HTML(value='')))"
      ]
     },
     "metadata": {},
     "output_type": "display_data"
    },
    {
     "data": {
      "application/vnd.jupyter.widget-view+json": {
       "model_id": "b9b65e1d9c0446aab12a051680fbe8ba",
       "version_major": 2,
       "version_minor": 0
      },
      "text/plain": [
       "HBox(children=(IntProgress(value=0, max=24), HTML(value='')))"
      ]
     },
     "metadata": {},
     "output_type": "display_data"
    },
    {
     "data": {
      "application/vnd.jupyter.widget-view+json": {
       "model_id": "17236a61284d4a348110cec9c392138b",
       "version_major": 2,
       "version_minor": 0
      },
      "text/plain": [
       "HBox(children=(IntProgress(value=0, max=24), HTML(value='')))"
      ]
     },
     "metadata": {},
     "output_type": "display_data"
    },
    {
     "data": {
      "application/vnd.jupyter.widget-view+json": {
       "model_id": "082c2c888fea4c259efe4c6ab08e9cf6",
       "version_major": 2,
       "version_minor": 0
      },
      "text/plain": [
       "HBox(children=(IntProgress(value=0, max=24), HTML(value='')))"
      ]
     },
     "metadata": {},
     "output_type": "display_data"
    },
    {
     "data": {
      "application/vnd.jupyter.widget-view+json": {
       "model_id": "4baae28a0d5a49a8bb7dbc02367f80fe",
       "version_major": 2,
       "version_minor": 0
      },
      "text/plain": [
       "HBox(children=(IntProgress(value=0, max=24), HTML(value='')))"
      ]
     },
     "metadata": {},
     "output_type": "display_data"
    },
    {
     "data": {
      "application/vnd.jupyter.widget-view+json": {
       "model_id": "6b7bdd60ea974e96ad3dd97565413622",
       "version_major": 2,
       "version_minor": 0
      },
      "text/plain": [
       "HBox(children=(IntProgress(value=0, max=24), HTML(value='')))"
      ]
     },
     "metadata": {},
     "output_type": "display_data"
    },
    {
     "data": {
      "application/vnd.jupyter.widget-view+json": {
       "model_id": "f07b281cc7a641d88aa172488f1dff19",
       "version_major": 2,
       "version_minor": 0
      },
      "text/plain": [
       "HBox(children=(IntProgress(value=0, max=24), HTML(value='')))"
      ]
     },
     "metadata": {},
     "output_type": "display_data"
    },
    {
     "data": {
      "application/vnd.jupyter.widget-view+json": {
       "model_id": "cc274d4928224a8680326664e376044e",
       "version_major": 2,
       "version_minor": 0
      },
      "text/plain": [
       "HBox(children=(IntProgress(value=0, max=24), HTML(value='')))"
      ]
     },
     "metadata": {},
     "output_type": "display_data"
    },
    {
     "data": {
      "application/vnd.jupyter.widget-view+json": {
       "model_id": "329dce017f6942f4b134d9c1fedaa2aa",
       "version_major": 2,
       "version_minor": 0
      },
      "text/plain": [
       "HBox(children=(IntProgress(value=0, max=24), HTML(value='')))"
      ]
     },
     "metadata": {},
     "output_type": "display_data"
    },
    {
     "data": {
      "application/vnd.jupyter.widget-view+json": {
       "model_id": "15d48785508e44d58ac024bfc7ca4956",
       "version_major": 2,
       "version_minor": 0
      },
      "text/plain": [
       "HBox(children=(IntProgress(value=0, max=24), HTML(value='')))"
      ]
     },
     "metadata": {},
     "output_type": "display_data"
    },
    {
     "data": {
      "application/vnd.jupyter.widget-view+json": {
       "model_id": "b8b18a13be624e38b671f6bab7c45869",
       "version_major": 2,
       "version_minor": 0
      },
      "text/plain": [
       "HBox(children=(IntProgress(value=0, max=24), HTML(value='')))"
      ]
     },
     "metadata": {},
     "output_type": "display_data"
    },
    {
     "data": {
      "application/vnd.jupyter.widget-view+json": {
       "model_id": "deae555377dd44f2b975c1d3ff43cab1",
       "version_major": 2,
       "version_minor": 0
      },
      "text/plain": [
       "HBox(children=(IntProgress(value=0, max=24), HTML(value='')))"
      ]
     },
     "metadata": {},
     "output_type": "display_data"
    },
    {
     "data": {
      "application/vnd.jupyter.widget-view+json": {
       "model_id": "2788e6927962481b8d432f3b8a63e386",
       "version_major": 2,
       "version_minor": 0
      },
      "text/plain": [
       "HBox(children=(IntProgress(value=0, max=24), HTML(value='')))"
      ]
     },
     "metadata": {},
     "output_type": "display_data"
    },
    {
     "data": {
      "application/vnd.jupyter.widget-view+json": {
       "model_id": "878ea02ffb184095968282016cb47625",
       "version_major": 2,
       "version_minor": 0
      },
      "text/plain": [
       "HBox(children=(IntProgress(value=0, max=24), HTML(value='')))"
      ]
     },
     "metadata": {},
     "output_type": "display_data"
    },
    {
     "data": {
      "application/vnd.jupyter.widget-view+json": {
       "model_id": "8b9263a6c2b248778610fb4ce9638ddd",
       "version_major": 2,
       "version_minor": 0
      },
      "text/plain": [
       "HBox(children=(IntProgress(value=0, max=24), HTML(value='')))"
      ]
     },
     "metadata": {},
     "output_type": "display_data"
    },
    {
     "data": {
      "application/vnd.jupyter.widget-view+json": {
       "model_id": "c5a55d7cf4d944dc96994fe95ddfc504",
       "version_major": 2,
       "version_minor": 0
      },
      "text/plain": [
       "HBox(children=(IntProgress(value=0, max=24), HTML(value='')))"
      ]
     },
     "metadata": {},
     "output_type": "display_data"
    },
    {
     "data": {
      "application/vnd.jupyter.widget-view+json": {
       "model_id": "0086db6bdd72464293bd62d020f7be42",
       "version_major": 2,
       "version_minor": 0
      },
      "text/plain": [
       "HBox(children=(IntProgress(value=0, max=24), HTML(value='')))"
      ]
     },
     "metadata": {},
     "output_type": "display_data"
    },
    {
     "data": {
      "application/vnd.jupyter.widget-view+json": {
       "model_id": "ebe106f633fa4d7e85cc3a509335b0dc",
       "version_major": 2,
       "version_minor": 0
      },
      "text/plain": [
       "HBox(children=(IntProgress(value=0, max=24), HTML(value='')))"
      ]
     },
     "metadata": {},
     "output_type": "display_data"
    },
    {
     "data": {
      "application/vnd.jupyter.widget-view+json": {
       "model_id": "41d501fffcbe47c392bd8fb5992bd8a1",
       "version_major": 2,
       "version_minor": 0
      },
      "text/plain": [
       "HBox(children=(IntProgress(value=0, max=24), HTML(value='')))"
      ]
     },
     "metadata": {},
     "output_type": "display_data"
    },
    {
     "data": {
      "application/vnd.jupyter.widget-view+json": {
       "model_id": "f10c494939bc4aa189527e6dd2d6a48c",
       "version_major": 2,
       "version_minor": 0
      },
      "text/plain": [
       "HBox(children=(IntProgress(value=0, max=24), HTML(value='')))"
      ]
     },
     "metadata": {},
     "output_type": "display_data"
    },
    {
     "data": {
      "application/vnd.jupyter.widget-view+json": {
       "model_id": "307c6e9da3f24d5381802ee21361fda7",
       "version_major": 2,
       "version_minor": 0
      },
      "text/plain": [
       "HBox(children=(IntProgress(value=0, max=24), HTML(value='')))"
      ]
     },
     "metadata": {},
     "output_type": "display_data"
    },
    {
     "data": {
      "application/vnd.jupyter.widget-view+json": {
       "model_id": "5b6e366de6f84df99c95f6d83239f46c",
       "version_major": 2,
       "version_minor": 0
      },
      "text/plain": [
       "HBox(children=(IntProgress(value=0, max=24), HTML(value='')))"
      ]
     },
     "metadata": {},
     "output_type": "display_data"
    },
    {
     "data": {
      "application/vnd.jupyter.widget-view+json": {
       "model_id": "6c0fbf9d57404d18b326938bb85a7f4b",
       "version_major": 2,
       "version_minor": 0
      },
      "text/plain": [
       "HBox(children=(IntProgress(value=0, max=24), HTML(value='')))"
      ]
     },
     "metadata": {},
     "output_type": "display_data"
    },
    {
     "data": {
      "application/vnd.jupyter.widget-view+json": {
       "model_id": "1a4026183368482dbebe1274a99459f2",
       "version_major": 2,
       "version_minor": 0
      },
      "text/plain": [
       "HBox(children=(IntProgress(value=0, max=24), HTML(value='')))"
      ]
     },
     "metadata": {},
     "output_type": "display_data"
    },
    {
     "data": {
      "application/vnd.jupyter.widget-view+json": {
       "model_id": "3b914452524c4fa2957f50a6a1c4fb9d",
       "version_major": 2,
       "version_minor": 0
      },
      "text/plain": [
       "HBox(children=(IntProgress(value=0, max=24), HTML(value='')))"
      ]
     },
     "metadata": {},
     "output_type": "display_data"
    },
    {
     "data": {
      "application/vnd.jupyter.widget-view+json": {
       "model_id": "544749bf2ee04b41baffbedd61c96f8b",
       "version_major": 2,
       "version_minor": 0
      },
      "text/plain": [
       "HBox(children=(IntProgress(value=0, max=24), HTML(value='')))"
      ]
     },
     "metadata": {},
     "output_type": "display_data"
    },
    {
     "data": {
      "application/vnd.jupyter.widget-view+json": {
       "model_id": "dc13153579e74a1fbd2e1ef74051b619",
       "version_major": 2,
       "version_minor": 0
      },
      "text/plain": [
       "HBox(children=(IntProgress(value=0, max=24), HTML(value='')))"
      ]
     },
     "metadata": {},
     "output_type": "display_data"
    },
    {
     "data": {
      "application/vnd.jupyter.widget-view+json": {
       "model_id": "8de8eda7461644268be19f0178a1ca93",
       "version_major": 2,
       "version_minor": 0
      },
      "text/plain": [
       "HBox(children=(IntProgress(value=0, max=24), HTML(value='')))"
      ]
     },
     "metadata": {},
     "output_type": "display_data"
    },
    {
     "data": {
      "application/vnd.jupyter.widget-view+json": {
       "model_id": "7c2ec86f60194c19a6ff7fbc96d9f431",
       "version_major": 2,
       "version_minor": 0
      },
      "text/plain": [
       "HBox(children=(IntProgress(value=0, max=24), HTML(value='')))"
      ]
     },
     "metadata": {},
     "output_type": "display_data"
    },
    {
     "data": {
      "application/vnd.jupyter.widget-view+json": {
       "model_id": "2d0990d81d9049488a368b56cf7145e6",
       "version_major": 2,
       "version_minor": 0
      },
      "text/plain": [
       "HBox(children=(IntProgress(value=0, max=24), HTML(value='')))"
      ]
     },
     "metadata": {},
     "output_type": "display_data"
    },
    {
     "data": {
      "application/vnd.jupyter.widget-view+json": {
       "model_id": "45e5b017a20348738c0e230efce9e038",
       "version_major": 2,
       "version_minor": 0
      },
      "text/plain": [
       "HBox(children=(IntProgress(value=0, max=24), HTML(value='')))"
      ]
     },
     "metadata": {},
     "output_type": "display_data"
    },
    {
     "data": {
      "application/vnd.jupyter.widget-view+json": {
       "model_id": "314272469d014121a7db430d094d518c",
       "version_major": 2,
       "version_minor": 0
      },
      "text/plain": [
       "HBox(children=(IntProgress(value=0, max=24), HTML(value='')))"
      ]
     },
     "metadata": {},
     "output_type": "display_data"
    },
    {
     "data": {
      "application/vnd.jupyter.widget-view+json": {
       "model_id": "80d0a39d7541469dabecc7ddb128ceb6",
       "version_major": 2,
       "version_minor": 0
      },
      "text/plain": [
       "HBox(children=(IntProgress(value=0, max=24), HTML(value='')))"
      ]
     },
     "metadata": {},
     "output_type": "display_data"
    },
    {
     "data": {
      "application/vnd.jupyter.widget-view+json": {
       "model_id": "13ef30e42cb34326b8b0edab93b860ab",
       "version_major": 2,
       "version_minor": 0
      },
      "text/plain": [
       "HBox(children=(IntProgress(value=0, max=24), HTML(value='')))"
      ]
     },
     "metadata": {},
     "output_type": "display_data"
    },
    {
     "data": {
      "application/vnd.jupyter.widget-view+json": {
       "model_id": "7fcc5bb57ea94ef5b07548902a980330",
       "version_major": 2,
       "version_minor": 0
      },
      "text/plain": [
       "HBox(children=(IntProgress(value=0, max=24), HTML(value='')))"
      ]
     },
     "metadata": {},
     "output_type": "display_data"
    },
    {
     "data": {
      "application/vnd.jupyter.widget-view+json": {
       "model_id": "eb071a14431348be828747b09cbf6ef5",
       "version_major": 2,
       "version_minor": 0
      },
      "text/plain": [
       "HBox(children=(IntProgress(value=0, max=24), HTML(value='')))"
      ]
     },
     "metadata": {},
     "output_type": "display_data"
    },
    {
     "data": {
      "application/vnd.jupyter.widget-view+json": {
       "model_id": "d987b8cd353e4ec3b89b7192f2785656",
       "version_major": 2,
       "version_minor": 0
      },
      "text/plain": [
       "HBox(children=(IntProgress(value=0, max=24), HTML(value='')))"
      ]
     },
     "metadata": {},
     "output_type": "display_data"
    },
    {
     "data": {
      "application/vnd.jupyter.widget-view+json": {
       "model_id": "29c6653916cf44a892da107271af1a6b",
       "version_major": 2,
       "version_minor": 0
      },
      "text/plain": [
       "HBox(children=(IntProgress(value=0, max=24), HTML(value='')))"
      ]
     },
     "metadata": {},
     "output_type": "display_data"
    },
    {
     "data": {
      "application/vnd.jupyter.widget-view+json": {
       "model_id": "9efcae61fe2d49349d2bde6c8caca24e",
       "version_major": 2,
       "version_minor": 0
      },
      "text/plain": [
       "HBox(children=(IntProgress(value=0, max=24), HTML(value='')))"
      ]
     },
     "metadata": {},
     "output_type": "display_data"
    },
    {
     "data": {
      "application/vnd.jupyter.widget-view+json": {
       "model_id": "c4a27089bb7a4d6a8abbbfc8699ef2b0",
       "version_major": 2,
       "version_minor": 0
      },
      "text/plain": [
       "HBox(children=(IntProgress(value=0, max=24), HTML(value='')))"
      ]
     },
     "metadata": {},
     "output_type": "display_data"
    },
    {
     "data": {
      "application/vnd.jupyter.widget-view+json": {
       "model_id": "b42334fc626041eaab582183a233396b",
       "version_major": 2,
       "version_minor": 0
      },
      "text/plain": [
       "HBox(children=(IntProgress(value=0, max=24), HTML(value='')))"
      ]
     },
     "metadata": {},
     "output_type": "display_data"
    },
    {
     "data": {
      "application/vnd.jupyter.widget-view+json": {
       "model_id": "af77d547b964454cb37d322d8592a43c",
       "version_major": 2,
       "version_minor": 0
      },
      "text/plain": [
       "HBox(children=(IntProgress(value=0, max=24), HTML(value='')))"
      ]
     },
     "metadata": {},
     "output_type": "display_data"
    },
    {
     "data": {
      "application/vnd.jupyter.widget-view+json": {
       "model_id": "f95145d62e2f4972ba5db8a80bec5b24",
       "version_major": 2,
       "version_minor": 0
      },
      "text/plain": [
       "HBox(children=(IntProgress(value=0, max=24), HTML(value='')))"
      ]
     },
     "metadata": {},
     "output_type": "display_data"
    },
    {
     "data": {
      "application/vnd.jupyter.widget-view+json": {
       "model_id": "8433895d497745a2a0832469a5bc80ec",
       "version_major": 2,
       "version_minor": 0
      },
      "text/plain": [
       "HBox(children=(IntProgress(value=0, max=24), HTML(value='')))"
      ]
     },
     "metadata": {},
     "output_type": "display_data"
    },
    {
     "data": {
      "application/vnd.jupyter.widget-view+json": {
       "model_id": "f127fb033637496dae641ad91bdf482f",
       "version_major": 2,
       "version_minor": 0
      },
      "text/plain": [
       "HBox(children=(IntProgress(value=0, max=24), HTML(value='')))"
      ]
     },
     "metadata": {},
     "output_type": "display_data"
    },
    {
     "data": {
      "application/vnd.jupyter.widget-view+json": {
       "model_id": "b9030ff3e2454d4f88dc9021cb925eb1",
       "version_major": 2,
       "version_minor": 0
      },
      "text/plain": [
       "HBox(children=(IntProgress(value=0, max=24), HTML(value='')))"
      ]
     },
     "metadata": {},
     "output_type": "display_data"
    },
    {
     "data": {
      "application/vnd.jupyter.widget-view+json": {
       "model_id": "aebc460d96ef478fa26aac439b003656",
       "version_major": 2,
       "version_minor": 0
      },
      "text/plain": [
       "HBox(children=(IntProgress(value=0, max=24), HTML(value='')))"
      ]
     },
     "metadata": {},
     "output_type": "display_data"
    },
    {
     "data": {
      "application/vnd.jupyter.widget-view+json": {
       "model_id": "ee37f02a3b794bb8a319a7044ede5def",
       "version_major": 2,
       "version_minor": 0
      },
      "text/plain": [
       "HBox(children=(IntProgress(value=0, max=24), HTML(value='')))"
      ]
     },
     "metadata": {},
     "output_type": "display_data"
    },
    {
     "data": {
      "application/vnd.jupyter.widget-view+json": {
       "model_id": "0b0fe3561fd8400dad88b511019aed2c",
       "version_major": 2,
       "version_minor": 0
      },
      "text/plain": [
       "HBox(children=(IntProgress(value=0, max=24), HTML(value='')))"
      ]
     },
     "metadata": {},
     "output_type": "display_data"
    },
    {
     "data": {
      "application/vnd.jupyter.widget-view+json": {
       "model_id": "bc0282fa6ec348e8a1b0eb3a94c3c827",
       "version_major": 2,
       "version_minor": 0
      },
      "text/plain": [
       "HBox(children=(IntProgress(value=0, max=24), HTML(value='')))"
      ]
     },
     "metadata": {},
     "output_type": "display_data"
    },
    {
     "data": {
      "application/vnd.jupyter.widget-view+json": {
       "model_id": "d80d670cc42e4a5ba8b24b51185d1743",
       "version_major": 2,
       "version_minor": 0
      },
      "text/plain": [
       "HBox(children=(IntProgress(value=0, max=24), HTML(value='')))"
      ]
     },
     "metadata": {},
     "output_type": "display_data"
    },
    {
     "data": {
      "application/vnd.jupyter.widget-view+json": {
       "model_id": "cbe99b1bd052425fbe4a88ea72772f39",
       "version_major": 2,
       "version_minor": 0
      },
      "text/plain": [
       "HBox(children=(IntProgress(value=0, max=24), HTML(value='')))"
      ]
     },
     "metadata": {},
     "output_type": "display_data"
    },
    {
     "data": {
      "application/vnd.jupyter.widget-view+json": {
       "model_id": "1518f84bd153427cbe9a0dadb935897f",
       "version_major": 2,
       "version_minor": 0
      },
      "text/plain": [
       "HBox(children=(IntProgress(value=0, max=24), HTML(value='')))"
      ]
     },
     "metadata": {},
     "output_type": "display_data"
    },
    {
     "data": {
      "application/vnd.jupyter.widget-view+json": {
       "model_id": "1481993d2daf47bc99bda7d1514ed3aa",
       "version_major": 2,
       "version_minor": 0
      },
      "text/plain": [
       "HBox(children=(IntProgress(value=0, max=24), HTML(value='')))"
      ]
     },
     "metadata": {},
     "output_type": "display_data"
    },
    {
     "data": {
      "application/vnd.jupyter.widget-view+json": {
       "model_id": "d31cd999492349eaaf4e76aa577fe16a",
       "version_major": 2,
       "version_minor": 0
      },
      "text/plain": [
       "HBox(children=(IntProgress(value=0, max=24), HTML(value='')))"
      ]
     },
     "metadata": {},
     "output_type": "display_data"
    },
    {
     "data": {
      "application/vnd.jupyter.widget-view+json": {
       "model_id": "c53dc63d86e3438aa5c348b77714f3c9",
       "version_major": 2,
       "version_minor": 0
      },
      "text/plain": [
       "HBox(children=(IntProgress(value=0, max=24), HTML(value='')))"
      ]
     },
     "metadata": {},
     "output_type": "display_data"
    },
    {
     "data": {
      "application/vnd.jupyter.widget-view+json": {
       "model_id": "b377ec10746044ef8ee5011154809ba2",
       "version_major": 2,
       "version_minor": 0
      },
      "text/plain": [
       "HBox(children=(IntProgress(value=0, max=24), HTML(value='')))"
      ]
     },
     "metadata": {},
     "output_type": "display_data"
    },
    {
     "data": {
      "application/vnd.jupyter.widget-view+json": {
       "model_id": "0c40966da0fb4b2ea245f7d4f2b716fb",
       "version_major": 2,
       "version_minor": 0
      },
      "text/plain": [
       "HBox(children=(IntProgress(value=0, max=24), HTML(value='')))"
      ]
     },
     "metadata": {},
     "output_type": "display_data"
    },
    {
     "data": {
      "application/vnd.jupyter.widget-view+json": {
       "model_id": "0495d36b37b04754943f717a08253df6",
       "version_major": 2,
       "version_minor": 0
      },
      "text/plain": [
       "HBox(children=(IntProgress(value=0, max=24), HTML(value='')))"
      ]
     },
     "metadata": {},
     "output_type": "display_data"
    },
    {
     "data": {
      "application/vnd.jupyter.widget-view+json": {
       "model_id": "f7bd5f8f455c497bbb1417d673599c06",
       "version_major": 2,
       "version_minor": 0
      },
      "text/plain": [
       "HBox(children=(IntProgress(value=0, max=24), HTML(value='')))"
      ]
     },
     "metadata": {},
     "output_type": "display_data"
    },
    {
     "data": {
      "application/vnd.jupyter.widget-view+json": {
       "model_id": "c690d8b263c8459591dd6289483a3fff",
       "version_major": 2,
       "version_minor": 0
      },
      "text/plain": [
       "HBox(children=(IntProgress(value=0, max=24), HTML(value='')))"
      ]
     },
     "metadata": {},
     "output_type": "display_data"
    },
    {
     "data": {
      "application/vnd.jupyter.widget-view+json": {
       "model_id": "d98f21b407b649388968c35d975062c2",
       "version_major": 2,
       "version_minor": 0
      },
      "text/plain": [
       "HBox(children=(IntProgress(value=0, max=24), HTML(value='')))"
      ]
     },
     "metadata": {},
     "output_type": "display_data"
    },
    {
     "data": {
      "application/vnd.jupyter.widget-view+json": {
       "model_id": "531900bda3424709a3e7072e230a1f6e",
       "version_major": 2,
       "version_minor": 0
      },
      "text/plain": [
       "HBox(children=(IntProgress(value=0, max=24), HTML(value='')))"
      ]
     },
     "metadata": {},
     "output_type": "display_data"
    },
    {
     "data": {
      "application/vnd.jupyter.widget-view+json": {
       "model_id": "ad7109dd4503421cb102e8634fe935fb",
       "version_major": 2,
       "version_minor": 0
      },
      "text/plain": [
       "HBox(children=(IntProgress(value=0, max=24), HTML(value='')))"
      ]
     },
     "metadata": {},
     "output_type": "display_data"
    },
    {
     "data": {
      "application/vnd.jupyter.widget-view+json": {
       "model_id": "ec9545d405bf47bb930629f205e5665d",
       "version_major": 2,
       "version_minor": 0
      },
      "text/plain": [
       "HBox(children=(IntProgress(value=0, max=24), HTML(value='')))"
      ]
     },
     "metadata": {},
     "output_type": "display_data"
    },
    {
     "data": {
      "application/vnd.jupyter.widget-view+json": {
       "model_id": "e4aa60ad803344d485b37fd0ec889174",
       "version_major": 2,
       "version_minor": 0
      },
      "text/plain": [
       "HBox(children=(IntProgress(value=0, max=24), HTML(value='')))"
      ]
     },
     "metadata": {},
     "output_type": "display_data"
    },
    {
     "data": {
      "application/vnd.jupyter.widget-view+json": {
       "model_id": "bc0e5535eb5d42ea89d75950fee5bace",
       "version_major": 2,
       "version_minor": 0
      },
      "text/plain": [
       "HBox(children=(IntProgress(value=0, max=24), HTML(value='')))"
      ]
     },
     "metadata": {},
     "output_type": "display_data"
    },
    {
     "data": {
      "application/vnd.jupyter.widget-view+json": {
       "model_id": "d90c492cc1fc45b786080b8e519517ef",
       "version_major": 2,
       "version_minor": 0
      },
      "text/plain": [
       "HBox(children=(IntProgress(value=0, max=24), HTML(value='')))"
      ]
     },
     "metadata": {},
     "output_type": "display_data"
    },
    {
     "data": {
      "application/vnd.jupyter.widget-view+json": {
       "model_id": "96a93066919749bb847e8204df5f76c0",
       "version_major": 2,
       "version_minor": 0
      },
      "text/plain": [
       "HBox(children=(IntProgress(value=0, max=24), HTML(value='')))"
      ]
     },
     "metadata": {},
     "output_type": "display_data"
    },
    {
     "data": {
      "application/vnd.jupyter.widget-view+json": {
       "model_id": "824594d9b8bb4ff29f1363365d9ef6b1",
       "version_major": 2,
       "version_minor": 0
      },
      "text/plain": [
       "HBox(children=(IntProgress(value=0, max=24), HTML(value='')))"
      ]
     },
     "metadata": {},
     "output_type": "display_data"
    },
    {
     "data": {
      "application/vnd.jupyter.widget-view+json": {
       "model_id": "8b1a1c635b904d6293c08e43ac4aaafb",
       "version_major": 2,
       "version_minor": 0
      },
      "text/plain": [
       "HBox(children=(IntProgress(value=0, max=24), HTML(value='')))"
      ]
     },
     "metadata": {},
     "output_type": "display_data"
    },
    {
     "data": {
      "application/vnd.jupyter.widget-view+json": {
       "model_id": "dfd4b378b8854935a471847fa90bf3db",
       "version_major": 2,
       "version_minor": 0
      },
      "text/plain": [
       "HBox(children=(IntProgress(value=0, max=24), HTML(value='')))"
      ]
     },
     "metadata": {},
     "output_type": "display_data"
    },
    {
     "data": {
      "application/vnd.jupyter.widget-view+json": {
       "model_id": "71d00156c1d3425e8b9527932606d987",
       "version_major": 2,
       "version_minor": 0
      },
      "text/plain": [
       "HBox(children=(IntProgress(value=0, max=24), HTML(value='')))"
      ]
     },
     "metadata": {},
     "output_type": "display_data"
    },
    {
     "data": {
      "application/vnd.jupyter.widget-view+json": {
       "model_id": "086f05bebd9e42e3964e8f48e83b61c4",
       "version_major": 2,
       "version_minor": 0
      },
      "text/plain": [
       "HBox(children=(IntProgress(value=0, max=24), HTML(value='')))"
      ]
     },
     "metadata": {},
     "output_type": "display_data"
    },
    {
     "data": {
      "application/vnd.jupyter.widget-view+json": {
       "model_id": "40ed3320160849cf8b4fae3b017beabe",
       "version_major": 2,
       "version_minor": 0
      },
      "text/plain": [
       "HBox(children=(IntProgress(value=0, max=24), HTML(value='')))"
      ]
     },
     "metadata": {},
     "output_type": "display_data"
    },
    {
     "data": {
      "application/vnd.jupyter.widget-view+json": {
       "model_id": "bb4e152fdad848b396d87fe60031c10b",
       "version_major": 2,
       "version_minor": 0
      },
      "text/plain": [
       "HBox(children=(IntProgress(value=0, max=24), HTML(value='')))"
      ]
     },
     "metadata": {},
     "output_type": "display_data"
    },
    {
     "data": {
      "application/vnd.jupyter.widget-view+json": {
       "model_id": "84b990068faa403d845fcf4dbd2e8914",
       "version_major": 2,
       "version_minor": 0
      },
      "text/plain": [
       "HBox(children=(IntProgress(value=0, max=24), HTML(value='')))"
      ]
     },
     "metadata": {},
     "output_type": "display_data"
    },
    {
     "data": {
      "application/vnd.jupyter.widget-view+json": {
       "model_id": "6a710386dc19482aba841ebb316c8d12",
       "version_major": 2,
       "version_minor": 0
      },
      "text/plain": [
       "HBox(children=(IntProgress(value=0, max=24), HTML(value='')))"
      ]
     },
     "metadata": {},
     "output_type": "display_data"
    },
    {
     "data": {
      "application/vnd.jupyter.widget-view+json": {
       "model_id": "bb15064c8f1c491dbc96a7faf5263c56",
       "version_major": 2,
       "version_minor": 0
      },
      "text/plain": [
       "HBox(children=(IntProgress(value=0, max=24), HTML(value='')))"
      ]
     },
     "metadata": {},
     "output_type": "display_data"
    },
    {
     "data": {
      "application/vnd.jupyter.widget-view+json": {
       "model_id": "b2101426496249d8b17d794cfd9e630c",
       "version_major": 2,
       "version_minor": 0
      },
      "text/plain": [
       "HBox(children=(IntProgress(value=0, max=24), HTML(value='')))"
      ]
     },
     "metadata": {},
     "output_type": "display_data"
    },
    {
     "data": {
      "application/vnd.jupyter.widget-view+json": {
       "model_id": "58bd14e682c847b4b2649dae22526f78",
       "version_major": 2,
       "version_minor": 0
      },
      "text/plain": [
       "HBox(children=(IntProgress(value=0, max=24), HTML(value='')))"
      ]
     },
     "metadata": {},
     "output_type": "display_data"
    },
    {
     "data": {
      "application/vnd.jupyter.widget-view+json": {
       "model_id": "6a906e9ce57b42d381db0c96bd4f53d3",
       "version_major": 2,
       "version_minor": 0
      },
      "text/plain": [
       "HBox(children=(IntProgress(value=0, max=24), HTML(value='')))"
      ]
     },
     "metadata": {},
     "output_type": "display_data"
    },
    {
     "data": {
      "application/vnd.jupyter.widget-view+json": {
       "model_id": "3436391ed8334fd88db1ae51f88d9194",
       "version_major": 2,
       "version_minor": 0
      },
      "text/plain": [
       "HBox(children=(IntProgress(value=0, max=24), HTML(value='')))"
      ]
     },
     "metadata": {},
     "output_type": "display_data"
    },
    {
     "data": {
      "application/vnd.jupyter.widget-view+json": {
       "model_id": "cc0f005b9dd7454f85925d096402d819",
       "version_major": 2,
       "version_minor": 0
      },
      "text/plain": [
       "HBox(children=(IntProgress(value=0, max=24), HTML(value='')))"
      ]
     },
     "metadata": {},
     "output_type": "display_data"
    },
    {
     "data": {
      "application/vnd.jupyter.widget-view+json": {
       "model_id": "770b1832873a4f18b15a6d20d993370b",
       "version_major": 2,
       "version_minor": 0
      },
      "text/plain": [
       "HBox(children=(IntProgress(value=0, max=24), HTML(value='')))"
      ]
     },
     "metadata": {},
     "output_type": "display_data"
    },
    {
     "data": {
      "application/vnd.jupyter.widget-view+json": {
       "model_id": "10933a8b62aa49d29de2510eb81f9c31",
       "version_major": 2,
       "version_minor": 0
      },
      "text/plain": [
       "HBox(children=(IntProgress(value=0, max=24), HTML(value='')))"
      ]
     },
     "metadata": {},
     "output_type": "display_data"
    },
    {
     "data": {
      "application/vnd.jupyter.widget-view+json": {
       "model_id": "95f40a0faf824943b7622b93d49076cb",
       "version_major": 2,
       "version_minor": 0
      },
      "text/plain": [
       "HBox(children=(IntProgress(value=0, max=24), HTML(value='')))"
      ]
     },
     "metadata": {},
     "output_type": "display_data"
    },
    {
     "data": {
      "application/vnd.jupyter.widget-view+json": {
       "model_id": "a822b6816d90419ebab6868d28a271e4",
       "version_major": 2,
       "version_minor": 0
      },
      "text/plain": [
       "HBox(children=(IntProgress(value=0, max=24), HTML(value='')))"
      ]
     },
     "metadata": {},
     "output_type": "display_data"
    },
    {
     "data": {
      "application/vnd.jupyter.widget-view+json": {
       "model_id": "522ad4acfe7a4c49bc98807ade78e050",
       "version_major": 2,
       "version_minor": 0
      },
      "text/plain": [
       "HBox(children=(IntProgress(value=0, max=24), HTML(value='')))"
      ]
     },
     "metadata": {},
     "output_type": "display_data"
    },
    {
     "data": {
      "application/vnd.jupyter.widget-view+json": {
       "model_id": "89f2a8d4dd2a40aebd9a424fba0b40c5",
       "version_major": 2,
       "version_minor": 0
      },
      "text/plain": [
       "HBox(children=(IntProgress(value=0, max=24), HTML(value='')))"
      ]
     },
     "metadata": {},
     "output_type": "display_data"
    },
    {
     "data": {
      "application/vnd.jupyter.widget-view+json": {
       "model_id": "320b12e1f62049c9bb3b36a2298bc988",
       "version_major": 2,
       "version_minor": 0
      },
      "text/plain": [
       "HBox(children=(IntProgress(value=0, max=24), HTML(value='')))"
      ]
     },
     "metadata": {},
     "output_type": "display_data"
    },
    {
     "data": {
      "application/vnd.jupyter.widget-view+json": {
       "model_id": "c85ab77ec28a468385a48780f4bebc93",
       "version_major": 2,
       "version_minor": 0
      },
      "text/plain": [
       "HBox(children=(IntProgress(value=0, max=24), HTML(value='')))"
      ]
     },
     "metadata": {},
     "output_type": "display_data"
    },
    {
     "data": {
      "application/vnd.jupyter.widget-view+json": {
       "model_id": "67aa102d8abb4430b5de6fc7bdb3e2a2",
       "version_major": 2,
       "version_minor": 0
      },
      "text/plain": [
       "HBox(children=(IntProgress(value=0, max=24), HTML(value='')))"
      ]
     },
     "metadata": {},
     "output_type": "display_data"
    },
    {
     "data": {
      "application/vnd.jupyter.widget-view+json": {
       "model_id": "493ff4f22baf4bf3812723ee864c37b1",
       "version_major": 2,
       "version_minor": 0
      },
      "text/plain": [
       "HBox(children=(IntProgress(value=0, max=24), HTML(value='')))"
      ]
     },
     "metadata": {},
     "output_type": "display_data"
    },
    {
     "data": {
      "application/vnd.jupyter.widget-view+json": {
       "model_id": "fffd266ce39e4983a05401150bfa49ec",
       "version_major": 2,
       "version_minor": 0
      },
      "text/plain": [
       "HBox(children=(IntProgress(value=0, max=24), HTML(value='')))"
      ]
     },
     "metadata": {},
     "output_type": "display_data"
    },
    {
     "data": {
      "application/vnd.jupyter.widget-view+json": {
       "model_id": "e424201de15a40e6986346f5bcecdd6c",
       "version_major": 2,
       "version_minor": 0
      },
      "text/plain": [
       "HBox(children=(IntProgress(value=0, max=24), HTML(value='')))"
      ]
     },
     "metadata": {},
     "output_type": "display_data"
    },
    {
     "data": {
      "application/vnd.jupyter.widget-view+json": {
       "model_id": "9828dd7ac59647f3836f2393caf2ac2e",
       "version_major": 2,
       "version_minor": 0
      },
      "text/plain": [
       "HBox(children=(IntProgress(value=0, max=24), HTML(value='')))"
      ]
     },
     "metadata": {},
     "output_type": "display_data"
    },
    {
     "data": {
      "application/vnd.jupyter.widget-view+json": {
       "model_id": "9bdec84d1bb84782bebeb72ed44d5fc3",
       "version_major": 2,
       "version_minor": 0
      },
      "text/plain": [
       "HBox(children=(IntProgress(value=0, max=24), HTML(value='')))"
      ]
     },
     "metadata": {},
     "output_type": "display_data"
    },
    {
     "data": {
      "application/vnd.jupyter.widget-view+json": {
       "model_id": "3d0996a362004dcd87b1d20a557b33e8",
       "version_major": 2,
       "version_minor": 0
      },
      "text/plain": [
       "HBox(children=(IntProgress(value=0, max=24), HTML(value='')))"
      ]
     },
     "metadata": {},
     "output_type": "display_data"
    },
    {
     "data": {
      "application/vnd.jupyter.widget-view+json": {
       "model_id": "05b3bac9ec1c462eba21b53c6c074a12",
       "version_major": 2,
       "version_minor": 0
      },
      "text/plain": [
       "HBox(children=(IntProgress(value=0, max=24), HTML(value='')))"
      ]
     },
     "metadata": {},
     "output_type": "display_data"
    },
    {
     "data": {
      "application/vnd.jupyter.widget-view+json": {
       "model_id": "bde4d3b2b20d4b0b88f660fc9011923a",
       "version_major": 2,
       "version_minor": 0
      },
      "text/plain": [
       "HBox(children=(IntProgress(value=0, max=24), HTML(value='')))"
      ]
     },
     "metadata": {},
     "output_type": "display_data"
    },
    {
     "data": {
      "application/vnd.jupyter.widget-view+json": {
       "model_id": "1ff6006824c94306b3a4a1dcbb67fd3c",
       "version_major": 2,
       "version_minor": 0
      },
      "text/plain": [
       "HBox(children=(IntProgress(value=0, max=24), HTML(value='')))"
      ]
     },
     "metadata": {},
     "output_type": "display_data"
    },
    {
     "data": {
      "application/vnd.jupyter.widget-view+json": {
       "model_id": "aab53059c8aa4bbea3510ef3ef98d36a",
       "version_major": 2,
       "version_minor": 0
      },
      "text/plain": [
       "HBox(children=(IntProgress(value=0, max=24), HTML(value='')))"
      ]
     },
     "metadata": {},
     "output_type": "display_data"
    },
    {
     "data": {
      "application/vnd.jupyter.widget-view+json": {
       "model_id": "8378b84bbae4438b9cdcdab6500d9cfd",
       "version_major": 2,
       "version_minor": 0
      },
      "text/plain": [
       "HBox(children=(IntProgress(value=0, max=24), HTML(value='')))"
      ]
     },
     "metadata": {},
     "output_type": "display_data"
    },
    {
     "data": {
      "application/vnd.jupyter.widget-view+json": {
       "model_id": "ecabd85df5774016bc0460e87d37edc7",
       "version_major": 2,
       "version_minor": 0
      },
      "text/plain": [
       "HBox(children=(IntProgress(value=0, max=24), HTML(value='')))"
      ]
     },
     "metadata": {},
     "output_type": "display_data"
    },
    {
     "data": {
      "application/vnd.jupyter.widget-view+json": {
       "model_id": "20e05511cee94b069fb4686d44f8c408",
       "version_major": 2,
       "version_minor": 0
      },
      "text/plain": [
       "HBox(children=(IntProgress(value=0, max=24), HTML(value='')))"
      ]
     },
     "metadata": {},
     "output_type": "display_data"
    },
    {
     "data": {
      "application/vnd.jupyter.widget-view+json": {
       "model_id": "d7ab5cca816d49e99fc17b5f2d4075a7",
       "version_major": 2,
       "version_minor": 0
      },
      "text/plain": [
       "HBox(children=(IntProgress(value=0, max=24), HTML(value='')))"
      ]
     },
     "metadata": {},
     "output_type": "display_data"
    },
    {
     "data": {
      "application/vnd.jupyter.widget-view+json": {
       "model_id": "4ee024843d9543b397ff4842224a3b36",
       "version_major": 2,
       "version_minor": 0
      },
      "text/plain": [
       "HBox(children=(IntProgress(value=0, max=24), HTML(value='')))"
      ]
     },
     "metadata": {},
     "output_type": "display_data"
    },
    {
     "data": {
      "application/vnd.jupyter.widget-view+json": {
       "model_id": "3bbec08dfcde4628837126f1ba7c8820",
       "version_major": 2,
       "version_minor": 0
      },
      "text/plain": [
       "HBox(children=(IntProgress(value=0, max=24), HTML(value='')))"
      ]
     },
     "metadata": {},
     "output_type": "display_data"
    },
    {
     "data": {
      "application/vnd.jupyter.widget-view+json": {
       "model_id": "2d7858c2aecb4adaa0ac3d34781f1738",
       "version_major": 2,
       "version_minor": 0
      },
      "text/plain": [
       "HBox(children=(IntProgress(value=0, max=24), HTML(value='')))"
      ]
     },
     "metadata": {},
     "output_type": "display_data"
    },
    {
     "data": {
      "application/vnd.jupyter.widget-view+json": {
       "model_id": "414b72b4e70b4737890cf54a2eedd7e3",
       "version_major": 2,
       "version_minor": 0
      },
      "text/plain": [
       "HBox(children=(IntProgress(value=0, max=24), HTML(value='')))"
      ]
     },
     "metadata": {},
     "output_type": "display_data"
    },
    {
     "data": {
      "application/vnd.jupyter.widget-view+json": {
       "model_id": "b1984ebdd76c4a9bb2370c389fcc359c",
       "version_major": 2,
       "version_minor": 0
      },
      "text/plain": [
       "HBox(children=(IntProgress(value=0, max=24), HTML(value='')))"
      ]
     },
     "metadata": {},
     "output_type": "display_data"
    },
    {
     "data": {
      "application/vnd.jupyter.widget-view+json": {
       "model_id": "6ff4fa3b50b449cdb653f778665c54bf",
       "version_major": 2,
       "version_minor": 0
      },
      "text/plain": [
       "HBox(children=(IntProgress(value=0, max=24), HTML(value='')))"
      ]
     },
     "metadata": {},
     "output_type": "display_data"
    },
    {
     "data": {
      "application/vnd.jupyter.widget-view+json": {
       "model_id": "e59411ccf49b43349ef2104c80a7f838",
       "version_major": 2,
       "version_minor": 0
      },
      "text/plain": [
       "HBox(children=(IntProgress(value=0, max=24), HTML(value='')))"
      ]
     },
     "metadata": {},
     "output_type": "display_data"
    },
    {
     "data": {
      "application/vnd.jupyter.widget-view+json": {
       "model_id": "562c83332b0c4524a3935806fa75c20b",
       "version_major": 2,
       "version_minor": 0
      },
      "text/plain": [
       "HBox(children=(IntProgress(value=0, max=24), HTML(value='')))"
      ]
     },
     "metadata": {},
     "output_type": "display_data"
    },
    {
     "data": {
      "application/vnd.jupyter.widget-view+json": {
       "model_id": "898026c4057a49debcce8dfe0ff26dc4",
       "version_major": 2,
       "version_minor": 0
      },
      "text/plain": [
       "HBox(children=(IntProgress(value=0, max=24), HTML(value='')))"
      ]
     },
     "metadata": {},
     "output_type": "display_data"
    },
    {
     "data": {
      "application/vnd.jupyter.widget-view+json": {
       "model_id": "da77731cc7284d8186f220ea3e0e6585",
       "version_major": 2,
       "version_minor": 0
      },
      "text/plain": [
       "HBox(children=(IntProgress(value=0, max=24), HTML(value='')))"
      ]
     },
     "metadata": {},
     "output_type": "display_data"
    },
    {
     "data": {
      "application/vnd.jupyter.widget-view+json": {
       "model_id": "5aa49297a298470f8450989295fb37df",
       "version_major": 2,
       "version_minor": 0
      },
      "text/plain": [
       "HBox(children=(IntProgress(value=0, max=24), HTML(value='')))"
      ]
     },
     "metadata": {},
     "output_type": "display_data"
    },
    {
     "data": {
      "application/vnd.jupyter.widget-view+json": {
       "model_id": "e12e486c142e4031a263c688a61485dd",
       "version_major": 2,
       "version_minor": 0
      },
      "text/plain": [
       "HBox(children=(IntProgress(value=0, max=24), HTML(value='')))"
      ]
     },
     "metadata": {},
     "output_type": "display_data"
    },
    {
     "data": {
      "application/vnd.jupyter.widget-view+json": {
       "model_id": "788973890e0442d2aeb7485eb49a4fcb",
       "version_major": 2,
       "version_minor": 0
      },
      "text/plain": [
       "HBox(children=(IntProgress(value=0, max=24), HTML(value='')))"
      ]
     },
     "metadata": {},
     "output_type": "display_data"
    },
    {
     "data": {
      "application/vnd.jupyter.widget-view+json": {
       "model_id": "66b3c4febb5546208ddf7b681ab6c144",
       "version_major": 2,
       "version_minor": 0
      },
      "text/plain": [
       "HBox(children=(IntProgress(value=0, max=24), HTML(value='')))"
      ]
     },
     "metadata": {},
     "output_type": "display_data"
    },
    {
     "data": {
      "application/vnd.jupyter.widget-view+json": {
       "model_id": "bb4e65bd09b1495eaca7146f16b46032",
       "version_major": 2,
       "version_minor": 0
      },
      "text/plain": [
       "HBox(children=(IntProgress(value=0, max=24), HTML(value='')))"
      ]
     },
     "metadata": {},
     "output_type": "display_data"
    },
    {
     "data": {
      "application/vnd.jupyter.widget-view+json": {
       "model_id": "8f8097f392324489853c1c1446c73151",
       "version_major": 2,
       "version_minor": 0
      },
      "text/plain": [
       "HBox(children=(IntProgress(value=0, max=24), HTML(value='')))"
      ]
     },
     "metadata": {},
     "output_type": "display_data"
    },
    {
     "data": {
      "application/vnd.jupyter.widget-view+json": {
       "model_id": "eef51dc1229a4e11adaa4509f5ec4347",
       "version_major": 2,
       "version_minor": 0
      },
      "text/plain": [
       "HBox(children=(IntProgress(value=0, max=24), HTML(value='')))"
      ]
     },
     "metadata": {},
     "output_type": "display_data"
    },
    {
     "data": {
      "application/vnd.jupyter.widget-view+json": {
       "model_id": "38c33a96053043d487f9a87c14ec4495",
       "version_major": 2,
       "version_minor": 0
      },
      "text/plain": [
       "HBox(children=(IntProgress(value=0, max=24), HTML(value='')))"
      ]
     },
     "metadata": {},
     "output_type": "display_data"
    },
    {
     "data": {
      "application/vnd.jupyter.widget-view+json": {
       "model_id": "2c56ba55d3d14380961515bcbf4b2a73",
       "version_major": 2,
       "version_minor": 0
      },
      "text/plain": [
       "HBox(children=(IntProgress(value=0, max=24), HTML(value='')))"
      ]
     },
     "metadata": {},
     "output_type": "display_data"
    },
    {
     "data": {
      "application/vnd.jupyter.widget-view+json": {
       "model_id": "f4f07cca93154919a237341107f0c150",
       "version_major": 2,
       "version_minor": 0
      },
      "text/plain": [
       "HBox(children=(IntProgress(value=0, max=24), HTML(value='')))"
      ]
     },
     "metadata": {},
     "output_type": "display_data"
    },
    {
     "data": {
      "application/vnd.jupyter.widget-view+json": {
       "model_id": "8209a0dff45c430da7f2983f43d225e5",
       "version_major": 2,
       "version_minor": 0
      },
      "text/plain": [
       "HBox(children=(IntProgress(value=0, max=24), HTML(value='')))"
      ]
     },
     "metadata": {},
     "output_type": "display_data"
    },
    {
     "data": {
      "application/vnd.jupyter.widget-view+json": {
       "model_id": "29f0e6c524e5479088c727293b5d950d",
       "version_major": 2,
       "version_minor": 0
      },
      "text/plain": [
       "HBox(children=(IntProgress(value=0, max=24), HTML(value='')))"
      ]
     },
     "metadata": {},
     "output_type": "display_data"
    },
    {
     "data": {
      "application/vnd.jupyter.widget-view+json": {
       "model_id": "23314e1212f646aa8a0f269066e71f15",
       "version_major": 2,
       "version_minor": 0
      },
      "text/plain": [
       "HBox(children=(IntProgress(value=0, max=24), HTML(value='')))"
      ]
     },
     "metadata": {},
     "output_type": "display_data"
    },
    {
     "data": {
      "application/vnd.jupyter.widget-view+json": {
       "model_id": "9dbaa8b02d7441c5ba4833e98d7cf52f",
       "version_major": 2,
       "version_minor": 0
      },
      "text/plain": [
       "HBox(children=(IntProgress(value=0, max=24), HTML(value='')))"
      ]
     },
     "metadata": {},
     "output_type": "display_data"
    },
    {
     "data": {
      "application/vnd.jupyter.widget-view+json": {
       "model_id": "cf224c5b72e44dc99b26e89684472640",
       "version_major": 2,
       "version_minor": 0
      },
      "text/plain": [
       "HBox(children=(IntProgress(value=0, max=24), HTML(value='')))"
      ]
     },
     "metadata": {},
     "output_type": "display_data"
    },
    {
     "data": {
      "application/vnd.jupyter.widget-view+json": {
       "model_id": "e341e2977b724c5e82c6a28840dca1fe",
       "version_major": 2,
       "version_minor": 0
      },
      "text/plain": [
       "HBox(children=(IntProgress(value=0, max=24), HTML(value='')))"
      ]
     },
     "metadata": {},
     "output_type": "display_data"
    },
    {
     "data": {
      "application/vnd.jupyter.widget-view+json": {
       "model_id": "3a99fd7a132f4c238cd08b8e92fe58a1",
       "version_major": 2,
       "version_minor": 0
      },
      "text/plain": [
       "HBox(children=(IntProgress(value=0, max=24), HTML(value='')))"
      ]
     },
     "metadata": {},
     "output_type": "display_data"
    },
    {
     "data": {
      "application/vnd.jupyter.widget-view+json": {
       "model_id": "a435c1ec03284bf5a81c4946ae234170",
       "version_major": 2,
       "version_minor": 0
      },
      "text/plain": [
       "HBox(children=(IntProgress(value=0, max=24), HTML(value='')))"
      ]
     },
     "metadata": {},
     "output_type": "display_data"
    },
    {
     "data": {
      "application/vnd.jupyter.widget-view+json": {
       "model_id": "f9a6362b9bef4e9eb50d610211247348",
       "version_major": 2,
       "version_minor": 0
      },
      "text/plain": [
       "HBox(children=(IntProgress(value=0, max=24), HTML(value='')))"
      ]
     },
     "metadata": {},
     "output_type": "display_data"
    },
    {
     "data": {
      "application/vnd.jupyter.widget-view+json": {
       "model_id": "55473f8182a24fbdab345e7e13e9deda",
       "version_major": 2,
       "version_minor": 0
      },
      "text/plain": [
       "HBox(children=(IntProgress(value=0, max=24), HTML(value='')))"
      ]
     },
     "metadata": {},
     "output_type": "display_data"
    },
    {
     "data": {
      "application/vnd.jupyter.widget-view+json": {
       "model_id": "624289ed98034398a1a78f63e612b48f",
       "version_major": 2,
       "version_minor": 0
      },
      "text/plain": [
       "HBox(children=(IntProgress(value=0, max=24), HTML(value='')))"
      ]
     },
     "metadata": {},
     "output_type": "display_data"
    },
    {
     "data": {
      "application/vnd.jupyter.widget-view+json": {
       "model_id": "995767af8bb24c9483214d1c0a96ce09",
       "version_major": 2,
       "version_minor": 0
      },
      "text/plain": [
       "HBox(children=(IntProgress(value=0, max=24), HTML(value='')))"
      ]
     },
     "metadata": {},
     "output_type": "display_data"
    },
    {
     "data": {
      "application/vnd.jupyter.widget-view+json": {
       "model_id": "f7c8821493e7447bb59e6b5f7ab731d6",
       "version_major": 2,
       "version_minor": 0
      },
      "text/plain": [
       "HBox(children=(IntProgress(value=0, max=24), HTML(value='')))"
      ]
     },
     "metadata": {},
     "output_type": "display_data"
    },
    {
     "data": {
      "application/vnd.jupyter.widget-view+json": {
       "model_id": "21f3e82d6ddb441491ec822d9ef346cf",
       "version_major": 2,
       "version_minor": 0
      },
      "text/plain": [
       "HBox(children=(IntProgress(value=0, max=24), HTML(value='')))"
      ]
     },
     "metadata": {},
     "output_type": "display_data"
    },
    {
     "data": {
      "application/vnd.jupyter.widget-view+json": {
       "model_id": "11f63f10502e448186b68173ce04967a",
       "version_major": 2,
       "version_minor": 0
      },
      "text/plain": [
       "HBox(children=(IntProgress(value=0, max=24), HTML(value='')))"
      ]
     },
     "metadata": {},
     "output_type": "display_data"
    },
    {
     "data": {
      "application/vnd.jupyter.widget-view+json": {
       "model_id": "de236aa35e964718bee6995b70c45275",
       "version_major": 2,
       "version_minor": 0
      },
      "text/plain": [
       "HBox(children=(IntProgress(value=0, max=24), HTML(value='')))"
      ]
     },
     "metadata": {},
     "output_type": "display_data"
    },
    {
     "data": {
      "application/vnd.jupyter.widget-view+json": {
       "model_id": "113dd90613d24ec4875bbcdc87b5149e",
       "version_major": 2,
       "version_minor": 0
      },
      "text/plain": [
       "HBox(children=(IntProgress(value=0, max=24), HTML(value='')))"
      ]
     },
     "metadata": {},
     "output_type": "display_data"
    },
    {
     "data": {
      "application/vnd.jupyter.widget-view+json": {
       "model_id": "3158aa1f479e44c583ae26e233812311",
       "version_major": 2,
       "version_minor": 0
      },
      "text/plain": [
       "HBox(children=(IntProgress(value=0, max=24), HTML(value='')))"
      ]
     },
     "metadata": {},
     "output_type": "display_data"
    },
    {
     "data": {
      "application/vnd.jupyter.widget-view+json": {
       "model_id": "64a5d420171d4414813fa30636261ef0",
       "version_major": 2,
       "version_minor": 0
      },
      "text/plain": [
       "HBox(children=(IntProgress(value=0, max=24), HTML(value='')))"
      ]
     },
     "metadata": {},
     "output_type": "display_data"
    },
    {
     "data": {
      "application/vnd.jupyter.widget-view+json": {
       "model_id": "b82ffe496e844fc483b3b32ba2cbc273",
       "version_major": 2,
       "version_minor": 0
      },
      "text/plain": [
       "HBox(children=(IntProgress(value=0, max=24), HTML(value='')))"
      ]
     },
     "metadata": {},
     "output_type": "display_data"
    },
    {
     "data": {
      "application/vnd.jupyter.widget-view+json": {
       "model_id": "fd9fef4eb8434547a2c81eac2c1c101d",
       "version_major": 2,
       "version_minor": 0
      },
      "text/plain": [
       "HBox(children=(IntProgress(value=0, max=24), HTML(value='')))"
      ]
     },
     "metadata": {},
     "output_type": "display_data"
    },
    {
     "data": {
      "application/vnd.jupyter.widget-view+json": {
       "model_id": "fc6dc1c28d4542fd98ecc2e0f6420efb",
       "version_major": 2,
       "version_minor": 0
      },
      "text/plain": [
       "HBox(children=(IntProgress(value=0, max=24), HTML(value='')))"
      ]
     },
     "metadata": {},
     "output_type": "display_data"
    },
    {
     "data": {
      "application/vnd.jupyter.widget-view+json": {
       "model_id": "ad152bdd584949d79c26b5b5db4445ad",
       "version_major": 2,
       "version_minor": 0
      },
      "text/plain": [
       "HBox(children=(IntProgress(value=0, max=24), HTML(value='')))"
      ]
     },
     "metadata": {},
     "output_type": "display_data"
    },
    {
     "data": {
      "application/vnd.jupyter.widget-view+json": {
       "model_id": "63c769db5d0d47309e8f74720e1bb6d5",
       "version_major": 2,
       "version_minor": 0
      },
      "text/plain": [
       "HBox(children=(IntProgress(value=0, max=24), HTML(value='')))"
      ]
     },
     "metadata": {},
     "output_type": "display_data"
    },
    {
     "data": {
      "application/vnd.jupyter.widget-view+json": {
       "model_id": "3e71aa45c2d74347a3166b30bb33cf1c",
       "version_major": 2,
       "version_minor": 0
      },
      "text/plain": [
       "HBox(children=(IntProgress(value=0, max=24), HTML(value='')))"
      ]
     },
     "metadata": {},
     "output_type": "display_data"
    },
    {
     "data": {
      "application/vnd.jupyter.widget-view+json": {
       "model_id": "b8f0aebf9beb4b58bc851bb7b4f70be4",
       "version_major": 2,
       "version_minor": 0
      },
      "text/plain": [
       "HBox(children=(IntProgress(value=0, max=24), HTML(value='')))"
      ]
     },
     "metadata": {},
     "output_type": "display_data"
    },
    {
     "data": {
      "application/vnd.jupyter.widget-view+json": {
       "model_id": "fc35ae853db3411db54022dcc9050c17",
       "version_major": 2,
       "version_minor": 0
      },
      "text/plain": [
       "HBox(children=(IntProgress(value=0, max=24), HTML(value='')))"
      ]
     },
     "metadata": {},
     "output_type": "display_data"
    },
    {
     "data": {
      "application/vnd.jupyter.widget-view+json": {
       "model_id": "65f8b357b0c9442d805a438b2a10de4b",
       "version_major": 2,
       "version_minor": 0
      },
      "text/plain": [
       "HBox(children=(IntProgress(value=0, max=24), HTML(value='')))"
      ]
     },
     "metadata": {},
     "output_type": "display_data"
    },
    {
     "data": {
      "application/vnd.jupyter.widget-view+json": {
       "model_id": "3955d0e99b58481db16d1c582097e5d1",
       "version_major": 2,
       "version_minor": 0
      },
      "text/plain": [
       "HBox(children=(IntProgress(value=0, max=24), HTML(value='')))"
      ]
     },
     "metadata": {},
     "output_type": "display_data"
    },
    {
     "data": {
      "application/vnd.jupyter.widget-view+json": {
       "model_id": "e1f2ca67e0ec401fab15552edb272b91",
       "version_major": 2,
       "version_minor": 0
      },
      "text/plain": [
       "HBox(children=(IntProgress(value=0, max=24), HTML(value='')))"
      ]
     },
     "metadata": {},
     "output_type": "display_data"
    },
    {
     "data": {
      "application/vnd.jupyter.widget-view+json": {
       "model_id": "4df9f54a186444ffbc111176ef5dd687",
       "version_major": 2,
       "version_minor": 0
      },
      "text/plain": [
       "HBox(children=(IntProgress(value=0, max=24), HTML(value='')))"
      ]
     },
     "metadata": {},
     "output_type": "display_data"
    },
    {
     "data": {
      "application/vnd.jupyter.widget-view+json": {
       "model_id": "34ed2fa44db649228882e9d1bd2f6606",
       "version_major": 2,
       "version_minor": 0
      },
      "text/plain": [
       "HBox(children=(IntProgress(value=0, max=24), HTML(value='')))"
      ]
     },
     "metadata": {},
     "output_type": "display_data"
    },
    {
     "data": {
      "application/vnd.jupyter.widget-view+json": {
       "model_id": "33789a6d193d46f681ad797bfa402027",
       "version_major": 2,
       "version_minor": 0
      },
      "text/plain": [
       "HBox(children=(IntProgress(value=0, max=24), HTML(value='')))"
      ]
     },
     "metadata": {},
     "output_type": "display_data"
    },
    {
     "data": {
      "application/vnd.jupyter.widget-view+json": {
       "model_id": "51f0f44ce5924cb283f4dcf20d00aa92",
       "version_major": 2,
       "version_minor": 0
      },
      "text/plain": [
       "HBox(children=(IntProgress(value=0, max=24), HTML(value='')))"
      ]
     },
     "metadata": {},
     "output_type": "display_data"
    },
    {
     "data": {
      "application/vnd.jupyter.widget-view+json": {
       "model_id": "860bae7e02e7484786e5df14ba6e02dd",
       "version_major": 2,
       "version_minor": 0
      },
      "text/plain": [
       "HBox(children=(IntProgress(value=0, max=24), HTML(value='')))"
      ]
     },
     "metadata": {},
     "output_type": "display_data"
    },
    {
     "data": {
      "application/vnd.jupyter.widget-view+json": {
       "model_id": "3a2d35670bba4be8b0578558e82192c4",
       "version_major": 2,
       "version_minor": 0
      },
      "text/plain": [
       "HBox(children=(IntProgress(value=0, max=24), HTML(value='')))"
      ]
     },
     "metadata": {},
     "output_type": "display_data"
    },
    {
     "data": {
      "application/vnd.jupyter.widget-view+json": {
       "model_id": "fb6c640a3e694ab3997e826a620ccfb1",
       "version_major": 2,
       "version_minor": 0
      },
      "text/plain": [
       "HBox(children=(IntProgress(value=0, max=24), HTML(value='')))"
      ]
     },
     "metadata": {},
     "output_type": "display_data"
    },
    {
     "data": {
      "application/vnd.jupyter.widget-view+json": {
       "model_id": "517d184540a24ba5a5611453fa71e6db",
       "version_major": 2,
       "version_minor": 0
      },
      "text/plain": [
       "HBox(children=(IntProgress(value=0, max=24), HTML(value='')))"
      ]
     },
     "metadata": {},
     "output_type": "display_data"
    },
    {
     "data": {
      "application/vnd.jupyter.widget-view+json": {
       "model_id": "d8453c897baa454e8de53b5e276c520d",
       "version_major": 2,
       "version_minor": 0
      },
      "text/plain": [
       "HBox(children=(IntProgress(value=0, max=24), HTML(value='')))"
      ]
     },
     "metadata": {},
     "output_type": "display_data"
    },
    {
     "data": {
      "application/vnd.jupyter.widget-view+json": {
       "model_id": "90b22de667b24d289ef1064f79c8df39",
       "version_major": 2,
       "version_minor": 0
      },
      "text/plain": [
       "HBox(children=(IntProgress(value=0, max=24), HTML(value='')))"
      ]
     },
     "metadata": {},
     "output_type": "display_data"
    },
    {
     "data": {
      "application/vnd.jupyter.widget-view+json": {
       "model_id": "73a3e31ba19048e7833ef705dfa7dae2",
       "version_major": 2,
       "version_minor": 0
      },
      "text/plain": [
       "HBox(children=(IntProgress(value=0, max=24), HTML(value='')))"
      ]
     },
     "metadata": {},
     "output_type": "display_data"
    },
    {
     "data": {
      "application/vnd.jupyter.widget-view+json": {
       "model_id": "50d2bff646114fe88b3a1133966446ac",
       "version_major": 2,
       "version_minor": 0
      },
      "text/plain": [
       "HBox(children=(IntProgress(value=0, max=24), HTML(value='')))"
      ]
     },
     "metadata": {},
     "output_type": "display_data"
    },
    {
     "data": {
      "application/vnd.jupyter.widget-view+json": {
       "model_id": "9cbf20283bb24424bd177dffeb882f7f",
       "version_major": 2,
       "version_minor": 0
      },
      "text/plain": [
       "HBox(children=(IntProgress(value=0, max=24), HTML(value='')))"
      ]
     },
     "metadata": {},
     "output_type": "display_data"
    },
    {
     "data": {
      "application/vnd.jupyter.widget-view+json": {
       "model_id": "0751e4a344a34a118e2dad5f09b36af1",
       "version_major": 2,
       "version_minor": 0
      },
      "text/plain": [
       "HBox(children=(IntProgress(value=0, max=24), HTML(value='')))"
      ]
     },
     "metadata": {},
     "output_type": "display_data"
    },
    {
     "data": {
      "application/vnd.jupyter.widget-view+json": {
       "model_id": "2875ec49ccfc4324bc2fbe573908b6d8",
       "version_major": 2,
       "version_minor": 0
      },
      "text/plain": [
       "HBox(children=(IntProgress(value=0, max=24), HTML(value='')))"
      ]
     },
     "metadata": {},
     "output_type": "display_data"
    },
    {
     "data": {
      "application/vnd.jupyter.widget-view+json": {
       "model_id": "beb8dc15c4eb48a785926539990fa58e",
       "version_major": 2,
       "version_minor": 0
      },
      "text/plain": [
       "HBox(children=(IntProgress(value=0, max=24), HTML(value='')))"
      ]
     },
     "metadata": {},
     "output_type": "display_data"
    },
    {
     "data": {
      "application/vnd.jupyter.widget-view+json": {
       "model_id": "4dac6c23d2fa471d84b012423e8616ef",
       "version_major": 2,
       "version_minor": 0
      },
      "text/plain": [
       "HBox(children=(IntProgress(value=0, max=24), HTML(value='')))"
      ]
     },
     "metadata": {},
     "output_type": "display_data"
    },
    {
     "data": {
      "application/vnd.jupyter.widget-view+json": {
       "model_id": "91b9e173b2fc40229f97ea772177833c",
       "version_major": 2,
       "version_minor": 0
      },
      "text/plain": [
       "HBox(children=(IntProgress(value=0, max=24), HTML(value='')))"
      ]
     },
     "metadata": {},
     "output_type": "display_data"
    },
    {
     "data": {
      "application/vnd.jupyter.widget-view+json": {
       "model_id": "53602d29122b4764b8bf837ff3be3737",
       "version_major": 2,
       "version_minor": 0
      },
      "text/plain": [
       "HBox(children=(IntProgress(value=0, max=24), HTML(value='')))"
      ]
     },
     "metadata": {},
     "output_type": "display_data"
    },
    {
     "data": {
      "application/vnd.jupyter.widget-view+json": {
       "model_id": "7d9bc765d41741a688c987866375157d",
       "version_major": 2,
       "version_minor": 0
      },
      "text/plain": [
       "HBox(children=(IntProgress(value=0, max=24), HTML(value='')))"
      ]
     },
     "metadata": {},
     "output_type": "display_data"
    },
    {
     "data": {
      "application/vnd.jupyter.widget-view+json": {
       "model_id": "3822234750fe437dbdab69a93c829139",
       "version_major": 2,
       "version_minor": 0
      },
      "text/plain": [
       "HBox(children=(IntProgress(value=0, max=24), HTML(value='')))"
      ]
     },
     "metadata": {},
     "output_type": "display_data"
    },
    {
     "data": {
      "application/vnd.jupyter.widget-view+json": {
       "model_id": "3a29be2ff26245a485cd38cc744f2226",
       "version_major": 2,
       "version_minor": 0
      },
      "text/plain": [
       "HBox(children=(IntProgress(value=0, max=24), HTML(value='')))"
      ]
     },
     "metadata": {},
     "output_type": "display_data"
    },
    {
     "data": {
      "application/vnd.jupyter.widget-view+json": {
       "model_id": "d0e3ffc0b32a4b32a71502d57299cb64",
       "version_major": 2,
       "version_minor": 0
      },
      "text/plain": [
       "HBox(children=(IntProgress(value=0, max=24), HTML(value='')))"
      ]
     },
     "metadata": {},
     "output_type": "display_data"
    },
    {
     "data": {
      "application/vnd.jupyter.widget-view+json": {
       "model_id": "a866ef8c91c24e789f9ec37b2c68bb67",
       "version_major": 2,
       "version_minor": 0
      },
      "text/plain": [
       "HBox(children=(IntProgress(value=0, max=24), HTML(value='')))"
      ]
     },
     "metadata": {},
     "output_type": "display_data"
    },
    {
     "data": {
      "application/vnd.jupyter.widget-view+json": {
       "model_id": "26be1a073e3646d19a70fb9c9d6162e9",
       "version_major": 2,
       "version_minor": 0
      },
      "text/plain": [
       "HBox(children=(IntProgress(value=0, max=24), HTML(value='')))"
      ]
     },
     "metadata": {},
     "output_type": "display_data"
    },
    {
     "data": {
      "application/vnd.jupyter.widget-view+json": {
       "model_id": "fb630db9bf8b45ce927bfca2bfbad41c",
       "version_major": 2,
       "version_minor": 0
      },
      "text/plain": [
       "HBox(children=(IntProgress(value=0, max=24), HTML(value='')))"
      ]
     },
     "metadata": {},
     "output_type": "display_data"
    },
    {
     "data": {
      "application/vnd.jupyter.widget-view+json": {
       "model_id": "e2987b64d574462bad37573034ce776b",
       "version_major": 2,
       "version_minor": 0
      },
      "text/plain": [
       "HBox(children=(IntProgress(value=0, max=24), HTML(value='')))"
      ]
     },
     "metadata": {},
     "output_type": "display_data"
    },
    {
     "data": {
      "application/vnd.jupyter.widget-view+json": {
       "model_id": "8bf08ce79427473389464d71b54e4ef0",
       "version_major": 2,
       "version_minor": 0
      },
      "text/plain": [
       "HBox(children=(IntProgress(value=0, max=24), HTML(value='')))"
      ]
     },
     "metadata": {},
     "output_type": "display_data"
    },
    {
     "data": {
      "application/vnd.jupyter.widget-view+json": {
       "model_id": "072fc7a419b84fc399c89f343895284f",
       "version_major": 2,
       "version_minor": 0
      },
      "text/plain": [
       "HBox(children=(IntProgress(value=0, max=24), HTML(value='')))"
      ]
     },
     "metadata": {},
     "output_type": "display_data"
    },
    {
     "data": {
      "application/vnd.jupyter.widget-view+json": {
       "model_id": "f13a271441a04b4fad5b537960ea33f5",
       "version_major": 2,
       "version_minor": 0
      },
      "text/plain": [
       "HBox(children=(IntProgress(value=0, max=24), HTML(value='')))"
      ]
     },
     "metadata": {},
     "output_type": "display_data"
    },
    {
     "data": {
      "application/vnd.jupyter.widget-view+json": {
       "model_id": "0f7f048e15a54925be22e9a152de5978",
       "version_major": 2,
       "version_minor": 0
      },
      "text/plain": [
       "HBox(children=(IntProgress(value=0, max=24), HTML(value='')))"
      ]
     },
     "metadata": {},
     "output_type": "display_data"
    },
    {
     "data": {
      "application/vnd.jupyter.widget-view+json": {
       "model_id": "2a2570d079484b7aa1180b3389592eec",
       "version_major": 2,
       "version_minor": 0
      },
      "text/plain": [
       "HBox(children=(IntProgress(value=0, max=24), HTML(value='')))"
      ]
     },
     "metadata": {},
     "output_type": "display_data"
    },
    {
     "data": {
      "application/vnd.jupyter.widget-view+json": {
       "model_id": "2e560b11ffae439387bf474b415b8f22",
       "version_major": 2,
       "version_minor": 0
      },
      "text/plain": [
       "HBox(children=(IntProgress(value=0, max=24), HTML(value='')))"
      ]
     },
     "metadata": {},
     "output_type": "display_data"
    },
    {
     "data": {
      "application/vnd.jupyter.widget-view+json": {
       "model_id": "04c40ad098f34b63bfb3aad0149388eb",
       "version_major": 2,
       "version_minor": 0
      },
      "text/plain": [
       "HBox(children=(IntProgress(value=0, max=24), HTML(value='')))"
      ]
     },
     "metadata": {},
     "output_type": "display_data"
    },
    {
     "data": {
      "application/vnd.jupyter.widget-view+json": {
       "model_id": "c041471457d14726b5f8c893d7551e09",
       "version_major": 2,
       "version_minor": 0
      },
      "text/plain": [
       "HBox(children=(IntProgress(value=0, max=24), HTML(value='')))"
      ]
     },
     "metadata": {},
     "output_type": "display_data"
    },
    {
     "data": {
      "application/vnd.jupyter.widget-view+json": {
       "model_id": "90e83724686c4d229af91a730f489638",
       "version_major": 2,
       "version_minor": 0
      },
      "text/plain": [
       "HBox(children=(IntProgress(value=0, max=24), HTML(value='')))"
      ]
     },
     "metadata": {},
     "output_type": "display_data"
    },
    {
     "data": {
      "application/vnd.jupyter.widget-view+json": {
       "model_id": "dbc6fdb0fbc2416e9f2ec6e6202fe0be",
       "version_major": 2,
       "version_minor": 0
      },
      "text/plain": [
       "HBox(children=(IntProgress(value=0, max=24), HTML(value='')))"
      ]
     },
     "metadata": {},
     "output_type": "display_data"
    },
    {
     "data": {
      "application/vnd.jupyter.widget-view+json": {
       "model_id": "fec0788e9f6642cc8ea9d82b2d13d85e",
       "version_major": 2,
       "version_minor": 0
      },
      "text/plain": [
       "HBox(children=(IntProgress(value=0, max=24), HTML(value='')))"
      ]
     },
     "metadata": {},
     "output_type": "display_data"
    },
    {
     "data": {
      "application/vnd.jupyter.widget-view+json": {
       "model_id": "f629eeb66b5f4f8f923ed15d2db70835",
       "version_major": 2,
       "version_minor": 0
      },
      "text/plain": [
       "HBox(children=(IntProgress(value=0, max=24), HTML(value='')))"
      ]
     },
     "metadata": {},
     "output_type": "display_data"
    },
    {
     "data": {
      "application/vnd.jupyter.widget-view+json": {
       "model_id": "7267117bb13546aa8ac26460a227c91f",
       "version_major": 2,
       "version_minor": 0
      },
      "text/plain": [
       "HBox(children=(IntProgress(value=0, max=24), HTML(value='')))"
      ]
     },
     "metadata": {},
     "output_type": "display_data"
    },
    {
     "data": {
      "application/vnd.jupyter.widget-view+json": {
       "model_id": "306422dab7da40d6885712fdac9a9d61",
       "version_major": 2,
       "version_minor": 0
      },
      "text/plain": [
       "HBox(children=(IntProgress(value=0, max=24), HTML(value='')))"
      ]
     },
     "metadata": {},
     "output_type": "display_data"
    },
    {
     "data": {
      "application/vnd.jupyter.widget-view+json": {
       "model_id": "ce9f296520bd400fb8c3f9964519ebbe",
       "version_major": 2,
       "version_minor": 0
      },
      "text/plain": [
       "HBox(children=(IntProgress(value=0, max=24), HTML(value='')))"
      ]
     },
     "metadata": {},
     "output_type": "display_data"
    },
    {
     "data": {
      "application/vnd.jupyter.widget-view+json": {
       "model_id": "7731167b438f46c6b07526209f0dfeb4",
       "version_major": 2,
       "version_minor": 0
      },
      "text/plain": [
       "HBox(children=(IntProgress(value=0, max=24), HTML(value='')))"
      ]
     },
     "metadata": {},
     "output_type": "display_data"
    },
    {
     "data": {
      "application/vnd.jupyter.widget-view+json": {
       "model_id": "71fdd1f84689464a924d2e0585c1def5",
       "version_major": 2,
       "version_minor": 0
      },
      "text/plain": [
       "HBox(children=(IntProgress(value=0, max=24), HTML(value='')))"
      ]
     },
     "metadata": {},
     "output_type": "display_data"
    },
    {
     "data": {
      "application/vnd.jupyter.widget-view+json": {
       "model_id": "de111458d18b4d40943e23f043edda94",
       "version_major": 2,
       "version_minor": 0
      },
      "text/plain": [
       "HBox(children=(IntProgress(value=0, max=24), HTML(value='')))"
      ]
     },
     "metadata": {},
     "output_type": "display_data"
    },
    {
     "data": {
      "application/vnd.jupyter.widget-view+json": {
       "model_id": "2597df924ac14807ab4e7426146b32eb",
       "version_major": 2,
       "version_minor": 0
      },
      "text/plain": [
       "HBox(children=(IntProgress(value=0, max=24), HTML(value='')))"
      ]
     },
     "metadata": {},
     "output_type": "display_data"
    },
    {
     "data": {
      "application/vnd.jupyter.widget-view+json": {
       "model_id": "9b533029a0974a50bacf0b33ba3e3a04",
       "version_major": 2,
       "version_minor": 0
      },
      "text/plain": [
       "HBox(children=(IntProgress(value=0, max=24), HTML(value='')))"
      ]
     },
     "metadata": {},
     "output_type": "display_data"
    },
    {
     "data": {
      "application/vnd.jupyter.widget-view+json": {
       "model_id": "6cfca9d1232f43ddad8ad4dc7f5df75f",
       "version_major": 2,
       "version_minor": 0
      },
      "text/plain": [
       "HBox(children=(IntProgress(value=0, max=24), HTML(value='')))"
      ]
     },
     "metadata": {},
     "output_type": "display_data"
    },
    {
     "data": {
      "application/vnd.jupyter.widget-view+json": {
       "model_id": "17637a1386bf4f4da8ede56671fc22ea",
       "version_major": 2,
       "version_minor": 0
      },
      "text/plain": [
       "HBox(children=(IntProgress(value=0, max=24), HTML(value='')))"
      ]
     },
     "metadata": {},
     "output_type": "display_data"
    },
    {
     "data": {
      "application/vnd.jupyter.widget-view+json": {
       "model_id": "dc69e1067b874a23ad9d879b54658985",
       "version_major": 2,
       "version_minor": 0
      },
      "text/plain": [
       "HBox(children=(IntProgress(value=0, max=24), HTML(value='')))"
      ]
     },
     "metadata": {},
     "output_type": "display_data"
    },
    {
     "data": {
      "application/vnd.jupyter.widget-view+json": {
       "model_id": "9094c13559544573bc153dc0b48c769c",
       "version_major": 2,
       "version_minor": 0
      },
      "text/plain": [
       "HBox(children=(IntProgress(value=0, max=24), HTML(value='')))"
      ]
     },
     "metadata": {},
     "output_type": "display_data"
    },
    {
     "data": {
      "application/vnd.jupyter.widget-view+json": {
       "model_id": "690b1821978041a487d3bca6c1394667",
       "version_major": 2,
       "version_minor": 0
      },
      "text/plain": [
       "HBox(children=(IntProgress(value=0, max=24), HTML(value='')))"
      ]
     },
     "metadata": {},
     "output_type": "display_data"
    },
    {
     "data": {
      "application/vnd.jupyter.widget-view+json": {
       "model_id": "e1fef16b03cd44569bdaade3fd999712",
       "version_major": 2,
       "version_minor": 0
      },
      "text/plain": [
       "HBox(children=(IntProgress(value=0, max=24), HTML(value='')))"
      ]
     },
     "metadata": {},
     "output_type": "display_data"
    },
    {
     "data": {
      "application/vnd.jupyter.widget-view+json": {
       "model_id": "01015a8562624046a859386cbb85f2d7",
       "version_major": 2,
       "version_minor": 0
      },
      "text/plain": [
       "HBox(children=(IntProgress(value=0, max=24), HTML(value='')))"
      ]
     },
     "metadata": {},
     "output_type": "display_data"
    },
    {
     "data": {
      "application/vnd.jupyter.widget-view+json": {
       "model_id": "bb0036eebd2f4cbeadc5ffcaf304da94",
       "version_major": 2,
       "version_minor": 0
      },
      "text/plain": [
       "HBox(children=(IntProgress(value=0, max=24), HTML(value='')))"
      ]
     },
     "metadata": {},
     "output_type": "display_data"
    },
    {
     "data": {
      "application/vnd.jupyter.widget-view+json": {
       "model_id": "0b7b28d0479c4d5db0e3c43acb314110",
       "version_major": 2,
       "version_minor": 0
      },
      "text/plain": [
       "HBox(children=(IntProgress(value=0, max=24), HTML(value='')))"
      ]
     },
     "metadata": {},
     "output_type": "display_data"
    },
    {
     "data": {
      "application/vnd.jupyter.widget-view+json": {
       "model_id": "7fd87dd342ae467a8ccce354d22eeadd",
       "version_major": 2,
       "version_minor": 0
      },
      "text/plain": [
       "HBox(children=(IntProgress(value=0, max=24), HTML(value='')))"
      ]
     },
     "metadata": {},
     "output_type": "display_data"
    },
    {
     "data": {
      "application/vnd.jupyter.widget-view+json": {
       "model_id": "515a0e82b95446ba86131e8b21626739",
       "version_major": 2,
       "version_minor": 0
      },
      "text/plain": [
       "HBox(children=(IntProgress(value=0, max=24), HTML(value='')))"
      ]
     },
     "metadata": {},
     "output_type": "display_data"
    },
    {
     "data": {
      "application/vnd.jupyter.widget-view+json": {
       "model_id": "c9fe384ed176463f8ab0165c4288e389",
       "version_major": 2,
       "version_minor": 0
      },
      "text/plain": [
       "HBox(children=(IntProgress(value=0, max=24), HTML(value='')))"
      ]
     },
     "metadata": {},
     "output_type": "display_data"
    },
    {
     "data": {
      "application/vnd.jupyter.widget-view+json": {
       "model_id": "483543527cb747fca8aa19d7f6096537",
       "version_major": 2,
       "version_minor": 0
      },
      "text/plain": [
       "HBox(children=(IntProgress(value=0, max=24), HTML(value='')))"
      ]
     },
     "metadata": {},
     "output_type": "display_data"
    },
    {
     "data": {
      "application/vnd.jupyter.widget-view+json": {
       "model_id": "129e8de2e52e4ca3a04030a9ffdbe4dd",
       "version_major": 2,
       "version_minor": 0
      },
      "text/plain": [
       "HBox(children=(IntProgress(value=0, max=24), HTML(value='')))"
      ]
     },
     "metadata": {},
     "output_type": "display_data"
    },
    {
     "data": {
      "application/vnd.jupyter.widget-view+json": {
       "model_id": "35fae9c066e9475b97955f7ea67efdcf",
       "version_major": 2,
       "version_minor": 0
      },
      "text/plain": [
       "HBox(children=(IntProgress(value=0, max=24), HTML(value='')))"
      ]
     },
     "metadata": {},
     "output_type": "display_data"
    },
    {
     "data": {
      "application/vnd.jupyter.widget-view+json": {
       "model_id": "d6be74d976044e2393c53e2c2f446988",
       "version_major": 2,
       "version_minor": 0
      },
      "text/plain": [
       "HBox(children=(IntProgress(value=0, max=24), HTML(value='')))"
      ]
     },
     "metadata": {},
     "output_type": "display_data"
    },
    {
     "data": {
      "application/vnd.jupyter.widget-view+json": {
       "model_id": "01b6d55fcc54497fa761f34842e035b6",
       "version_major": 2,
       "version_minor": 0
      },
      "text/plain": [
       "HBox(children=(IntProgress(value=0, max=24), HTML(value='')))"
      ]
     },
     "metadata": {},
     "output_type": "display_data"
    },
    {
     "data": {
      "application/vnd.jupyter.widget-view+json": {
       "model_id": "5de899173da746f9863d5c8382bf723e",
       "version_major": 2,
       "version_minor": 0
      },
      "text/plain": [
       "HBox(children=(IntProgress(value=0, max=24), HTML(value='')))"
      ]
     },
     "metadata": {},
     "output_type": "display_data"
    },
    {
     "data": {
      "application/vnd.jupyter.widget-view+json": {
       "model_id": "9a0a1fb5ebbc45c489a086fbbe590a66",
       "version_major": 2,
       "version_minor": 0
      },
      "text/plain": [
       "HBox(children=(IntProgress(value=0, max=24), HTML(value='')))"
      ]
     },
     "metadata": {},
     "output_type": "display_data"
    },
    {
     "data": {
      "application/vnd.jupyter.widget-view+json": {
       "model_id": "8cf7262f67fb4cf28157c5a35218138e",
       "version_major": 2,
       "version_minor": 0
      },
      "text/plain": [
       "HBox(children=(IntProgress(value=0, max=24), HTML(value='')))"
      ]
     },
     "metadata": {},
     "output_type": "display_data"
    },
    {
     "data": {
      "application/vnd.jupyter.widget-view+json": {
       "model_id": "a7bd9aa8951845eaae7cc794b6c3ec99",
       "version_major": 2,
       "version_minor": 0
      },
      "text/plain": [
       "HBox(children=(IntProgress(value=0, max=24), HTML(value='')))"
      ]
     },
     "metadata": {},
     "output_type": "display_data"
    },
    {
     "data": {
      "application/vnd.jupyter.widget-view+json": {
       "model_id": "f77238c2dcaa4f25bd6917bff28acebd",
       "version_major": 2,
       "version_minor": 0
      },
      "text/plain": [
       "HBox(children=(IntProgress(value=0, max=24), HTML(value='')))"
      ]
     },
     "metadata": {},
     "output_type": "display_data"
    },
    {
     "data": {
      "application/vnd.jupyter.widget-view+json": {
       "model_id": "4546ed4e18d14974a65bcb659cbd063b",
       "version_major": 2,
       "version_minor": 0
      },
      "text/plain": [
       "HBox(children=(IntProgress(value=0, max=24), HTML(value='')))"
      ]
     },
     "metadata": {},
     "output_type": "display_data"
    },
    {
     "data": {
      "application/vnd.jupyter.widget-view+json": {
       "model_id": "d62f98d7f6e04ac1a64a29d193269531",
       "version_major": 2,
       "version_minor": 0
      },
      "text/plain": [
       "HBox(children=(IntProgress(value=0, max=24), HTML(value='')))"
      ]
     },
     "metadata": {},
     "output_type": "display_data"
    },
    {
     "data": {
      "application/vnd.jupyter.widget-view+json": {
       "model_id": "063670d7a6424b14a6ad79eed08f865c",
       "version_major": 2,
       "version_minor": 0
      },
      "text/plain": [
       "HBox(children=(IntProgress(value=0, max=24), HTML(value='')))"
      ]
     },
     "metadata": {},
     "output_type": "display_data"
    },
    {
     "data": {
      "application/vnd.jupyter.widget-view+json": {
       "model_id": "9cb3c8c23f5e4f1d913a541951290284",
       "version_major": 2,
       "version_minor": 0
      },
      "text/plain": [
       "HBox(children=(IntProgress(value=0, max=24), HTML(value='')))"
      ]
     },
     "metadata": {},
     "output_type": "display_data"
    },
    {
     "data": {
      "application/vnd.jupyter.widget-view+json": {
       "model_id": "89590bbfd2b74442bfb0fd7af3602b22",
       "version_major": 2,
       "version_minor": 0
      },
      "text/plain": [
       "HBox(children=(IntProgress(value=0, max=24), HTML(value='')))"
      ]
     },
     "metadata": {},
     "output_type": "display_data"
    },
    {
     "data": {
      "application/vnd.jupyter.widget-view+json": {
       "model_id": "9053aa39a9f34c7a9ad4123e4ad7eec3",
       "version_major": 2,
       "version_minor": 0
      },
      "text/plain": [
       "HBox(children=(IntProgress(value=0, max=24), HTML(value='')))"
      ]
     },
     "metadata": {},
     "output_type": "display_data"
    },
    {
     "data": {
      "application/vnd.jupyter.widget-view+json": {
       "model_id": "99cfa95821204770b9cb2f0d60609a9c",
       "version_major": 2,
       "version_minor": 0
      },
      "text/plain": [
       "HBox(children=(IntProgress(value=0, max=24), HTML(value='')))"
      ]
     },
     "metadata": {},
     "output_type": "display_data"
    },
    {
     "data": {
      "application/vnd.jupyter.widget-view+json": {
       "model_id": "a3b3ba9b5af64736a9f6adce676e5b17",
       "version_major": 2,
       "version_minor": 0
      },
      "text/plain": [
       "HBox(children=(IntProgress(value=0, max=24), HTML(value='')))"
      ]
     },
     "metadata": {},
     "output_type": "display_data"
    },
    {
     "data": {
      "application/vnd.jupyter.widget-view+json": {
       "model_id": "2d6a384dd1984f2184b5f97ad7347005",
       "version_major": 2,
       "version_minor": 0
      },
      "text/plain": [
       "HBox(children=(IntProgress(value=0, max=24), HTML(value='')))"
      ]
     },
     "metadata": {},
     "output_type": "display_data"
    },
    {
     "data": {
      "application/vnd.jupyter.widget-view+json": {
       "model_id": "4756a12bde4d40a88ac2492c0bbb9d51",
       "version_major": 2,
       "version_minor": 0
      },
      "text/plain": [
       "HBox(children=(IntProgress(value=0, max=24), HTML(value='')))"
      ]
     },
     "metadata": {},
     "output_type": "display_data"
    },
    {
     "data": {
      "application/vnd.jupyter.widget-view+json": {
       "model_id": "486f700649cb4064af4c16780e66b278",
       "version_major": 2,
       "version_minor": 0
      },
      "text/plain": [
       "HBox(children=(IntProgress(value=0, max=24), HTML(value='')))"
      ]
     },
     "metadata": {},
     "output_type": "display_data"
    },
    {
     "data": {
      "application/vnd.jupyter.widget-view+json": {
       "model_id": "3f145a148cc44d458d95bf91f6dc4776",
       "version_major": 2,
       "version_minor": 0
      },
      "text/plain": [
       "HBox(children=(IntProgress(value=0, max=24), HTML(value='')))"
      ]
     },
     "metadata": {},
     "output_type": "display_data"
    },
    {
     "data": {
      "application/vnd.jupyter.widget-view+json": {
       "model_id": "083db5b4bc784b459137e3e5432f24f4",
       "version_major": 2,
       "version_minor": 0
      },
      "text/plain": [
       "HBox(children=(IntProgress(value=0, max=24), HTML(value='')))"
      ]
     },
     "metadata": {},
     "output_type": "display_data"
    },
    {
     "data": {
      "application/vnd.jupyter.widget-view+json": {
       "model_id": "40906d40c370470ab3530de8493f397d",
       "version_major": 2,
       "version_minor": 0
      },
      "text/plain": [
       "HBox(children=(IntProgress(value=0, max=24), HTML(value='')))"
      ]
     },
     "metadata": {},
     "output_type": "display_data"
    },
    {
     "data": {
      "application/vnd.jupyter.widget-view+json": {
       "model_id": "3e006e81026a447c87872aead0a9345f",
       "version_major": 2,
       "version_minor": 0
      },
      "text/plain": [
       "HBox(children=(IntProgress(value=0, max=24), HTML(value='')))"
      ]
     },
     "metadata": {},
     "output_type": "display_data"
    },
    {
     "data": {
      "application/vnd.jupyter.widget-view+json": {
       "model_id": "2c7cd81ffbc7459c8f162a712a28cc92",
       "version_major": 2,
       "version_minor": 0
      },
      "text/plain": [
       "HBox(children=(IntProgress(value=0, max=24), HTML(value='')))"
      ]
     },
     "metadata": {},
     "output_type": "display_data"
    },
    {
     "data": {
      "application/vnd.jupyter.widget-view+json": {
       "model_id": "2fc320e8baae4aad9a223da4f1ce97a4",
       "version_major": 2,
       "version_minor": 0
      },
      "text/plain": [
       "HBox(children=(IntProgress(value=0, max=24), HTML(value='')))"
      ]
     },
     "metadata": {},
     "output_type": "display_data"
    },
    {
     "data": {
      "application/vnd.jupyter.widget-view+json": {
       "model_id": "3add75f5926449b08297fdd87c64211b",
       "version_major": 2,
       "version_minor": 0
      },
      "text/plain": [
       "HBox(children=(IntProgress(value=0, max=24), HTML(value='')))"
      ]
     },
     "metadata": {},
     "output_type": "display_data"
    },
    {
     "data": {
      "application/vnd.jupyter.widget-view+json": {
       "model_id": "40b22a47bb744f97be1e75212da4e48a",
       "version_major": 2,
       "version_minor": 0
      },
      "text/plain": [
       "HBox(children=(IntProgress(value=0, max=24), HTML(value='')))"
      ]
     },
     "metadata": {},
     "output_type": "display_data"
    },
    {
     "data": {
      "application/vnd.jupyter.widget-view+json": {
       "model_id": "5aeb943f93ff49afb60fa5328040393e",
       "version_major": 2,
       "version_minor": 0
      },
      "text/plain": [
       "HBox(children=(IntProgress(value=0, max=24), HTML(value='')))"
      ]
     },
     "metadata": {},
     "output_type": "display_data"
    },
    {
     "data": {
      "application/vnd.jupyter.widget-view+json": {
       "model_id": "a954f6fb68e84768b7735b83d8019ff4",
       "version_major": 2,
       "version_minor": 0
      },
      "text/plain": [
       "HBox(children=(IntProgress(value=0, max=24), HTML(value='')))"
      ]
     },
     "metadata": {},
     "output_type": "display_data"
    },
    {
     "data": {
      "application/vnd.jupyter.widget-view+json": {
       "model_id": "bfd0f2f7d6d9444a95483511871c6736",
       "version_major": 2,
       "version_minor": 0
      },
      "text/plain": [
       "HBox(children=(IntProgress(value=0, max=24), HTML(value='')))"
      ]
     },
     "metadata": {},
     "output_type": "display_data"
    },
    {
     "data": {
      "application/vnd.jupyter.widget-view+json": {
       "model_id": "8e06d46e0a0d4989b73718edd7fadda7",
       "version_major": 2,
       "version_minor": 0
      },
      "text/plain": [
       "HBox(children=(IntProgress(value=0, max=24), HTML(value='')))"
      ]
     },
     "metadata": {},
     "output_type": "display_data"
    },
    {
     "data": {
      "application/vnd.jupyter.widget-view+json": {
       "model_id": "294c9291a96d48dda6be0454e531ca5a",
       "version_major": 2,
       "version_minor": 0
      },
      "text/plain": [
       "HBox(children=(IntProgress(value=0, max=24), HTML(value='')))"
      ]
     },
     "metadata": {},
     "output_type": "display_data"
    },
    {
     "data": {
      "application/vnd.jupyter.widget-view+json": {
       "model_id": "13ed5c803bbb4bacb80e396c29b77cde",
       "version_major": 2,
       "version_minor": 0
      },
      "text/plain": [
       "HBox(children=(IntProgress(value=0, max=24), HTML(value='')))"
      ]
     },
     "metadata": {},
     "output_type": "display_data"
    },
    {
     "data": {
      "application/vnd.jupyter.widget-view+json": {
       "model_id": "da582b3cd8824c85920ed1b7d5b1f904",
       "version_major": 2,
       "version_minor": 0
      },
      "text/plain": [
       "HBox(children=(IntProgress(value=0, max=24), HTML(value='')))"
      ]
     },
     "metadata": {},
     "output_type": "display_data"
    },
    {
     "data": {
      "application/vnd.jupyter.widget-view+json": {
       "model_id": "629b646af8e54043b972518448a89758",
       "version_major": 2,
       "version_minor": 0
      },
      "text/plain": [
       "HBox(children=(IntProgress(value=0, max=24), HTML(value='')))"
      ]
     },
     "metadata": {},
     "output_type": "display_data"
    },
    {
     "data": {
      "application/vnd.jupyter.widget-view+json": {
       "model_id": "8665d43b740241398036d28131b58c0b",
       "version_major": 2,
       "version_minor": 0
      },
      "text/plain": [
       "HBox(children=(IntProgress(value=0, max=24), HTML(value='')))"
      ]
     },
     "metadata": {},
     "output_type": "display_data"
    },
    {
     "data": {
      "application/vnd.jupyter.widget-view+json": {
       "model_id": "db1cb907c7a94557b1b5e4a1a6df1514",
       "version_major": 2,
       "version_minor": 0
      },
      "text/plain": [
       "HBox(children=(IntProgress(value=0, max=24), HTML(value='')))"
      ]
     },
     "metadata": {},
     "output_type": "display_data"
    },
    {
     "data": {
      "application/vnd.jupyter.widget-view+json": {
       "model_id": "8c0200466b1748c7b978d5fe4a6451bb",
       "version_major": 2,
       "version_minor": 0
      },
      "text/plain": [
       "HBox(children=(IntProgress(value=0, max=24), HTML(value='')))"
      ]
     },
     "metadata": {},
     "output_type": "display_data"
    },
    {
     "data": {
      "application/vnd.jupyter.widget-view+json": {
       "model_id": "83d926e982ea452581d0b0e2570a9edc",
       "version_major": 2,
       "version_minor": 0
      },
      "text/plain": [
       "HBox(children=(IntProgress(value=0, max=24), HTML(value='')))"
      ]
     },
     "metadata": {},
     "output_type": "display_data"
    },
    {
     "data": {
      "application/vnd.jupyter.widget-view+json": {
       "model_id": "1e276feeb5e448a585f1881c3653fda0",
       "version_major": 2,
       "version_minor": 0
      },
      "text/plain": [
       "HBox(children=(IntProgress(value=0, max=24), HTML(value='')))"
      ]
     },
     "metadata": {},
     "output_type": "display_data"
    },
    {
     "data": {
      "application/vnd.jupyter.widget-view+json": {
       "model_id": "9669ad76979e4f0797ecef94a0a00657",
       "version_major": 2,
       "version_minor": 0
      },
      "text/plain": [
       "HBox(children=(IntProgress(value=0, max=24), HTML(value='')))"
      ]
     },
     "metadata": {},
     "output_type": "display_data"
    },
    {
     "data": {
      "application/vnd.jupyter.widget-view+json": {
       "model_id": "7a62fe79545d47629df712478449d37b",
       "version_major": 2,
       "version_minor": 0
      },
      "text/plain": [
       "HBox(children=(IntProgress(value=0, max=24), HTML(value='')))"
      ]
     },
     "metadata": {},
     "output_type": "display_data"
    },
    {
     "data": {
      "application/vnd.jupyter.widget-view+json": {
       "model_id": "ffa8dc02474c4b48beda3b1bbec32b29",
       "version_major": 2,
       "version_minor": 0
      },
      "text/plain": [
       "HBox(children=(IntProgress(value=0, max=24), HTML(value='')))"
      ]
     },
     "metadata": {},
     "output_type": "display_data"
    },
    {
     "data": {
      "application/vnd.jupyter.widget-view+json": {
       "model_id": "3569da1505e14333a5009b50b298ebef",
       "version_major": 2,
       "version_minor": 0
      },
      "text/plain": [
       "HBox(children=(IntProgress(value=0, max=24), HTML(value='')))"
      ]
     },
     "metadata": {},
     "output_type": "display_data"
    },
    {
     "data": {
      "application/vnd.jupyter.widget-view+json": {
       "model_id": "4bf841b00b5146ceb82692f10cd2ccd4",
       "version_major": 2,
       "version_minor": 0
      },
      "text/plain": [
       "HBox(children=(IntProgress(value=0, max=24), HTML(value='')))"
      ]
     },
     "metadata": {},
     "output_type": "display_data"
    },
    {
     "data": {
      "application/vnd.jupyter.widget-view+json": {
       "model_id": "701116d3d1dd46a5b6b757dbdf9e3286",
       "version_major": 2,
       "version_minor": 0
      },
      "text/plain": [
       "HBox(children=(IntProgress(value=0, max=24), HTML(value='')))"
      ]
     },
     "metadata": {},
     "output_type": "display_data"
    },
    {
     "data": {
      "application/vnd.jupyter.widget-view+json": {
       "model_id": "9f621dc65de5424e9e3062bcdbc383b7",
       "version_major": 2,
       "version_minor": 0
      },
      "text/plain": [
       "HBox(children=(IntProgress(value=0, max=24), HTML(value='')))"
      ]
     },
     "metadata": {},
     "output_type": "display_data"
    },
    {
     "data": {
      "application/vnd.jupyter.widget-view+json": {
       "model_id": "7f929b8a64044a90841ec456a75b20b1",
       "version_major": 2,
       "version_minor": 0
      },
      "text/plain": [
       "HBox(children=(IntProgress(value=0, max=24), HTML(value='')))"
      ]
     },
     "metadata": {},
     "output_type": "display_data"
    },
    {
     "data": {
      "application/vnd.jupyter.widget-view+json": {
       "model_id": "8cd006aa481240d3977c72455a1496f9",
       "version_major": 2,
       "version_minor": 0
      },
      "text/plain": [
       "HBox(children=(IntProgress(value=0, max=24), HTML(value='')))"
      ]
     },
     "metadata": {},
     "output_type": "display_data"
    },
    {
     "data": {
      "application/vnd.jupyter.widget-view+json": {
       "model_id": "7f9cd412388746e594efb2198c90de0d",
       "version_major": 2,
       "version_minor": 0
      },
      "text/plain": [
       "HBox(children=(IntProgress(value=0, max=24), HTML(value='')))"
      ]
     },
     "metadata": {},
     "output_type": "display_data"
    },
    {
     "data": {
      "application/vnd.jupyter.widget-view+json": {
       "model_id": "60f3620808ce4572abcddf1389ccf924",
       "version_major": 2,
       "version_minor": 0
      },
      "text/plain": [
       "HBox(children=(IntProgress(value=0, max=24), HTML(value='')))"
      ]
     },
     "metadata": {},
     "output_type": "display_data"
    },
    {
     "data": {
      "application/vnd.jupyter.widget-view+json": {
       "model_id": "4c4c9fa245824c4289d202341161b44c",
       "version_major": 2,
       "version_minor": 0
      },
      "text/plain": [
       "HBox(children=(IntProgress(value=0, max=24), HTML(value='')))"
      ]
     },
     "metadata": {},
     "output_type": "display_data"
    },
    {
     "data": {
      "application/vnd.jupyter.widget-view+json": {
       "model_id": "aa5d8c98ad714d5b9f17ba0a59c7b426",
       "version_major": 2,
       "version_minor": 0
      },
      "text/plain": [
       "HBox(children=(IntProgress(value=0, max=24), HTML(value='')))"
      ]
     },
     "metadata": {},
     "output_type": "display_data"
    },
    {
     "data": {
      "application/vnd.jupyter.widget-view+json": {
       "model_id": "6e69c71be1424ce2872edb28f60a0d79",
       "version_major": 2,
       "version_minor": 0
      },
      "text/plain": [
       "HBox(children=(IntProgress(value=0, max=24), HTML(value='')))"
      ]
     },
     "metadata": {},
     "output_type": "display_data"
    },
    {
     "data": {
      "application/vnd.jupyter.widget-view+json": {
       "model_id": "2b5f0bb583834e0bb0e560c65f5b0ae0",
       "version_major": 2,
       "version_minor": 0
      },
      "text/plain": [
       "HBox(children=(IntProgress(value=0, max=24), HTML(value='')))"
      ]
     },
     "metadata": {},
     "output_type": "display_data"
    },
    {
     "data": {
      "application/vnd.jupyter.widget-view+json": {
       "model_id": "2e117eda43824589ae4d16323fa24ba4",
       "version_major": 2,
       "version_minor": 0
      },
      "text/plain": [
       "HBox(children=(IntProgress(value=0, max=24), HTML(value='')))"
      ]
     },
     "metadata": {},
     "output_type": "display_data"
    },
    {
     "data": {
      "application/vnd.jupyter.widget-view+json": {
       "model_id": "7bfd01ed93c34d148d213bf918dfe4cd",
       "version_major": 2,
       "version_minor": 0
      },
      "text/plain": [
       "HBox(children=(IntProgress(value=0, max=24), HTML(value='')))"
      ]
     },
     "metadata": {},
     "output_type": "display_data"
    },
    {
     "data": {
      "application/vnd.jupyter.widget-view+json": {
       "model_id": "99290cac03e04922a304737667485b77",
       "version_major": 2,
       "version_minor": 0
      },
      "text/plain": [
       "HBox(children=(IntProgress(value=0, max=24), HTML(value='')))"
      ]
     },
     "metadata": {},
     "output_type": "display_data"
    },
    {
     "data": {
      "application/vnd.jupyter.widget-view+json": {
       "model_id": "a46f8a02eac240a780418f50bcb05f9a",
       "version_major": 2,
       "version_minor": 0
      },
      "text/plain": [
       "HBox(children=(IntProgress(value=0, max=24), HTML(value='')))"
      ]
     },
     "metadata": {},
     "output_type": "display_data"
    },
    {
     "data": {
      "application/vnd.jupyter.widget-view+json": {
       "model_id": "da3d7985cb584147a57638ca3e83a731",
       "version_major": 2,
       "version_minor": 0
      },
      "text/plain": [
       "HBox(children=(IntProgress(value=0, max=24), HTML(value='')))"
      ]
     },
     "metadata": {},
     "output_type": "display_data"
    },
    {
     "data": {
      "application/vnd.jupyter.widget-view+json": {
       "model_id": "a9382fc3cc4247618cc49ec2d4b1022a",
       "version_major": 2,
       "version_minor": 0
      },
      "text/plain": [
       "HBox(children=(IntProgress(value=0, max=24), HTML(value='')))"
      ]
     },
     "metadata": {},
     "output_type": "display_data"
    },
    {
     "data": {
      "application/vnd.jupyter.widget-view+json": {
       "model_id": "bb0b292bbeb5460289ad68b83955588a",
       "version_major": 2,
       "version_minor": 0
      },
      "text/plain": [
       "HBox(children=(IntProgress(value=0, max=24), HTML(value='')))"
      ]
     },
     "metadata": {},
     "output_type": "display_data"
    },
    {
     "data": {
      "application/vnd.jupyter.widget-view+json": {
       "model_id": "2cdb8499a3a343f0a9c678de19ed1f18",
       "version_major": 2,
       "version_minor": 0
      },
      "text/plain": [
       "HBox(children=(IntProgress(value=0, max=24), HTML(value='')))"
      ]
     },
     "metadata": {},
     "output_type": "display_data"
    },
    {
     "data": {
      "application/vnd.jupyter.widget-view+json": {
       "model_id": "b88fa146f66048978d0c2f86458991e2",
       "version_major": 2,
       "version_minor": 0
      },
      "text/plain": [
       "HBox(children=(IntProgress(value=0, max=24), HTML(value='')))"
      ]
     },
     "metadata": {},
     "output_type": "display_data"
    },
    {
     "data": {
      "application/vnd.jupyter.widget-view+json": {
       "model_id": "a3c409f9f3764b019159f46c83cce523",
       "version_major": 2,
       "version_minor": 0
      },
      "text/plain": [
       "HBox(children=(IntProgress(value=0, max=24), HTML(value='')))"
      ]
     },
     "metadata": {},
     "output_type": "display_data"
    },
    {
     "data": {
      "application/vnd.jupyter.widget-view+json": {
       "model_id": "14b9e47f5cbf4ba9a44088048a4240a0",
       "version_major": 2,
       "version_minor": 0
      },
      "text/plain": [
       "HBox(children=(IntProgress(value=0, max=24), HTML(value='')))"
      ]
     },
     "metadata": {},
     "output_type": "display_data"
    },
    {
     "data": {
      "application/vnd.jupyter.widget-view+json": {
       "model_id": "5315643d40024da6af4ac253b8b9ee19",
       "version_major": 2,
       "version_minor": 0
      },
      "text/plain": [
       "HBox(children=(IntProgress(value=0, max=24), HTML(value='')))"
      ]
     },
     "metadata": {},
     "output_type": "display_data"
    },
    {
     "data": {
      "application/vnd.jupyter.widget-view+json": {
       "model_id": "5bf7781030414f95814be4093e9c2c1f",
       "version_major": 2,
       "version_minor": 0
      },
      "text/plain": [
       "HBox(children=(IntProgress(value=0, max=24), HTML(value='')))"
      ]
     },
     "metadata": {},
     "output_type": "display_data"
    },
    {
     "data": {
      "application/vnd.jupyter.widget-view+json": {
       "model_id": "a59cd22bde7348e8aac8c7412f87d8c1",
       "version_major": 2,
       "version_minor": 0
      },
      "text/plain": [
       "HBox(children=(IntProgress(value=0, max=24), HTML(value='')))"
      ]
     },
     "metadata": {},
     "output_type": "display_data"
    },
    {
     "data": {
      "application/vnd.jupyter.widget-view+json": {
       "model_id": "bd0dd05a6e9f485d8a5d09dc011b3f65",
       "version_major": 2,
       "version_minor": 0
      },
      "text/plain": [
       "HBox(children=(IntProgress(value=0, max=24), HTML(value='')))"
      ]
     },
     "metadata": {},
     "output_type": "display_data"
    },
    {
     "data": {
      "application/vnd.jupyter.widget-view+json": {
       "model_id": "529ac6f9b7714e7ca6dd4c3908f84e1e",
       "version_major": 2,
       "version_minor": 0
      },
      "text/plain": [
       "HBox(children=(IntProgress(value=0, max=24), HTML(value='')))"
      ]
     },
     "metadata": {},
     "output_type": "display_data"
    },
    {
     "data": {
      "application/vnd.jupyter.widget-view+json": {
       "model_id": "e00e89844e674564b0b196941ea343a8",
       "version_major": 2,
       "version_minor": 0
      },
      "text/plain": [
       "HBox(children=(IntProgress(value=0, max=24), HTML(value='')))"
      ]
     },
     "metadata": {},
     "output_type": "display_data"
    },
    {
     "data": {
      "application/vnd.jupyter.widget-view+json": {
       "model_id": "8880031861ad4e9da9abb8a388597c8c",
       "version_major": 2,
       "version_minor": 0
      },
      "text/plain": [
       "HBox(children=(IntProgress(value=0, max=24), HTML(value='')))"
      ]
     },
     "metadata": {},
     "output_type": "display_data"
    },
    {
     "data": {
      "application/vnd.jupyter.widget-view+json": {
       "model_id": "d5e8db391e314f819dd42dd33c1c0c37",
       "version_major": 2,
       "version_minor": 0
      },
      "text/plain": [
       "HBox(children=(IntProgress(value=0, max=24), HTML(value='')))"
      ]
     },
     "metadata": {},
     "output_type": "display_data"
    },
    {
     "data": {
      "application/vnd.jupyter.widget-view+json": {
       "model_id": "a9c3d0162fd54aad97dc039d66f62bba",
       "version_major": 2,
       "version_minor": 0
      },
      "text/plain": [
       "HBox(children=(IntProgress(value=0, max=24), HTML(value='')))"
      ]
     },
     "metadata": {},
     "output_type": "display_data"
    },
    {
     "data": {
      "application/vnd.jupyter.widget-view+json": {
       "model_id": "e85257b3c6584f3d8b5785fbb92a4906",
       "version_major": 2,
       "version_minor": 0
      },
      "text/plain": [
       "HBox(children=(IntProgress(value=0, max=24), HTML(value='')))"
      ]
     },
     "metadata": {},
     "output_type": "display_data"
    },
    {
     "data": {
      "application/vnd.jupyter.widget-view+json": {
       "model_id": "07a6b762d949406b8a07a147330ed922",
       "version_major": 2,
       "version_minor": 0
      },
      "text/plain": [
       "HBox(children=(IntProgress(value=0, max=24), HTML(value='')))"
      ]
     },
     "metadata": {},
     "output_type": "display_data"
    },
    {
     "data": {
      "application/vnd.jupyter.widget-view+json": {
       "model_id": "da95ebada2d2499ebbf1813b90595c81",
       "version_major": 2,
       "version_minor": 0
      },
      "text/plain": [
       "HBox(children=(IntProgress(value=0, max=24), HTML(value='')))"
      ]
     },
     "metadata": {},
     "output_type": "display_data"
    },
    {
     "data": {
      "application/vnd.jupyter.widget-view+json": {
       "model_id": "af2002d0b9534018af3bf3d7bd10fe5d",
       "version_major": 2,
       "version_minor": 0
      },
      "text/plain": [
       "HBox(children=(IntProgress(value=0, max=24), HTML(value='')))"
      ]
     },
     "metadata": {},
     "output_type": "display_data"
    },
    {
     "data": {
      "application/vnd.jupyter.widget-view+json": {
       "model_id": "7896346299064a229aa8a5e0d288464a",
       "version_major": 2,
       "version_minor": 0
      },
      "text/plain": [
       "HBox(children=(IntProgress(value=0, max=24), HTML(value='')))"
      ]
     },
     "metadata": {},
     "output_type": "display_data"
    },
    {
     "data": {
      "application/vnd.jupyter.widget-view+json": {
       "model_id": "1475a5269b484992b699d3d95e5d7dc6",
       "version_major": 2,
       "version_minor": 0
      },
      "text/plain": [
       "HBox(children=(IntProgress(value=0, max=24), HTML(value='')))"
      ]
     },
     "metadata": {},
     "output_type": "display_data"
    },
    {
     "data": {
      "application/vnd.jupyter.widget-view+json": {
       "model_id": "02a7f3e55e4e45e09073dbfcade615db",
       "version_major": 2,
       "version_minor": 0
      },
      "text/plain": [
       "HBox(children=(IntProgress(value=0, max=24), HTML(value='')))"
      ]
     },
     "metadata": {},
     "output_type": "display_data"
    },
    {
     "data": {
      "application/vnd.jupyter.widget-view+json": {
       "model_id": "bf6f984aab1c48ac95b36e7535e6cd52",
       "version_major": 2,
       "version_minor": 0
      },
      "text/plain": [
       "HBox(children=(IntProgress(value=0, max=24), HTML(value='')))"
      ]
     },
     "metadata": {},
     "output_type": "display_data"
    },
    {
     "data": {
      "application/vnd.jupyter.widget-view+json": {
       "model_id": "c22b5f7cd4da4d39bff149d787c17838",
       "version_major": 2,
       "version_minor": 0
      },
      "text/plain": [
       "HBox(children=(IntProgress(value=0, max=24), HTML(value='')))"
      ]
     },
     "metadata": {},
     "output_type": "display_data"
    },
    {
     "data": {
      "application/vnd.jupyter.widget-view+json": {
       "model_id": "ffe4f3c114ca4ddab5fb62bbeaaa3d4a",
       "version_major": 2,
       "version_minor": 0
      },
      "text/plain": [
       "HBox(children=(IntProgress(value=0, max=24), HTML(value='')))"
      ]
     },
     "metadata": {},
     "output_type": "display_data"
    },
    {
     "data": {
      "application/vnd.jupyter.widget-view+json": {
       "model_id": "bd3e1fca36d94d4c96dcd0d6a683871c",
       "version_major": 2,
       "version_minor": 0
      },
      "text/plain": [
       "HBox(children=(IntProgress(value=0, max=24), HTML(value='')))"
      ]
     },
     "metadata": {},
     "output_type": "display_data"
    },
    {
     "data": {
      "application/vnd.jupyter.widget-view+json": {
       "model_id": "5732ac5c666e455eae5eb607175e2d7b",
       "version_major": 2,
       "version_minor": 0
      },
      "text/plain": [
       "HBox(children=(IntProgress(value=0, max=24), HTML(value='')))"
      ]
     },
     "metadata": {},
     "output_type": "display_data"
    },
    {
     "data": {
      "application/vnd.jupyter.widget-view+json": {
       "model_id": "9cd0bebf0b68468ebfba6e0151651ed2",
       "version_major": 2,
       "version_minor": 0
      },
      "text/plain": [
       "HBox(children=(IntProgress(value=0, max=24), HTML(value='')))"
      ]
     },
     "metadata": {},
     "output_type": "display_data"
    },
    {
     "data": {
      "application/vnd.jupyter.widget-view+json": {
       "model_id": "e1eeb1f52dad4ed184884592773b181e",
       "version_major": 2,
       "version_minor": 0
      },
      "text/plain": [
       "HBox(children=(IntProgress(value=0, max=24), HTML(value='')))"
      ]
     },
     "metadata": {},
     "output_type": "display_data"
    },
    {
     "data": {
      "application/vnd.jupyter.widget-view+json": {
       "model_id": "84a1a53316b742afb1492f8bcc849482",
       "version_major": 2,
       "version_minor": 0
      },
      "text/plain": [
       "HBox(children=(IntProgress(value=0, max=24), HTML(value='')))"
      ]
     },
     "metadata": {},
     "output_type": "display_data"
    },
    {
     "data": {
      "application/vnd.jupyter.widget-view+json": {
       "model_id": "41677a6a95e146d99ead8c4326cdb136",
       "version_major": 2,
       "version_minor": 0
      },
      "text/plain": [
       "HBox(children=(IntProgress(value=0, max=24), HTML(value='')))"
      ]
     },
     "metadata": {},
     "output_type": "display_data"
    },
    {
     "data": {
      "application/vnd.jupyter.widget-view+json": {
       "model_id": "3446c4bdb79d4efa89615cf1d59f66e2",
       "version_major": 2,
       "version_minor": 0
      },
      "text/plain": [
       "HBox(children=(IntProgress(value=0, max=24), HTML(value='')))"
      ]
     },
     "metadata": {},
     "output_type": "display_data"
    },
    {
     "data": {
      "application/vnd.jupyter.widget-view+json": {
       "model_id": "dcaa5e617b8845b1bd9eb4525944b469",
       "version_major": 2,
       "version_minor": 0
      },
      "text/plain": [
       "HBox(children=(IntProgress(value=0, max=24), HTML(value='')))"
      ]
     },
     "metadata": {},
     "output_type": "display_data"
    },
    {
     "data": {
      "application/vnd.jupyter.widget-view+json": {
       "model_id": "2c7364da539943e786a1b44442828f50",
       "version_major": 2,
       "version_minor": 0
      },
      "text/plain": [
       "HBox(children=(IntProgress(value=0, max=24), HTML(value='')))"
      ]
     },
     "metadata": {},
     "output_type": "display_data"
    },
    {
     "data": {
      "application/vnd.jupyter.widget-view+json": {
       "model_id": "dc00eace65ae41c6bad34200a2d7269e",
       "version_major": 2,
       "version_minor": 0
      },
      "text/plain": [
       "HBox(children=(IntProgress(value=0, max=24), HTML(value='')))"
      ]
     },
     "metadata": {},
     "output_type": "display_data"
    },
    {
     "data": {
      "application/vnd.jupyter.widget-view+json": {
       "model_id": "0ea4a536b556437b9115b4eb30e6c0f4",
       "version_major": 2,
       "version_minor": 0
      },
      "text/plain": [
       "HBox(children=(IntProgress(value=0, max=24), HTML(value='')))"
      ]
     },
     "metadata": {},
     "output_type": "display_data"
    },
    {
     "data": {
      "application/vnd.jupyter.widget-view+json": {
       "model_id": "2570c94ed6174c4d9e83be7d8ed91db6",
       "version_major": 2,
       "version_minor": 0
      },
      "text/plain": [
       "HBox(children=(IntProgress(value=0, max=24), HTML(value='')))"
      ]
     },
     "metadata": {},
     "output_type": "display_data"
    },
    {
     "data": {
      "application/vnd.jupyter.widget-view+json": {
       "model_id": "8d7fe55d40cb46459bbe80331071dfe3",
       "version_major": 2,
       "version_minor": 0
      },
      "text/plain": [
       "HBox(children=(IntProgress(value=0, max=24), HTML(value='')))"
      ]
     },
     "metadata": {},
     "output_type": "display_data"
    },
    {
     "data": {
      "application/vnd.jupyter.widget-view+json": {
       "model_id": "d920a3590c0b4fefb38c4e99f4aeec02",
       "version_major": 2,
       "version_minor": 0
      },
      "text/plain": [
       "HBox(children=(IntProgress(value=0, max=24), HTML(value='')))"
      ]
     },
     "metadata": {},
     "output_type": "display_data"
    },
    {
     "data": {
      "application/vnd.jupyter.widget-view+json": {
       "model_id": "e0272d4e709143bf93d4c6af39263a25",
       "version_major": 2,
       "version_minor": 0
      },
      "text/plain": [
       "HBox(children=(IntProgress(value=0, max=24), HTML(value='')))"
      ]
     },
     "metadata": {},
     "output_type": "display_data"
    },
    {
     "data": {
      "application/vnd.jupyter.widget-view+json": {
       "model_id": "e0bb84fbf5d44c5eb100e21236f8c6e5",
       "version_major": 2,
       "version_minor": 0
      },
      "text/plain": [
       "HBox(children=(IntProgress(value=0, max=24), HTML(value='')))"
      ]
     },
     "metadata": {},
     "output_type": "display_data"
    },
    {
     "data": {
      "application/vnd.jupyter.widget-view+json": {
       "model_id": "ec9432aa677a40c4b91426f63d79d248",
       "version_major": 2,
       "version_minor": 0
      },
      "text/plain": [
       "HBox(children=(IntProgress(value=0, max=24), HTML(value='')))"
      ]
     },
     "metadata": {},
     "output_type": "display_data"
    },
    {
     "data": {
      "application/vnd.jupyter.widget-view+json": {
       "model_id": "332f3ce1a8cc44c7918e46153d1a1ff5",
       "version_major": 2,
       "version_minor": 0
      },
      "text/plain": [
       "HBox(children=(IntProgress(value=0, max=24), HTML(value='')))"
      ]
     },
     "metadata": {},
     "output_type": "display_data"
    },
    {
     "data": {
      "application/vnd.jupyter.widget-view+json": {
       "model_id": "31dcf05a0dce4634818879981168da29",
       "version_major": 2,
       "version_minor": 0
      },
      "text/plain": [
       "HBox(children=(IntProgress(value=0, max=24), HTML(value='')))"
      ]
     },
     "metadata": {},
     "output_type": "display_data"
    },
    {
     "data": {
      "application/vnd.jupyter.widget-view+json": {
       "model_id": "b25c0efc10c14ff58ab3af09726e97c9",
       "version_major": 2,
       "version_minor": 0
      },
      "text/plain": [
       "HBox(children=(IntProgress(value=0, max=24), HTML(value='')))"
      ]
     },
     "metadata": {},
     "output_type": "display_data"
    },
    {
     "data": {
      "application/vnd.jupyter.widget-view+json": {
       "model_id": "ca0ae7a8607742b08746950924de2edd",
       "version_major": 2,
       "version_minor": 0
      },
      "text/plain": [
       "HBox(children=(IntProgress(value=0, max=24), HTML(value='')))"
      ]
     },
     "metadata": {},
     "output_type": "display_data"
    },
    {
     "data": {
      "application/vnd.jupyter.widget-view+json": {
       "model_id": "7eff1287fd1642c7924b37f4db4439e2",
       "version_major": 2,
       "version_minor": 0
      },
      "text/plain": [
       "HBox(children=(IntProgress(value=0, max=24), HTML(value='')))"
      ]
     },
     "metadata": {},
     "output_type": "display_data"
    },
    {
     "data": {
      "application/vnd.jupyter.widget-view+json": {
       "model_id": "c1033a36237b4a81aca35212f580be1d",
       "version_major": 2,
       "version_minor": 0
      },
      "text/plain": [
       "HBox(children=(IntProgress(value=0, max=24), HTML(value='')))"
      ]
     },
     "metadata": {},
     "output_type": "display_data"
    },
    {
     "data": {
      "application/vnd.jupyter.widget-view+json": {
       "model_id": "98b90dc33eb44f55a7a9ede5bd5442d8",
       "version_major": 2,
       "version_minor": 0
      },
      "text/plain": [
       "HBox(children=(IntProgress(value=0, max=24), HTML(value='')))"
      ]
     },
     "metadata": {},
     "output_type": "display_data"
    },
    {
     "data": {
      "application/vnd.jupyter.widget-view+json": {
       "model_id": "2c52aab949e3493c8890a60599b407e8",
       "version_major": 2,
       "version_minor": 0
      },
      "text/plain": [
       "HBox(children=(IntProgress(value=0, max=24), HTML(value='')))"
      ]
     },
     "metadata": {},
     "output_type": "display_data"
    },
    {
     "data": {
      "application/vnd.jupyter.widget-view+json": {
       "model_id": "3da031932e0b4325b10fd4e6b13a856f",
       "version_major": 2,
       "version_minor": 0
      },
      "text/plain": [
       "HBox(children=(IntProgress(value=0, max=24), HTML(value='')))"
      ]
     },
     "metadata": {},
     "output_type": "display_data"
    },
    {
     "data": {
      "application/vnd.jupyter.widget-view+json": {
       "model_id": "1110581939f1459ba2c097975dc0424a",
       "version_major": 2,
       "version_minor": 0
      },
      "text/plain": [
       "HBox(children=(IntProgress(value=0, max=24), HTML(value='')))"
      ]
     },
     "metadata": {},
     "output_type": "display_data"
    },
    {
     "data": {
      "application/vnd.jupyter.widget-view+json": {
       "model_id": "6a11937107aa4768973cefc8e219618c",
       "version_major": 2,
       "version_minor": 0
      },
      "text/plain": [
       "HBox(children=(IntProgress(value=0, max=24), HTML(value='')))"
      ]
     },
     "metadata": {},
     "output_type": "display_data"
    },
    {
     "data": {
      "application/vnd.jupyter.widget-view+json": {
       "model_id": "dd863ef2709842bc95af400fa3c4c26b",
       "version_major": 2,
       "version_minor": 0
      },
      "text/plain": [
       "HBox(children=(IntProgress(value=0, max=24), HTML(value='')))"
      ]
     },
     "metadata": {},
     "output_type": "display_data"
    },
    {
     "data": {
      "application/vnd.jupyter.widget-view+json": {
       "model_id": "b82abee95b4b4d44bf5b3ba882a77e58",
       "version_major": 2,
       "version_minor": 0
      },
      "text/plain": [
       "HBox(children=(IntProgress(value=0, max=24), HTML(value='')))"
      ]
     },
     "metadata": {},
     "output_type": "display_data"
    },
    {
     "data": {
      "application/vnd.jupyter.widget-view+json": {
       "model_id": "400afa27317f47d2aaa68afccfbeaf45",
       "version_major": 2,
       "version_minor": 0
      },
      "text/plain": [
       "HBox(children=(IntProgress(value=0, max=24), HTML(value='')))"
      ]
     },
     "metadata": {},
     "output_type": "display_data"
    },
    {
     "data": {
      "application/vnd.jupyter.widget-view+json": {
       "model_id": "b8b445a0c5d640f9a3299f7380820340",
       "version_major": 2,
       "version_minor": 0
      },
      "text/plain": [
       "HBox(children=(IntProgress(value=0, max=24), HTML(value='')))"
      ]
     },
     "metadata": {},
     "output_type": "display_data"
    },
    {
     "data": {
      "application/vnd.jupyter.widget-view+json": {
       "model_id": "214b38c2d80b456685cfaf0604bc0726",
       "version_major": 2,
       "version_minor": 0
      },
      "text/plain": [
       "HBox(children=(IntProgress(value=0, max=24), HTML(value='')))"
      ]
     },
     "metadata": {},
     "output_type": "display_data"
    },
    {
     "data": {
      "application/vnd.jupyter.widget-view+json": {
       "model_id": "ed211c1caec249a3a196b393171144fb",
       "version_major": 2,
       "version_minor": 0
      },
      "text/plain": [
       "HBox(children=(IntProgress(value=0, max=24), HTML(value='')))"
      ]
     },
     "metadata": {},
     "output_type": "display_data"
    },
    {
     "data": {
      "application/vnd.jupyter.widget-view+json": {
       "model_id": "4ba79113bd024ee79059499f8beeab4f",
       "version_major": 2,
       "version_minor": 0
      },
      "text/plain": [
       "HBox(children=(IntProgress(value=0, max=24), HTML(value='')))"
      ]
     },
     "metadata": {},
     "output_type": "display_data"
    },
    {
     "data": {
      "application/vnd.jupyter.widget-view+json": {
       "model_id": "0e0bffba1d924198a5c2443f554f8e9f",
       "version_major": 2,
       "version_minor": 0
      },
      "text/plain": [
       "HBox(children=(IntProgress(value=0, max=24), HTML(value='')))"
      ]
     },
     "metadata": {},
     "output_type": "display_data"
    },
    {
     "data": {
      "application/vnd.jupyter.widget-view+json": {
       "model_id": "f501586c16d749f783fae30c976e3a14",
       "version_major": 2,
       "version_minor": 0
      },
      "text/plain": [
       "HBox(children=(IntProgress(value=0, max=24), HTML(value='')))"
      ]
     },
     "metadata": {},
     "output_type": "display_data"
    },
    {
     "data": {
      "application/vnd.jupyter.widget-view+json": {
       "model_id": "e79ae62e15d44b4d9b5f898972e3c0d7",
       "version_major": 2,
       "version_minor": 0
      },
      "text/plain": [
       "HBox(children=(IntProgress(value=0, max=24), HTML(value='')))"
      ]
     },
     "metadata": {},
     "output_type": "display_data"
    },
    {
     "data": {
      "application/vnd.jupyter.widget-view+json": {
       "model_id": "e0c1debe782e43d88f6855b9453d67f5",
       "version_major": 2,
       "version_minor": 0
      },
      "text/plain": [
       "HBox(children=(IntProgress(value=0, max=24), HTML(value='')))"
      ]
     },
     "metadata": {},
     "output_type": "display_data"
    },
    {
     "data": {
      "application/vnd.jupyter.widget-view+json": {
       "model_id": "ef55bd981da64790b7a4fb08f8a826cf",
       "version_major": 2,
       "version_minor": 0
      },
      "text/plain": [
       "HBox(children=(IntProgress(value=0, max=24), HTML(value='')))"
      ]
     },
     "metadata": {},
     "output_type": "display_data"
    },
    {
     "data": {
      "application/vnd.jupyter.widget-view+json": {
       "model_id": "ee987734412443de94389ef3e77b9a65",
       "version_major": 2,
       "version_minor": 0
      },
      "text/plain": [
       "HBox(children=(IntProgress(value=0, max=24), HTML(value='')))"
      ]
     },
     "metadata": {},
     "output_type": "display_data"
    },
    {
     "data": {
      "application/vnd.jupyter.widget-view+json": {
       "model_id": "479d58fbb4b44d6c96aca7151535b8b4",
       "version_major": 2,
       "version_minor": 0
      },
      "text/plain": [
       "HBox(children=(IntProgress(value=0, max=24), HTML(value='')))"
      ]
     },
     "metadata": {},
     "output_type": "display_data"
    },
    {
     "data": {
      "application/vnd.jupyter.widget-view+json": {
       "model_id": "c89950984f814ee1b3243017975db73f",
       "version_major": 2,
       "version_minor": 0
      },
      "text/plain": [
       "HBox(children=(IntProgress(value=0, max=24), HTML(value='')))"
      ]
     },
     "metadata": {},
     "output_type": "display_data"
    },
    {
     "data": {
      "application/vnd.jupyter.widget-view+json": {
       "model_id": "4dbcc74920b14a0fbdf270059bec39d3",
       "version_major": 2,
       "version_minor": 0
      },
      "text/plain": [
       "HBox(children=(IntProgress(value=0, max=24), HTML(value='')))"
      ]
     },
     "metadata": {},
     "output_type": "display_data"
    },
    {
     "data": {
      "application/vnd.jupyter.widget-view+json": {
       "model_id": "a044c6de4af8482fbfd794fa503e88a5",
       "version_major": 2,
       "version_minor": 0
      },
      "text/plain": [
       "HBox(children=(IntProgress(value=0, max=24), HTML(value='')))"
      ]
     },
     "metadata": {},
     "output_type": "display_data"
    },
    {
     "data": {
      "application/vnd.jupyter.widget-view+json": {
       "model_id": "38e5738ddce84417b0caeebfb7851e92",
       "version_major": 2,
       "version_minor": 0
      },
      "text/plain": [
       "HBox(children=(IntProgress(value=0, max=24), HTML(value='')))"
      ]
     },
     "metadata": {},
     "output_type": "display_data"
    },
    {
     "data": {
      "application/vnd.jupyter.widget-view+json": {
       "model_id": "1f249d76d60140c5b30e74969583fdef",
       "version_major": 2,
       "version_minor": 0
      },
      "text/plain": [
       "HBox(children=(IntProgress(value=0, max=24), HTML(value='')))"
      ]
     },
     "metadata": {},
     "output_type": "display_data"
    },
    {
     "data": {
      "application/vnd.jupyter.widget-view+json": {
       "model_id": "f22278c113344e39a70553f6cb62353b",
       "version_major": 2,
       "version_minor": 0
      },
      "text/plain": [
       "HBox(children=(IntProgress(value=0, max=24), HTML(value='')))"
      ]
     },
     "metadata": {},
     "output_type": "display_data"
    },
    {
     "data": {
      "application/vnd.jupyter.widget-view+json": {
       "model_id": "ed31b20d450143bb80b873a77a2383ed",
       "version_major": 2,
       "version_minor": 0
      },
      "text/plain": [
       "HBox(children=(IntProgress(value=0, max=24), HTML(value='')))"
      ]
     },
     "metadata": {},
     "output_type": "display_data"
    },
    {
     "data": {
      "application/vnd.jupyter.widget-view+json": {
       "model_id": "cb9867306447439eb0e183a1fe4a6035",
       "version_major": 2,
       "version_minor": 0
      },
      "text/plain": [
       "HBox(children=(IntProgress(value=0, max=24), HTML(value='')))"
      ]
     },
     "metadata": {},
     "output_type": "display_data"
    },
    {
     "data": {
      "application/vnd.jupyter.widget-view+json": {
       "model_id": "1d164e1dcbca413284a013875a61aca9",
       "version_major": 2,
       "version_minor": 0
      },
      "text/plain": [
       "HBox(children=(IntProgress(value=0, max=24), HTML(value='')))"
      ]
     },
     "metadata": {},
     "output_type": "display_data"
    },
    {
     "data": {
      "application/vnd.jupyter.widget-view+json": {
       "model_id": "abdb95a1fa8e4a7687a8ac22967a8290",
       "version_major": 2,
       "version_minor": 0
      },
      "text/plain": [
       "HBox(children=(IntProgress(value=0, max=24), HTML(value='')))"
      ]
     },
     "metadata": {},
     "output_type": "display_data"
    },
    {
     "data": {
      "application/vnd.jupyter.widget-view+json": {
       "model_id": "1543f4262573488abf71e12e4399edf2",
       "version_major": 2,
       "version_minor": 0
      },
      "text/plain": [
       "HBox(children=(IntProgress(value=0, max=24), HTML(value='')))"
      ]
     },
     "metadata": {},
     "output_type": "display_data"
    },
    {
     "data": {
      "application/vnd.jupyter.widget-view+json": {
       "model_id": "2bc2cceb91e843cbbde81d8b9c8efa64",
       "version_major": 2,
       "version_minor": 0
      },
      "text/plain": [
       "HBox(children=(IntProgress(value=0, max=24), HTML(value='')))"
      ]
     },
     "metadata": {},
     "output_type": "display_data"
    },
    {
     "data": {
      "application/vnd.jupyter.widget-view+json": {
       "model_id": "9c91c78ed9094f2887012b3016d2e03b",
       "version_major": 2,
       "version_minor": 0
      },
      "text/plain": [
       "HBox(children=(IntProgress(value=0, max=24), HTML(value='')))"
      ]
     },
     "metadata": {},
     "output_type": "display_data"
    },
    {
     "data": {
      "application/vnd.jupyter.widget-view+json": {
       "model_id": "687b7055b9c64e049bfb9bf742c48bb5",
       "version_major": 2,
       "version_minor": 0
      },
      "text/plain": [
       "HBox(children=(IntProgress(value=0, max=24), HTML(value='')))"
      ]
     },
     "metadata": {},
     "output_type": "display_data"
    },
    {
     "data": {
      "application/vnd.jupyter.widget-view+json": {
       "model_id": "6ccfc3dc94b14860b48d5decff08f4af",
       "version_major": 2,
       "version_minor": 0
      },
      "text/plain": [
       "HBox(children=(IntProgress(value=0, max=24), HTML(value='')))"
      ]
     },
     "metadata": {},
     "output_type": "display_data"
    },
    {
     "data": {
      "application/vnd.jupyter.widget-view+json": {
       "model_id": "7077169ad2804187875688e62261cfdd",
       "version_major": 2,
       "version_minor": 0
      },
      "text/plain": [
       "HBox(children=(IntProgress(value=0, max=24), HTML(value='')))"
      ]
     },
     "metadata": {},
     "output_type": "display_data"
    },
    {
     "data": {
      "application/vnd.jupyter.widget-view+json": {
       "model_id": "796eb0bfe50d46bb8a3a0ad223b74954",
       "version_major": 2,
       "version_minor": 0
      },
      "text/plain": [
       "HBox(children=(IntProgress(value=0, max=24), HTML(value='')))"
      ]
     },
     "metadata": {},
     "output_type": "display_data"
    },
    {
     "data": {
      "application/vnd.jupyter.widget-view+json": {
       "model_id": "c501ec2adced421d9e7bab5e2bb6387f",
       "version_major": 2,
       "version_minor": 0
      },
      "text/plain": [
       "HBox(children=(IntProgress(value=0, max=24), HTML(value='')))"
      ]
     },
     "metadata": {},
     "output_type": "display_data"
    },
    {
     "data": {
      "application/vnd.jupyter.widget-view+json": {
       "model_id": "c9c319b4cd4c4135abaf62fa4a7bba36",
       "version_major": 2,
       "version_minor": 0
      },
      "text/plain": [
       "HBox(children=(IntProgress(value=0, max=24), HTML(value='')))"
      ]
     },
     "metadata": {},
     "output_type": "display_data"
    },
    {
     "data": {
      "application/vnd.jupyter.widget-view+json": {
       "model_id": "c98b4a0774154fefaa15ddf1ec3c3f1e",
       "version_major": 2,
       "version_minor": 0
      },
      "text/plain": [
       "HBox(children=(IntProgress(value=0, max=24), HTML(value='')))"
      ]
     },
     "metadata": {},
     "output_type": "display_data"
    },
    {
     "data": {
      "application/vnd.jupyter.widget-view+json": {
       "model_id": "83d0a9c879f349fe9a9b55a2a311d889",
       "version_major": 2,
       "version_minor": 0
      },
      "text/plain": [
       "HBox(children=(IntProgress(value=0, max=24), HTML(value='')))"
      ]
     },
     "metadata": {},
     "output_type": "display_data"
    },
    {
     "data": {
      "application/vnd.jupyter.widget-view+json": {
       "model_id": "d0ca9fe8ca48489daf892a0ffa07b0d5",
       "version_major": 2,
       "version_minor": 0
      },
      "text/plain": [
       "HBox(children=(IntProgress(value=0, max=24), HTML(value='')))"
      ]
     },
     "metadata": {},
     "output_type": "display_data"
    },
    {
     "data": {
      "application/vnd.jupyter.widget-view+json": {
       "model_id": "5b56c74f95dd46a49abbbca89a61bd0a",
       "version_major": 2,
       "version_minor": 0
      },
      "text/plain": [
       "HBox(children=(IntProgress(value=0, max=24), HTML(value='')))"
      ]
     },
     "metadata": {},
     "output_type": "display_data"
    },
    {
     "data": {
      "application/vnd.jupyter.widget-view+json": {
       "model_id": "91c027fb28f44f5f9b07eadf630a14e6",
       "version_major": 2,
       "version_minor": 0
      },
      "text/plain": [
       "HBox(children=(IntProgress(value=0, max=24), HTML(value='')))"
      ]
     },
     "metadata": {},
     "output_type": "display_data"
    },
    {
     "data": {
      "application/vnd.jupyter.widget-view+json": {
       "model_id": "9cd7e1ff923b459593408ce5852426e0",
       "version_major": 2,
       "version_minor": 0
      },
      "text/plain": [
       "HBox(children=(IntProgress(value=0, max=24), HTML(value='')))"
      ]
     },
     "metadata": {},
     "output_type": "display_data"
    },
    {
     "data": {
      "application/vnd.jupyter.widget-view+json": {
       "model_id": "ae08494ad7b84b53b17b7049150d23a1",
       "version_major": 2,
       "version_minor": 0
      },
      "text/plain": [
       "HBox(children=(IntProgress(value=0, max=24), HTML(value='')))"
      ]
     },
     "metadata": {},
     "output_type": "display_data"
    },
    {
     "data": {
      "application/vnd.jupyter.widget-view+json": {
       "model_id": "05e3fbb5269d44e8a51ea606ac5949e2",
       "version_major": 2,
       "version_minor": 0
      },
      "text/plain": [
       "HBox(children=(IntProgress(value=0, max=24), HTML(value='')))"
      ]
     },
     "metadata": {},
     "output_type": "display_data"
    },
    {
     "data": {
      "application/vnd.jupyter.widget-view+json": {
       "model_id": "3eb9d22348cd4f36a4f488b9599130f4",
       "version_major": 2,
       "version_minor": 0
      },
      "text/plain": [
       "HBox(children=(IntProgress(value=0, max=24), HTML(value='')))"
      ]
     },
     "metadata": {},
     "output_type": "display_data"
    },
    {
     "data": {
      "application/vnd.jupyter.widget-view+json": {
       "model_id": "11543398348146f5b3948920359bf46d",
       "version_major": 2,
       "version_minor": 0
      },
      "text/plain": [
       "HBox(children=(IntProgress(value=0, max=24), HTML(value='')))"
      ]
     },
     "metadata": {},
     "output_type": "display_data"
    },
    {
     "data": {
      "application/vnd.jupyter.widget-view+json": {
       "model_id": "151709df8058456ca6b930f8ca48d55c",
       "version_major": 2,
       "version_minor": 0
      },
      "text/plain": [
       "HBox(children=(IntProgress(value=0, max=24), HTML(value='')))"
      ]
     },
     "metadata": {},
     "output_type": "display_data"
    },
    {
     "data": {
      "application/vnd.jupyter.widget-view+json": {
       "model_id": "03f1953c5a4040f382288b4eacd8e6df",
       "version_major": 2,
       "version_minor": 0
      },
      "text/plain": [
       "HBox(children=(IntProgress(value=0, max=24), HTML(value='')))"
      ]
     },
     "metadata": {},
     "output_type": "display_data"
    },
    {
     "data": {
      "application/vnd.jupyter.widget-view+json": {
       "model_id": "bdbfd3ca18c04181b08fe91a03753452",
       "version_major": 2,
       "version_minor": 0
      },
      "text/plain": [
       "HBox(children=(IntProgress(value=0, max=24), HTML(value='')))"
      ]
     },
     "metadata": {},
     "output_type": "display_data"
    },
    {
     "data": {
      "application/vnd.jupyter.widget-view+json": {
       "model_id": "0d9f17ae4b984ccb85851591ff774973",
       "version_major": 2,
       "version_minor": 0
      },
      "text/plain": [
       "HBox(children=(IntProgress(value=0, max=24), HTML(value='')))"
      ]
     },
     "metadata": {},
     "output_type": "display_data"
    },
    {
     "data": {
      "application/vnd.jupyter.widget-view+json": {
       "model_id": "6aa52c17ffa54590ad2d698a3750a97c",
       "version_major": 2,
       "version_minor": 0
      },
      "text/plain": [
       "HBox(children=(IntProgress(value=0, max=24), HTML(value='')))"
      ]
     },
     "metadata": {},
     "output_type": "display_data"
    },
    {
     "data": {
      "application/vnd.jupyter.widget-view+json": {
       "model_id": "63f97f44a22242cb81f77b7502e8ddff",
       "version_major": 2,
       "version_minor": 0
      },
      "text/plain": [
       "HBox(children=(IntProgress(value=0, max=24), HTML(value='')))"
      ]
     },
     "metadata": {},
     "output_type": "display_data"
    },
    {
     "data": {
      "application/vnd.jupyter.widget-view+json": {
       "model_id": "08b79e44f12646ec8237799bb27fd531",
       "version_major": 2,
       "version_minor": 0
      },
      "text/plain": [
       "HBox(children=(IntProgress(value=0, max=24), HTML(value='')))"
      ]
     },
     "metadata": {},
     "output_type": "display_data"
    },
    {
     "data": {
      "application/vnd.jupyter.widget-view+json": {
       "model_id": "7409a5d01709488bbd44c2b9715bf04a",
       "version_major": 2,
       "version_minor": 0
      },
      "text/plain": [
       "HBox(children=(IntProgress(value=0, max=24), HTML(value='')))"
      ]
     },
     "metadata": {},
     "output_type": "display_data"
    },
    {
     "data": {
      "application/vnd.jupyter.widget-view+json": {
       "model_id": "d2e4ccabd1764b2aa0fc62fb1fc46cec",
       "version_major": 2,
       "version_minor": 0
      },
      "text/plain": [
       "HBox(children=(IntProgress(value=0, max=24), HTML(value='')))"
      ]
     },
     "metadata": {},
     "output_type": "display_data"
    },
    {
     "data": {
      "application/vnd.jupyter.widget-view+json": {
       "model_id": "a87b0f925eaa4924b96d40e8534ce3b2",
       "version_major": 2,
       "version_minor": 0
      },
      "text/plain": [
       "HBox(children=(IntProgress(value=0, max=24), HTML(value='')))"
      ]
     },
     "metadata": {},
     "output_type": "display_data"
    },
    {
     "data": {
      "application/vnd.jupyter.widget-view+json": {
       "model_id": "60ced0b94d2a468590464d344f005b35",
       "version_major": 2,
       "version_minor": 0
      },
      "text/plain": [
       "HBox(children=(IntProgress(value=0, max=24), HTML(value='')))"
      ]
     },
     "metadata": {},
     "output_type": "display_data"
    },
    {
     "data": {
      "application/vnd.jupyter.widget-view+json": {
       "model_id": "f25fb218b6b64551b574c6cc0f3dad14",
       "version_major": 2,
       "version_minor": 0
      },
      "text/plain": [
       "HBox(children=(IntProgress(value=0, max=24), HTML(value='')))"
      ]
     },
     "metadata": {},
     "output_type": "display_data"
    },
    {
     "data": {
      "application/vnd.jupyter.widget-view+json": {
       "model_id": "27abcceca8f84411b6e3c9057ad0deac",
       "version_major": 2,
       "version_minor": 0
      },
      "text/plain": [
       "HBox(children=(IntProgress(value=0, max=24), HTML(value='')))"
      ]
     },
     "metadata": {},
     "output_type": "display_data"
    },
    {
     "data": {
      "application/vnd.jupyter.widget-view+json": {
       "model_id": "6f770a1359e94a42acca4eb305301735",
       "version_major": 2,
       "version_minor": 0
      },
      "text/plain": [
       "HBox(children=(IntProgress(value=0, max=24), HTML(value='')))"
      ]
     },
     "metadata": {},
     "output_type": "display_data"
    },
    {
     "data": {
      "application/vnd.jupyter.widget-view+json": {
       "model_id": "76f5e93b162b4dc59d01e359d09a88b7",
       "version_major": 2,
       "version_minor": 0
      },
      "text/plain": [
       "HBox(children=(IntProgress(value=0, max=24), HTML(value='')))"
      ]
     },
     "metadata": {},
     "output_type": "display_data"
    },
    {
     "data": {
      "application/vnd.jupyter.widget-view+json": {
       "model_id": "6cebac2f5fd64118a97f5af909dabce7",
       "version_major": 2,
       "version_minor": 0
      },
      "text/plain": [
       "HBox(children=(IntProgress(value=0, max=24), HTML(value='')))"
      ]
     },
     "metadata": {},
     "output_type": "display_data"
    },
    {
     "data": {
      "application/vnd.jupyter.widget-view+json": {
       "model_id": "8a69210e7fbd441da348e12618c15643",
       "version_major": 2,
       "version_minor": 0
      },
      "text/plain": [
       "HBox(children=(IntProgress(value=0, max=24), HTML(value='')))"
      ]
     },
     "metadata": {},
     "output_type": "display_data"
    },
    {
     "data": {
      "application/vnd.jupyter.widget-view+json": {
       "model_id": "a16ecdd352c94b929ae04ab0dd41bb87",
       "version_major": 2,
       "version_minor": 0
      },
      "text/plain": [
       "HBox(children=(IntProgress(value=0, max=24), HTML(value='')))"
      ]
     },
     "metadata": {},
     "output_type": "display_data"
    },
    {
     "data": {
      "application/vnd.jupyter.widget-view+json": {
       "model_id": "958efb43eed04188ae596744a431ffd8",
       "version_major": 2,
       "version_minor": 0
      },
      "text/plain": [
       "HBox(children=(IntProgress(value=0, max=24), HTML(value='')))"
      ]
     },
     "metadata": {},
     "output_type": "display_data"
    },
    {
     "data": {
      "application/vnd.jupyter.widget-view+json": {
       "model_id": "77a6cc672d9f47fcaa715e1cf346d257",
       "version_major": 2,
       "version_minor": 0
      },
      "text/plain": [
       "HBox(children=(IntProgress(value=0, max=24), HTML(value='')))"
      ]
     },
     "metadata": {},
     "output_type": "display_data"
    },
    {
     "data": {
      "application/vnd.jupyter.widget-view+json": {
       "model_id": "d2c192008ca241d985feb1864c7ec482",
       "version_major": 2,
       "version_minor": 0
      },
      "text/plain": [
       "HBox(children=(IntProgress(value=0, max=24), HTML(value='')))"
      ]
     },
     "metadata": {},
     "output_type": "display_data"
    },
    {
     "data": {
      "application/vnd.jupyter.widget-view+json": {
       "model_id": "5a60d9a25b384f40ad497331162d121c",
       "version_major": 2,
       "version_minor": 0
      },
      "text/plain": [
       "HBox(children=(IntProgress(value=0, max=24), HTML(value='')))"
      ]
     },
     "metadata": {},
     "output_type": "display_data"
    },
    {
     "data": {
      "application/vnd.jupyter.widget-view+json": {
       "model_id": "944b0e1538da4fd694b6c71a73f1245d",
       "version_major": 2,
       "version_minor": 0
      },
      "text/plain": [
       "HBox(children=(IntProgress(value=0, max=24), HTML(value='')))"
      ]
     },
     "metadata": {},
     "output_type": "display_data"
    },
    {
     "data": {
      "application/vnd.jupyter.widget-view+json": {
       "model_id": "cd334e55c50345cfb12e03eea00e4c3c",
       "version_major": 2,
       "version_minor": 0
      },
      "text/plain": [
       "HBox(children=(IntProgress(value=0, max=24), HTML(value='')))"
      ]
     },
     "metadata": {},
     "output_type": "display_data"
    },
    {
     "data": {
      "application/vnd.jupyter.widget-view+json": {
       "model_id": "6095d4f272984f0cb38c5c128e0ef289",
       "version_major": 2,
       "version_minor": 0
      },
      "text/plain": [
       "HBox(children=(IntProgress(value=0, max=24), HTML(value='')))"
      ]
     },
     "metadata": {},
     "output_type": "display_data"
    },
    {
     "data": {
      "application/vnd.jupyter.widget-view+json": {
       "model_id": "3e37682c33cf415a8f0388db350e2298",
       "version_major": 2,
       "version_minor": 0
      },
      "text/plain": [
       "HBox(children=(IntProgress(value=0, max=24), HTML(value='')))"
      ]
     },
     "metadata": {},
     "output_type": "display_data"
    },
    {
     "data": {
      "application/vnd.jupyter.widget-view+json": {
       "model_id": "16d8709f25d8433b93d3759f4814c817",
       "version_major": 2,
       "version_minor": 0
      },
      "text/plain": [
       "HBox(children=(IntProgress(value=0, max=24), HTML(value='')))"
      ]
     },
     "metadata": {},
     "output_type": "display_data"
    },
    {
     "data": {
      "application/vnd.jupyter.widget-view+json": {
       "model_id": "742fc162340f4fd8827f2fd9041fde29",
       "version_major": 2,
       "version_minor": 0
      },
      "text/plain": [
       "HBox(children=(IntProgress(value=0, max=24), HTML(value='')))"
      ]
     },
     "metadata": {},
     "output_type": "display_data"
    },
    {
     "data": {
      "application/vnd.jupyter.widget-view+json": {
       "model_id": "ba66d70f717a4dab9e2c187b66d6751b",
       "version_major": 2,
       "version_minor": 0
      },
      "text/plain": [
       "HBox(children=(IntProgress(value=0, max=24), HTML(value='')))"
      ]
     },
     "metadata": {},
     "output_type": "display_data"
    },
    {
     "data": {
      "application/vnd.jupyter.widget-view+json": {
       "model_id": "f363e9bfe3994ddba6c820d27c3d6ebf",
       "version_major": 2,
       "version_minor": 0
      },
      "text/plain": [
       "HBox(children=(IntProgress(value=0, max=24), HTML(value='')))"
      ]
     },
     "metadata": {},
     "output_type": "display_data"
    },
    {
     "data": {
      "application/vnd.jupyter.widget-view+json": {
       "model_id": "7e79ba7fd13f4c4b8457945bd9870c0b",
       "version_major": 2,
       "version_minor": 0
      },
      "text/plain": [
       "HBox(children=(IntProgress(value=0, max=24), HTML(value='')))"
      ]
     },
     "metadata": {},
     "output_type": "display_data"
    },
    {
     "data": {
      "application/vnd.jupyter.widget-view+json": {
       "model_id": "685d86cbf7344476b3a965f7be118162",
       "version_major": 2,
       "version_minor": 0
      },
      "text/plain": [
       "HBox(children=(IntProgress(value=0, max=24), HTML(value='')))"
      ]
     },
     "metadata": {},
     "output_type": "display_data"
    },
    {
     "data": {
      "application/vnd.jupyter.widget-view+json": {
       "model_id": "efff2e4302b046449a424e874dbefb8f",
       "version_major": 2,
       "version_minor": 0
      },
      "text/plain": [
       "HBox(children=(IntProgress(value=0, max=24), HTML(value='')))"
      ]
     },
     "metadata": {},
     "output_type": "display_data"
    },
    {
     "data": {
      "application/vnd.jupyter.widget-view+json": {
       "model_id": "b2471912a11e47ce8f65d4c4f70995fb",
       "version_major": 2,
       "version_minor": 0
      },
      "text/plain": [
       "HBox(children=(IntProgress(value=0, max=24), HTML(value='')))"
      ]
     },
     "metadata": {},
     "output_type": "display_data"
    },
    {
     "data": {
      "application/vnd.jupyter.widget-view+json": {
       "model_id": "bd9611aaff4942ebb778648c553a2671",
       "version_major": 2,
       "version_minor": 0
      },
      "text/plain": [
       "HBox(children=(IntProgress(value=0, max=24), HTML(value='')))"
      ]
     },
     "metadata": {},
     "output_type": "display_data"
    },
    {
     "data": {
      "application/vnd.jupyter.widget-view+json": {
       "model_id": "817674c8c4cd40989aa997ab0356e940",
       "version_major": 2,
       "version_minor": 0
      },
      "text/plain": [
       "HBox(children=(IntProgress(value=0, max=24), HTML(value='')))"
      ]
     },
     "metadata": {},
     "output_type": "display_data"
    },
    {
     "data": {
      "application/vnd.jupyter.widget-view+json": {
       "model_id": "4d3abde4ee3246009de2963e765605b9",
       "version_major": 2,
       "version_minor": 0
      },
      "text/plain": [
       "HBox(children=(IntProgress(value=0, max=24), HTML(value='')))"
      ]
     },
     "metadata": {},
     "output_type": "display_data"
    },
    {
     "data": {
      "application/vnd.jupyter.widget-view+json": {
       "model_id": "1c8ee47ecc7543269468c53a78caa4e4",
       "version_major": 2,
       "version_minor": 0
      },
      "text/plain": [
       "HBox(children=(IntProgress(value=0, max=24), HTML(value='')))"
      ]
     },
     "metadata": {},
     "output_type": "display_data"
    },
    {
     "data": {
      "application/vnd.jupyter.widget-view+json": {
       "model_id": "4b175f68ebe947309fdf33d5a3727db0",
       "version_major": 2,
       "version_minor": 0
      },
      "text/plain": [
       "HBox(children=(IntProgress(value=0, max=24), HTML(value='')))"
      ]
     },
     "metadata": {},
     "output_type": "display_data"
    },
    {
     "data": {
      "application/vnd.jupyter.widget-view+json": {
       "model_id": "bcaf1afb69d340298ce2c8b6b7162ed3",
       "version_major": 2,
       "version_minor": 0
      },
      "text/plain": [
       "HBox(children=(IntProgress(value=0, max=24), HTML(value='')))"
      ]
     },
     "metadata": {},
     "output_type": "display_data"
    },
    {
     "data": {
      "application/vnd.jupyter.widget-view+json": {
       "model_id": "bb61f7c7bfb44e94a363f3bc6b015d62",
       "version_major": 2,
       "version_minor": 0
      },
      "text/plain": [
       "HBox(children=(IntProgress(value=0, max=24), HTML(value='')))"
      ]
     },
     "metadata": {},
     "output_type": "display_data"
    },
    {
     "data": {
      "application/vnd.jupyter.widget-view+json": {
       "model_id": "4df37092b7b645589f8a5b73b19b4bb3",
       "version_major": 2,
       "version_minor": 0
      },
      "text/plain": [
       "HBox(children=(IntProgress(value=0, max=24), HTML(value='')))"
      ]
     },
     "metadata": {},
     "output_type": "display_data"
    },
    {
     "data": {
      "application/vnd.jupyter.widget-view+json": {
       "model_id": "61fe7e6b4a704b4f8d2f61410cf81908",
       "version_major": 2,
       "version_minor": 0
      },
      "text/plain": [
       "HBox(children=(IntProgress(value=0, max=24), HTML(value='')))"
      ]
     },
     "metadata": {},
     "output_type": "display_data"
    },
    {
     "data": {
      "application/vnd.jupyter.widget-view+json": {
       "model_id": "0556153668bd4737a94cdcdf181712b9",
       "version_major": 2,
       "version_minor": 0
      },
      "text/plain": [
       "HBox(children=(IntProgress(value=0, max=24), HTML(value='')))"
      ]
     },
     "metadata": {},
     "output_type": "display_data"
    },
    {
     "data": {
      "application/vnd.jupyter.widget-view+json": {
       "model_id": "ab81cfc4ff9040bd9fcbfe382ba3e3b7",
       "version_major": 2,
       "version_minor": 0
      },
      "text/plain": [
       "HBox(children=(IntProgress(value=0, max=24), HTML(value='')))"
      ]
     },
     "metadata": {},
     "output_type": "display_data"
    },
    {
     "data": {
      "application/vnd.jupyter.widget-view+json": {
       "model_id": "b0009196dab74753b6f921d6f1d3aafe",
       "version_major": 2,
       "version_minor": 0
      },
      "text/plain": [
       "HBox(children=(IntProgress(value=0, max=24), HTML(value='')))"
      ]
     },
     "metadata": {},
     "output_type": "display_data"
    },
    {
     "data": {
      "application/vnd.jupyter.widget-view+json": {
       "model_id": "e72334e1cc134017bf930904e5c9fdd0",
       "version_major": 2,
       "version_minor": 0
      },
      "text/plain": [
       "HBox(children=(IntProgress(value=0, max=24), HTML(value='')))"
      ]
     },
     "metadata": {},
     "output_type": "display_data"
    },
    {
     "data": {
      "application/vnd.jupyter.widget-view+json": {
       "model_id": "4c43032c98dc4670836a78bad2af7cfa",
       "version_major": 2,
       "version_minor": 0
      },
      "text/plain": [
       "HBox(children=(IntProgress(value=0, max=24), HTML(value='')))"
      ]
     },
     "metadata": {},
     "output_type": "display_data"
    },
    {
     "data": {
      "application/vnd.jupyter.widget-view+json": {
       "model_id": "5eac28e8a4724abf9e7321587d17ad89",
       "version_major": 2,
       "version_minor": 0
      },
      "text/plain": [
       "HBox(children=(IntProgress(value=0, max=24), HTML(value='')))"
      ]
     },
     "metadata": {},
     "output_type": "display_data"
    },
    {
     "data": {
      "application/vnd.jupyter.widget-view+json": {
       "model_id": "5734afe42ba24af9ba8e46fd44449708",
       "version_major": 2,
       "version_minor": 0
      },
      "text/plain": [
       "HBox(children=(IntProgress(value=0, max=24), HTML(value='')))"
      ]
     },
     "metadata": {},
     "output_type": "display_data"
    },
    {
     "data": {
      "application/vnd.jupyter.widget-view+json": {
       "model_id": "47e2ced303bb4e53be3ea2a2c4978802",
       "version_major": 2,
       "version_minor": 0
      },
      "text/plain": [
       "HBox(children=(IntProgress(value=0, max=24), HTML(value='')))"
      ]
     },
     "metadata": {},
     "output_type": "display_data"
    },
    {
     "data": {
      "application/vnd.jupyter.widget-view+json": {
       "model_id": "0269bed589e2439b8d3dea903eca8f83",
       "version_major": 2,
       "version_minor": 0
      },
      "text/plain": [
       "HBox(children=(IntProgress(value=0, max=24), HTML(value='')))"
      ]
     },
     "metadata": {},
     "output_type": "display_data"
    },
    {
     "data": {
      "application/vnd.jupyter.widget-view+json": {
       "model_id": "f6016d6434c843e4a2bdbf2cc728453b",
       "version_major": 2,
       "version_minor": 0
      },
      "text/plain": [
       "HBox(children=(IntProgress(value=0, max=24), HTML(value='')))"
      ]
     },
     "metadata": {},
     "output_type": "display_data"
    },
    {
     "data": {
      "application/vnd.jupyter.widget-view+json": {
       "model_id": "69d30cd73c984a6693e6cf9dc4055826",
       "version_major": 2,
       "version_minor": 0
      },
      "text/plain": [
       "HBox(children=(IntProgress(value=0, max=24), HTML(value='')))"
      ]
     },
     "metadata": {},
     "output_type": "display_data"
    },
    {
     "data": {
      "application/vnd.jupyter.widget-view+json": {
       "model_id": "9d492a7fff3346a38986eeb411388e07",
       "version_major": 2,
       "version_minor": 0
      },
      "text/plain": [
       "HBox(children=(IntProgress(value=0, max=24), HTML(value='')))"
      ]
     },
     "metadata": {},
     "output_type": "display_data"
    },
    {
     "data": {
      "application/vnd.jupyter.widget-view+json": {
       "model_id": "744acfbbeae54558998014b2fb3f26ae",
       "version_major": 2,
       "version_minor": 0
      },
      "text/plain": [
       "HBox(children=(IntProgress(value=0, max=24), HTML(value='')))"
      ]
     },
     "metadata": {},
     "output_type": "display_data"
    },
    {
     "data": {
      "application/vnd.jupyter.widget-view+json": {
       "model_id": "5d11373cb2b04754a7dacee0f99f6080",
       "version_major": 2,
       "version_minor": 0
      },
      "text/plain": [
       "HBox(children=(IntProgress(value=0, max=24), HTML(value='')))"
      ]
     },
     "metadata": {},
     "output_type": "display_data"
    },
    {
     "data": {
      "application/vnd.jupyter.widget-view+json": {
       "model_id": "be694bb62e57409f810854735b7c81bf",
       "version_major": 2,
       "version_minor": 0
      },
      "text/plain": [
       "HBox(children=(IntProgress(value=0, max=24), HTML(value='')))"
      ]
     },
     "metadata": {},
     "output_type": "display_data"
    },
    {
     "data": {
      "application/vnd.jupyter.widget-view+json": {
       "model_id": "6a7b1b24e374442a9c5170084d60e0ca",
       "version_major": 2,
       "version_minor": 0
      },
      "text/plain": [
       "HBox(children=(IntProgress(value=0, max=24), HTML(value='')))"
      ]
     },
     "metadata": {},
     "output_type": "display_data"
    },
    {
     "data": {
      "application/vnd.jupyter.widget-view+json": {
       "model_id": "15ea0b594b7e4fe5916351d708a55572",
       "version_major": 2,
       "version_minor": 0
      },
      "text/plain": [
       "HBox(children=(IntProgress(value=0, max=24), HTML(value='')))"
      ]
     },
     "metadata": {},
     "output_type": "display_data"
    },
    {
     "data": {
      "application/vnd.jupyter.widget-view+json": {
       "model_id": "796d984802874e47bb67bc7e30877683",
       "version_major": 2,
       "version_minor": 0
      },
      "text/plain": [
       "HBox(children=(IntProgress(value=0, max=24), HTML(value='')))"
      ]
     },
     "metadata": {},
     "output_type": "display_data"
    },
    {
     "data": {
      "application/vnd.jupyter.widget-view+json": {
       "model_id": "4f8a666d5ae14d5db099f32a48d9dbfa",
       "version_major": 2,
       "version_minor": 0
      },
      "text/plain": [
       "HBox(children=(IntProgress(value=0, max=24), HTML(value='')))"
      ]
     },
     "metadata": {},
     "output_type": "display_data"
    },
    {
     "data": {
      "application/vnd.jupyter.widget-view+json": {
       "model_id": "1902bb817ae14bc4b19493f37136dfab",
       "version_major": 2,
       "version_minor": 0
      },
      "text/plain": [
       "HBox(children=(IntProgress(value=0, max=24), HTML(value='')))"
      ]
     },
     "metadata": {},
     "output_type": "display_data"
    },
    {
     "data": {
      "application/vnd.jupyter.widget-view+json": {
       "model_id": "45e74ea2507f42f7b4477b4758e572d7",
       "version_major": 2,
       "version_minor": 0
      },
      "text/plain": [
       "HBox(children=(IntProgress(value=0, max=24), HTML(value='')))"
      ]
     },
     "metadata": {},
     "output_type": "display_data"
    },
    {
     "data": {
      "application/vnd.jupyter.widget-view+json": {
       "model_id": "b1e8eb97395b415dadb574701b1682c5",
       "version_major": 2,
       "version_minor": 0
      },
      "text/plain": [
       "HBox(children=(IntProgress(value=0, max=24), HTML(value='')))"
      ]
     },
     "metadata": {},
     "output_type": "display_data"
    },
    {
     "data": {
      "application/vnd.jupyter.widget-view+json": {
       "model_id": "c2cc33e054f44cfd9a8a3f5f468e2503",
       "version_major": 2,
       "version_minor": 0
      },
      "text/plain": [
       "HBox(children=(IntProgress(value=0, max=24), HTML(value='')))"
      ]
     },
     "metadata": {},
     "output_type": "display_data"
    },
    {
     "data": {
      "application/vnd.jupyter.widget-view+json": {
       "model_id": "f9d3229cc7a94ad79651215725cd594a",
       "version_major": 2,
       "version_minor": 0
      },
      "text/plain": [
       "HBox(children=(IntProgress(value=0, max=24), HTML(value='')))"
      ]
     },
     "metadata": {},
     "output_type": "display_data"
    },
    {
     "data": {
      "application/vnd.jupyter.widget-view+json": {
       "model_id": "a1503a70c1ad4137a1411db1d6842bed",
       "version_major": 2,
       "version_minor": 0
      },
      "text/plain": [
       "HBox(children=(IntProgress(value=0, max=24), HTML(value='')))"
      ]
     },
     "metadata": {},
     "output_type": "display_data"
    },
    {
     "data": {
      "application/vnd.jupyter.widget-view+json": {
       "model_id": "eb593c997f00483b88bbebc667470678",
       "version_major": 2,
       "version_minor": 0
      },
      "text/plain": [
       "HBox(children=(IntProgress(value=0, max=24), HTML(value='')))"
      ]
     },
     "metadata": {},
     "output_type": "display_data"
    },
    {
     "data": {
      "application/vnd.jupyter.widget-view+json": {
       "model_id": "74024923e22d481ea6be349ac3343741",
       "version_major": 2,
       "version_minor": 0
      },
      "text/plain": [
       "HBox(children=(IntProgress(value=0, max=24), HTML(value='')))"
      ]
     },
     "metadata": {},
     "output_type": "display_data"
    },
    {
     "data": {
      "application/vnd.jupyter.widget-view+json": {
       "model_id": "c428a1caaaf6417d990f5cadf2dcbb49",
       "version_major": 2,
       "version_minor": 0
      },
      "text/plain": [
       "HBox(children=(IntProgress(value=0, max=24), HTML(value='')))"
      ]
     },
     "metadata": {},
     "output_type": "display_data"
    },
    {
     "data": {
      "application/vnd.jupyter.widget-view+json": {
       "model_id": "c3b6fa4da7254fafb81054518b2de5d4",
       "version_major": 2,
       "version_minor": 0
      },
      "text/plain": [
       "HBox(children=(IntProgress(value=0, max=24), HTML(value='')))"
      ]
     },
     "metadata": {},
     "output_type": "display_data"
    },
    {
     "data": {
      "application/vnd.jupyter.widget-view+json": {
       "model_id": "94b37d5ade914a108557083f9edab9e7",
       "version_major": 2,
       "version_minor": 0
      },
      "text/plain": [
       "HBox(children=(IntProgress(value=0, max=24), HTML(value='')))"
      ]
     },
     "metadata": {},
     "output_type": "display_data"
    },
    {
     "data": {
      "application/vnd.jupyter.widget-view+json": {
       "model_id": "d7ba9f58c7054bcfb851bfd7b6c59146",
       "version_major": 2,
       "version_minor": 0
      },
      "text/plain": [
       "HBox(children=(IntProgress(value=0, max=24), HTML(value='')))"
      ]
     },
     "metadata": {},
     "output_type": "display_data"
    },
    {
     "data": {
      "application/vnd.jupyter.widget-view+json": {
       "model_id": "8a648026ab8040a9abf3588ad5d5f46b",
       "version_major": 2,
       "version_minor": 0
      },
      "text/plain": [
       "HBox(children=(IntProgress(value=0, max=24), HTML(value='')))"
      ]
     },
     "metadata": {},
     "output_type": "display_data"
    },
    {
     "data": {
      "application/vnd.jupyter.widget-view+json": {
       "model_id": "f6904352b0f2442b91dac66703ea565d",
       "version_major": 2,
       "version_minor": 0
      },
      "text/plain": [
       "HBox(children=(IntProgress(value=0, max=24), HTML(value='')))"
      ]
     },
     "metadata": {},
     "output_type": "display_data"
    },
    {
     "data": {
      "application/vnd.jupyter.widget-view+json": {
       "model_id": "f1639aee17f946b0b60f3ad92a09d188",
       "version_major": 2,
       "version_minor": 0
      },
      "text/plain": [
       "HBox(children=(IntProgress(value=0, max=24), HTML(value='')))"
      ]
     },
     "metadata": {},
     "output_type": "display_data"
    },
    {
     "data": {
      "application/vnd.jupyter.widget-view+json": {
       "model_id": "79ff51e1d19445f9b98f950bb02ff2e0",
       "version_major": 2,
       "version_minor": 0
      },
      "text/plain": [
       "HBox(children=(IntProgress(value=0, max=24), HTML(value='')))"
      ]
     },
     "metadata": {},
     "output_type": "display_data"
    },
    {
     "data": {
      "application/vnd.jupyter.widget-view+json": {
       "model_id": "7d9c786707b34ad2acd320909bcc40b5",
       "version_major": 2,
       "version_minor": 0
      },
      "text/plain": [
       "HBox(children=(IntProgress(value=0, max=24), HTML(value='')))"
      ]
     },
     "metadata": {},
     "output_type": "display_data"
    },
    {
     "data": {
      "application/vnd.jupyter.widget-view+json": {
       "model_id": "5f6a80d8ba0b4f6698abcaef4b244059",
       "version_major": 2,
       "version_minor": 0
      },
      "text/plain": [
       "HBox(children=(IntProgress(value=0, max=24), HTML(value='')))"
      ]
     },
     "metadata": {},
     "output_type": "display_data"
    },
    {
     "data": {
      "application/vnd.jupyter.widget-view+json": {
       "model_id": "b82c520dd1694c98b8e572327825a3e9",
       "version_major": 2,
       "version_minor": 0
      },
      "text/plain": [
       "HBox(children=(IntProgress(value=0, max=24), HTML(value='')))"
      ]
     },
     "metadata": {},
     "output_type": "display_data"
    },
    {
     "data": {
      "application/vnd.jupyter.widget-view+json": {
       "model_id": "50e33c9e0a6448d59a45433d50c4083a",
       "version_major": 2,
       "version_minor": 0
      },
      "text/plain": [
       "HBox(children=(IntProgress(value=0, max=24), HTML(value='')))"
      ]
     },
     "metadata": {},
     "output_type": "display_data"
    },
    {
     "data": {
      "application/vnd.jupyter.widget-view+json": {
       "model_id": "299d11fceb2a45bc80b068fd26d5a806",
       "version_major": 2,
       "version_minor": 0
      },
      "text/plain": [
       "HBox(children=(IntProgress(value=0, max=24), HTML(value='')))"
      ]
     },
     "metadata": {},
     "output_type": "display_data"
    },
    {
     "data": {
      "application/vnd.jupyter.widget-view+json": {
       "model_id": "09d3f0e0e98c41c2b814d60a262a24e9",
       "version_major": 2,
       "version_minor": 0
      },
      "text/plain": [
       "HBox(children=(IntProgress(value=0, max=24), HTML(value='')))"
      ]
     },
     "metadata": {},
     "output_type": "display_data"
    },
    {
     "data": {
      "application/vnd.jupyter.widget-view+json": {
       "model_id": "c7ac951902af4e9e9d58e667c8c73476",
       "version_major": 2,
       "version_minor": 0
      },
      "text/plain": [
       "HBox(children=(IntProgress(value=0, max=24), HTML(value='')))"
      ]
     },
     "metadata": {},
     "output_type": "display_data"
    },
    {
     "data": {
      "application/vnd.jupyter.widget-view+json": {
       "model_id": "7344afd6003b49f4a9036419934c02eb",
       "version_major": 2,
       "version_minor": 0
      },
      "text/plain": [
       "HBox(children=(IntProgress(value=0, max=24), HTML(value='')))"
      ]
     },
     "metadata": {},
     "output_type": "display_data"
    },
    {
     "data": {
      "application/vnd.jupyter.widget-view+json": {
       "model_id": "1ea5e857d62c46ebad98ca3a048a8698",
       "version_major": 2,
       "version_minor": 0
      },
      "text/plain": [
       "HBox(children=(IntProgress(value=0, max=24), HTML(value='')))"
      ]
     },
     "metadata": {},
     "output_type": "display_data"
    },
    {
     "data": {
      "application/vnd.jupyter.widget-view+json": {
       "model_id": "135fc12528f14c8ba6d31e3731d59ec4",
       "version_major": 2,
       "version_minor": 0
      },
      "text/plain": [
       "HBox(children=(IntProgress(value=0, max=24), HTML(value='')))"
      ]
     },
     "metadata": {},
     "output_type": "display_data"
    },
    {
     "data": {
      "application/vnd.jupyter.widget-view+json": {
       "model_id": "bd3a90719c774d61b867e548ac8ff7f4",
       "version_major": 2,
       "version_minor": 0
      },
      "text/plain": [
       "HBox(children=(IntProgress(value=0, max=24), HTML(value='')))"
      ]
     },
     "metadata": {},
     "output_type": "display_data"
    },
    {
     "data": {
      "application/vnd.jupyter.widget-view+json": {
       "model_id": "1accd46d67904ed2bd6c466ceede7383",
       "version_major": 2,
       "version_minor": 0
      },
      "text/plain": [
       "HBox(children=(IntProgress(value=0, max=24), HTML(value='')))"
      ]
     },
     "metadata": {},
     "output_type": "display_data"
    },
    {
     "data": {
      "application/vnd.jupyter.widget-view+json": {
       "model_id": "f9997d6edfe3460b8c076dfb68e8ed05",
       "version_major": 2,
       "version_minor": 0
      },
      "text/plain": [
       "HBox(children=(IntProgress(value=0, max=24), HTML(value='')))"
      ]
     },
     "metadata": {},
     "output_type": "display_data"
    },
    {
     "data": {
      "application/vnd.jupyter.widget-view+json": {
       "model_id": "1e580cc813b746d8b957792bff1790aa",
       "version_major": 2,
       "version_minor": 0
      },
      "text/plain": [
       "HBox(children=(IntProgress(value=0, max=24), HTML(value='')))"
      ]
     },
     "metadata": {},
     "output_type": "display_data"
    },
    {
     "data": {
      "application/vnd.jupyter.widget-view+json": {
       "model_id": "fcbb5a300ea24237854646d98637e175",
       "version_major": 2,
       "version_minor": 0
      },
      "text/plain": [
       "HBox(children=(IntProgress(value=0, max=24), HTML(value='')))"
      ]
     },
     "metadata": {},
     "output_type": "display_data"
    },
    {
     "data": {
      "application/vnd.jupyter.widget-view+json": {
       "model_id": "8229a9cad268406caa2b662189dd7b64",
       "version_major": 2,
       "version_minor": 0
      },
      "text/plain": [
       "HBox(children=(IntProgress(value=0, max=24), HTML(value='')))"
      ]
     },
     "metadata": {},
     "output_type": "display_data"
    },
    {
     "data": {
      "application/vnd.jupyter.widget-view+json": {
       "model_id": "f5849d6f608c42f59776430b401b661b",
       "version_major": 2,
       "version_minor": 0
      },
      "text/plain": [
       "HBox(children=(IntProgress(value=0, max=24), HTML(value='')))"
      ]
     },
     "metadata": {},
     "output_type": "display_data"
    },
    {
     "data": {
      "application/vnd.jupyter.widget-view+json": {
       "model_id": "e9ae0e4992aa4e8f9a03e0a118033174",
       "version_major": 2,
       "version_minor": 0
      },
      "text/plain": [
       "HBox(children=(IntProgress(value=0, max=24), HTML(value='')))"
      ]
     },
     "metadata": {},
     "output_type": "display_data"
    },
    {
     "data": {
      "application/vnd.jupyter.widget-view+json": {
       "model_id": "2c5119ec7099456a9ad3f67a026d8d57",
       "version_major": 2,
       "version_minor": 0
      },
      "text/plain": [
       "HBox(children=(IntProgress(value=0, max=24), HTML(value='')))"
      ]
     },
     "metadata": {},
     "output_type": "display_data"
    },
    {
     "data": {
      "application/vnd.jupyter.widget-view+json": {
       "model_id": "781971b4bb544becb9de367180064e8a",
       "version_major": 2,
       "version_minor": 0
      },
      "text/plain": [
       "HBox(children=(IntProgress(value=0, max=24), HTML(value='')))"
      ]
     },
     "metadata": {},
     "output_type": "display_data"
    },
    {
     "data": {
      "application/vnd.jupyter.widget-view+json": {
       "model_id": "a1af789bd89d4ec2b4b5596e85bdd7ae",
       "version_major": 2,
       "version_minor": 0
      },
      "text/plain": [
       "HBox(children=(IntProgress(value=0, max=24), HTML(value='')))"
      ]
     },
     "metadata": {},
     "output_type": "display_data"
    },
    {
     "data": {
      "application/vnd.jupyter.widget-view+json": {
       "model_id": "9778a5aa7be1497e84d0dc7a55f918f2",
       "version_major": 2,
       "version_minor": 0
      },
      "text/plain": [
       "HBox(children=(IntProgress(value=0, max=24), HTML(value='')))"
      ]
     },
     "metadata": {},
     "output_type": "display_data"
    },
    {
     "data": {
      "application/vnd.jupyter.widget-view+json": {
       "model_id": "2b778ce2faa647d0a737f0df7768a3e5",
       "version_major": 2,
       "version_minor": 0
      },
      "text/plain": [
       "HBox(children=(IntProgress(value=0, max=24), HTML(value='')))"
      ]
     },
     "metadata": {},
     "output_type": "display_data"
    },
    {
     "data": {
      "application/vnd.jupyter.widget-view+json": {
       "model_id": "82f78c4e43b64487a75082a26fd4be08",
       "version_major": 2,
       "version_minor": 0
      },
      "text/plain": [
       "HBox(children=(IntProgress(value=0, max=24), HTML(value='')))"
      ]
     },
     "metadata": {},
     "output_type": "display_data"
    },
    {
     "data": {
      "application/vnd.jupyter.widget-view+json": {
       "model_id": "46fff64fdcb64c23a7870529b6f1d1ce",
       "version_major": 2,
       "version_minor": 0
      },
      "text/plain": [
       "HBox(children=(IntProgress(value=0, max=24), HTML(value='')))"
      ]
     },
     "metadata": {},
     "output_type": "display_data"
    },
    {
     "data": {
      "application/vnd.jupyter.widget-view+json": {
       "model_id": "fcc9a4204a434ea0bc3f5d86e3346040",
       "version_major": 2,
       "version_minor": 0
      },
      "text/plain": [
       "HBox(children=(IntProgress(value=0, max=24), HTML(value='')))"
      ]
     },
     "metadata": {},
     "output_type": "display_data"
    },
    {
     "data": {
      "application/vnd.jupyter.widget-view+json": {
       "model_id": "b261286e180541ecb8d5bed9c391ad1e",
       "version_major": 2,
       "version_minor": 0
      },
      "text/plain": [
       "HBox(children=(IntProgress(value=0, max=24), HTML(value='')))"
      ]
     },
     "metadata": {},
     "output_type": "display_data"
    },
    {
     "data": {
      "application/vnd.jupyter.widget-view+json": {
       "model_id": "4c4004205b0c4a53b00393a75162c8f4",
       "version_major": 2,
       "version_minor": 0
      },
      "text/plain": [
       "HBox(children=(IntProgress(value=0, max=24), HTML(value='')))"
      ]
     },
     "metadata": {},
     "output_type": "display_data"
    },
    {
     "data": {
      "application/vnd.jupyter.widget-view+json": {
       "model_id": "42f3735803fb453fa308135fa7e248f1",
       "version_major": 2,
       "version_minor": 0
      },
      "text/plain": [
       "HBox(children=(IntProgress(value=0, max=24), HTML(value='')))"
      ]
     },
     "metadata": {},
     "output_type": "display_data"
    },
    {
     "data": {
      "application/vnd.jupyter.widget-view+json": {
       "model_id": "28da21176e394b7ea10ffb9b82c36ac7",
       "version_major": 2,
       "version_minor": 0
      },
      "text/plain": [
       "HBox(children=(IntProgress(value=0, max=24), HTML(value='')))"
      ]
     },
     "metadata": {},
     "output_type": "display_data"
    },
    {
     "data": {
      "application/vnd.jupyter.widget-view+json": {
       "model_id": "29dd49b4ed57457da3cdaead54d1f3db",
       "version_major": 2,
       "version_minor": 0
      },
      "text/plain": [
       "HBox(children=(IntProgress(value=0, max=24), HTML(value='')))"
      ]
     },
     "metadata": {},
     "output_type": "display_data"
    },
    {
     "data": {
      "application/vnd.jupyter.widget-view+json": {
       "model_id": "3282fe3d540c4bf7a38f021f50482774",
       "version_major": 2,
       "version_minor": 0
      },
      "text/plain": [
       "HBox(children=(IntProgress(value=0, max=24), HTML(value='')))"
      ]
     },
     "metadata": {},
     "output_type": "display_data"
    },
    {
     "data": {
      "application/vnd.jupyter.widget-view+json": {
       "model_id": "e714c378eb274c74a5804c832aa9e8d8",
       "version_major": 2,
       "version_minor": 0
      },
      "text/plain": [
       "HBox(children=(IntProgress(value=0, max=24), HTML(value='')))"
      ]
     },
     "metadata": {},
     "output_type": "display_data"
    },
    {
     "data": {
      "application/vnd.jupyter.widget-view+json": {
       "model_id": "fd690eca1cfc4e728445e6bb024a2e6e",
       "version_major": 2,
       "version_minor": 0
      },
      "text/plain": [
       "HBox(children=(IntProgress(value=0, max=24), HTML(value='')))"
      ]
     },
     "metadata": {},
     "output_type": "display_data"
    },
    {
     "data": {
      "application/vnd.jupyter.widget-view+json": {
       "model_id": "96afd88c25db4fa2aca1674314bea303",
       "version_major": 2,
       "version_minor": 0
      },
      "text/plain": [
       "HBox(children=(IntProgress(value=0, max=24), HTML(value='')))"
      ]
     },
     "metadata": {},
     "output_type": "display_data"
    },
    {
     "data": {
      "application/vnd.jupyter.widget-view+json": {
       "model_id": "808b058ee25c4ff8943f2872f5b75a08",
       "version_major": 2,
       "version_minor": 0
      },
      "text/plain": [
       "HBox(children=(IntProgress(value=0, max=24), HTML(value='')))"
      ]
     },
     "metadata": {},
     "output_type": "display_data"
    },
    {
     "data": {
      "application/vnd.jupyter.widget-view+json": {
       "model_id": "88f8e9880bae44f8b32e5e9e2dd76db6",
       "version_major": 2,
       "version_minor": 0
      },
      "text/plain": [
       "HBox(children=(IntProgress(value=0, max=24), HTML(value='')))"
      ]
     },
     "metadata": {},
     "output_type": "display_data"
    },
    {
     "data": {
      "application/vnd.jupyter.widget-view+json": {
       "model_id": "10f97908c3b348178b7f9e3f87049de3",
       "version_major": 2,
       "version_minor": 0
      },
      "text/plain": [
       "HBox(children=(IntProgress(value=0, max=24), HTML(value='')))"
      ]
     },
     "metadata": {},
     "output_type": "display_data"
    },
    {
     "data": {
      "application/vnd.jupyter.widget-view+json": {
       "model_id": "a87088690ef9488b9990e5382f2a8780",
       "version_major": 2,
       "version_minor": 0
      },
      "text/plain": [
       "HBox(children=(IntProgress(value=0, max=24), HTML(value='')))"
      ]
     },
     "metadata": {},
     "output_type": "display_data"
    },
    {
     "data": {
      "application/vnd.jupyter.widget-view+json": {
       "model_id": "2506e5ad5b8a4e15b86eb97bec8e4d19",
       "version_major": 2,
       "version_minor": 0
      },
      "text/plain": [
       "HBox(children=(IntProgress(value=0, max=24), HTML(value='')))"
      ]
     },
     "metadata": {},
     "output_type": "display_data"
    },
    {
     "data": {
      "application/vnd.jupyter.widget-view+json": {
       "model_id": "1e4e94b438654b079f416abfac67070a",
       "version_major": 2,
       "version_minor": 0
      },
      "text/plain": [
       "HBox(children=(IntProgress(value=0, max=24), HTML(value='')))"
      ]
     },
     "metadata": {},
     "output_type": "display_data"
    },
    {
     "data": {
      "application/vnd.jupyter.widget-view+json": {
       "model_id": "0abae3798e8e4761b3c2541348e75d97",
       "version_major": 2,
       "version_minor": 0
      },
      "text/plain": [
       "HBox(children=(IntProgress(value=0, max=24), HTML(value='')))"
      ]
     },
     "metadata": {},
     "output_type": "display_data"
    },
    {
     "data": {
      "application/vnd.jupyter.widget-view+json": {
       "model_id": "8292413c08214c038509596c3a3cfc3f",
       "version_major": 2,
       "version_minor": 0
      },
      "text/plain": [
       "HBox(children=(IntProgress(value=0, max=24), HTML(value='')))"
      ]
     },
     "metadata": {},
     "output_type": "display_data"
    },
    {
     "data": {
      "application/vnd.jupyter.widget-view+json": {
       "model_id": "8a74f036583f4cef9a3d67150dbf6885",
       "version_major": 2,
       "version_minor": 0
      },
      "text/plain": [
       "HBox(children=(IntProgress(value=0, max=24), HTML(value='')))"
      ]
     },
     "metadata": {},
     "output_type": "display_data"
    },
    {
     "data": {
      "application/vnd.jupyter.widget-view+json": {
       "model_id": "594eea3dd4ce425781f727f2174d7686",
       "version_major": 2,
       "version_minor": 0
      },
      "text/plain": [
       "HBox(children=(IntProgress(value=0, max=24), HTML(value='')))"
      ]
     },
     "metadata": {},
     "output_type": "display_data"
    },
    {
     "data": {
      "application/vnd.jupyter.widget-view+json": {
       "model_id": "f68e51c70746488d9811bbcde4c01ebd",
       "version_major": 2,
       "version_minor": 0
      },
      "text/plain": [
       "HBox(children=(IntProgress(value=0, max=24), HTML(value='')))"
      ]
     },
     "metadata": {},
     "output_type": "display_data"
    },
    {
     "data": {
      "application/vnd.jupyter.widget-view+json": {
       "model_id": "2946a13ca3e84439b29d566c4404fe57",
       "version_major": 2,
       "version_minor": 0
      },
      "text/plain": [
       "HBox(children=(IntProgress(value=0, max=24), HTML(value='')))"
      ]
     },
     "metadata": {},
     "output_type": "display_data"
    },
    {
     "data": {
      "application/vnd.jupyter.widget-view+json": {
       "model_id": "d8b2f8ed15fa4dd1a5fddf1257cfe096",
       "version_major": 2,
       "version_minor": 0
      },
      "text/plain": [
       "HBox(children=(IntProgress(value=0, max=24), HTML(value='')))"
      ]
     },
     "metadata": {},
     "output_type": "display_data"
    },
    {
     "data": {
      "application/vnd.jupyter.widget-view+json": {
       "model_id": "55b57afad4e745eabfd2401a9a69edca",
       "version_major": 2,
       "version_minor": 0
      },
      "text/plain": [
       "HBox(children=(IntProgress(value=0, max=24), HTML(value='')))"
      ]
     },
     "metadata": {},
     "output_type": "display_data"
    },
    {
     "data": {
      "application/vnd.jupyter.widget-view+json": {
       "model_id": "7a55d6e4aab3404e9eb5b5ee7dba331a",
       "version_major": 2,
       "version_minor": 0
      },
      "text/plain": [
       "HBox(children=(IntProgress(value=0, max=24), HTML(value='')))"
      ]
     },
     "metadata": {},
     "output_type": "display_data"
    },
    {
     "data": {
      "application/vnd.jupyter.widget-view+json": {
       "model_id": "7ec4f66598fe416eba776e2f35487b5c",
       "version_major": 2,
       "version_minor": 0
      },
      "text/plain": [
       "HBox(children=(IntProgress(value=0, max=24), HTML(value='')))"
      ]
     },
     "metadata": {},
     "output_type": "display_data"
    },
    {
     "data": {
      "application/vnd.jupyter.widget-view+json": {
       "model_id": "59d314f7ce2d4bd89941f743084e40fe",
       "version_major": 2,
       "version_minor": 0
      },
      "text/plain": [
       "HBox(children=(IntProgress(value=0, max=24), HTML(value='')))"
      ]
     },
     "metadata": {},
     "output_type": "display_data"
    },
    {
     "data": {
      "application/vnd.jupyter.widget-view+json": {
       "model_id": "4438d43d4bc346ec805433cea5e0d2a3",
       "version_major": 2,
       "version_minor": 0
      },
      "text/plain": [
       "HBox(children=(IntProgress(value=0, max=24), HTML(value='')))"
      ]
     },
     "metadata": {},
     "output_type": "display_data"
    },
    {
     "data": {
      "application/vnd.jupyter.widget-view+json": {
       "model_id": "16040fc0728b44beb792459dabb3e98d",
       "version_major": 2,
       "version_minor": 0
      },
      "text/plain": [
       "HBox(children=(IntProgress(value=0, max=24), HTML(value='')))"
      ]
     },
     "metadata": {},
     "output_type": "display_data"
    },
    {
     "data": {
      "application/vnd.jupyter.widget-view+json": {
       "model_id": "96f6c3a8c8ec4a74933ff72c6c3f7ea6",
       "version_major": 2,
       "version_minor": 0
      },
      "text/plain": [
       "HBox(children=(IntProgress(value=0, max=24), HTML(value='')))"
      ]
     },
     "metadata": {},
     "output_type": "display_data"
    },
    {
     "data": {
      "application/vnd.jupyter.widget-view+json": {
       "model_id": "234a0bdbe7a44029aff8c2c364c6755e",
       "version_major": 2,
       "version_minor": 0
      },
      "text/plain": [
       "HBox(children=(IntProgress(value=0, max=24), HTML(value='')))"
      ]
     },
     "metadata": {},
     "output_type": "display_data"
    },
    {
     "data": {
      "application/vnd.jupyter.widget-view+json": {
       "model_id": "e1b01ecd66e34f8ead11c5b1b83dc459",
       "version_major": 2,
       "version_minor": 0
      },
      "text/plain": [
       "HBox(children=(IntProgress(value=0, max=24), HTML(value='')))"
      ]
     },
     "metadata": {},
     "output_type": "display_data"
    },
    {
     "data": {
      "application/vnd.jupyter.widget-view+json": {
       "model_id": "7682b54722874dae8554e49351d7a9d4",
       "version_major": 2,
       "version_minor": 0
      },
      "text/plain": [
       "HBox(children=(IntProgress(value=0, max=24), HTML(value='')))"
      ]
     },
     "metadata": {},
     "output_type": "display_data"
    },
    {
     "data": {
      "application/vnd.jupyter.widget-view+json": {
       "model_id": "f39b715580c8446ab79da6d64a340178",
       "version_major": 2,
       "version_minor": 0
      },
      "text/plain": [
       "HBox(children=(IntProgress(value=0, max=24), HTML(value='')))"
      ]
     },
     "metadata": {},
     "output_type": "display_data"
    },
    {
     "data": {
      "application/vnd.jupyter.widget-view+json": {
       "model_id": "c89c21cd94db42158aeaf2dcfdc36066",
       "version_major": 2,
       "version_minor": 0
      },
      "text/plain": [
       "HBox(children=(IntProgress(value=0, max=24), HTML(value='')))"
      ]
     },
     "metadata": {},
     "output_type": "display_data"
    },
    {
     "data": {
      "application/vnd.jupyter.widget-view+json": {
       "model_id": "ab103b1081344664a20a3baede587682",
       "version_major": 2,
       "version_minor": 0
      },
      "text/plain": [
       "HBox(children=(IntProgress(value=0, max=24), HTML(value='')))"
      ]
     },
     "metadata": {},
     "output_type": "display_data"
    },
    {
     "data": {
      "application/vnd.jupyter.widget-view+json": {
       "model_id": "623964e3755e4fe293b2931f8d82afd6",
       "version_major": 2,
       "version_minor": 0
      },
      "text/plain": [
       "HBox(children=(IntProgress(value=0, max=24), HTML(value='')))"
      ]
     },
     "metadata": {},
     "output_type": "display_data"
    },
    {
     "data": {
      "application/vnd.jupyter.widget-view+json": {
       "model_id": "6221becb046744cebfe0020017d3227e",
       "version_major": 2,
       "version_minor": 0
      },
      "text/plain": [
       "HBox(children=(IntProgress(value=0, max=24), HTML(value='')))"
      ]
     },
     "metadata": {},
     "output_type": "display_data"
    },
    {
     "data": {
      "application/vnd.jupyter.widget-view+json": {
       "model_id": "4bdb0ad53f87489880ed244f1f1e3efa",
       "version_major": 2,
       "version_minor": 0
      },
      "text/plain": [
       "HBox(children=(IntProgress(value=0, max=24), HTML(value='')))"
      ]
     },
     "metadata": {},
     "output_type": "display_data"
    },
    {
     "data": {
      "application/vnd.jupyter.widget-view+json": {
       "model_id": "c1287ebcdb784cb2ad7cacfe43a43970",
       "version_major": 2,
       "version_minor": 0
      },
      "text/plain": [
       "HBox(children=(IntProgress(value=0, max=24), HTML(value='')))"
      ]
     },
     "metadata": {},
     "output_type": "display_data"
    },
    {
     "data": {
      "application/vnd.jupyter.widget-view+json": {
       "model_id": "e8fa188f864942f188281092ab84e3a1",
       "version_major": 2,
       "version_minor": 0
      },
      "text/plain": [
       "HBox(children=(IntProgress(value=0, max=24), HTML(value='')))"
      ]
     },
     "metadata": {},
     "output_type": "display_data"
    },
    {
     "data": {
      "application/vnd.jupyter.widget-view+json": {
       "model_id": "0e0e2064f5784e74bf0eb9fe20e16762",
       "version_major": 2,
       "version_minor": 0
      },
      "text/plain": [
       "HBox(children=(IntProgress(value=0, max=24), HTML(value='')))"
      ]
     },
     "metadata": {},
     "output_type": "display_data"
    },
    {
     "data": {
      "application/vnd.jupyter.widget-view+json": {
       "model_id": "f8b396a228044111bf52cd5761cf0c3e",
       "version_major": 2,
       "version_minor": 0
      },
      "text/plain": [
       "HBox(children=(IntProgress(value=0, max=24), HTML(value='')))"
      ]
     },
     "metadata": {},
     "output_type": "display_data"
    },
    {
     "data": {
      "application/vnd.jupyter.widget-view+json": {
       "model_id": "6479e86e2c664564af068b4bda968427",
       "version_major": 2,
       "version_minor": 0
      },
      "text/plain": [
       "HBox(children=(IntProgress(value=0, max=24), HTML(value='')))"
      ]
     },
     "metadata": {},
     "output_type": "display_data"
    },
    {
     "data": {
      "application/vnd.jupyter.widget-view+json": {
       "model_id": "578decf91cc347ae8ca45310f7235bd5",
       "version_major": 2,
       "version_minor": 0
      },
      "text/plain": [
       "HBox(children=(IntProgress(value=0, max=24), HTML(value='')))"
      ]
     },
     "metadata": {},
     "output_type": "display_data"
    },
    {
     "data": {
      "application/vnd.jupyter.widget-view+json": {
       "model_id": "5634a0cbdffe469d9fedc41b1c76666a",
       "version_major": 2,
       "version_minor": 0
      },
      "text/plain": [
       "HBox(children=(IntProgress(value=0, max=24), HTML(value='')))"
      ]
     },
     "metadata": {},
     "output_type": "display_data"
    },
    {
     "data": {
      "application/vnd.jupyter.widget-view+json": {
       "model_id": "f335b9ef7b084852ad8da93050256336",
       "version_major": 2,
       "version_minor": 0
      },
      "text/plain": [
       "HBox(children=(IntProgress(value=0, max=24), HTML(value='')))"
      ]
     },
     "metadata": {},
     "output_type": "display_data"
    },
    {
     "data": {
      "application/vnd.jupyter.widget-view+json": {
       "model_id": "6d625b96a4724abd82c492f988bcf5be",
       "version_major": 2,
       "version_minor": 0
      },
      "text/plain": [
       "HBox(children=(IntProgress(value=0, max=24), HTML(value='')))"
      ]
     },
     "metadata": {},
     "output_type": "display_data"
    },
    {
     "data": {
      "application/vnd.jupyter.widget-view+json": {
       "model_id": "543af7f3bac94c1fac1792590034792a",
       "version_major": 2,
       "version_minor": 0
      },
      "text/plain": [
       "HBox(children=(IntProgress(value=0, max=24), HTML(value='')))"
      ]
     },
     "metadata": {},
     "output_type": "display_data"
    },
    {
     "data": {
      "application/vnd.jupyter.widget-view+json": {
       "model_id": "516b97fa78004b28bd33ba830bed068c",
       "version_major": 2,
       "version_minor": 0
      },
      "text/plain": [
       "HBox(children=(IntProgress(value=0, max=24), HTML(value='')))"
      ]
     },
     "metadata": {},
     "output_type": "display_data"
    },
    {
     "data": {
      "application/vnd.jupyter.widget-view+json": {
       "model_id": "c989052977e04b6ab9616622fa7a05f7",
       "version_major": 2,
       "version_minor": 0
      },
      "text/plain": [
       "HBox(children=(IntProgress(value=0, max=24), HTML(value='')))"
      ]
     },
     "metadata": {},
     "output_type": "display_data"
    },
    {
     "data": {
      "application/vnd.jupyter.widget-view+json": {
       "model_id": "48a01d6c649f4c389af6c1649d7b796f",
       "version_major": 2,
       "version_minor": 0
      },
      "text/plain": [
       "HBox(children=(IntProgress(value=0, max=24), HTML(value='')))"
      ]
     },
     "metadata": {},
     "output_type": "display_data"
    },
    {
     "data": {
      "application/vnd.jupyter.widget-view+json": {
       "model_id": "3cacb0bd565e41cba64f8051a6dcd5ec",
       "version_major": 2,
       "version_minor": 0
      },
      "text/plain": [
       "HBox(children=(IntProgress(value=0, max=24), HTML(value='')))"
      ]
     },
     "metadata": {},
     "output_type": "display_data"
    },
    {
     "data": {
      "application/vnd.jupyter.widget-view+json": {
       "model_id": "130b686296974fb0a0b014ef050f6342",
       "version_major": 2,
       "version_minor": 0
      },
      "text/plain": [
       "HBox(children=(IntProgress(value=0, max=24), HTML(value='')))"
      ]
     },
     "metadata": {},
     "output_type": "display_data"
    },
    {
     "data": {
      "application/vnd.jupyter.widget-view+json": {
       "model_id": "94202e1f5d514183bc792d0c7bda33d9",
       "version_major": 2,
       "version_minor": 0
      },
      "text/plain": [
       "HBox(children=(IntProgress(value=0, max=24), HTML(value='')))"
      ]
     },
     "metadata": {},
     "output_type": "display_data"
    },
    {
     "data": {
      "application/vnd.jupyter.widget-view+json": {
       "model_id": "bacec2f3718941278d7b6fa0058e01af",
       "version_major": 2,
       "version_minor": 0
      },
      "text/plain": [
       "HBox(children=(IntProgress(value=0, max=24), HTML(value='')))"
      ]
     },
     "metadata": {},
     "output_type": "display_data"
    },
    {
     "data": {
      "application/vnd.jupyter.widget-view+json": {
       "model_id": "98a82e7f03e94edda7156e9dee66cc56",
       "version_major": 2,
       "version_minor": 0
      },
      "text/plain": [
       "HBox(children=(IntProgress(value=0, max=24), HTML(value='')))"
      ]
     },
     "metadata": {},
     "output_type": "display_data"
    },
    {
     "data": {
      "application/vnd.jupyter.widget-view+json": {
       "model_id": "0d1c660b83354665acab6fc0634393e6",
       "version_major": 2,
       "version_minor": 0
      },
      "text/plain": [
       "HBox(children=(IntProgress(value=0, max=24), HTML(value='')))"
      ]
     },
     "metadata": {},
     "output_type": "display_data"
    },
    {
     "data": {
      "application/vnd.jupyter.widget-view+json": {
       "model_id": "a0a7eab909074aab9b89ae95fa702394",
       "version_major": 2,
       "version_minor": 0
      },
      "text/plain": [
       "HBox(children=(IntProgress(value=0, max=24), HTML(value='')))"
      ]
     },
     "metadata": {},
     "output_type": "display_data"
    },
    {
     "data": {
      "application/vnd.jupyter.widget-view+json": {
       "model_id": "f3477cf9e8b2493ea2a170179b770ebf",
       "version_major": 2,
       "version_minor": 0
      },
      "text/plain": [
       "HBox(children=(IntProgress(value=0, max=24), HTML(value='')))"
      ]
     },
     "metadata": {},
     "output_type": "display_data"
    },
    {
     "data": {
      "application/vnd.jupyter.widget-view+json": {
       "model_id": "b8336476be2346a98a58a9718cb3a4cd",
       "version_major": 2,
       "version_minor": 0
      },
      "text/plain": [
       "HBox(children=(IntProgress(value=0, max=24), HTML(value='')))"
      ]
     },
     "metadata": {},
     "output_type": "display_data"
    },
    {
     "data": {
      "application/vnd.jupyter.widget-view+json": {
       "model_id": "607dd6109f704a66a647a4654969eb6f",
       "version_major": 2,
       "version_minor": 0
      },
      "text/plain": [
       "HBox(children=(IntProgress(value=0, max=24), HTML(value='')))"
      ]
     },
     "metadata": {},
     "output_type": "display_data"
    },
    {
     "data": {
      "application/vnd.jupyter.widget-view+json": {
       "model_id": "47c7e95fe8494f0d913de6f91e0fda3c",
       "version_major": 2,
       "version_minor": 0
      },
      "text/plain": [
       "HBox(children=(IntProgress(value=0, max=24), HTML(value='')))"
      ]
     },
     "metadata": {},
     "output_type": "display_data"
    },
    {
     "data": {
      "application/vnd.jupyter.widget-view+json": {
       "model_id": "257f14385a7341c1bd240b515ba5b126",
       "version_major": 2,
       "version_minor": 0
      },
      "text/plain": [
       "HBox(children=(IntProgress(value=0, max=24), HTML(value='')))"
      ]
     },
     "metadata": {},
     "output_type": "display_data"
    },
    {
     "data": {
      "application/vnd.jupyter.widget-view+json": {
       "model_id": "cd1c62de3a384d91a1a8d1236c87ea82",
       "version_major": 2,
       "version_minor": 0
      },
      "text/plain": [
       "HBox(children=(IntProgress(value=0, max=24), HTML(value='')))"
      ]
     },
     "metadata": {},
     "output_type": "display_data"
    },
    {
     "data": {
      "application/vnd.jupyter.widget-view+json": {
       "model_id": "ce2472c42e104e1e9a969e8182cc8970",
       "version_major": 2,
       "version_minor": 0
      },
      "text/plain": [
       "HBox(children=(IntProgress(value=0, max=24), HTML(value='')))"
      ]
     },
     "metadata": {},
     "output_type": "display_data"
    },
    {
     "data": {
      "application/vnd.jupyter.widget-view+json": {
       "model_id": "52f101284d02437ea971c93349815670",
       "version_major": 2,
       "version_minor": 0
      },
      "text/plain": [
       "HBox(children=(IntProgress(value=0, max=24), HTML(value='')))"
      ]
     },
     "metadata": {},
     "output_type": "display_data"
    },
    {
     "data": {
      "application/vnd.jupyter.widget-view+json": {
       "model_id": "a3242e8671854e149bce962562caf3ef",
       "version_major": 2,
       "version_minor": 0
      },
      "text/plain": [
       "HBox(children=(IntProgress(value=0, max=24), HTML(value='')))"
      ]
     },
     "metadata": {},
     "output_type": "display_data"
    },
    {
     "data": {
      "application/vnd.jupyter.widget-view+json": {
       "model_id": "eaad507f41c548aa8c54142fff35a96d",
       "version_major": 2,
       "version_minor": 0
      },
      "text/plain": [
       "HBox(children=(IntProgress(value=0, max=24), HTML(value='')))"
      ]
     },
     "metadata": {},
     "output_type": "display_data"
    },
    {
     "data": {
      "application/vnd.jupyter.widget-view+json": {
       "model_id": "8e7d5db41b564eef85b50df8df719658",
       "version_major": 2,
       "version_minor": 0
      },
      "text/plain": [
       "HBox(children=(IntProgress(value=0, max=24), HTML(value='')))"
      ]
     },
     "metadata": {},
     "output_type": "display_data"
    },
    {
     "data": {
      "application/vnd.jupyter.widget-view+json": {
       "model_id": "6365495057c64c29b49db6462a03b0fe",
       "version_major": 2,
       "version_minor": 0
      },
      "text/plain": [
       "HBox(children=(IntProgress(value=0, max=24), HTML(value='')))"
      ]
     },
     "metadata": {},
     "output_type": "display_data"
    },
    {
     "data": {
      "application/vnd.jupyter.widget-view+json": {
       "model_id": "d59290ffbdb64b37b775689f6855c354",
       "version_major": 2,
       "version_minor": 0
      },
      "text/plain": [
       "HBox(children=(IntProgress(value=0, max=24), HTML(value='')))"
      ]
     },
     "metadata": {},
     "output_type": "display_data"
    },
    {
     "data": {
      "application/vnd.jupyter.widget-view+json": {
       "model_id": "49f669e00a854dc18f027016326c65a9",
       "version_major": 2,
       "version_minor": 0
      },
      "text/plain": [
       "HBox(children=(IntProgress(value=0, max=24), HTML(value='')))"
      ]
     },
     "metadata": {},
     "output_type": "display_data"
    },
    {
     "data": {
      "application/vnd.jupyter.widget-view+json": {
       "model_id": "ae47dbc74de34e74be0ebe4cbb96733c",
       "version_major": 2,
       "version_minor": 0
      },
      "text/plain": [
       "HBox(children=(IntProgress(value=0, max=24), HTML(value='')))"
      ]
     },
     "metadata": {},
     "output_type": "display_data"
    },
    {
     "data": {
      "application/vnd.jupyter.widget-view+json": {
       "model_id": "5b407bfa4d554777a501ab3b2c401ccd",
       "version_major": 2,
       "version_minor": 0
      },
      "text/plain": [
       "HBox(children=(IntProgress(value=0, max=24), HTML(value='')))"
      ]
     },
     "metadata": {},
     "output_type": "display_data"
    },
    {
     "data": {
      "application/vnd.jupyter.widget-view+json": {
       "model_id": "81e0017d803f45bca4b4e441d4565c93",
       "version_major": 2,
       "version_minor": 0
      },
      "text/plain": [
       "HBox(children=(IntProgress(value=0, max=24), HTML(value='')))"
      ]
     },
     "metadata": {},
     "output_type": "display_data"
    },
    {
     "data": {
      "application/vnd.jupyter.widget-view+json": {
       "model_id": "f9ab1916db104e2e94b6d23dbb4877b6",
       "version_major": 2,
       "version_minor": 0
      },
      "text/plain": [
       "HBox(children=(IntProgress(value=0, max=24), HTML(value='')))"
      ]
     },
     "metadata": {},
     "output_type": "display_data"
    },
    {
     "data": {
      "application/vnd.jupyter.widget-view+json": {
       "model_id": "e0ced632b8a94eb6a485a0d00dc4685b",
       "version_major": 2,
       "version_minor": 0
      },
      "text/plain": [
       "HBox(children=(IntProgress(value=0, max=24), HTML(value='')))"
      ]
     },
     "metadata": {},
     "output_type": "display_data"
    },
    {
     "data": {
      "application/vnd.jupyter.widget-view+json": {
       "model_id": "451f084249674bfaa15cc036a1132835",
       "version_major": 2,
       "version_minor": 0
      },
      "text/plain": [
       "HBox(children=(IntProgress(value=0, max=24), HTML(value='')))"
      ]
     },
     "metadata": {},
     "output_type": "display_data"
    },
    {
     "data": {
      "application/vnd.jupyter.widget-view+json": {
       "model_id": "6e8329f0a4f042dd9ab989b639c7d468",
       "version_major": 2,
       "version_minor": 0
      },
      "text/plain": [
       "HBox(children=(IntProgress(value=0, max=24), HTML(value='')))"
      ]
     },
     "metadata": {},
     "output_type": "display_data"
    },
    {
     "data": {
      "application/vnd.jupyter.widget-view+json": {
       "model_id": "65875ec99bf448f08c0ed6a6de8349e5",
       "version_major": 2,
       "version_minor": 0
      },
      "text/plain": [
       "HBox(children=(IntProgress(value=0, max=24), HTML(value='')))"
      ]
     },
     "metadata": {},
     "output_type": "display_data"
    },
    {
     "data": {
      "application/vnd.jupyter.widget-view+json": {
       "model_id": "0309cc5bec4c45b8a6b1a0cc068d0ab7",
       "version_major": 2,
       "version_minor": 0
      },
      "text/plain": [
       "HBox(children=(IntProgress(value=0, max=24), HTML(value='')))"
      ]
     },
     "metadata": {},
     "output_type": "display_data"
    },
    {
     "data": {
      "application/vnd.jupyter.widget-view+json": {
       "model_id": "88f5d0a7e2e64df6a371302c908228b4",
       "version_major": 2,
       "version_minor": 0
      },
      "text/plain": [
       "HBox(children=(IntProgress(value=0, max=24), HTML(value='')))"
      ]
     },
     "metadata": {},
     "output_type": "display_data"
    },
    {
     "data": {
      "application/vnd.jupyter.widget-view+json": {
       "model_id": "c237d919f2874788b920088b46113e24",
       "version_major": 2,
       "version_minor": 0
      },
      "text/plain": [
       "HBox(children=(IntProgress(value=0, max=24), HTML(value='')))"
      ]
     },
     "metadata": {},
     "output_type": "display_data"
    },
    {
     "data": {
      "application/vnd.jupyter.widget-view+json": {
       "model_id": "734b6d96b3514fa49290e0382c8659bd",
       "version_major": 2,
       "version_minor": 0
      },
      "text/plain": [
       "HBox(children=(IntProgress(value=0, max=24), HTML(value='')))"
      ]
     },
     "metadata": {},
     "output_type": "display_data"
    },
    {
     "data": {
      "application/vnd.jupyter.widget-view+json": {
       "model_id": "d9b945bc9b5349f89ed9441a81c1d277",
       "version_major": 2,
       "version_minor": 0
      },
      "text/plain": [
       "HBox(children=(IntProgress(value=0, max=24), HTML(value='')))"
      ]
     },
     "metadata": {},
     "output_type": "display_data"
    },
    {
     "data": {
      "application/vnd.jupyter.widget-view+json": {
       "model_id": "c486d6ce24cf479d9577dd9674495fa9",
       "version_major": 2,
       "version_minor": 0
      },
      "text/plain": [
       "HBox(children=(IntProgress(value=0, max=24), HTML(value='')))"
      ]
     },
     "metadata": {},
     "output_type": "display_data"
    },
    {
     "data": {
      "application/vnd.jupyter.widget-view+json": {
       "model_id": "6befb30f2bba4a80a3212c00749e8455",
       "version_major": 2,
       "version_minor": 0
      },
      "text/plain": [
       "HBox(children=(IntProgress(value=0, max=24), HTML(value='')))"
      ]
     },
     "metadata": {},
     "output_type": "display_data"
    },
    {
     "data": {
      "application/vnd.jupyter.widget-view+json": {
       "model_id": "e18d54a97b1b47098e6d0afba2df2aa4",
       "version_major": 2,
       "version_minor": 0
      },
      "text/plain": [
       "HBox(children=(IntProgress(value=0, max=24), HTML(value='')))"
      ]
     },
     "metadata": {},
     "output_type": "display_data"
    },
    {
     "data": {
      "application/vnd.jupyter.widget-view+json": {
       "model_id": "5274ac64cd9e4d5cab6e9580ff0a6c87",
       "version_major": 2,
       "version_minor": 0
      },
      "text/plain": [
       "HBox(children=(IntProgress(value=0, max=24), HTML(value='')))"
      ]
     },
     "metadata": {},
     "output_type": "display_data"
    },
    {
     "data": {
      "application/vnd.jupyter.widget-view+json": {
       "model_id": "f4ba18d6bfc74620bf3df76eeab35de2",
       "version_major": 2,
       "version_minor": 0
      },
      "text/plain": [
       "HBox(children=(IntProgress(value=0, max=24), HTML(value='')))"
      ]
     },
     "metadata": {},
     "output_type": "display_data"
    },
    {
     "data": {
      "application/vnd.jupyter.widget-view+json": {
       "model_id": "0e44de85631146ba970bb988174c2d2d",
       "version_major": 2,
       "version_minor": 0
      },
      "text/plain": [
       "HBox(children=(IntProgress(value=0, max=24), HTML(value='')))"
      ]
     },
     "metadata": {},
     "output_type": "display_data"
    },
    {
     "data": {
      "application/vnd.jupyter.widget-view+json": {
       "model_id": "b6a1ec57658d40dd913bb2123365e2a5",
       "version_major": 2,
       "version_minor": 0
      },
      "text/plain": [
       "HBox(children=(IntProgress(value=0, max=24), HTML(value='')))"
      ]
     },
     "metadata": {},
     "output_type": "display_data"
    },
    {
     "data": {
      "application/vnd.jupyter.widget-view+json": {
       "model_id": "be1f1bf4172d4f2baae3c01722c97a28",
       "version_major": 2,
       "version_minor": 0
      },
      "text/plain": [
       "HBox(children=(IntProgress(value=0, max=24), HTML(value='')))"
      ]
     },
     "metadata": {},
     "output_type": "display_data"
    },
    {
     "data": {
      "application/vnd.jupyter.widget-view+json": {
       "model_id": "c6b24d0c8d4e407ebc8942cdd648b846",
       "version_major": 2,
       "version_minor": 0
      },
      "text/plain": [
       "HBox(children=(IntProgress(value=0, max=24), HTML(value='')))"
      ]
     },
     "metadata": {},
     "output_type": "display_data"
    },
    {
     "data": {
      "application/vnd.jupyter.widget-view+json": {
       "model_id": "943643bc8a81443b98c29eb6c824c991",
       "version_major": 2,
       "version_minor": 0
      },
      "text/plain": [
       "HBox(children=(IntProgress(value=0, max=24), HTML(value='')))"
      ]
     },
     "metadata": {},
     "output_type": "display_data"
    },
    {
     "data": {
      "application/vnd.jupyter.widget-view+json": {
       "model_id": "19d14f82b6d24d48908bdb342f361b02",
       "version_major": 2,
       "version_minor": 0
      },
      "text/plain": [
       "HBox(children=(IntProgress(value=0, max=24), HTML(value='')))"
      ]
     },
     "metadata": {},
     "output_type": "display_data"
    },
    {
     "data": {
      "application/vnd.jupyter.widget-view+json": {
       "model_id": "cb54576c9c5c430fb93dc3c93bf71e80",
       "version_major": 2,
       "version_minor": 0
      },
      "text/plain": [
       "HBox(children=(IntProgress(value=0, max=24), HTML(value='')))"
      ]
     },
     "metadata": {},
     "output_type": "display_data"
    },
    {
     "data": {
      "application/vnd.jupyter.widget-view+json": {
       "model_id": "f5d2fe07149e4f7a901c08619224b126",
       "version_major": 2,
       "version_minor": 0
      },
      "text/plain": [
       "HBox(children=(IntProgress(value=0, max=24), HTML(value='')))"
      ]
     },
     "metadata": {},
     "output_type": "display_data"
    },
    {
     "data": {
      "application/vnd.jupyter.widget-view+json": {
       "model_id": "8f066cb0f5a845a89920ee805cc00c5f",
       "version_major": 2,
       "version_minor": 0
      },
      "text/plain": [
       "HBox(children=(IntProgress(value=0, max=24), HTML(value='')))"
      ]
     },
     "metadata": {},
     "output_type": "display_data"
    },
    {
     "data": {
      "application/vnd.jupyter.widget-view+json": {
       "model_id": "a1e6d2d446ae4c8aba2a9f51791a7669",
       "version_major": 2,
       "version_minor": 0
      },
      "text/plain": [
       "HBox(children=(IntProgress(value=0, max=24), HTML(value='')))"
      ]
     },
     "metadata": {},
     "output_type": "display_data"
    },
    {
     "data": {
      "application/vnd.jupyter.widget-view+json": {
       "model_id": "edc91b191c1c48059703e3862d886780",
       "version_major": 2,
       "version_minor": 0
      },
      "text/plain": [
       "HBox(children=(IntProgress(value=0, max=24), HTML(value='')))"
      ]
     },
     "metadata": {},
     "output_type": "display_data"
    },
    {
     "data": {
      "application/vnd.jupyter.widget-view+json": {
       "model_id": "9504ec044cf141bfa074fe4181376dbe",
       "version_major": 2,
       "version_minor": 0
      },
      "text/plain": [
       "HBox(children=(IntProgress(value=0, max=24), HTML(value='')))"
      ]
     },
     "metadata": {},
     "output_type": "display_data"
    },
    {
     "data": {
      "application/vnd.jupyter.widget-view+json": {
       "model_id": "e820c0d95ba2497e824a3a237c041b91",
       "version_major": 2,
       "version_minor": 0
      },
      "text/plain": [
       "HBox(children=(IntProgress(value=0, max=24), HTML(value='')))"
      ]
     },
     "metadata": {},
     "output_type": "display_data"
    },
    {
     "data": {
      "application/vnd.jupyter.widget-view+json": {
       "model_id": "e34df1e29cd244ef81b05638ea236864",
       "version_major": 2,
       "version_minor": 0
      },
      "text/plain": [
       "HBox(children=(IntProgress(value=0, max=24), HTML(value='')))"
      ]
     },
     "metadata": {},
     "output_type": "display_data"
    },
    {
     "data": {
      "application/vnd.jupyter.widget-view+json": {
       "model_id": "31f076a1c39d4105afc639ed527d93f1",
       "version_major": 2,
       "version_minor": 0
      },
      "text/plain": [
       "HBox(children=(IntProgress(value=0, max=24), HTML(value='')))"
      ]
     },
     "metadata": {},
     "output_type": "display_data"
    },
    {
     "data": {
      "application/vnd.jupyter.widget-view+json": {
       "model_id": "294964bf320443a29e821012b7567c6a",
       "version_major": 2,
       "version_minor": 0
      },
      "text/plain": [
       "HBox(children=(IntProgress(value=0, max=24), HTML(value='')))"
      ]
     },
     "metadata": {},
     "output_type": "display_data"
    },
    {
     "data": {
      "application/vnd.jupyter.widget-view+json": {
       "model_id": "73aef30e69e34a93ab304305b46f3c48",
       "version_major": 2,
       "version_minor": 0
      },
      "text/plain": [
       "HBox(children=(IntProgress(value=0, max=24), HTML(value='')))"
      ]
     },
     "metadata": {},
     "output_type": "display_data"
    },
    {
     "data": {
      "application/vnd.jupyter.widget-view+json": {
       "model_id": "238ba289bb064bb490deb5245f6b38e8",
       "version_major": 2,
       "version_minor": 0
      },
      "text/plain": [
       "HBox(children=(IntProgress(value=0, max=24), HTML(value='')))"
      ]
     },
     "metadata": {},
     "output_type": "display_data"
    },
    {
     "data": {
      "application/vnd.jupyter.widget-view+json": {
       "model_id": "be88838db74c4b21b8a8dbf57237db28",
       "version_major": 2,
       "version_minor": 0
      },
      "text/plain": [
       "HBox(children=(IntProgress(value=0, max=24), HTML(value='')))"
      ]
     },
     "metadata": {},
     "output_type": "display_data"
    },
    {
     "data": {
      "application/vnd.jupyter.widget-view+json": {
       "model_id": "bb1e3ec666114e478637ae38e1213e0f",
       "version_major": 2,
       "version_minor": 0
      },
      "text/plain": [
       "HBox(children=(IntProgress(value=0, max=24), HTML(value='')))"
      ]
     },
     "metadata": {},
     "output_type": "display_data"
    },
    {
     "data": {
      "application/vnd.jupyter.widget-view+json": {
       "model_id": "c13dd4ed3831435fadd76935aaee0f91",
       "version_major": 2,
       "version_minor": 0
      },
      "text/plain": [
       "HBox(children=(IntProgress(value=0, max=24), HTML(value='')))"
      ]
     },
     "metadata": {},
     "output_type": "display_data"
    },
    {
     "data": {
      "application/vnd.jupyter.widget-view+json": {
       "model_id": "80385ed29c7b4ec2ba9b10fa85f5e950",
       "version_major": 2,
       "version_minor": 0
      },
      "text/plain": [
       "HBox(children=(IntProgress(value=0, max=24), HTML(value='')))"
      ]
     },
     "metadata": {},
     "output_type": "display_data"
    },
    {
     "data": {
      "application/vnd.jupyter.widget-view+json": {
       "model_id": "f632838930c841dfaf77fc4b5e9a1990",
       "version_major": 2,
       "version_minor": 0
      },
      "text/plain": [
       "HBox(children=(IntProgress(value=0, max=24), HTML(value='')))"
      ]
     },
     "metadata": {},
     "output_type": "display_data"
    },
    {
     "data": {
      "application/vnd.jupyter.widget-view+json": {
       "model_id": "939a5704b3dd49deabd166c25c60923f",
       "version_major": 2,
       "version_minor": 0
      },
      "text/plain": [
       "HBox(children=(IntProgress(value=0, max=24), HTML(value='')))"
      ]
     },
     "metadata": {},
     "output_type": "display_data"
    },
    {
     "data": {
      "application/vnd.jupyter.widget-view+json": {
       "model_id": "d4f6c9f3d2ca405a8bcc482a5e71f3f4",
       "version_major": 2,
       "version_minor": 0
      },
      "text/plain": [
       "HBox(children=(IntProgress(value=0, max=24), HTML(value='')))"
      ]
     },
     "metadata": {},
     "output_type": "display_data"
    },
    {
     "data": {
      "application/vnd.jupyter.widget-view+json": {
       "model_id": "7211794cd91f476b994fcae8af840356",
       "version_major": 2,
       "version_minor": 0
      },
      "text/plain": [
       "HBox(children=(IntProgress(value=0, max=24), HTML(value='')))"
      ]
     },
     "metadata": {},
     "output_type": "display_data"
    },
    {
     "data": {
      "application/vnd.jupyter.widget-view+json": {
       "model_id": "d3159b3ab35349cbaa174af9962ed50e",
       "version_major": 2,
       "version_minor": 0
      },
      "text/plain": [
       "HBox(children=(IntProgress(value=0, max=24), HTML(value='')))"
      ]
     },
     "metadata": {},
     "output_type": "display_data"
    },
    {
     "data": {
      "application/vnd.jupyter.widget-view+json": {
       "model_id": "108204a0e51b4eceafc8621aa5c453a9",
       "version_major": 2,
       "version_minor": 0
      },
      "text/plain": [
       "HBox(children=(IntProgress(value=0, max=24), HTML(value='')))"
      ]
     },
     "metadata": {},
     "output_type": "display_data"
    },
    {
     "data": {
      "application/vnd.jupyter.widget-view+json": {
       "model_id": "3da89e804bb9458482bf12d0c910e69e",
       "version_major": 2,
       "version_minor": 0
      },
      "text/plain": [
       "HBox(children=(IntProgress(value=0, max=24), HTML(value='')))"
      ]
     },
     "metadata": {},
     "output_type": "display_data"
    },
    {
     "data": {
      "application/vnd.jupyter.widget-view+json": {
       "model_id": "91253020c7b547d2b17d6c08bdd82720",
       "version_major": 2,
       "version_minor": 0
      },
      "text/plain": [
       "HBox(children=(IntProgress(value=0, max=24), HTML(value='')))"
      ]
     },
     "metadata": {},
     "output_type": "display_data"
    },
    {
     "data": {
      "application/vnd.jupyter.widget-view+json": {
       "model_id": "6e04a73d2bdc495ca42ec7a7a9ac070b",
       "version_major": 2,
       "version_minor": 0
      },
      "text/plain": [
       "HBox(children=(IntProgress(value=0, max=24), HTML(value='')))"
      ]
     },
     "metadata": {},
     "output_type": "display_data"
    },
    {
     "data": {
      "application/vnd.jupyter.widget-view+json": {
       "model_id": "bacde6d647694b2f8a0d0b220891ac49",
       "version_major": 2,
       "version_minor": 0
      },
      "text/plain": [
       "HBox(children=(IntProgress(value=0, max=24), HTML(value='')))"
      ]
     },
     "metadata": {},
     "output_type": "display_data"
    },
    {
     "data": {
      "application/vnd.jupyter.widget-view+json": {
       "model_id": "b98bc7da6300492a82aad30ea0a39b2d",
       "version_major": 2,
       "version_minor": 0
      },
      "text/plain": [
       "HBox(children=(IntProgress(value=0, max=24), HTML(value='')))"
      ]
     },
     "metadata": {},
     "output_type": "display_data"
    },
    {
     "data": {
      "application/vnd.jupyter.widget-view+json": {
       "model_id": "bab0abe1a026499e9d98b20f14783da5",
       "version_major": 2,
       "version_minor": 0
      },
      "text/plain": [
       "HBox(children=(IntProgress(value=0, max=24), HTML(value='')))"
      ]
     },
     "metadata": {},
     "output_type": "display_data"
    },
    {
     "data": {
      "application/vnd.jupyter.widget-view+json": {
       "model_id": "d861a7ef98964e3c843e8303a1c29dfb",
       "version_major": 2,
       "version_minor": 0
      },
      "text/plain": [
       "HBox(children=(IntProgress(value=0, max=24), HTML(value='')))"
      ]
     },
     "metadata": {},
     "output_type": "display_data"
    },
    {
     "data": {
      "application/vnd.jupyter.widget-view+json": {
       "model_id": "41a5aa20b57a4ebd99a67d9dbe4edf4e",
       "version_major": 2,
       "version_minor": 0
      },
      "text/plain": [
       "HBox(children=(IntProgress(value=0, max=24), HTML(value='')))"
      ]
     },
     "metadata": {},
     "output_type": "display_data"
    },
    {
     "data": {
      "application/vnd.jupyter.widget-view+json": {
       "model_id": "e9abf42e055840338a51b4227cd61b62",
       "version_major": 2,
       "version_minor": 0
      },
      "text/plain": [
       "HBox(children=(IntProgress(value=0, max=24), HTML(value='')))"
      ]
     },
     "metadata": {},
     "output_type": "display_data"
    },
    {
     "data": {
      "application/vnd.jupyter.widget-view+json": {
       "model_id": "d48ab08c1a8b437d8d9b5631a9586662",
       "version_major": 2,
       "version_minor": 0
      },
      "text/plain": [
       "HBox(children=(IntProgress(value=0, max=24), HTML(value='')))"
      ]
     },
     "metadata": {},
     "output_type": "display_data"
    },
    {
     "data": {
      "application/vnd.jupyter.widget-view+json": {
       "model_id": "44362e481bf84e1da42e7d5e9e29a9ce",
       "version_major": 2,
       "version_minor": 0
      },
      "text/plain": [
       "HBox(children=(IntProgress(value=0, max=24), HTML(value='')))"
      ]
     },
     "metadata": {},
     "output_type": "display_data"
    },
    {
     "data": {
      "application/vnd.jupyter.widget-view+json": {
       "model_id": "c15dd6e532c3409ea03404c395272185",
       "version_major": 2,
       "version_minor": 0
      },
      "text/plain": [
       "HBox(children=(IntProgress(value=0, max=24), HTML(value='')))"
      ]
     },
     "metadata": {},
     "output_type": "display_data"
    },
    {
     "data": {
      "application/vnd.jupyter.widget-view+json": {
       "model_id": "520e94b10c104d21ad8bd330f45271b9",
       "version_major": 2,
       "version_minor": 0
      },
      "text/plain": [
       "HBox(children=(IntProgress(value=0, max=24), HTML(value='')))"
      ]
     },
     "metadata": {},
     "output_type": "display_data"
    },
    {
     "data": {
      "application/vnd.jupyter.widget-view+json": {
       "model_id": "b9fe170b7736435682eace807d9ff1d7",
       "version_major": 2,
       "version_minor": 0
      },
      "text/plain": [
       "HBox(children=(IntProgress(value=0, max=24), HTML(value='')))"
      ]
     },
     "metadata": {},
     "output_type": "display_data"
    },
    {
     "data": {
      "application/vnd.jupyter.widget-view+json": {
       "model_id": "8ae76878853641969fed16379b3f9afe",
       "version_major": 2,
       "version_minor": 0
      },
      "text/plain": [
       "HBox(children=(IntProgress(value=0, max=24), HTML(value='')))"
      ]
     },
     "metadata": {},
     "output_type": "display_data"
    },
    {
     "data": {
      "application/vnd.jupyter.widget-view+json": {
       "model_id": "c41841086bf448fc96683fa049f00eb7",
       "version_major": 2,
       "version_minor": 0
      },
      "text/plain": [
       "HBox(children=(IntProgress(value=0, max=24), HTML(value='')))"
      ]
     },
     "metadata": {},
     "output_type": "display_data"
    },
    {
     "data": {
      "application/vnd.jupyter.widget-view+json": {
       "model_id": "26ff61a3980b436fac5f43a24484c2c6",
       "version_major": 2,
       "version_minor": 0
      },
      "text/plain": [
       "HBox(children=(IntProgress(value=0, max=24), HTML(value='')))"
      ]
     },
     "metadata": {},
     "output_type": "display_data"
    },
    {
     "data": {
      "application/vnd.jupyter.widget-view+json": {
       "model_id": "a6d188f38d754dd89e996ba8406af213",
       "version_major": 2,
       "version_minor": 0
      },
      "text/plain": [
       "HBox(children=(IntProgress(value=0, max=24), HTML(value='')))"
      ]
     },
     "metadata": {},
     "output_type": "display_data"
    },
    {
     "data": {
      "application/vnd.jupyter.widget-view+json": {
       "model_id": "d1be0a099f6a455599b3ea81e8538704",
       "version_major": 2,
       "version_minor": 0
      },
      "text/plain": [
       "HBox(children=(IntProgress(value=0, max=24), HTML(value='')))"
      ]
     },
     "metadata": {},
     "output_type": "display_data"
    },
    {
     "data": {
      "application/vnd.jupyter.widget-view+json": {
       "model_id": "7557643607584279a46feaebc3d30f8f",
       "version_major": 2,
       "version_minor": 0
      },
      "text/plain": [
       "HBox(children=(IntProgress(value=0, max=24), HTML(value='')))"
      ]
     },
     "metadata": {},
     "output_type": "display_data"
    },
    {
     "data": {
      "application/vnd.jupyter.widget-view+json": {
       "model_id": "3d87fef976264a3dbf32258bd4269bc9",
       "version_major": 2,
       "version_minor": 0
      },
      "text/plain": [
       "HBox(children=(IntProgress(value=0, max=24), HTML(value='')))"
      ]
     },
     "metadata": {},
     "output_type": "display_data"
    },
    {
     "data": {
      "application/vnd.jupyter.widget-view+json": {
       "model_id": "f4e6ae2b50924266a1dfa7ca75969de3",
       "version_major": 2,
       "version_minor": 0
      },
      "text/plain": [
       "HBox(children=(IntProgress(value=0, max=24), HTML(value='')))"
      ]
     },
     "metadata": {},
     "output_type": "display_data"
    },
    {
     "data": {
      "application/vnd.jupyter.widget-view+json": {
       "model_id": "169607762d314a798a739a3873021ae3",
       "version_major": 2,
       "version_minor": 0
      },
      "text/plain": [
       "HBox(children=(IntProgress(value=0, max=24), HTML(value='')))"
      ]
     },
     "metadata": {},
     "output_type": "display_data"
    },
    {
     "data": {
      "application/vnd.jupyter.widget-view+json": {
       "model_id": "c26cc3cb681848cfb25329e48cf81cdb",
       "version_major": 2,
       "version_minor": 0
      },
      "text/plain": [
       "HBox(children=(IntProgress(value=0, max=24), HTML(value='')))"
      ]
     },
     "metadata": {},
     "output_type": "display_data"
    },
    {
     "data": {
      "application/vnd.jupyter.widget-view+json": {
       "model_id": "8462da23dbd14f0d8b12eae5e5f6bdc2",
       "version_major": 2,
       "version_minor": 0
      },
      "text/plain": [
       "HBox(children=(IntProgress(value=0, max=24), HTML(value='')))"
      ]
     },
     "metadata": {},
     "output_type": "display_data"
    },
    {
     "data": {
      "application/vnd.jupyter.widget-view+json": {
       "model_id": "b68c256d8b9342938c7eacf35fe3f436",
       "version_major": 2,
       "version_minor": 0
      },
      "text/plain": [
       "HBox(children=(IntProgress(value=0, max=24), HTML(value='')))"
      ]
     },
     "metadata": {},
     "output_type": "display_data"
    },
    {
     "data": {
      "application/vnd.jupyter.widget-view+json": {
       "model_id": "324e8271986b48f19fbe373e09552e72",
       "version_major": 2,
       "version_minor": 0
      },
      "text/plain": [
       "HBox(children=(IntProgress(value=0, max=24), HTML(value='')))"
      ]
     },
     "metadata": {},
     "output_type": "display_data"
    },
    {
     "data": {
      "application/vnd.jupyter.widget-view+json": {
       "model_id": "074ef753024246959967ac90b08470e8",
       "version_major": 2,
       "version_minor": 0
      },
      "text/plain": [
       "HBox(children=(IntProgress(value=0, max=24), HTML(value='')))"
      ]
     },
     "metadata": {},
     "output_type": "display_data"
    },
    {
     "data": {
      "application/vnd.jupyter.widget-view+json": {
       "model_id": "5eb8018d613c41408e53f28d2e8429b9",
       "version_major": 2,
       "version_minor": 0
      },
      "text/plain": [
       "HBox(children=(IntProgress(value=0, max=24), HTML(value='')))"
      ]
     },
     "metadata": {},
     "output_type": "display_data"
    },
    {
     "data": {
      "application/vnd.jupyter.widget-view+json": {
       "model_id": "1c4bb77d65d048e0b4566501adfc1e48",
       "version_major": 2,
       "version_minor": 0
      },
      "text/plain": [
       "HBox(children=(IntProgress(value=0, max=24), HTML(value='')))"
      ]
     },
     "metadata": {},
     "output_type": "display_data"
    },
    {
     "data": {
      "application/vnd.jupyter.widget-view+json": {
       "model_id": "b7af0d16a12647bcaa88d5e52222bd98",
       "version_major": 2,
       "version_minor": 0
      },
      "text/plain": [
       "HBox(children=(IntProgress(value=0, max=24), HTML(value='')))"
      ]
     },
     "metadata": {},
     "output_type": "display_data"
    },
    {
     "data": {
      "application/vnd.jupyter.widget-view+json": {
       "model_id": "15d90259b1bd44a89b4b849fd2696fcb",
       "version_major": 2,
       "version_minor": 0
      },
      "text/plain": [
       "HBox(children=(IntProgress(value=0, max=24), HTML(value='')))"
      ]
     },
     "metadata": {},
     "output_type": "display_data"
    },
    {
     "data": {
      "application/vnd.jupyter.widget-view+json": {
       "model_id": "c840c6cf85e4476fa40fea4cacf13fee",
       "version_major": 2,
       "version_minor": 0
      },
      "text/plain": [
       "HBox(children=(IntProgress(value=0, max=24), HTML(value='')))"
      ]
     },
     "metadata": {},
     "output_type": "display_data"
    },
    {
     "data": {
      "application/vnd.jupyter.widget-view+json": {
       "model_id": "7e236354f7cb473ebe2908e2e1ad8373",
       "version_major": 2,
       "version_minor": 0
      },
      "text/plain": [
       "HBox(children=(IntProgress(value=0, max=24), HTML(value='')))"
      ]
     },
     "metadata": {},
     "output_type": "display_data"
    },
    {
     "data": {
      "application/vnd.jupyter.widget-view+json": {
       "model_id": "598cdef6ae204e70a2f8d7759f84da67",
       "version_major": 2,
       "version_minor": 0
      },
      "text/plain": [
       "HBox(children=(IntProgress(value=0, max=24), HTML(value='')))"
      ]
     },
     "metadata": {},
     "output_type": "display_data"
    },
    {
     "data": {
      "application/vnd.jupyter.widget-view+json": {
       "model_id": "6a46ee60b61f40de8033e1bef0571bb2",
       "version_major": 2,
       "version_minor": 0
      },
      "text/plain": [
       "HBox(children=(IntProgress(value=0, max=24), HTML(value='')))"
      ]
     },
     "metadata": {},
     "output_type": "display_data"
    },
    {
     "data": {
      "application/vnd.jupyter.widget-view+json": {
       "model_id": "3d43086c1e284db2aa096dabdd71a727",
       "version_major": 2,
       "version_minor": 0
      },
      "text/plain": [
       "HBox(children=(IntProgress(value=0, max=24), HTML(value='')))"
      ]
     },
     "metadata": {},
     "output_type": "display_data"
    },
    {
     "data": {
      "application/vnd.jupyter.widget-view+json": {
       "model_id": "20f714017d754b378024836eeb5c3d1f",
       "version_major": 2,
       "version_minor": 0
      },
      "text/plain": [
       "HBox(children=(IntProgress(value=0, max=24), HTML(value='')))"
      ]
     },
     "metadata": {},
     "output_type": "display_data"
    },
    {
     "data": {
      "application/vnd.jupyter.widget-view+json": {
       "model_id": "8d68d0395fca452ab4d6322916ccb91b",
       "version_major": 2,
       "version_minor": 0
      },
      "text/plain": [
       "HBox(children=(IntProgress(value=0, max=24), HTML(value='')))"
      ]
     },
     "metadata": {},
     "output_type": "display_data"
    },
    {
     "data": {
      "application/vnd.jupyter.widget-view+json": {
       "model_id": "00977506e07c4d409e4331b5eb4b10f7",
       "version_major": 2,
       "version_minor": 0
      },
      "text/plain": [
       "HBox(children=(IntProgress(value=0, max=24), HTML(value='')))"
      ]
     },
     "metadata": {},
     "output_type": "display_data"
    },
    {
     "data": {
      "application/vnd.jupyter.widget-view+json": {
       "model_id": "5b2f47b83f364e3e8beceec839c2a312",
       "version_major": 2,
       "version_minor": 0
      },
      "text/plain": [
       "HBox(children=(IntProgress(value=0, max=24), HTML(value='')))"
      ]
     },
     "metadata": {},
     "output_type": "display_data"
    },
    {
     "data": {
      "application/vnd.jupyter.widget-view+json": {
       "model_id": "bae550185eed42a7abbebf8b56d2e0e9",
       "version_major": 2,
       "version_minor": 0
      },
      "text/plain": [
       "HBox(children=(IntProgress(value=0, max=24), HTML(value='')))"
      ]
     },
     "metadata": {},
     "output_type": "display_data"
    },
    {
     "data": {
      "application/vnd.jupyter.widget-view+json": {
       "model_id": "087554e13ddf417fb4bc85ee5702a70f",
       "version_major": 2,
       "version_minor": 0
      },
      "text/plain": [
       "HBox(children=(IntProgress(value=0, max=24), HTML(value='')))"
      ]
     },
     "metadata": {},
     "output_type": "display_data"
    },
    {
     "data": {
      "application/vnd.jupyter.widget-view+json": {
       "model_id": "023de6a920e54b2bb01abf637ba09e9f",
       "version_major": 2,
       "version_minor": 0
      },
      "text/plain": [
       "HBox(children=(IntProgress(value=0, max=24), HTML(value='')))"
      ]
     },
     "metadata": {},
     "output_type": "display_data"
    },
    {
     "data": {
      "application/vnd.jupyter.widget-view+json": {
       "model_id": "d51d669e8b6542f69074517645da4e27",
       "version_major": 2,
       "version_minor": 0
      },
      "text/plain": [
       "HBox(children=(IntProgress(value=0, max=24), HTML(value='')))"
      ]
     },
     "metadata": {},
     "output_type": "display_data"
    },
    {
     "data": {
      "application/vnd.jupyter.widget-view+json": {
       "model_id": "061e08a3034a4a8b8ac96708643bd02b",
       "version_major": 2,
       "version_minor": 0
      },
      "text/plain": [
       "HBox(children=(IntProgress(value=0, max=24), HTML(value='')))"
      ]
     },
     "metadata": {},
     "output_type": "display_data"
    },
    {
     "data": {
      "application/vnd.jupyter.widget-view+json": {
       "model_id": "74d3bafe646b46bc8b96aef7822b41b2",
       "version_major": 2,
       "version_minor": 0
      },
      "text/plain": [
       "HBox(children=(IntProgress(value=0, max=24), HTML(value='')))"
      ]
     },
     "metadata": {},
     "output_type": "display_data"
    },
    {
     "data": {
      "application/vnd.jupyter.widget-view+json": {
       "model_id": "4dd9400f9c774a2d96ab5138bf4b39b4",
       "version_major": 2,
       "version_minor": 0
      },
      "text/plain": [
       "HBox(children=(IntProgress(value=0, max=24), HTML(value='')))"
      ]
     },
     "metadata": {},
     "output_type": "display_data"
    },
    {
     "data": {
      "application/vnd.jupyter.widget-view+json": {
       "model_id": "65d58d14501f4735bf67ec0c8671e9a4",
       "version_major": 2,
       "version_minor": 0
      },
      "text/plain": [
       "HBox(children=(IntProgress(value=0, max=24), HTML(value='')))"
      ]
     },
     "metadata": {},
     "output_type": "display_data"
    },
    {
     "data": {
      "application/vnd.jupyter.widget-view+json": {
       "model_id": "0c92925943284a5ba86fbd03b45153ad",
       "version_major": 2,
       "version_minor": 0
      },
      "text/plain": [
       "HBox(children=(IntProgress(value=0, max=24), HTML(value='')))"
      ]
     },
     "metadata": {},
     "output_type": "display_data"
    },
    {
     "data": {
      "application/vnd.jupyter.widget-view+json": {
       "model_id": "d4d5d957de9c4e69bf9f115b4ac6cc7e",
       "version_major": 2,
       "version_minor": 0
      },
      "text/plain": [
       "HBox(children=(IntProgress(value=0, max=24), HTML(value='')))"
      ]
     },
     "metadata": {},
     "output_type": "display_data"
    },
    {
     "data": {
      "application/vnd.jupyter.widget-view+json": {
       "model_id": "18f51dc080c3490bb7e0310d3e582ee7",
       "version_major": 2,
       "version_minor": 0
      },
      "text/plain": [
       "HBox(children=(IntProgress(value=0, max=24), HTML(value='')))"
      ]
     },
     "metadata": {},
     "output_type": "display_data"
    },
    {
     "data": {
      "application/vnd.jupyter.widget-view+json": {
       "model_id": "a10acca18d404e0d85e3a8bb001ffa46",
       "version_major": 2,
       "version_minor": 0
      },
      "text/plain": [
       "HBox(children=(IntProgress(value=0, max=24), HTML(value='')))"
      ]
     },
     "metadata": {},
     "output_type": "display_data"
    },
    {
     "data": {
      "application/vnd.jupyter.widget-view+json": {
       "model_id": "126a3a687deb4ff29b88f574904313bd",
       "version_major": 2,
       "version_minor": 0
      },
      "text/plain": [
       "HBox(children=(IntProgress(value=0, max=24), HTML(value='')))"
      ]
     },
     "metadata": {},
     "output_type": "display_data"
    },
    {
     "data": {
      "application/vnd.jupyter.widget-view+json": {
       "model_id": "d2ebd4b1b03f48bf862397499d20cb4b",
       "version_major": 2,
       "version_minor": 0
      },
      "text/plain": [
       "HBox(children=(IntProgress(value=0, max=24), HTML(value='')))"
      ]
     },
     "metadata": {},
     "output_type": "display_data"
    },
    {
     "data": {
      "application/vnd.jupyter.widget-view+json": {
       "model_id": "b9ab679ed4ce4dfea7fbbc21707e4506",
       "version_major": 2,
       "version_minor": 0
      },
      "text/plain": [
       "HBox(children=(IntProgress(value=0, max=24), HTML(value='')))"
      ]
     },
     "metadata": {},
     "output_type": "display_data"
    },
    {
     "data": {
      "application/vnd.jupyter.widget-view+json": {
       "model_id": "cc08dd0e3fb44c2c9dfc991ccbccfbaf",
       "version_major": 2,
       "version_minor": 0
      },
      "text/plain": [
       "HBox(children=(IntProgress(value=0, max=24), HTML(value='')))"
      ]
     },
     "metadata": {},
     "output_type": "display_data"
    },
    {
     "data": {
      "application/vnd.jupyter.widget-view+json": {
       "model_id": "d697629e9fcc4b7db2bec11b3b235b5d",
       "version_major": 2,
       "version_minor": 0
      },
      "text/plain": [
       "HBox(children=(IntProgress(value=0, max=24), HTML(value='')))"
      ]
     },
     "metadata": {},
     "output_type": "display_data"
    },
    {
     "data": {
      "application/vnd.jupyter.widget-view+json": {
       "model_id": "292a306ffa31421780074d48f82c45d4",
       "version_major": 2,
       "version_minor": 0
      },
      "text/plain": [
       "HBox(children=(IntProgress(value=0, max=24), HTML(value='')))"
      ]
     },
     "metadata": {},
     "output_type": "display_data"
    },
    {
     "data": {
      "application/vnd.jupyter.widget-view+json": {
       "model_id": "8afbfac98e374022a7403259d3fbe555",
       "version_major": 2,
       "version_minor": 0
      },
      "text/plain": [
       "HBox(children=(IntProgress(value=0, max=24), HTML(value='')))"
      ]
     },
     "metadata": {},
     "output_type": "display_data"
    },
    {
     "data": {
      "application/vnd.jupyter.widget-view+json": {
       "model_id": "2af05effe9764b61834ff6bbe782b14f",
       "version_major": 2,
       "version_minor": 0
      },
      "text/plain": [
       "HBox(children=(IntProgress(value=0, max=24), HTML(value='')))"
      ]
     },
     "metadata": {},
     "output_type": "display_data"
    },
    {
     "data": {
      "application/vnd.jupyter.widget-view+json": {
       "model_id": "b7f8c7e4142c44fcac55125935bdc0d1",
       "version_major": 2,
       "version_minor": 0
      },
      "text/plain": [
       "HBox(children=(IntProgress(value=0, max=24), HTML(value='')))"
      ]
     },
     "metadata": {},
     "output_type": "display_data"
    },
    {
     "data": {
      "application/vnd.jupyter.widget-view+json": {
       "model_id": "9e07299ccad9410ea1f7ca8c558fed96",
       "version_major": 2,
       "version_minor": 0
      },
      "text/plain": [
       "HBox(children=(IntProgress(value=0, max=24), HTML(value='')))"
      ]
     },
     "metadata": {},
     "output_type": "display_data"
    },
    {
     "data": {
      "application/vnd.jupyter.widget-view+json": {
       "model_id": "554ce20ac00a4400bea14dea7f26d2b0",
       "version_major": 2,
       "version_minor": 0
      },
      "text/plain": [
       "HBox(children=(IntProgress(value=0, max=24), HTML(value='')))"
      ]
     },
     "metadata": {},
     "output_type": "display_data"
    },
    {
     "data": {
      "application/vnd.jupyter.widget-view+json": {
       "model_id": "3356bed28f2c46ac89b77e9c92a4f3fc",
       "version_major": 2,
       "version_minor": 0
      },
      "text/plain": [
       "HBox(children=(IntProgress(value=0, max=24), HTML(value='')))"
      ]
     },
     "metadata": {},
     "output_type": "display_data"
    },
    {
     "data": {
      "application/vnd.jupyter.widget-view+json": {
       "model_id": "1bad4aeb9c4547d695e567afcfeca2b9",
       "version_major": 2,
       "version_minor": 0
      },
      "text/plain": [
       "HBox(children=(IntProgress(value=0, max=24), HTML(value='')))"
      ]
     },
     "metadata": {},
     "output_type": "display_data"
    },
    {
     "data": {
      "application/vnd.jupyter.widget-view+json": {
       "model_id": "c50c9ac1128a41f693cbebecc60eadf8",
       "version_major": 2,
       "version_minor": 0
      },
      "text/plain": [
       "HBox(children=(IntProgress(value=0, max=24), HTML(value='')))"
      ]
     },
     "metadata": {},
     "output_type": "display_data"
    },
    {
     "data": {
      "application/vnd.jupyter.widget-view+json": {
       "model_id": "3ee6b65fde9d496da8dd88dc0af282fe",
       "version_major": 2,
       "version_minor": 0
      },
      "text/plain": [
       "HBox(children=(IntProgress(value=0, max=24), HTML(value='')))"
      ]
     },
     "metadata": {},
     "output_type": "display_data"
    },
    {
     "data": {
      "application/vnd.jupyter.widget-view+json": {
       "model_id": "069e9adcaa4c4e0695da2713b6d8e706",
       "version_major": 2,
       "version_minor": 0
      },
      "text/plain": [
       "HBox(children=(IntProgress(value=0, max=24), HTML(value='')))"
      ]
     },
     "metadata": {},
     "output_type": "display_data"
    },
    {
     "data": {
      "application/vnd.jupyter.widget-view+json": {
       "model_id": "ad18af6792244078a5735e0c415d9033",
       "version_major": 2,
       "version_minor": 0
      },
      "text/plain": [
       "HBox(children=(IntProgress(value=0, max=24), HTML(value='')))"
      ]
     },
     "metadata": {},
     "output_type": "display_data"
    },
    {
     "data": {
      "application/vnd.jupyter.widget-view+json": {
       "model_id": "84d3a99d697b4399b47f8acb0629a229",
       "version_major": 2,
       "version_minor": 0
      },
      "text/plain": [
       "HBox(children=(IntProgress(value=0, max=24), HTML(value='')))"
      ]
     },
     "metadata": {},
     "output_type": "display_data"
    },
    {
     "data": {
      "application/vnd.jupyter.widget-view+json": {
       "model_id": "0c02d15dbcd84bd9a4ac0627bb17df3b",
       "version_major": 2,
       "version_minor": 0
      },
      "text/plain": [
       "HBox(children=(IntProgress(value=0, max=24), HTML(value='')))"
      ]
     },
     "metadata": {},
     "output_type": "display_data"
    },
    {
     "data": {
      "application/vnd.jupyter.widget-view+json": {
       "model_id": "f454c52296c347229b6aa3cac74aaa10",
       "version_major": 2,
       "version_minor": 0
      },
      "text/plain": [
       "HBox(children=(IntProgress(value=0, max=24), HTML(value='')))"
      ]
     },
     "metadata": {},
     "output_type": "display_data"
    },
    {
     "data": {
      "application/vnd.jupyter.widget-view+json": {
       "model_id": "b3db26ff00994d22b7b2d9289a6ff669",
       "version_major": 2,
       "version_minor": 0
      },
      "text/plain": [
       "HBox(children=(IntProgress(value=0, max=24), HTML(value='')))"
      ]
     },
     "metadata": {},
     "output_type": "display_data"
    },
    {
     "data": {
      "application/vnd.jupyter.widget-view+json": {
       "model_id": "c61a52800f1e4394ba6eb02a31e4395f",
       "version_major": 2,
       "version_minor": 0
      },
      "text/plain": [
       "HBox(children=(IntProgress(value=0, max=24), HTML(value='')))"
      ]
     },
     "metadata": {},
     "output_type": "display_data"
    },
    {
     "data": {
      "application/vnd.jupyter.widget-view+json": {
       "model_id": "228473ff726c49dca0aeaa4816f89345",
       "version_major": 2,
       "version_minor": 0
      },
      "text/plain": [
       "HBox(children=(IntProgress(value=0, max=24), HTML(value='')))"
      ]
     },
     "metadata": {},
     "output_type": "display_data"
    },
    {
     "data": {
      "application/vnd.jupyter.widget-view+json": {
       "model_id": "71c389f77bb545baa4af078a8bbd7244",
       "version_major": 2,
       "version_minor": 0
      },
      "text/plain": [
       "HBox(children=(IntProgress(value=0, max=24), HTML(value='')))"
      ]
     },
     "metadata": {},
     "output_type": "display_data"
    },
    {
     "data": {
      "application/vnd.jupyter.widget-view+json": {
       "model_id": "71c12ff84e7048d1a91ae67452db0649",
       "version_major": 2,
       "version_minor": 0
      },
      "text/plain": [
       "HBox(children=(IntProgress(value=0, max=24), HTML(value='')))"
      ]
     },
     "metadata": {},
     "output_type": "display_data"
    },
    {
     "data": {
      "application/vnd.jupyter.widget-view+json": {
       "model_id": "3ae948bb2e67439f87799c1d745df861",
       "version_major": 2,
       "version_minor": 0
      },
      "text/plain": [
       "HBox(children=(IntProgress(value=0, max=24), HTML(value='')))"
      ]
     },
     "metadata": {},
     "output_type": "display_data"
    },
    {
     "data": {
      "application/vnd.jupyter.widget-view+json": {
       "model_id": "99cda89443704a18997676d23ce8f336",
       "version_major": 2,
       "version_minor": 0
      },
      "text/plain": [
       "HBox(children=(IntProgress(value=0, max=24), HTML(value='')))"
      ]
     },
     "metadata": {},
     "output_type": "display_data"
    },
    {
     "data": {
      "application/vnd.jupyter.widget-view+json": {
       "model_id": "55461523243b44e88584791d11ccce16",
       "version_major": 2,
       "version_minor": 0
      },
      "text/plain": [
       "HBox(children=(IntProgress(value=0, max=24), HTML(value='')))"
      ]
     },
     "metadata": {},
     "output_type": "display_data"
    },
    {
     "data": {
      "application/vnd.jupyter.widget-view+json": {
       "model_id": "02457bfe2942493faced3401de6d25b8",
       "version_major": 2,
       "version_minor": 0
      },
      "text/plain": [
       "HBox(children=(IntProgress(value=0, max=24), HTML(value='')))"
      ]
     },
     "metadata": {},
     "output_type": "display_data"
    },
    {
     "data": {
      "application/vnd.jupyter.widget-view+json": {
       "model_id": "d034c6ce3b8c4140ac0fb446373ffd87",
       "version_major": 2,
       "version_minor": 0
      },
      "text/plain": [
       "HBox(children=(IntProgress(value=0, max=24), HTML(value='')))"
      ]
     },
     "metadata": {},
     "output_type": "display_data"
    },
    {
     "data": {
      "application/vnd.jupyter.widget-view+json": {
       "model_id": "3e0f4433914f4a57abda52f2b1fcccb4",
       "version_major": 2,
       "version_minor": 0
      },
      "text/plain": [
       "HBox(children=(IntProgress(value=0, max=24), HTML(value='')))"
      ]
     },
     "metadata": {},
     "output_type": "display_data"
    },
    {
     "data": {
      "application/vnd.jupyter.widget-view+json": {
       "model_id": "04a99dcea4ba44f683b1d43438bc5ddf",
       "version_major": 2,
       "version_minor": 0
      },
      "text/plain": [
       "HBox(children=(IntProgress(value=0, max=24), HTML(value='')))"
      ]
     },
     "metadata": {},
     "output_type": "display_data"
    },
    {
     "data": {
      "application/vnd.jupyter.widget-view+json": {
       "model_id": "a9be6e1e115444f3b9b7814355d3eae8",
       "version_major": 2,
       "version_minor": 0
      },
      "text/plain": [
       "HBox(children=(IntProgress(value=0, max=24), HTML(value='')))"
      ]
     },
     "metadata": {},
     "output_type": "display_data"
    },
    {
     "data": {
      "application/vnd.jupyter.widget-view+json": {
       "model_id": "7596653a5ca04dfeb78cf0528943fa81",
       "version_major": 2,
       "version_minor": 0
      },
      "text/plain": [
       "HBox(children=(IntProgress(value=0, max=24), HTML(value='')))"
      ]
     },
     "metadata": {},
     "output_type": "display_data"
    },
    {
     "data": {
      "application/vnd.jupyter.widget-view+json": {
       "model_id": "8586c383e3f544e69aa7fdeaaeb862f8",
       "version_major": 2,
       "version_minor": 0
      },
      "text/plain": [
       "HBox(children=(IntProgress(value=0, max=24), HTML(value='')))"
      ]
     },
     "metadata": {},
     "output_type": "display_data"
    },
    {
     "data": {
      "application/vnd.jupyter.widget-view+json": {
       "model_id": "3e988576346a4160bb077f8a581a0356",
       "version_major": 2,
       "version_minor": 0
      },
      "text/plain": [
       "HBox(children=(IntProgress(value=0, max=24), HTML(value='')))"
      ]
     },
     "metadata": {},
     "output_type": "display_data"
    },
    {
     "data": {
      "application/vnd.jupyter.widget-view+json": {
       "model_id": "74ed56e59bf44caf990bab60f03d1bc2",
       "version_major": 2,
       "version_minor": 0
      },
      "text/plain": [
       "HBox(children=(IntProgress(value=0, max=24), HTML(value='')))"
      ]
     },
     "metadata": {},
     "output_type": "display_data"
    },
    {
     "data": {
      "application/vnd.jupyter.widget-view+json": {
       "model_id": "c9312878693943af92db5ae7eb6efa18",
       "version_major": 2,
       "version_minor": 0
      },
      "text/plain": [
       "HBox(children=(IntProgress(value=0, max=24), HTML(value='')))"
      ]
     },
     "metadata": {},
     "output_type": "display_data"
    },
    {
     "data": {
      "application/vnd.jupyter.widget-view+json": {
       "model_id": "cb96b3e786ef4b15907e3c81c8264b0f",
       "version_major": 2,
       "version_minor": 0
      },
      "text/plain": [
       "HBox(children=(IntProgress(value=0, max=24), HTML(value='')))"
      ]
     },
     "metadata": {},
     "output_type": "display_data"
    },
    {
     "data": {
      "application/vnd.jupyter.widget-view+json": {
       "model_id": "443125f8f214454bb3fa547f84957af5",
       "version_major": 2,
       "version_minor": 0
      },
      "text/plain": [
       "HBox(children=(IntProgress(value=0, max=24), HTML(value='')))"
      ]
     },
     "metadata": {},
     "output_type": "display_data"
    },
    {
     "data": {
      "application/vnd.jupyter.widget-view+json": {
       "model_id": "a3cce129642a4ac480eb769716f57ad3",
       "version_major": 2,
       "version_minor": 0
      },
      "text/plain": [
       "HBox(children=(IntProgress(value=0, max=24), HTML(value='')))"
      ]
     },
     "metadata": {},
     "output_type": "display_data"
    },
    {
     "data": {
      "application/vnd.jupyter.widget-view+json": {
       "model_id": "d49ff2be91be42b08d70f93c211e1731",
       "version_major": 2,
       "version_minor": 0
      },
      "text/plain": [
       "HBox(children=(IntProgress(value=0, max=24), HTML(value='')))"
      ]
     },
     "metadata": {},
     "output_type": "display_data"
    },
    {
     "data": {
      "application/vnd.jupyter.widget-view+json": {
       "model_id": "383d1bf4a3d84fb6a5c5d6c5ddddb24c",
       "version_major": 2,
       "version_minor": 0
      },
      "text/plain": [
       "HBox(children=(IntProgress(value=0, max=24), HTML(value='')))"
      ]
     },
     "metadata": {},
     "output_type": "display_data"
    },
    {
     "data": {
      "application/vnd.jupyter.widget-view+json": {
       "model_id": "e1e71061b33544f69f1716a85983a753",
       "version_major": 2,
       "version_minor": 0
      },
      "text/plain": [
       "HBox(children=(IntProgress(value=0, max=24), HTML(value='')))"
      ]
     },
     "metadata": {},
     "output_type": "display_data"
    },
    {
     "data": {
      "application/vnd.jupyter.widget-view+json": {
       "model_id": "0b23cc2e348341a9bdcb215b21b7e8af",
       "version_major": 2,
       "version_minor": 0
      },
      "text/plain": [
       "HBox(children=(IntProgress(value=0, max=24), HTML(value='')))"
      ]
     },
     "metadata": {},
     "output_type": "display_data"
    },
    {
     "data": {
      "application/vnd.jupyter.widget-view+json": {
       "model_id": "286584c45c6e48debad3ae497b96b4ab",
       "version_major": 2,
       "version_minor": 0
      },
      "text/plain": [
       "HBox(children=(IntProgress(value=0, max=24), HTML(value='')))"
      ]
     },
     "metadata": {},
     "output_type": "display_data"
    },
    {
     "data": {
      "application/vnd.jupyter.widget-view+json": {
       "model_id": "fec28d1a679742bd8c46318051c20d07",
       "version_major": 2,
       "version_minor": 0
      },
      "text/plain": [
       "HBox(children=(IntProgress(value=0, max=24), HTML(value='')))"
      ]
     },
     "metadata": {},
     "output_type": "display_data"
    },
    {
     "data": {
      "application/vnd.jupyter.widget-view+json": {
       "model_id": "140fa68265054761a7d539dc40d99dad",
       "version_major": 2,
       "version_minor": 0
      },
      "text/plain": [
       "HBox(children=(IntProgress(value=0, max=24), HTML(value='')))"
      ]
     },
     "metadata": {},
     "output_type": "display_data"
    },
    {
     "data": {
      "application/vnd.jupyter.widget-view+json": {
       "model_id": "57a2cd3050564621be52e88b9b101249",
       "version_major": 2,
       "version_minor": 0
      },
      "text/plain": [
       "HBox(children=(IntProgress(value=0, max=24), HTML(value='')))"
      ]
     },
     "metadata": {},
     "output_type": "display_data"
    },
    {
     "data": {
      "application/vnd.jupyter.widget-view+json": {
       "model_id": "f660c3b2047a463f8a98c1f13ccb4466",
       "version_major": 2,
       "version_minor": 0
      },
      "text/plain": [
       "HBox(children=(IntProgress(value=0, max=24), HTML(value='')))"
      ]
     },
     "metadata": {},
     "output_type": "display_data"
    },
    {
     "data": {
      "application/vnd.jupyter.widget-view+json": {
       "model_id": "d40d6eb0071949b0a26de969b9a16b8c",
       "version_major": 2,
       "version_minor": 0
      },
      "text/plain": [
       "HBox(children=(IntProgress(value=0, max=24), HTML(value='')))"
      ]
     },
     "metadata": {},
     "output_type": "display_data"
    },
    {
     "data": {
      "application/vnd.jupyter.widget-view+json": {
       "model_id": "106fdbba78f1429683e7fa29713d91bf",
       "version_major": 2,
       "version_minor": 0
      },
      "text/plain": [
       "HBox(children=(IntProgress(value=0, max=24), HTML(value='')))"
      ]
     },
     "metadata": {},
     "output_type": "display_data"
    },
    {
     "data": {
      "application/vnd.jupyter.widget-view+json": {
       "model_id": "c1fa752041c441bc99486e5ecfbc5aee",
       "version_major": 2,
       "version_minor": 0
      },
      "text/plain": [
       "HBox(children=(IntProgress(value=0, max=24), HTML(value='')))"
      ]
     },
     "metadata": {},
     "output_type": "display_data"
    },
    {
     "data": {
      "application/vnd.jupyter.widget-view+json": {
       "model_id": "4ac00a506d4d4f33bca83ccc832368c1",
       "version_major": 2,
       "version_minor": 0
      },
      "text/plain": [
       "HBox(children=(IntProgress(value=0, max=24), HTML(value='')))"
      ]
     },
     "metadata": {},
     "output_type": "display_data"
    },
    {
     "data": {
      "application/vnd.jupyter.widget-view+json": {
       "model_id": "47d1df7e2cf64c87b8bb4ac4d4742e85",
       "version_major": 2,
       "version_minor": 0
      },
      "text/plain": [
       "HBox(children=(IntProgress(value=0, max=24), HTML(value='')))"
      ]
     },
     "metadata": {},
     "output_type": "display_data"
    },
    {
     "data": {
      "application/vnd.jupyter.widget-view+json": {
       "model_id": "0eb9438ae1634f69994905e9aeb27673",
       "version_major": 2,
       "version_minor": 0
      },
      "text/plain": [
       "HBox(children=(IntProgress(value=0, max=24), HTML(value='')))"
      ]
     },
     "metadata": {},
     "output_type": "display_data"
    },
    {
     "data": {
      "application/vnd.jupyter.widget-view+json": {
       "model_id": "f17ed6209f6a4e409c7f175ce98d090e",
       "version_major": 2,
       "version_minor": 0
      },
      "text/plain": [
       "HBox(children=(IntProgress(value=0, max=24), HTML(value='')))"
      ]
     },
     "metadata": {},
     "output_type": "display_data"
    },
    {
     "data": {
      "application/vnd.jupyter.widget-view+json": {
       "model_id": "b6eff95537e64d8393233d2afd501f27",
       "version_major": 2,
       "version_minor": 0
      },
      "text/plain": [
       "HBox(children=(IntProgress(value=0, max=24), HTML(value='')))"
      ]
     },
     "metadata": {},
     "output_type": "display_data"
    },
    {
     "data": {
      "application/vnd.jupyter.widget-view+json": {
       "model_id": "3392e48f67544b17b155a6f181fcfff3",
       "version_major": 2,
       "version_minor": 0
      },
      "text/plain": [
       "HBox(children=(IntProgress(value=0, max=24), HTML(value='')))"
      ]
     },
     "metadata": {},
     "output_type": "display_data"
    },
    {
     "data": {
      "application/vnd.jupyter.widget-view+json": {
       "model_id": "37cc567df0e2479bb8415f28dd1ba02d",
       "version_major": 2,
       "version_minor": 0
      },
      "text/plain": [
       "HBox(children=(IntProgress(value=0, max=24), HTML(value='')))"
      ]
     },
     "metadata": {},
     "output_type": "display_data"
    },
    {
     "data": {
      "application/vnd.jupyter.widget-view+json": {
       "model_id": "9fbb485bae4448ce95ab6fb8920f808a",
       "version_major": 2,
       "version_minor": 0
      },
      "text/plain": [
       "HBox(children=(IntProgress(value=0, max=24), HTML(value='')))"
      ]
     },
     "metadata": {},
     "output_type": "display_data"
    },
    {
     "data": {
      "application/vnd.jupyter.widget-view+json": {
       "model_id": "e230e6709d0642c7ae002f7760718c05",
       "version_major": 2,
       "version_minor": 0
      },
      "text/plain": [
       "HBox(children=(IntProgress(value=0, max=24), HTML(value='')))"
      ]
     },
     "metadata": {},
     "output_type": "display_data"
    },
    {
     "data": {
      "application/vnd.jupyter.widget-view+json": {
       "model_id": "5d637ecd2fd74c69b01b5e50f13d5fc1",
       "version_major": 2,
       "version_minor": 0
      },
      "text/plain": [
       "HBox(children=(IntProgress(value=0, max=24), HTML(value='')))"
      ]
     },
     "metadata": {},
     "output_type": "display_data"
    },
    {
     "data": {
      "application/vnd.jupyter.widget-view+json": {
       "model_id": "35b4c6b0fa8a4304a06b5bb712914805",
       "version_major": 2,
       "version_minor": 0
      },
      "text/plain": [
       "HBox(children=(IntProgress(value=0, max=24), HTML(value='')))"
      ]
     },
     "metadata": {},
     "output_type": "display_data"
    },
    {
     "data": {
      "application/vnd.jupyter.widget-view+json": {
       "model_id": "c5db1da4567e46b3a07200b61386acae",
       "version_major": 2,
       "version_minor": 0
      },
      "text/plain": [
       "HBox(children=(IntProgress(value=0, max=24), HTML(value='')))"
      ]
     },
     "metadata": {},
     "output_type": "display_data"
    },
    {
     "data": {
      "application/vnd.jupyter.widget-view+json": {
       "model_id": "6445ec55f14647eeb92653146c74c5ad",
       "version_major": 2,
       "version_minor": 0
      },
      "text/plain": [
       "HBox(children=(IntProgress(value=0, max=24), HTML(value='')))"
      ]
     },
     "metadata": {},
     "output_type": "display_data"
    },
    {
     "data": {
      "application/vnd.jupyter.widget-view+json": {
       "model_id": "52de2f16eee24469aa5fa88edf73e198",
       "version_major": 2,
       "version_minor": 0
      },
      "text/plain": [
       "HBox(children=(IntProgress(value=0, max=24), HTML(value='')))"
      ]
     },
     "metadata": {},
     "output_type": "display_data"
    },
    {
     "data": {
      "application/vnd.jupyter.widget-view+json": {
       "model_id": "0012572b162a4422a28d03256bc653bb",
       "version_major": 2,
       "version_minor": 0
      },
      "text/plain": [
       "HBox(children=(IntProgress(value=0, max=24), HTML(value='')))"
      ]
     },
     "metadata": {},
     "output_type": "display_data"
    },
    {
     "data": {
      "application/vnd.jupyter.widget-view+json": {
       "model_id": "174199fc02134e18bf57f4d947fae4c4",
       "version_major": 2,
       "version_minor": 0
      },
      "text/plain": [
       "HBox(children=(IntProgress(value=0, max=24), HTML(value='')))"
      ]
     },
     "metadata": {},
     "output_type": "display_data"
    },
    {
     "data": {
      "application/vnd.jupyter.widget-view+json": {
       "model_id": "716d6faeaae844548fff842e21aa726e",
       "version_major": 2,
       "version_minor": 0
      },
      "text/plain": [
       "HBox(children=(IntProgress(value=0, max=24), HTML(value='')))"
      ]
     },
     "metadata": {},
     "output_type": "display_data"
    },
    {
     "data": {
      "application/vnd.jupyter.widget-view+json": {
       "model_id": "f89a355cab304852b786cbadd9244547",
       "version_major": 2,
       "version_minor": 0
      },
      "text/plain": [
       "HBox(children=(IntProgress(value=0, max=24), HTML(value='')))"
      ]
     },
     "metadata": {},
     "output_type": "display_data"
    },
    {
     "data": {
      "application/vnd.jupyter.widget-view+json": {
       "model_id": "95772c9ef543497eb5af40d567658fc2",
       "version_major": 2,
       "version_minor": 0
      },
      "text/plain": [
       "HBox(children=(IntProgress(value=0, max=24), HTML(value='')))"
      ]
     },
     "metadata": {},
     "output_type": "display_data"
    },
    {
     "data": {
      "application/vnd.jupyter.widget-view+json": {
       "model_id": "b60a728aef724aa4a9d6d02db6cf9d32",
       "version_major": 2,
       "version_minor": 0
      },
      "text/plain": [
       "HBox(children=(IntProgress(value=0, max=24), HTML(value='')))"
      ]
     },
     "metadata": {},
     "output_type": "display_data"
    },
    {
     "data": {
      "application/vnd.jupyter.widget-view+json": {
       "model_id": "2f7f0332106f4d12a30f99a05dcf500b",
       "version_major": 2,
       "version_minor": 0
      },
      "text/plain": [
       "HBox(children=(IntProgress(value=0, max=24), HTML(value='')))"
      ]
     },
     "metadata": {},
     "output_type": "display_data"
    },
    {
     "data": {
      "application/vnd.jupyter.widget-view+json": {
       "model_id": "68e77d152dd24bba830faf234a46f1e9",
       "version_major": 2,
       "version_minor": 0
      },
      "text/plain": [
       "HBox(children=(IntProgress(value=0, max=24), HTML(value='')))"
      ]
     },
     "metadata": {},
     "output_type": "display_data"
    },
    {
     "data": {
      "application/vnd.jupyter.widget-view+json": {
       "model_id": "21dac5f5c3584111b9bc53468cc4f732",
       "version_major": 2,
       "version_minor": 0
      },
      "text/plain": [
       "HBox(children=(IntProgress(value=0, max=24), HTML(value='')))"
      ]
     },
     "metadata": {},
     "output_type": "display_data"
    },
    {
     "data": {
      "application/vnd.jupyter.widget-view+json": {
       "model_id": "12534d7f7e81428abe3482b813c029fe",
       "version_major": 2,
       "version_minor": 0
      },
      "text/plain": [
       "HBox(children=(IntProgress(value=0, max=24), HTML(value='')))"
      ]
     },
     "metadata": {},
     "output_type": "display_data"
    },
    {
     "data": {
      "application/vnd.jupyter.widget-view+json": {
       "model_id": "f14e861c087546dd9f49c9b4c299f977",
       "version_major": 2,
       "version_minor": 0
      },
      "text/plain": [
       "HBox(children=(IntProgress(value=0, max=24), HTML(value='')))"
      ]
     },
     "metadata": {},
     "output_type": "display_data"
    },
    {
     "data": {
      "application/vnd.jupyter.widget-view+json": {
       "model_id": "bbed328035414131983170012f28554c",
       "version_major": 2,
       "version_minor": 0
      },
      "text/plain": [
       "HBox(children=(IntProgress(value=0, max=24), HTML(value='')))"
      ]
     },
     "metadata": {},
     "output_type": "display_data"
    },
    {
     "data": {
      "application/vnd.jupyter.widget-view+json": {
       "model_id": "0831992f3f734cd086b3ac1c7bdda2e6",
       "version_major": 2,
       "version_minor": 0
      },
      "text/plain": [
       "HBox(children=(IntProgress(value=0, max=24), HTML(value='')))"
      ]
     },
     "metadata": {},
     "output_type": "display_data"
    },
    {
     "data": {
      "application/vnd.jupyter.widget-view+json": {
       "model_id": "0a87d856f89f44a9894a07caeb0323d1",
       "version_major": 2,
       "version_minor": 0
      },
      "text/plain": [
       "HBox(children=(IntProgress(value=0, max=24), HTML(value='')))"
      ]
     },
     "metadata": {},
     "output_type": "display_data"
    },
    {
     "data": {
      "application/vnd.jupyter.widget-view+json": {
       "model_id": "def64a188bf74314ae9214dbd9563b41",
       "version_major": 2,
       "version_minor": 0
      },
      "text/plain": [
       "HBox(children=(IntProgress(value=0, max=24), HTML(value='')))"
      ]
     },
     "metadata": {},
     "output_type": "display_data"
    },
    {
     "data": {
      "application/vnd.jupyter.widget-view+json": {
       "model_id": "f04f5e1dea434c3db9c39d53d7d35922",
       "version_major": 2,
       "version_minor": 0
      },
      "text/plain": [
       "HBox(children=(IntProgress(value=0, max=24), HTML(value='')))"
      ]
     },
     "metadata": {},
     "output_type": "display_data"
    },
    {
     "data": {
      "application/vnd.jupyter.widget-view+json": {
       "model_id": "11f28291f9dc4a3490262a200a7e0ddd",
       "version_major": 2,
       "version_minor": 0
      },
      "text/plain": [
       "HBox(children=(IntProgress(value=0, max=24), HTML(value='')))"
      ]
     },
     "metadata": {},
     "output_type": "display_data"
    },
    {
     "data": {
      "application/vnd.jupyter.widget-view+json": {
       "model_id": "98f425f4e52045378e78291d4e45c17a",
       "version_major": 2,
       "version_minor": 0
      },
      "text/plain": [
       "HBox(children=(IntProgress(value=0, max=24), HTML(value='')))"
      ]
     },
     "metadata": {},
     "output_type": "display_data"
    },
    {
     "data": {
      "application/vnd.jupyter.widget-view+json": {
       "model_id": "34144c7307934879b61889cd026e913a",
       "version_major": 2,
       "version_minor": 0
      },
      "text/plain": [
       "HBox(children=(IntProgress(value=0, max=24), HTML(value='')))"
      ]
     },
     "metadata": {},
     "output_type": "display_data"
    },
    {
     "data": {
      "application/vnd.jupyter.widget-view+json": {
       "model_id": "fc2b7c34d9c44bb6b6cb86f0f996d752",
       "version_major": 2,
       "version_minor": 0
      },
      "text/plain": [
       "HBox(children=(IntProgress(value=0, max=24), HTML(value='')))"
      ]
     },
     "metadata": {},
     "output_type": "display_data"
    },
    {
     "data": {
      "application/vnd.jupyter.widget-view+json": {
       "model_id": "f6f008b65fde486fafcd5a26c9652869",
       "version_major": 2,
       "version_minor": 0
      },
      "text/plain": [
       "HBox(children=(IntProgress(value=0, max=24), HTML(value='')))"
      ]
     },
     "metadata": {},
     "output_type": "display_data"
    },
    {
     "data": {
      "application/vnd.jupyter.widget-view+json": {
       "model_id": "3452248481cd4fa0855851f6c8d6bd7d",
       "version_major": 2,
       "version_minor": 0
      },
      "text/plain": [
       "HBox(children=(IntProgress(value=0, max=24), HTML(value='')))"
      ]
     },
     "metadata": {},
     "output_type": "display_data"
    },
    {
     "data": {
      "application/vnd.jupyter.widget-view+json": {
       "model_id": "dfafa255d3854d468a5b3ce36166854d",
       "version_major": 2,
       "version_minor": 0
      },
      "text/plain": [
       "HBox(children=(IntProgress(value=0, max=24), HTML(value='')))"
      ]
     },
     "metadata": {},
     "output_type": "display_data"
    },
    {
     "data": {
      "application/vnd.jupyter.widget-view+json": {
       "model_id": "6a52cb77adf64b5182eb228eb48e4d98",
       "version_major": 2,
       "version_minor": 0
      },
      "text/plain": [
       "HBox(children=(IntProgress(value=0, max=24), HTML(value='')))"
      ]
     },
     "metadata": {},
     "output_type": "display_data"
    },
    {
     "data": {
      "application/vnd.jupyter.widget-view+json": {
       "model_id": "006056bbf2be4f49b80353a1d036084f",
       "version_major": 2,
       "version_minor": 0
      },
      "text/plain": [
       "HBox(children=(IntProgress(value=0, max=24), HTML(value='')))"
      ]
     },
     "metadata": {},
     "output_type": "display_data"
    },
    {
     "data": {
      "application/vnd.jupyter.widget-view+json": {
       "model_id": "4ad6097a532a412aa48f787df8ab3bb6",
       "version_major": 2,
       "version_minor": 0
      },
      "text/plain": [
       "HBox(children=(IntProgress(value=0, max=24), HTML(value='')))"
      ]
     },
     "metadata": {},
     "output_type": "display_data"
    },
    {
     "data": {
      "application/vnd.jupyter.widget-view+json": {
       "model_id": "0be5fe1057e5443a935a253133cf73b9",
       "version_major": 2,
       "version_minor": 0
      },
      "text/plain": [
       "HBox(children=(IntProgress(value=0, max=24), HTML(value='')))"
      ]
     },
     "metadata": {},
     "output_type": "display_data"
    },
    {
     "data": {
      "application/vnd.jupyter.widget-view+json": {
       "model_id": "9303b905210d4852b07051d68f4d78bc",
       "version_major": 2,
       "version_minor": 0
      },
      "text/plain": [
       "HBox(children=(IntProgress(value=0, max=24), HTML(value='')))"
      ]
     },
     "metadata": {},
     "output_type": "display_data"
    },
    {
     "data": {
      "application/vnd.jupyter.widget-view+json": {
       "model_id": "c09eeb9522304706898b2c3285390b16",
       "version_major": 2,
       "version_minor": 0
      },
      "text/plain": [
       "HBox(children=(IntProgress(value=0, max=24), HTML(value='')))"
      ]
     },
     "metadata": {},
     "output_type": "display_data"
    },
    {
     "data": {
      "application/vnd.jupyter.widget-view+json": {
       "model_id": "737b3367b5a5465e8b9168a22fc36bcb",
       "version_major": 2,
       "version_minor": 0
      },
      "text/plain": [
       "HBox(children=(IntProgress(value=0, max=24), HTML(value='')))"
      ]
     },
     "metadata": {},
     "output_type": "display_data"
    },
    {
     "data": {
      "application/vnd.jupyter.widget-view+json": {
       "model_id": "b6db94b94b6e43368b2d440bcd08746a",
       "version_major": 2,
       "version_minor": 0
      },
      "text/plain": [
       "HBox(children=(IntProgress(value=0, max=24), HTML(value='')))"
      ]
     },
     "metadata": {},
     "output_type": "display_data"
    },
    {
     "data": {
      "application/vnd.jupyter.widget-view+json": {
       "model_id": "a5c4327b33934ff699b5c2e99fb7a6d9",
       "version_major": 2,
       "version_minor": 0
      },
      "text/plain": [
       "HBox(children=(IntProgress(value=0, max=24), HTML(value='')))"
      ]
     },
     "metadata": {},
     "output_type": "display_data"
    },
    {
     "data": {
      "application/vnd.jupyter.widget-view+json": {
       "model_id": "a2b59b32e79949c494fe752e2e63fd53",
       "version_major": 2,
       "version_minor": 0
      },
      "text/plain": [
       "HBox(children=(IntProgress(value=0, max=24), HTML(value='')))"
      ]
     },
     "metadata": {},
     "output_type": "display_data"
    },
    {
     "data": {
      "application/vnd.jupyter.widget-view+json": {
       "model_id": "afe0d211de1f40a093166f6937d2e784",
       "version_major": 2,
       "version_minor": 0
      },
      "text/plain": [
       "HBox(children=(IntProgress(value=0, max=24), HTML(value='')))"
      ]
     },
     "metadata": {},
     "output_type": "display_data"
    },
    {
     "data": {
      "application/vnd.jupyter.widget-view+json": {
       "model_id": "5093481fb29841529e66efb85a242c1a",
       "version_major": 2,
       "version_minor": 0
      },
      "text/plain": [
       "HBox(children=(IntProgress(value=0, max=24), HTML(value='')))"
      ]
     },
     "metadata": {},
     "output_type": "display_data"
    },
    {
     "data": {
      "application/vnd.jupyter.widget-view+json": {
       "model_id": "7d937a4e0214444fbea7b604a35852de",
       "version_major": 2,
       "version_minor": 0
      },
      "text/plain": [
       "HBox(children=(IntProgress(value=0, max=24), HTML(value='')))"
      ]
     },
     "metadata": {},
     "output_type": "display_data"
    },
    {
     "data": {
      "application/vnd.jupyter.widget-view+json": {
       "model_id": "e9d5da75fb3448699afad12f2d150fd1",
       "version_major": 2,
       "version_minor": 0
      },
      "text/plain": [
       "HBox(children=(IntProgress(value=0, max=24), HTML(value='')))"
      ]
     },
     "metadata": {},
     "output_type": "display_data"
    },
    {
     "data": {
      "application/vnd.jupyter.widget-view+json": {
       "model_id": "42ccb91edcc04f79b47f52de60fc299a",
       "version_major": 2,
       "version_minor": 0
      },
      "text/plain": [
       "HBox(children=(IntProgress(value=0, max=24), HTML(value='')))"
      ]
     },
     "metadata": {},
     "output_type": "display_data"
    },
    {
     "data": {
      "application/vnd.jupyter.widget-view+json": {
       "model_id": "9ff1f4ce47ef4b2c898cb51e7b7b14f9",
       "version_major": 2,
       "version_minor": 0
      },
      "text/plain": [
       "HBox(children=(IntProgress(value=0, max=24), HTML(value='')))"
      ]
     },
     "metadata": {},
     "output_type": "display_data"
    },
    {
     "data": {
      "application/vnd.jupyter.widget-view+json": {
       "model_id": "652c5f682d554580bd4b58b284f086c5",
       "version_major": 2,
       "version_minor": 0
      },
      "text/plain": [
       "HBox(children=(IntProgress(value=0, max=24), HTML(value='')))"
      ]
     },
     "metadata": {},
     "output_type": "display_data"
    },
    {
     "data": {
      "application/vnd.jupyter.widget-view+json": {
       "model_id": "79e79d67f8df4aa6b46bca28102d5f16",
       "version_major": 2,
       "version_minor": 0
      },
      "text/plain": [
       "HBox(children=(IntProgress(value=0, max=24), HTML(value='')))"
      ]
     },
     "metadata": {},
     "output_type": "display_data"
    },
    {
     "data": {
      "application/vnd.jupyter.widget-view+json": {
       "model_id": "e73225a3b602432180d0e8795940a97c",
       "version_major": 2,
       "version_minor": 0
      },
      "text/plain": [
       "HBox(children=(IntProgress(value=0, max=24), HTML(value='')))"
      ]
     },
     "metadata": {},
     "output_type": "display_data"
    },
    {
     "data": {
      "application/vnd.jupyter.widget-view+json": {
       "model_id": "b31034289c9d460a90f369c3aa642f5d",
       "version_major": 2,
       "version_minor": 0
      },
      "text/plain": [
       "HBox(children=(IntProgress(value=0, max=24), HTML(value='')))"
      ]
     },
     "metadata": {},
     "output_type": "display_data"
    },
    {
     "data": {
      "application/vnd.jupyter.widget-view+json": {
       "model_id": "42089368f2d94e42a64d809d67bd661f",
       "version_major": 2,
       "version_minor": 0
      },
      "text/plain": [
       "HBox(children=(IntProgress(value=0, max=24), HTML(value='')))"
      ]
     },
     "metadata": {},
     "output_type": "display_data"
    },
    {
     "data": {
      "application/vnd.jupyter.widget-view+json": {
       "model_id": "bc5e3c70594f44fa9676f4e20cc8fc0f",
       "version_major": 2,
       "version_minor": 0
      },
      "text/plain": [
       "HBox(children=(IntProgress(value=0, max=24), HTML(value='')))"
      ]
     },
     "metadata": {},
     "output_type": "display_data"
    },
    {
     "data": {
      "application/vnd.jupyter.widget-view+json": {
       "model_id": "af1cb677de9f4886af5872634a8bdaf2",
       "version_major": 2,
       "version_minor": 0
      },
      "text/plain": [
       "HBox(children=(IntProgress(value=0, max=24), HTML(value='')))"
      ]
     },
     "metadata": {},
     "output_type": "display_data"
    },
    {
     "data": {
      "application/vnd.jupyter.widget-view+json": {
       "model_id": "24f74ab43c454aca97dcae8a651afba7",
       "version_major": 2,
       "version_minor": 0
      },
      "text/plain": [
       "HBox(children=(IntProgress(value=0, max=24), HTML(value='')))"
      ]
     },
     "metadata": {},
     "output_type": "display_data"
    },
    {
     "data": {
      "application/vnd.jupyter.widget-view+json": {
       "model_id": "ec57a5aae6a6447f949584745b500beb",
       "version_major": 2,
       "version_minor": 0
      },
      "text/plain": [
       "HBox(children=(IntProgress(value=0, max=24), HTML(value='')))"
      ]
     },
     "metadata": {},
     "output_type": "display_data"
    },
    {
     "data": {
      "application/vnd.jupyter.widget-view+json": {
       "model_id": "d794ad34357a4b3491eda91cb155535f",
       "version_major": 2,
       "version_minor": 0
      },
      "text/plain": [
       "HBox(children=(IntProgress(value=0, max=24), HTML(value='')))"
      ]
     },
     "metadata": {},
     "output_type": "display_data"
    },
    {
     "data": {
      "application/vnd.jupyter.widget-view+json": {
       "model_id": "b33ed4ec74de462a8f395f1de850249c",
       "version_major": 2,
       "version_minor": 0
      },
      "text/plain": [
       "HBox(children=(IntProgress(value=0, max=24), HTML(value='')))"
      ]
     },
     "metadata": {},
     "output_type": "display_data"
    },
    {
     "data": {
      "application/vnd.jupyter.widget-view+json": {
       "model_id": "aaf407266f0042f79ad2cc3fd113e76a",
       "version_major": 2,
       "version_minor": 0
      },
      "text/plain": [
       "HBox(children=(IntProgress(value=0, max=24), HTML(value='')))"
      ]
     },
     "metadata": {},
     "output_type": "display_data"
    },
    {
     "data": {
      "application/vnd.jupyter.widget-view+json": {
       "model_id": "74de535ef3c04d1785083cd70e51d9cb",
       "version_major": 2,
       "version_minor": 0
      },
      "text/plain": [
       "HBox(children=(IntProgress(value=0, max=24), HTML(value='')))"
      ]
     },
     "metadata": {},
     "output_type": "display_data"
    },
    {
     "data": {
      "application/vnd.jupyter.widget-view+json": {
       "model_id": "9dbc096e661c406dbbcca4f706e3f9e5",
       "version_major": 2,
       "version_minor": 0
      },
      "text/plain": [
       "HBox(children=(IntProgress(value=0, max=24), HTML(value='')))"
      ]
     },
     "metadata": {},
     "output_type": "display_data"
    },
    {
     "data": {
      "application/vnd.jupyter.widget-view+json": {
       "model_id": "ca9b7e27023d4089873d2c3e2d2fd650",
       "version_major": 2,
       "version_minor": 0
      },
      "text/plain": [
       "HBox(children=(IntProgress(value=0, max=24), HTML(value='')))"
      ]
     },
     "metadata": {},
     "output_type": "display_data"
    },
    {
     "data": {
      "application/vnd.jupyter.widget-view+json": {
       "model_id": "61c386704eb24f9cb01003d2cb5d464b",
       "version_major": 2,
       "version_minor": 0
      },
      "text/plain": [
       "HBox(children=(IntProgress(value=0, max=24), HTML(value='')))"
      ]
     },
     "metadata": {},
     "output_type": "display_data"
    },
    {
     "data": {
      "application/vnd.jupyter.widget-view+json": {
       "model_id": "25671f8b6d6444bcb9348646a1da8198",
       "version_major": 2,
       "version_minor": 0
      },
      "text/plain": [
       "HBox(children=(IntProgress(value=0, max=24), HTML(value='')))"
      ]
     },
     "metadata": {},
     "output_type": "display_data"
    },
    {
     "data": {
      "application/vnd.jupyter.widget-view+json": {
       "model_id": "dd84971393854694a92055535aaeb605",
       "version_major": 2,
       "version_minor": 0
      },
      "text/plain": [
       "HBox(children=(IntProgress(value=0, max=24), HTML(value='')))"
      ]
     },
     "metadata": {},
     "output_type": "display_data"
    },
    {
     "data": {
      "application/vnd.jupyter.widget-view+json": {
       "model_id": "f1de14404fe14df3a01b96bbf9365fbe",
       "version_major": 2,
       "version_minor": 0
      },
      "text/plain": [
       "HBox(children=(IntProgress(value=0, max=24), HTML(value='')))"
      ]
     },
     "metadata": {},
     "output_type": "display_data"
    },
    {
     "data": {
      "application/vnd.jupyter.widget-view+json": {
       "model_id": "f923de006379401a8ba12b9bd3f2fc7a",
       "version_major": 2,
       "version_minor": 0
      },
      "text/plain": [
       "HBox(children=(IntProgress(value=0, max=24), HTML(value='')))"
      ]
     },
     "metadata": {},
     "output_type": "display_data"
    },
    {
     "data": {
      "application/vnd.jupyter.widget-view+json": {
       "model_id": "2b64d6925b454d3896dcda3641f70d13",
       "version_major": 2,
       "version_minor": 0
      },
      "text/plain": [
       "HBox(children=(IntProgress(value=0, max=24), HTML(value='')))"
      ]
     },
     "metadata": {},
     "output_type": "display_data"
    },
    {
     "data": {
      "application/vnd.jupyter.widget-view+json": {
       "model_id": "2a34176824164d6c9aa5c68a546a03a6",
       "version_major": 2,
       "version_minor": 0
      },
      "text/plain": [
       "HBox(children=(IntProgress(value=0, max=24), HTML(value='')))"
      ]
     },
     "metadata": {},
     "output_type": "display_data"
    },
    {
     "data": {
      "application/vnd.jupyter.widget-view+json": {
       "model_id": "5e41e8f643ee45129a3168bf10a25a93",
       "version_major": 2,
       "version_minor": 0
      },
      "text/plain": [
       "HBox(children=(IntProgress(value=0, max=24), HTML(value='')))"
      ]
     },
     "metadata": {},
     "output_type": "display_data"
    },
    {
     "data": {
      "application/vnd.jupyter.widget-view+json": {
       "model_id": "c96b7380a9fc4447b73e0c2abe2544ff",
       "version_major": 2,
       "version_minor": 0
      },
      "text/plain": [
       "HBox(children=(IntProgress(value=0, max=24), HTML(value='')))"
      ]
     },
     "metadata": {},
     "output_type": "display_data"
    },
    {
     "data": {
      "application/vnd.jupyter.widget-view+json": {
       "model_id": "4f66676774b84eda81c7660ac6c64e28",
       "version_major": 2,
       "version_minor": 0
      },
      "text/plain": [
       "HBox(children=(IntProgress(value=0, max=24), HTML(value='')))"
      ]
     },
     "metadata": {},
     "output_type": "display_data"
    },
    {
     "data": {
      "application/vnd.jupyter.widget-view+json": {
       "model_id": "2971ebfdc13040179da45f144e67d6ef",
       "version_major": 2,
       "version_minor": 0
      },
      "text/plain": [
       "HBox(children=(IntProgress(value=0, max=24), HTML(value='')))"
      ]
     },
     "metadata": {},
     "output_type": "display_data"
    },
    {
     "data": {
      "application/vnd.jupyter.widget-view+json": {
       "model_id": "953cb211f4484247b644717bce90026e",
       "version_major": 2,
       "version_minor": 0
      },
      "text/plain": [
       "HBox(children=(IntProgress(value=0, max=24), HTML(value='')))"
      ]
     },
     "metadata": {},
     "output_type": "display_data"
    },
    {
     "data": {
      "application/vnd.jupyter.widget-view+json": {
       "model_id": "61e876d12d454c9ba261866080effb89",
       "version_major": 2,
       "version_minor": 0
      },
      "text/plain": [
       "HBox(children=(IntProgress(value=0, max=24), HTML(value='')))"
      ]
     },
     "metadata": {},
     "output_type": "display_data"
    },
    {
     "data": {
      "application/vnd.jupyter.widget-view+json": {
       "model_id": "b475ba0f3d3348e3be2192d7969f6852",
       "version_major": 2,
       "version_minor": 0
      },
      "text/plain": [
       "HBox(children=(IntProgress(value=0, max=24), HTML(value='')))"
      ]
     },
     "metadata": {},
     "output_type": "display_data"
    },
    {
     "data": {
      "application/vnd.jupyter.widget-view+json": {
       "model_id": "9c5c3272bdf242c5bf74a755612d4fdb",
       "version_major": 2,
       "version_minor": 0
      },
      "text/plain": [
       "HBox(children=(IntProgress(value=0, max=24), HTML(value='')))"
      ]
     },
     "metadata": {},
     "output_type": "display_data"
    },
    {
     "data": {
      "application/vnd.jupyter.widget-view+json": {
       "model_id": "822ffa73990f4bfdad3d3545046f6deb",
       "version_major": 2,
       "version_minor": 0
      },
      "text/plain": [
       "HBox(children=(IntProgress(value=0, max=24), HTML(value='')))"
      ]
     },
     "metadata": {},
     "output_type": "display_data"
    },
    {
     "data": {
      "application/vnd.jupyter.widget-view+json": {
       "model_id": "f3f98cc4546a4228b72bad1268ec545f",
       "version_major": 2,
       "version_minor": 0
      },
      "text/plain": [
       "HBox(children=(IntProgress(value=0, max=24), HTML(value='')))"
      ]
     },
     "metadata": {},
     "output_type": "display_data"
    },
    {
     "data": {
      "application/vnd.jupyter.widget-view+json": {
       "model_id": "21693537ba5840cd840bd14c182b6f8f",
       "version_major": 2,
       "version_minor": 0
      },
      "text/plain": [
       "HBox(children=(IntProgress(value=0, max=24), HTML(value='')))"
      ]
     },
     "metadata": {},
     "output_type": "display_data"
    },
    {
     "data": {
      "application/vnd.jupyter.widget-view+json": {
       "model_id": "96978986ad0748ff89df557cc9fe4250",
       "version_major": 2,
       "version_minor": 0
      },
      "text/plain": [
       "HBox(children=(IntProgress(value=0, max=24), HTML(value='')))"
      ]
     },
     "metadata": {},
     "output_type": "display_data"
    },
    {
     "data": {
      "application/vnd.jupyter.widget-view+json": {
       "model_id": "3460968c4b554675851e1df25c1d0490",
       "version_major": 2,
       "version_minor": 0
      },
      "text/plain": [
       "HBox(children=(IntProgress(value=0, max=24), HTML(value='')))"
      ]
     },
     "metadata": {},
     "output_type": "display_data"
    },
    {
     "data": {
      "application/vnd.jupyter.widget-view+json": {
       "model_id": "03f1263ff856462d97bb02796d30f25b",
       "version_major": 2,
       "version_minor": 0
      },
      "text/plain": [
       "HBox(children=(IntProgress(value=0, max=24), HTML(value='')))"
      ]
     },
     "metadata": {},
     "output_type": "display_data"
    },
    {
     "data": {
      "application/vnd.jupyter.widget-view+json": {
       "model_id": "158c041f0916482098941da402a5ec11",
       "version_major": 2,
       "version_minor": 0
      },
      "text/plain": [
       "HBox(children=(IntProgress(value=0, max=24), HTML(value='')))"
      ]
     },
     "metadata": {},
     "output_type": "display_data"
    },
    {
     "data": {
      "application/vnd.jupyter.widget-view+json": {
       "model_id": "f14244f68d6f4f79a7b62da264fed177",
       "version_major": 2,
       "version_minor": 0
      },
      "text/plain": [
       "HBox(children=(IntProgress(value=0, max=24), HTML(value='')))"
      ]
     },
     "metadata": {},
     "output_type": "display_data"
    },
    {
     "data": {
      "application/vnd.jupyter.widget-view+json": {
       "model_id": "8d2f681970124b7bb2109ae8630ff202",
       "version_major": 2,
       "version_minor": 0
      },
      "text/plain": [
       "HBox(children=(IntProgress(value=0, max=24), HTML(value='')))"
      ]
     },
     "metadata": {},
     "output_type": "display_data"
    },
    {
     "data": {
      "application/vnd.jupyter.widget-view+json": {
       "model_id": "3572df87fbd745c4a42f53ec4011407c",
       "version_major": 2,
       "version_minor": 0
      },
      "text/plain": [
       "HBox(children=(IntProgress(value=0, max=24), HTML(value='')))"
      ]
     },
     "metadata": {},
     "output_type": "display_data"
    },
    {
     "data": {
      "application/vnd.jupyter.widget-view+json": {
       "model_id": "09b27d5b5bb0498b9266c5c1dc084f1f",
       "version_major": 2,
       "version_minor": 0
      },
      "text/plain": [
       "HBox(children=(IntProgress(value=0, max=24), HTML(value='')))"
      ]
     },
     "metadata": {},
     "output_type": "display_data"
    },
    {
     "data": {
      "application/vnd.jupyter.widget-view+json": {
       "model_id": "05dbee06b20b4e58a559b61398c11cd9",
       "version_major": 2,
       "version_minor": 0
      },
      "text/plain": [
       "HBox(children=(IntProgress(value=0, max=24), HTML(value='')))"
      ]
     },
     "metadata": {},
     "output_type": "display_data"
    },
    {
     "data": {
      "application/vnd.jupyter.widget-view+json": {
       "model_id": "5b4cf2a858534573a4ed9f0f7ddc6711",
       "version_major": 2,
       "version_minor": 0
      },
      "text/plain": [
       "HBox(children=(IntProgress(value=0, max=24), HTML(value='')))"
      ]
     },
     "metadata": {},
     "output_type": "display_data"
    },
    {
     "data": {
      "application/vnd.jupyter.widget-view+json": {
       "model_id": "5c6e1b39884e46d79b1c0961d9402b3f",
       "version_major": 2,
       "version_minor": 0
      },
      "text/plain": [
       "HBox(children=(IntProgress(value=0, max=24), HTML(value='')))"
      ]
     },
     "metadata": {},
     "output_type": "display_data"
    },
    {
     "data": {
      "application/vnd.jupyter.widget-view+json": {
       "model_id": "8e8fcee74e22415d9857203d941b3a8a",
       "version_major": 2,
       "version_minor": 0
      },
      "text/plain": [
       "HBox(children=(IntProgress(value=0, max=24), HTML(value='')))"
      ]
     },
     "metadata": {},
     "output_type": "display_data"
    },
    {
     "data": {
      "application/vnd.jupyter.widget-view+json": {
       "model_id": "ca29d8886c2b4dca8a94b81378186d64",
       "version_major": 2,
       "version_minor": 0
      },
      "text/plain": [
       "HBox(children=(IntProgress(value=0, max=24), HTML(value='')))"
      ]
     },
     "metadata": {},
     "output_type": "display_data"
    },
    {
     "data": {
      "application/vnd.jupyter.widget-view+json": {
       "model_id": "f1b0e2ab70d24e14b317d963b84b445c",
       "version_major": 2,
       "version_minor": 0
      },
      "text/plain": [
       "HBox(children=(IntProgress(value=0, max=24), HTML(value='')))"
      ]
     },
     "metadata": {},
     "output_type": "display_data"
    },
    {
     "data": {
      "application/vnd.jupyter.widget-view+json": {
       "model_id": "e6b4a91bca7c4d8e854419509c447bec",
       "version_major": 2,
       "version_minor": 0
      },
      "text/plain": [
       "HBox(children=(IntProgress(value=0, max=24), HTML(value='')))"
      ]
     },
     "metadata": {},
     "output_type": "display_data"
    },
    {
     "data": {
      "application/vnd.jupyter.widget-view+json": {
       "model_id": "ceb29442e8464fae8b1393609bcf7ef2",
       "version_major": 2,
       "version_minor": 0
      },
      "text/plain": [
       "HBox(children=(IntProgress(value=0, max=24), HTML(value='')))"
      ]
     },
     "metadata": {},
     "output_type": "display_data"
    },
    {
     "data": {
      "application/vnd.jupyter.widget-view+json": {
       "model_id": "bb30e261370a421a95ae0f360d701752",
       "version_major": 2,
       "version_minor": 0
      },
      "text/plain": [
       "HBox(children=(IntProgress(value=0, max=24), HTML(value='')))"
      ]
     },
     "metadata": {},
     "output_type": "display_data"
    },
    {
     "data": {
      "application/vnd.jupyter.widget-view+json": {
       "model_id": "6defaf665cad42e39bcb3d8ec4fbe083",
       "version_major": 2,
       "version_minor": 0
      },
      "text/plain": [
       "HBox(children=(IntProgress(value=0, max=24), HTML(value='')))"
      ]
     },
     "metadata": {},
     "output_type": "display_data"
    },
    {
     "data": {
      "application/vnd.jupyter.widget-view+json": {
       "model_id": "c92b4c0931484989a8e1575e0f37dcf3",
       "version_major": 2,
       "version_minor": 0
      },
      "text/plain": [
       "HBox(children=(IntProgress(value=0, max=24), HTML(value='')))"
      ]
     },
     "metadata": {},
     "output_type": "display_data"
    },
    {
     "data": {
      "application/vnd.jupyter.widget-view+json": {
       "model_id": "0114075b74f843a7a10fbd646af6360f",
       "version_major": 2,
       "version_minor": 0
      },
      "text/plain": [
       "HBox(children=(IntProgress(value=0, max=24), HTML(value='')))"
      ]
     },
     "metadata": {},
     "output_type": "display_data"
    },
    {
     "data": {
      "application/vnd.jupyter.widget-view+json": {
       "model_id": "4df7380d4f444f91acf2b5b1b68f9c9f",
       "version_major": 2,
       "version_minor": 0
      },
      "text/plain": [
       "HBox(children=(IntProgress(value=0, max=24), HTML(value='')))"
      ]
     },
     "metadata": {},
     "output_type": "display_data"
    },
    {
     "data": {
      "application/vnd.jupyter.widget-view+json": {
       "model_id": "02182ede607643c3ad2a61fae3a94a04",
       "version_major": 2,
       "version_minor": 0
      },
      "text/plain": [
       "HBox(children=(IntProgress(value=0, max=24), HTML(value='')))"
      ]
     },
     "metadata": {},
     "output_type": "display_data"
    },
    {
     "data": {
      "application/vnd.jupyter.widget-view+json": {
       "model_id": "4bfda12d968f4af8882e04ffd8203252",
       "version_major": 2,
       "version_minor": 0
      },
      "text/plain": [
       "HBox(children=(IntProgress(value=0, max=24), HTML(value='')))"
      ]
     },
     "metadata": {},
     "output_type": "display_data"
    },
    {
     "data": {
      "application/vnd.jupyter.widget-view+json": {
       "model_id": "34b69d0682c14d0799b8a5afbf062712",
       "version_major": 2,
       "version_minor": 0
      },
      "text/plain": [
       "HBox(children=(IntProgress(value=0, max=24), HTML(value='')))"
      ]
     },
     "metadata": {},
     "output_type": "display_data"
    },
    {
     "data": {
      "application/vnd.jupyter.widget-view+json": {
       "model_id": "17f1c6d83a7f483ea64b8dca80a5098e",
       "version_major": 2,
       "version_minor": 0
      },
      "text/plain": [
       "HBox(children=(IntProgress(value=0, max=24), HTML(value='')))"
      ]
     },
     "metadata": {},
     "output_type": "display_data"
    },
    {
     "data": {
      "application/vnd.jupyter.widget-view+json": {
       "model_id": "dcb70c4ff0f146c9b15acff3bf7e81c4",
       "version_major": 2,
       "version_minor": 0
      },
      "text/plain": [
       "HBox(children=(IntProgress(value=0, max=24), HTML(value='')))"
      ]
     },
     "metadata": {},
     "output_type": "display_data"
    },
    {
     "data": {
      "application/vnd.jupyter.widget-view+json": {
       "model_id": "5420c15a03fd4ecca38b8d6c6c736277",
       "version_major": 2,
       "version_minor": 0
      },
      "text/plain": [
       "HBox(children=(IntProgress(value=0, max=24), HTML(value='')))"
      ]
     },
     "metadata": {},
     "output_type": "display_data"
    },
    {
     "data": {
      "application/vnd.jupyter.widget-view+json": {
       "model_id": "14ab08b443cb4493a7468a0c85804120",
       "version_major": 2,
       "version_minor": 0
      },
      "text/plain": [
       "HBox(children=(IntProgress(value=0, max=24), HTML(value='')))"
      ]
     },
     "metadata": {},
     "output_type": "display_data"
    },
    {
     "data": {
      "application/vnd.jupyter.widget-view+json": {
       "model_id": "942b538b7a5a40e4998ae8471ea60573",
       "version_major": 2,
       "version_minor": 0
      },
      "text/plain": [
       "HBox(children=(IntProgress(value=0, max=24), HTML(value='')))"
      ]
     },
     "metadata": {},
     "output_type": "display_data"
    },
    {
     "data": {
      "application/vnd.jupyter.widget-view+json": {
       "model_id": "2b494a3300874ca8b0d24f6b0b44b305",
       "version_major": 2,
       "version_minor": 0
      },
      "text/plain": [
       "HBox(children=(IntProgress(value=0, max=24), HTML(value='')))"
      ]
     },
     "metadata": {},
     "output_type": "display_data"
    },
    {
     "data": {
      "application/vnd.jupyter.widget-view+json": {
       "model_id": "b37d32a5b2904c609e4423dc7c115995",
       "version_major": 2,
       "version_minor": 0
      },
      "text/plain": [
       "HBox(children=(IntProgress(value=0, max=24), HTML(value='')))"
      ]
     },
     "metadata": {},
     "output_type": "display_data"
    },
    {
     "data": {
      "application/vnd.jupyter.widget-view+json": {
       "model_id": "66aa4ed2a9824070bc033e39db8adb74",
       "version_major": 2,
       "version_minor": 0
      },
      "text/plain": [
       "HBox(children=(IntProgress(value=0, max=24), HTML(value='')))"
      ]
     },
     "metadata": {},
     "output_type": "display_data"
    },
    {
     "data": {
      "application/vnd.jupyter.widget-view+json": {
       "model_id": "3f596aed6cff4953918cff160787660f",
       "version_major": 2,
       "version_minor": 0
      },
      "text/plain": [
       "HBox(children=(IntProgress(value=0, max=24), HTML(value='')))"
      ]
     },
     "metadata": {},
     "output_type": "display_data"
    },
    {
     "data": {
      "application/vnd.jupyter.widget-view+json": {
       "model_id": "01aecab2c9ed45dea7c703e9c859ea0e",
       "version_major": 2,
       "version_minor": 0
      },
      "text/plain": [
       "HBox(children=(IntProgress(value=0, max=24), HTML(value='')))"
      ]
     },
     "metadata": {},
     "output_type": "display_data"
    },
    {
     "data": {
      "application/vnd.jupyter.widget-view+json": {
       "model_id": "492aa443ccca4e7b91dfe68dfd19e343",
       "version_major": 2,
       "version_minor": 0
      },
      "text/plain": [
       "HBox(children=(IntProgress(value=0, max=24), HTML(value='')))"
      ]
     },
     "metadata": {},
     "output_type": "display_data"
    },
    {
     "data": {
      "application/vnd.jupyter.widget-view+json": {
       "model_id": "03cd266911a54f998bf11e579a80b905",
       "version_major": 2,
       "version_minor": 0
      },
      "text/plain": [
       "HBox(children=(IntProgress(value=0, max=24), HTML(value='')))"
      ]
     },
     "metadata": {},
     "output_type": "display_data"
    },
    {
     "data": {
      "application/vnd.jupyter.widget-view+json": {
       "model_id": "117fe94b29954913942f966fbf0e96f0",
       "version_major": 2,
       "version_minor": 0
      },
      "text/plain": [
       "HBox(children=(IntProgress(value=0, max=24), HTML(value='')))"
      ]
     },
     "metadata": {},
     "output_type": "display_data"
    },
    {
     "data": {
      "application/vnd.jupyter.widget-view+json": {
       "model_id": "fc04983ab49e4153a043340dcfb31f60",
       "version_major": 2,
       "version_minor": 0
      },
      "text/plain": [
       "HBox(children=(IntProgress(value=0, max=24), HTML(value='')))"
      ]
     },
     "metadata": {},
     "output_type": "display_data"
    },
    {
     "data": {
      "application/vnd.jupyter.widget-view+json": {
       "model_id": "8789231404c5465c8c101ee8b2acff52",
       "version_major": 2,
       "version_minor": 0
      },
      "text/plain": [
       "HBox(children=(IntProgress(value=0, max=24), HTML(value='')))"
      ]
     },
     "metadata": {},
     "output_type": "display_data"
    },
    {
     "data": {
      "application/vnd.jupyter.widget-view+json": {
       "model_id": "b9bd43370dab40298a5065a42974e409",
       "version_major": 2,
       "version_minor": 0
      },
      "text/plain": [
       "HBox(children=(IntProgress(value=0, max=24), HTML(value='')))"
      ]
     },
     "metadata": {},
     "output_type": "display_data"
    },
    {
     "data": {
      "application/vnd.jupyter.widget-view+json": {
       "model_id": "9bd38f157ba048cd980c61a0e78ed1ca",
       "version_major": 2,
       "version_minor": 0
      },
      "text/plain": [
       "HBox(children=(IntProgress(value=0, max=24), HTML(value='')))"
      ]
     },
     "metadata": {},
     "output_type": "display_data"
    },
    {
     "data": {
      "application/vnd.jupyter.widget-view+json": {
       "model_id": "89a83ab5ad9a467893ba5c3ce22d9e99",
       "version_major": 2,
       "version_minor": 0
      },
      "text/plain": [
       "HBox(children=(IntProgress(value=0, max=24), HTML(value='')))"
      ]
     },
     "metadata": {},
     "output_type": "display_data"
    },
    {
     "data": {
      "application/vnd.jupyter.widget-view+json": {
       "model_id": "180332057d3b4ae79322bb9cd2d7abc5",
       "version_major": 2,
       "version_minor": 0
      },
      "text/plain": [
       "HBox(children=(IntProgress(value=0, max=24), HTML(value='')))"
      ]
     },
     "metadata": {},
     "output_type": "display_data"
    },
    {
     "data": {
      "application/vnd.jupyter.widget-view+json": {
       "model_id": "e9994c0eaae04142a9cb590f756c3797",
       "version_major": 2,
       "version_minor": 0
      },
      "text/plain": [
       "HBox(children=(IntProgress(value=0, max=24), HTML(value='')))"
      ]
     },
     "metadata": {},
     "output_type": "display_data"
    },
    {
     "data": {
      "application/vnd.jupyter.widget-view+json": {
       "model_id": "ba653aac443c43d3bc1d8e4b6e59392b",
       "version_major": 2,
       "version_minor": 0
      },
      "text/plain": [
       "HBox(children=(IntProgress(value=0, max=24), HTML(value='')))"
      ]
     },
     "metadata": {},
     "output_type": "display_data"
    },
    {
     "data": {
      "application/vnd.jupyter.widget-view+json": {
       "model_id": "4b8d1c443432451a86fb2bfc6923c549",
       "version_major": 2,
       "version_minor": 0
      },
      "text/plain": [
       "HBox(children=(IntProgress(value=0, max=24), HTML(value='')))"
      ]
     },
     "metadata": {},
     "output_type": "display_data"
    },
    {
     "data": {
      "application/vnd.jupyter.widget-view+json": {
       "model_id": "361b60d055e6495bbdc02a305e7cd18b",
       "version_major": 2,
       "version_minor": 0
      },
      "text/plain": [
       "HBox(children=(IntProgress(value=0, max=24), HTML(value='')))"
      ]
     },
     "metadata": {},
     "output_type": "display_data"
    },
    {
     "data": {
      "application/vnd.jupyter.widget-view+json": {
       "model_id": "c7eba5190c544a33b138007f6d183410",
       "version_major": 2,
       "version_minor": 0
      },
      "text/plain": [
       "HBox(children=(IntProgress(value=0, max=24), HTML(value='')))"
      ]
     },
     "metadata": {},
     "output_type": "display_data"
    },
    {
     "data": {
      "application/vnd.jupyter.widget-view+json": {
       "model_id": "4ed4cc5ee8b44c22bcb70b64ceca1b4b",
       "version_major": 2,
       "version_minor": 0
      },
      "text/plain": [
       "HBox(children=(IntProgress(value=0, max=24), HTML(value='')))"
      ]
     },
     "metadata": {},
     "output_type": "display_data"
    },
    {
     "data": {
      "application/vnd.jupyter.widget-view+json": {
       "model_id": "19afb3e387dd4ab284161414f2aaf3b5",
       "version_major": 2,
       "version_minor": 0
      },
      "text/plain": [
       "HBox(children=(IntProgress(value=0, max=24), HTML(value='')))"
      ]
     },
     "metadata": {},
     "output_type": "display_data"
    },
    {
     "data": {
      "application/vnd.jupyter.widget-view+json": {
       "model_id": "fe0422ebc4b3433e9ec8c6e75a36e73f",
       "version_major": 2,
       "version_minor": 0
      },
      "text/plain": [
       "HBox(children=(IntProgress(value=0, max=24), HTML(value='')))"
      ]
     },
     "metadata": {},
     "output_type": "display_data"
    },
    {
     "data": {
      "application/vnd.jupyter.widget-view+json": {
       "model_id": "5eecd3348ebe43a3969c271b171ad115",
       "version_major": 2,
       "version_minor": 0
      },
      "text/plain": [
       "HBox(children=(IntProgress(value=0, max=24), HTML(value='')))"
      ]
     },
     "metadata": {},
     "output_type": "display_data"
    },
    {
     "data": {
      "application/vnd.jupyter.widget-view+json": {
       "model_id": "c4933b9d20df4a649458addc4e11bd7b",
       "version_major": 2,
       "version_minor": 0
      },
      "text/plain": [
       "HBox(children=(IntProgress(value=0, max=24), HTML(value='')))"
      ]
     },
     "metadata": {},
     "output_type": "display_data"
    },
    {
     "data": {
      "application/vnd.jupyter.widget-view+json": {
       "model_id": "173449496dc8405ba49fa34817b85ca3",
       "version_major": 2,
       "version_minor": 0
      },
      "text/plain": [
       "HBox(children=(IntProgress(value=0, max=24), HTML(value='')))"
      ]
     },
     "metadata": {},
     "output_type": "display_data"
    },
    {
     "data": {
      "application/vnd.jupyter.widget-view+json": {
       "model_id": "197155c28292406891a7c7383f7a5532",
       "version_major": 2,
       "version_minor": 0
      },
      "text/plain": [
       "HBox(children=(IntProgress(value=0, max=24), HTML(value='')))"
      ]
     },
     "metadata": {},
     "output_type": "display_data"
    },
    {
     "data": {
      "application/vnd.jupyter.widget-view+json": {
       "model_id": "3de5a44061a24dd1823928c165cf939f",
       "version_major": 2,
       "version_minor": 0
      },
      "text/plain": [
       "HBox(children=(IntProgress(value=0, max=24), HTML(value='')))"
      ]
     },
     "metadata": {},
     "output_type": "display_data"
    },
    {
     "data": {
      "application/vnd.jupyter.widget-view+json": {
       "model_id": "3e05169f5a23445299ce625ae2f4b021",
       "version_major": 2,
       "version_minor": 0
      },
      "text/plain": [
       "HBox(children=(IntProgress(value=0, max=24), HTML(value='')))"
      ]
     },
     "metadata": {},
     "output_type": "display_data"
    },
    {
     "data": {
      "application/vnd.jupyter.widget-view+json": {
       "model_id": "4883ced5eead442ab4398f9c4d294a6c",
       "version_major": 2,
       "version_minor": 0
      },
      "text/plain": [
       "HBox(children=(IntProgress(value=0, max=24), HTML(value='')))"
      ]
     },
     "metadata": {},
     "output_type": "display_data"
    },
    {
     "data": {
      "application/vnd.jupyter.widget-view+json": {
       "model_id": "f044554576e642f4b3b80052d38578c7",
       "version_major": 2,
       "version_minor": 0
      },
      "text/plain": [
       "HBox(children=(IntProgress(value=0, max=24), HTML(value='')))"
      ]
     },
     "metadata": {},
     "output_type": "display_data"
    },
    {
     "data": {
      "application/vnd.jupyter.widget-view+json": {
       "model_id": "a1b584f5af524c1093ad769e52d5cbe6",
       "version_major": 2,
       "version_minor": 0
      },
      "text/plain": [
       "HBox(children=(IntProgress(value=0, max=24), HTML(value='')))"
      ]
     },
     "metadata": {},
     "output_type": "display_data"
    },
    {
     "data": {
      "application/vnd.jupyter.widget-view+json": {
       "model_id": "b5f7c070d604424e8823076fd9b1e2f2",
       "version_major": 2,
       "version_minor": 0
      },
      "text/plain": [
       "HBox(children=(IntProgress(value=0, max=24), HTML(value='')))"
      ]
     },
     "metadata": {},
     "output_type": "display_data"
    },
    {
     "data": {
      "application/vnd.jupyter.widget-view+json": {
       "model_id": "9b116961e02c47049b090906247026e3",
       "version_major": 2,
       "version_minor": 0
      },
      "text/plain": [
       "HBox(children=(IntProgress(value=0, max=24), HTML(value='')))"
      ]
     },
     "metadata": {},
     "output_type": "display_data"
    },
    {
     "data": {
      "application/vnd.jupyter.widget-view+json": {
       "model_id": "69596277196d4978b889574b046b9143",
       "version_major": 2,
       "version_minor": 0
      },
      "text/plain": [
       "HBox(children=(IntProgress(value=0, max=24), HTML(value='')))"
      ]
     },
     "metadata": {},
     "output_type": "display_data"
    },
    {
     "data": {
      "application/vnd.jupyter.widget-view+json": {
       "model_id": "ae11578cbd1e4d0886f65c6b939c041c",
       "version_major": 2,
       "version_minor": 0
      },
      "text/plain": [
       "HBox(children=(IntProgress(value=0, max=24), HTML(value='')))"
      ]
     },
     "metadata": {},
     "output_type": "display_data"
    },
    {
     "data": {
      "application/vnd.jupyter.widget-view+json": {
       "model_id": "a8c42ee00bc64a7eb6380382939d65e3",
       "version_major": 2,
       "version_minor": 0
      },
      "text/plain": [
       "HBox(children=(IntProgress(value=0, max=24), HTML(value='')))"
      ]
     },
     "metadata": {},
     "output_type": "display_data"
    },
    {
     "data": {
      "application/vnd.jupyter.widget-view+json": {
       "model_id": "b5a3c32a8f6d40d6bbdba3cae263590b",
       "version_major": 2,
       "version_minor": 0
      },
      "text/plain": [
       "HBox(children=(IntProgress(value=0, max=24), HTML(value='')))"
      ]
     },
     "metadata": {},
     "output_type": "display_data"
    },
    {
     "data": {
      "application/vnd.jupyter.widget-view+json": {
       "model_id": "82b944499ca5454fac6cfcc9696152a4",
       "version_major": 2,
       "version_minor": 0
      },
      "text/plain": [
       "HBox(children=(IntProgress(value=0, max=24), HTML(value='')))"
      ]
     },
     "metadata": {},
     "output_type": "display_data"
    },
    {
     "data": {
      "application/vnd.jupyter.widget-view+json": {
       "model_id": "e6c06ee78c0f423295e4d2bf9399e61d",
       "version_major": 2,
       "version_minor": 0
      },
      "text/plain": [
       "HBox(children=(IntProgress(value=0, max=24), HTML(value='')))"
      ]
     },
     "metadata": {},
     "output_type": "display_data"
    },
    {
     "data": {
      "application/vnd.jupyter.widget-view+json": {
       "model_id": "6398d0ef6582462b9481c16ab3231f90",
       "version_major": 2,
       "version_minor": 0
      },
      "text/plain": [
       "HBox(children=(IntProgress(value=0, max=24), HTML(value='')))"
      ]
     },
     "metadata": {},
     "output_type": "display_data"
    },
    {
     "data": {
      "application/vnd.jupyter.widget-view+json": {
       "model_id": "f806928adeeb4bde8214fc91de6736e4",
       "version_major": 2,
       "version_minor": 0
      },
      "text/plain": [
       "HBox(children=(IntProgress(value=0, max=24), HTML(value='')))"
      ]
     },
     "metadata": {},
     "output_type": "display_data"
    },
    {
     "data": {
      "application/vnd.jupyter.widget-view+json": {
       "model_id": "49189305ebe24513aaa87264c78ebb78",
       "version_major": 2,
       "version_minor": 0
      },
      "text/plain": [
       "HBox(children=(IntProgress(value=0, max=24), HTML(value='')))"
      ]
     },
     "metadata": {},
     "output_type": "display_data"
    },
    {
     "data": {
      "application/vnd.jupyter.widget-view+json": {
       "model_id": "a3bfe4440031401fad00f8e5e1855a61",
       "version_major": 2,
       "version_minor": 0
      },
      "text/plain": [
       "HBox(children=(IntProgress(value=0, max=24), HTML(value='')))"
      ]
     },
     "metadata": {},
     "output_type": "display_data"
    },
    {
     "data": {
      "application/vnd.jupyter.widget-view+json": {
       "model_id": "709b4737994e4e7fb1be901117c7437a",
       "version_major": 2,
       "version_minor": 0
      },
      "text/plain": [
       "HBox(children=(IntProgress(value=0, max=24), HTML(value='')))"
      ]
     },
     "metadata": {},
     "output_type": "display_data"
    },
    {
     "data": {
      "application/vnd.jupyter.widget-view+json": {
       "model_id": "846b5c6629ef4fb6bae36d554174f878",
       "version_major": 2,
       "version_minor": 0
      },
      "text/plain": [
       "HBox(children=(IntProgress(value=0, max=24), HTML(value='')))"
      ]
     },
     "metadata": {},
     "output_type": "display_data"
    },
    {
     "data": {
      "application/vnd.jupyter.widget-view+json": {
       "model_id": "f34b818abeb740c896f4dca7c5eb2431",
       "version_major": 2,
       "version_minor": 0
      },
      "text/plain": [
       "HBox(children=(IntProgress(value=0, max=24), HTML(value='')))"
      ]
     },
     "metadata": {},
     "output_type": "display_data"
    },
    {
     "data": {
      "application/vnd.jupyter.widget-view+json": {
       "model_id": "bc6c5991c5d54cc696ea42dc2727cacd",
       "version_major": 2,
       "version_minor": 0
      },
      "text/plain": [
       "HBox(children=(IntProgress(value=0, max=24), HTML(value='')))"
      ]
     },
     "metadata": {},
     "output_type": "display_data"
    },
    {
     "data": {
      "application/vnd.jupyter.widget-view+json": {
       "model_id": "74bbc080e0204caca35d28d04aa42124",
       "version_major": 2,
       "version_minor": 0
      },
      "text/plain": [
       "HBox(children=(IntProgress(value=0, max=24), HTML(value='')))"
      ]
     },
     "metadata": {},
     "output_type": "display_data"
    },
    {
     "data": {
      "application/vnd.jupyter.widget-view+json": {
       "model_id": "58878f39eda64f3d822a70b8a3ef340b",
       "version_major": 2,
       "version_minor": 0
      },
      "text/plain": [
       "HBox(children=(IntProgress(value=0, max=24), HTML(value='')))"
      ]
     },
     "metadata": {},
     "output_type": "display_data"
    },
    {
     "data": {
      "application/vnd.jupyter.widget-view+json": {
       "model_id": "65efab68c4434ad186f62d262467315c",
       "version_major": 2,
       "version_minor": 0
      },
      "text/plain": [
       "HBox(children=(IntProgress(value=0, max=24), HTML(value='')))"
      ]
     },
     "metadata": {},
     "output_type": "display_data"
    },
    {
     "data": {
      "application/vnd.jupyter.widget-view+json": {
       "model_id": "e171583b29024128be80b48cde19433d",
       "version_major": 2,
       "version_minor": 0
      },
      "text/plain": [
       "HBox(children=(IntProgress(value=0, max=24), HTML(value='')))"
      ]
     },
     "metadata": {},
     "output_type": "display_data"
    },
    {
     "data": {
      "application/vnd.jupyter.widget-view+json": {
       "model_id": "654a6647d64b4d9a98c2af013149d94f",
       "version_major": 2,
       "version_minor": 0
      },
      "text/plain": [
       "HBox(children=(IntProgress(value=0, max=24), HTML(value='')))"
      ]
     },
     "metadata": {},
     "output_type": "display_data"
    },
    {
     "data": {
      "application/vnd.jupyter.widget-view+json": {
       "model_id": "2a178f1490c14321b321c631af03c1f7",
       "version_major": 2,
       "version_minor": 0
      },
      "text/plain": [
       "HBox(children=(IntProgress(value=0, max=24), HTML(value='')))"
      ]
     },
     "metadata": {},
     "output_type": "display_data"
    },
    {
     "data": {
      "application/vnd.jupyter.widget-view+json": {
       "model_id": "b406ca72e5e64c869d833f2232243f6f",
       "version_major": 2,
       "version_minor": 0
      },
      "text/plain": [
       "HBox(children=(IntProgress(value=0, max=24), HTML(value='')))"
      ]
     },
     "metadata": {},
     "output_type": "display_data"
    },
    {
     "data": {
      "application/vnd.jupyter.widget-view+json": {
       "model_id": "7a4c5b51a9af47edaff668be4321f26e",
       "version_major": 2,
       "version_minor": 0
      },
      "text/plain": [
       "HBox(children=(IntProgress(value=0, max=24), HTML(value='')))"
      ]
     },
     "metadata": {},
     "output_type": "display_data"
    },
    {
     "data": {
      "application/vnd.jupyter.widget-view+json": {
       "model_id": "f9ba2279e2474503bac0c46e8ec37773",
       "version_major": 2,
       "version_minor": 0
      },
      "text/plain": [
       "HBox(children=(IntProgress(value=0, max=24), HTML(value='')))"
      ]
     },
     "metadata": {},
     "output_type": "display_data"
    },
    {
     "data": {
      "application/vnd.jupyter.widget-view+json": {
       "model_id": "8b9868352b5448ca8dd51523c26e9b88",
       "version_major": 2,
       "version_minor": 0
      },
      "text/plain": [
       "HBox(children=(IntProgress(value=0, max=24), HTML(value='')))"
      ]
     },
     "metadata": {},
     "output_type": "display_data"
    },
    {
     "data": {
      "application/vnd.jupyter.widget-view+json": {
       "model_id": "8d31180b896c476b8e5a926fd5405905",
       "version_major": 2,
       "version_minor": 0
      },
      "text/plain": [
       "HBox(children=(IntProgress(value=0, max=24), HTML(value='')))"
      ]
     },
     "metadata": {},
     "output_type": "display_data"
    },
    {
     "data": {
      "application/vnd.jupyter.widget-view+json": {
       "model_id": "38c8a120161e4005bffc6f6ef0276bb9",
       "version_major": 2,
       "version_minor": 0
      },
      "text/plain": [
       "HBox(children=(IntProgress(value=0, max=24), HTML(value='')))"
      ]
     },
     "metadata": {},
     "output_type": "display_data"
    },
    {
     "data": {
      "application/vnd.jupyter.widget-view+json": {
       "model_id": "ab768f22bb27494a94255003c3695f79",
       "version_major": 2,
       "version_minor": 0
      },
      "text/plain": [
       "HBox(children=(IntProgress(value=0, max=24), HTML(value='')))"
      ]
     },
     "metadata": {},
     "output_type": "display_data"
    },
    {
     "data": {
      "application/vnd.jupyter.widget-view+json": {
       "model_id": "433c45c260ca42bf99ea9995aec712d0",
       "version_major": 2,
       "version_minor": 0
      },
      "text/plain": [
       "HBox(children=(IntProgress(value=0, max=24), HTML(value='')))"
      ]
     },
     "metadata": {},
     "output_type": "display_data"
    },
    {
     "data": {
      "application/vnd.jupyter.widget-view+json": {
       "model_id": "456f6b147e66434ea64ac4840c7deb54",
       "version_major": 2,
       "version_minor": 0
      },
      "text/plain": [
       "HBox(children=(IntProgress(value=0, max=24), HTML(value='')))"
      ]
     },
     "metadata": {},
     "output_type": "display_data"
    },
    {
     "data": {
      "application/vnd.jupyter.widget-view+json": {
       "model_id": "d1c8685bb4e34c88ae200b605fd5944f",
       "version_major": 2,
       "version_minor": 0
      },
      "text/plain": [
       "HBox(children=(IntProgress(value=0, max=24), HTML(value='')))"
      ]
     },
     "metadata": {},
     "output_type": "display_data"
    },
    {
     "data": {
      "application/vnd.jupyter.widget-view+json": {
       "model_id": "9924c62fd44341bfab873d8991faa280",
       "version_major": 2,
       "version_minor": 0
      },
      "text/plain": [
       "HBox(children=(IntProgress(value=0, max=24), HTML(value='')))"
      ]
     },
     "metadata": {},
     "output_type": "display_data"
    },
    {
     "data": {
      "application/vnd.jupyter.widget-view+json": {
       "model_id": "f8ecec3633544ab19e5a4c3595b63571",
       "version_major": 2,
       "version_minor": 0
      },
      "text/plain": [
       "HBox(children=(IntProgress(value=0, max=24), HTML(value='')))"
      ]
     },
     "metadata": {},
     "output_type": "display_data"
    },
    {
     "data": {
      "application/vnd.jupyter.widget-view+json": {
       "model_id": "3ece3cd6e0cd4cf4b4a2b9f1d3d39d11",
       "version_major": 2,
       "version_minor": 0
      },
      "text/plain": [
       "HBox(children=(IntProgress(value=0, max=24), HTML(value='')))"
      ]
     },
     "metadata": {},
     "output_type": "display_data"
    },
    {
     "data": {
      "application/vnd.jupyter.widget-view+json": {
       "model_id": "a8a748ccee7148ac9a49d55d71f5563c",
       "version_major": 2,
       "version_minor": 0
      },
      "text/plain": [
       "HBox(children=(IntProgress(value=0, max=24), HTML(value='')))"
      ]
     },
     "metadata": {},
     "output_type": "display_data"
    },
    {
     "data": {
      "application/vnd.jupyter.widget-view+json": {
       "model_id": "616ba2cdd5a5478da926526be5544be9",
       "version_major": 2,
       "version_minor": 0
      },
      "text/plain": [
       "HBox(children=(IntProgress(value=0, max=24), HTML(value='')))"
      ]
     },
     "metadata": {},
     "output_type": "display_data"
    },
    {
     "data": {
      "application/vnd.jupyter.widget-view+json": {
       "model_id": "241c277de822441da8d748cdf180b1cb",
       "version_major": 2,
       "version_minor": 0
      },
      "text/plain": [
       "HBox(children=(IntProgress(value=0, max=24), HTML(value='')))"
      ]
     },
     "metadata": {},
     "output_type": "display_data"
    },
    {
     "data": {
      "application/vnd.jupyter.widget-view+json": {
       "model_id": "577a260501564cb4848eda83baa8ff85",
       "version_major": 2,
       "version_minor": 0
      },
      "text/plain": [
       "HBox(children=(IntProgress(value=0, max=24), HTML(value='')))"
      ]
     },
     "metadata": {},
     "output_type": "display_data"
    },
    {
     "data": {
      "application/vnd.jupyter.widget-view+json": {
       "model_id": "86767d751325462fa42b223cbe7da2ec",
       "version_major": 2,
       "version_minor": 0
      },
      "text/plain": [
       "HBox(children=(IntProgress(value=0, max=24), HTML(value='')))"
      ]
     },
     "metadata": {},
     "output_type": "display_data"
    },
    {
     "data": {
      "application/vnd.jupyter.widget-view+json": {
       "model_id": "6f72c3cead1648298c0eb910dc3ba947",
       "version_major": 2,
       "version_minor": 0
      },
      "text/plain": [
       "HBox(children=(IntProgress(value=0, max=24), HTML(value='')))"
      ]
     },
     "metadata": {},
     "output_type": "display_data"
    },
    {
     "data": {
      "application/vnd.jupyter.widget-view+json": {
       "model_id": "d67e2c3af8ff466fbce690f1e2aec369",
       "version_major": 2,
       "version_minor": 0
      },
      "text/plain": [
       "HBox(children=(IntProgress(value=0, max=24), HTML(value='')))"
      ]
     },
     "metadata": {},
     "output_type": "display_data"
    },
    {
     "data": {
      "application/vnd.jupyter.widget-view+json": {
       "model_id": "05ad0c901a9343a193803b7419bcf97b",
       "version_major": 2,
       "version_minor": 0
      },
      "text/plain": [
       "HBox(children=(IntProgress(value=0, max=24), HTML(value='')))"
      ]
     },
     "metadata": {},
     "output_type": "display_data"
    },
    {
     "data": {
      "application/vnd.jupyter.widget-view+json": {
       "model_id": "31161f9692c841fea0265c1fa66e0e8c",
       "version_major": 2,
       "version_minor": 0
      },
      "text/plain": [
       "HBox(children=(IntProgress(value=0, max=24), HTML(value='')))"
      ]
     },
     "metadata": {},
     "output_type": "display_data"
    },
    {
     "data": {
      "application/vnd.jupyter.widget-view+json": {
       "model_id": "9e95e6cf88ab4647aa73ae5219eda102",
       "version_major": 2,
       "version_minor": 0
      },
      "text/plain": [
       "HBox(children=(IntProgress(value=0, max=24), HTML(value='')))"
      ]
     },
     "metadata": {},
     "output_type": "display_data"
    },
    {
     "data": {
      "application/vnd.jupyter.widget-view+json": {
       "model_id": "9b6860f5e2ed485090c72fd5f2f44ea5",
       "version_major": 2,
       "version_minor": 0
      },
      "text/plain": [
       "HBox(children=(IntProgress(value=0, max=24), HTML(value='')))"
      ]
     },
     "metadata": {},
     "output_type": "display_data"
    },
    {
     "data": {
      "application/vnd.jupyter.widget-view+json": {
       "model_id": "87ccc548715548acbbd9f932d33b8b26",
       "version_major": 2,
       "version_minor": 0
      },
      "text/plain": [
       "HBox(children=(IntProgress(value=0, max=24), HTML(value='')))"
      ]
     },
     "metadata": {},
     "output_type": "display_data"
    },
    {
     "data": {
      "application/vnd.jupyter.widget-view+json": {
       "model_id": "6329664aab1e4c8aad42f9843f173544",
       "version_major": 2,
       "version_minor": 0
      },
      "text/plain": [
       "HBox(children=(IntProgress(value=0, max=24), HTML(value='')))"
      ]
     },
     "metadata": {},
     "output_type": "display_data"
    },
    {
     "data": {
      "application/vnd.jupyter.widget-view+json": {
       "model_id": "7576ed32217f41ec8035e7cc91d728fe",
       "version_major": 2,
       "version_minor": 0
      },
      "text/plain": [
       "HBox(children=(IntProgress(value=0, max=24), HTML(value='')))"
      ]
     },
     "metadata": {},
     "output_type": "display_data"
    },
    {
     "data": {
      "application/vnd.jupyter.widget-view+json": {
       "model_id": "105469c615524badac825407b98340ab",
       "version_major": 2,
       "version_minor": 0
      },
      "text/plain": [
       "HBox(children=(IntProgress(value=0, max=24), HTML(value='')))"
      ]
     },
     "metadata": {},
     "output_type": "display_data"
    },
    {
     "data": {
      "application/vnd.jupyter.widget-view+json": {
       "model_id": "04b26591f6094db7ad92f7c7e0501dd9",
       "version_major": 2,
       "version_minor": 0
      },
      "text/plain": [
       "HBox(children=(IntProgress(value=0, max=24), HTML(value='')))"
      ]
     },
     "metadata": {},
     "output_type": "display_data"
    },
    {
     "data": {
      "application/vnd.jupyter.widget-view+json": {
       "model_id": "2d2d76ab49594599a056119f3f4bc118",
       "version_major": 2,
       "version_minor": 0
      },
      "text/plain": [
       "HBox(children=(IntProgress(value=0, max=24), HTML(value='')))"
      ]
     },
     "metadata": {},
     "output_type": "display_data"
    },
    {
     "data": {
      "application/vnd.jupyter.widget-view+json": {
       "model_id": "002b79add5c14ba9ad86c150a98459e8",
       "version_major": 2,
       "version_minor": 0
      },
      "text/plain": [
       "HBox(children=(IntProgress(value=0, max=24), HTML(value='')))"
      ]
     },
     "metadata": {},
     "output_type": "display_data"
    },
    {
     "data": {
      "application/vnd.jupyter.widget-view+json": {
       "model_id": "18c9521d346d4c50915f416462738cc2",
       "version_major": 2,
       "version_minor": 0
      },
      "text/plain": [
       "HBox(children=(IntProgress(value=0, max=24), HTML(value='')))"
      ]
     },
     "metadata": {},
     "output_type": "display_data"
    },
    {
     "data": {
      "application/vnd.jupyter.widget-view+json": {
       "model_id": "6d20b140263b4657b4f606f37deabb63",
       "version_major": 2,
       "version_minor": 0
      },
      "text/plain": [
       "HBox(children=(IntProgress(value=0, max=24), HTML(value='')))"
      ]
     },
     "metadata": {},
     "output_type": "display_data"
    },
    {
     "data": {
      "application/vnd.jupyter.widget-view+json": {
       "model_id": "09797394193b47c5a9aa1921db938d5a",
       "version_major": 2,
       "version_minor": 0
      },
      "text/plain": [
       "HBox(children=(IntProgress(value=0, max=24), HTML(value='')))"
      ]
     },
     "metadata": {},
     "output_type": "display_data"
    },
    {
     "data": {
      "application/vnd.jupyter.widget-view+json": {
       "model_id": "1187197c77e743ea95f2ff32b4ce76ef",
       "version_major": 2,
       "version_minor": 0
      },
      "text/plain": [
       "HBox(children=(IntProgress(value=0, max=24), HTML(value='')))"
      ]
     },
     "metadata": {},
     "output_type": "display_data"
    },
    {
     "data": {
      "application/vnd.jupyter.widget-view+json": {
       "model_id": "4f83a7a6f16743a6985a7b34a94f0ec7",
       "version_major": 2,
       "version_minor": 0
      },
      "text/plain": [
       "HBox(children=(IntProgress(value=0, max=24), HTML(value='')))"
      ]
     },
     "metadata": {},
     "output_type": "display_data"
    },
    {
     "data": {
      "application/vnd.jupyter.widget-view+json": {
       "model_id": "17fa62b9ddf14e428b859fd47e18ac51",
       "version_major": 2,
       "version_minor": 0
      },
      "text/plain": [
       "HBox(children=(IntProgress(value=0, max=24), HTML(value='')))"
      ]
     },
     "metadata": {},
     "output_type": "display_data"
    },
    {
     "data": {
      "application/vnd.jupyter.widget-view+json": {
       "model_id": "476d0621c76d404d9f43c1a7ffe05025",
       "version_major": 2,
       "version_minor": 0
      },
      "text/plain": [
       "HBox(children=(IntProgress(value=0, max=24), HTML(value='')))"
      ]
     },
     "metadata": {},
     "output_type": "display_data"
    },
    {
     "data": {
      "application/vnd.jupyter.widget-view+json": {
       "model_id": "0780df156a8a477892dff0d9f445f611",
       "version_major": 2,
       "version_minor": 0
      },
      "text/plain": [
       "HBox(children=(IntProgress(value=0, max=24), HTML(value='')))"
      ]
     },
     "metadata": {},
     "output_type": "display_data"
    },
    {
     "data": {
      "application/vnd.jupyter.widget-view+json": {
       "model_id": "ccf132fbacb14b0baa6ccedd066ed00a",
       "version_major": 2,
       "version_minor": 0
      },
      "text/plain": [
       "HBox(children=(IntProgress(value=0, max=24), HTML(value='')))"
      ]
     },
     "metadata": {},
     "output_type": "display_data"
    },
    {
     "data": {
      "application/vnd.jupyter.widget-view+json": {
       "model_id": "962f5ec91d66480697908d57a8331e79",
       "version_major": 2,
       "version_minor": 0
      },
      "text/plain": [
       "HBox(children=(IntProgress(value=0, max=24), HTML(value='')))"
      ]
     },
     "metadata": {},
     "output_type": "display_data"
    },
    {
     "data": {
      "application/vnd.jupyter.widget-view+json": {
       "model_id": "155fed148abc46308394301fbe6adb18",
       "version_major": 2,
       "version_minor": 0
      },
      "text/plain": [
       "HBox(children=(IntProgress(value=0, max=24), HTML(value='')))"
      ]
     },
     "metadata": {},
     "output_type": "display_data"
    },
    {
     "data": {
      "application/vnd.jupyter.widget-view+json": {
       "model_id": "6dcf0c23926c49a39fbe4798a53ef2d4",
       "version_major": 2,
       "version_minor": 0
      },
      "text/plain": [
       "HBox(children=(IntProgress(value=0, max=24), HTML(value='')))"
      ]
     },
     "metadata": {},
     "output_type": "display_data"
    },
    {
     "data": {
      "application/vnd.jupyter.widget-view+json": {
       "model_id": "dd810e44df894968b20db145285a8341",
       "version_major": 2,
       "version_minor": 0
      },
      "text/plain": [
       "HBox(children=(IntProgress(value=0, max=24), HTML(value='')))"
      ]
     },
     "metadata": {},
     "output_type": "display_data"
    },
    {
     "data": {
      "application/vnd.jupyter.widget-view+json": {
       "model_id": "a92749574c844e8ea4adfe83b976daab",
       "version_major": 2,
       "version_minor": 0
      },
      "text/plain": [
       "HBox(children=(IntProgress(value=0, max=24), HTML(value='')))"
      ]
     },
     "metadata": {},
     "output_type": "display_data"
    },
    {
     "data": {
      "application/vnd.jupyter.widget-view+json": {
       "model_id": "4a8271d4c9244bd1948fee3a3cf96278",
       "version_major": 2,
       "version_minor": 0
      },
      "text/plain": [
       "HBox(children=(IntProgress(value=0, max=24), HTML(value='')))"
      ]
     },
     "metadata": {},
     "output_type": "display_data"
    },
    {
     "data": {
      "application/vnd.jupyter.widget-view+json": {
       "model_id": "447aa5bc7f1f49e892471494a37c85d3",
       "version_major": 2,
       "version_minor": 0
      },
      "text/plain": [
       "HBox(children=(IntProgress(value=0, max=24), HTML(value='')))"
      ]
     },
     "metadata": {},
     "output_type": "display_data"
    },
    {
     "data": {
      "application/vnd.jupyter.widget-view+json": {
       "model_id": "42134773f69f4331895f0e83dd85e65a",
       "version_major": 2,
       "version_minor": 0
      },
      "text/plain": [
       "HBox(children=(IntProgress(value=0, max=24), HTML(value='')))"
      ]
     },
     "metadata": {},
     "output_type": "display_data"
    },
    {
     "data": {
      "application/vnd.jupyter.widget-view+json": {
       "model_id": "ce9d2b895bb34f60a6a34e2f626b6a28",
       "version_major": 2,
       "version_minor": 0
      },
      "text/plain": [
       "HBox(children=(IntProgress(value=0, max=24), HTML(value='')))"
      ]
     },
     "metadata": {},
     "output_type": "display_data"
    },
    {
     "data": {
      "application/vnd.jupyter.widget-view+json": {
       "model_id": "7661dd0e5b5d4aadaeb4665cf4f0b534",
       "version_major": 2,
       "version_minor": 0
      },
      "text/plain": [
       "HBox(children=(IntProgress(value=0, max=24), HTML(value='')))"
      ]
     },
     "metadata": {},
     "output_type": "display_data"
    },
    {
     "data": {
      "application/vnd.jupyter.widget-view+json": {
       "model_id": "d9c2d550d188417499cef9792eb50fe1",
       "version_major": 2,
       "version_minor": 0
      },
      "text/plain": [
       "HBox(children=(IntProgress(value=0, max=24), HTML(value='')))"
      ]
     },
     "metadata": {},
     "output_type": "display_data"
    },
    {
     "data": {
      "application/vnd.jupyter.widget-view+json": {
       "model_id": "4fd06ab7ff354c1d907b424d1cb2e597",
       "version_major": 2,
       "version_minor": 0
      },
      "text/plain": [
       "HBox(children=(IntProgress(value=0, max=24), HTML(value='')))"
      ]
     },
     "metadata": {},
     "output_type": "display_data"
    },
    {
     "data": {
      "application/vnd.jupyter.widget-view+json": {
       "model_id": "a50e43b081184ea89486b297279514fc",
       "version_major": 2,
       "version_minor": 0
      },
      "text/plain": [
       "HBox(children=(IntProgress(value=0, max=24), HTML(value='')))"
      ]
     },
     "metadata": {},
     "output_type": "display_data"
    },
    {
     "data": {
      "application/vnd.jupyter.widget-view+json": {
       "model_id": "5d60af22c0b446fcb55dc84c7fb00490",
       "version_major": 2,
       "version_minor": 0
      },
      "text/plain": [
       "HBox(children=(IntProgress(value=0, max=24), HTML(value='')))"
      ]
     },
     "metadata": {},
     "output_type": "display_data"
    },
    {
     "data": {
      "application/vnd.jupyter.widget-view+json": {
       "model_id": "8101cca4bc5b4735a50ea502ac0a69f9",
       "version_major": 2,
       "version_minor": 0
      },
      "text/plain": [
       "HBox(children=(IntProgress(value=0, max=24), HTML(value='')))"
      ]
     },
     "metadata": {},
     "output_type": "display_data"
    },
    {
     "data": {
      "application/vnd.jupyter.widget-view+json": {
       "model_id": "76e02304d24d4f3c8d7bda9057f1a78a",
       "version_major": 2,
       "version_minor": 0
      },
      "text/plain": [
       "HBox(children=(IntProgress(value=0, max=24), HTML(value='')))"
      ]
     },
     "metadata": {},
     "output_type": "display_data"
    },
    {
     "data": {
      "application/vnd.jupyter.widget-view+json": {
       "model_id": "bf989b38f2504f8cacb666f37c94524a",
       "version_major": 2,
       "version_minor": 0
      },
      "text/plain": [
       "HBox(children=(IntProgress(value=0, max=24), HTML(value='')))"
      ]
     },
     "metadata": {},
     "output_type": "display_data"
    },
    {
     "data": {
      "application/vnd.jupyter.widget-view+json": {
       "model_id": "2cac58e397af4bd8ad7ac3d0ac85f0c7",
       "version_major": 2,
       "version_minor": 0
      },
      "text/plain": [
       "HBox(children=(IntProgress(value=0, max=24), HTML(value='')))"
      ]
     },
     "metadata": {},
     "output_type": "display_data"
    },
    {
     "data": {
      "application/vnd.jupyter.widget-view+json": {
       "model_id": "a27db7638ddc49058024b2b505535634",
       "version_major": 2,
       "version_minor": 0
      },
      "text/plain": [
       "HBox(children=(IntProgress(value=0, max=24), HTML(value='')))"
      ]
     },
     "metadata": {},
     "output_type": "display_data"
    },
    {
     "data": {
      "application/vnd.jupyter.widget-view+json": {
       "model_id": "c02bf569d32a49e59dfb6776789b94b7",
       "version_major": 2,
       "version_minor": 0
      },
      "text/plain": [
       "HBox(children=(IntProgress(value=0, max=24), HTML(value='')))"
      ]
     },
     "metadata": {},
     "output_type": "display_data"
    },
    {
     "data": {
      "application/vnd.jupyter.widget-view+json": {
       "model_id": "f5a8abba6afb4adb8b27710adeae4369",
       "version_major": 2,
       "version_minor": 0
      },
      "text/plain": [
       "HBox(children=(IntProgress(value=0, max=24), HTML(value='')))"
      ]
     },
     "metadata": {},
     "output_type": "display_data"
    },
    {
     "data": {
      "application/vnd.jupyter.widget-view+json": {
       "model_id": "8c7ae225275244f18d2f97cd7b472808",
       "version_major": 2,
       "version_minor": 0
      },
      "text/plain": [
       "HBox(children=(IntProgress(value=0, max=24), HTML(value='')))"
      ]
     },
     "metadata": {},
     "output_type": "display_data"
    },
    {
     "data": {
      "application/vnd.jupyter.widget-view+json": {
       "model_id": "c6fa6448285b4bb6973c9996523a0351",
       "version_major": 2,
       "version_minor": 0
      },
      "text/plain": [
       "HBox(children=(IntProgress(value=0, max=24), HTML(value='')))"
      ]
     },
     "metadata": {},
     "output_type": "display_data"
    },
    {
     "data": {
      "application/vnd.jupyter.widget-view+json": {
       "model_id": "7834cd62a9d0457099a09e044d7de83d",
       "version_major": 2,
       "version_minor": 0
      },
      "text/plain": [
       "HBox(children=(IntProgress(value=0, max=24), HTML(value='')))"
      ]
     },
     "metadata": {},
     "output_type": "display_data"
    },
    {
     "data": {
      "application/vnd.jupyter.widget-view+json": {
       "model_id": "9bd068b2cce44ef6825f32ec919f6bc4",
       "version_major": 2,
       "version_minor": 0
      },
      "text/plain": [
       "HBox(children=(IntProgress(value=0, max=24), HTML(value='')))"
      ]
     },
     "metadata": {},
     "output_type": "display_data"
    },
    {
     "data": {
      "application/vnd.jupyter.widget-view+json": {
       "model_id": "57df56de4f4742639291c2e7b65d80c6",
       "version_major": 2,
       "version_minor": 0
      },
      "text/plain": [
       "HBox(children=(IntProgress(value=0, max=24), HTML(value='')))"
      ]
     },
     "metadata": {},
     "output_type": "display_data"
    },
    {
     "data": {
      "application/vnd.jupyter.widget-view+json": {
       "model_id": "9be0c70f947b42588dc6e5bafa540d71",
       "version_major": 2,
       "version_minor": 0
      },
      "text/plain": [
       "HBox(children=(IntProgress(value=0, max=24), HTML(value='')))"
      ]
     },
     "metadata": {},
     "output_type": "display_data"
    },
    {
     "data": {
      "application/vnd.jupyter.widget-view+json": {
       "model_id": "f8b1d73cca0346c0892615969b7b9330",
       "version_major": 2,
       "version_minor": 0
      },
      "text/plain": [
       "HBox(children=(IntProgress(value=0, max=24), HTML(value='')))"
      ]
     },
     "metadata": {},
     "output_type": "display_data"
    },
    {
     "data": {
      "application/vnd.jupyter.widget-view+json": {
       "model_id": "03e59b15a7bc4868ad8db13921e70f50",
       "version_major": 2,
       "version_minor": 0
      },
      "text/plain": [
       "HBox(children=(IntProgress(value=0, max=24), HTML(value='')))"
      ]
     },
     "metadata": {},
     "output_type": "display_data"
    },
    {
     "data": {
      "application/vnd.jupyter.widget-view+json": {
       "model_id": "8fd1a6cd136946578bfb5788b46f9084",
       "version_major": 2,
       "version_minor": 0
      },
      "text/plain": [
       "HBox(children=(IntProgress(value=0, max=24), HTML(value='')))"
      ]
     },
     "metadata": {},
     "output_type": "display_data"
    },
    {
     "data": {
      "application/vnd.jupyter.widget-view+json": {
       "model_id": "74c6a63355f64e24a7329b3d4826386b",
       "version_major": 2,
       "version_minor": 0
      },
      "text/plain": [
       "HBox(children=(IntProgress(value=0, max=24), HTML(value='')))"
      ]
     },
     "metadata": {},
     "output_type": "display_data"
    },
    {
     "data": {
      "application/vnd.jupyter.widget-view+json": {
       "model_id": "e570aea26b5b476f9148a48a8a3b976b",
       "version_major": 2,
       "version_minor": 0
      },
      "text/plain": [
       "HBox(children=(IntProgress(value=0, max=24), HTML(value='')))"
      ]
     },
     "metadata": {},
     "output_type": "display_data"
    },
    {
     "data": {
      "application/vnd.jupyter.widget-view+json": {
       "model_id": "fdeb9481c3ed4e58b5de6c9cce19c1ab",
       "version_major": 2,
       "version_minor": 0
      },
      "text/plain": [
       "HBox(children=(IntProgress(value=0, max=24), HTML(value='')))"
      ]
     },
     "metadata": {},
     "output_type": "display_data"
    },
    {
     "data": {
      "application/vnd.jupyter.widget-view+json": {
       "model_id": "adce47a89a704150a81b6c4a0963898f",
       "version_major": 2,
       "version_minor": 0
      },
      "text/plain": [
       "HBox(children=(IntProgress(value=0, max=24), HTML(value='')))"
      ]
     },
     "metadata": {},
     "output_type": "display_data"
    },
    {
     "data": {
      "application/vnd.jupyter.widget-view+json": {
       "model_id": "8b373ce1a32e45e4b09a5a6ce570cde3",
       "version_major": 2,
       "version_minor": 0
      },
      "text/plain": [
       "HBox(children=(IntProgress(value=0, max=24), HTML(value='')))"
      ]
     },
     "metadata": {},
     "output_type": "display_data"
    },
    {
     "data": {
      "application/vnd.jupyter.widget-view+json": {
       "model_id": "fd24c29a461a4f67a7ef2c1522563bf1",
       "version_major": 2,
       "version_minor": 0
      },
      "text/plain": [
       "HBox(children=(IntProgress(value=0, max=24), HTML(value='')))"
      ]
     },
     "metadata": {},
     "output_type": "display_data"
    },
    {
     "data": {
      "application/vnd.jupyter.widget-view+json": {
       "model_id": "295b109ce8e94b769d21edbd61960392",
       "version_major": 2,
       "version_minor": 0
      },
      "text/plain": [
       "HBox(children=(IntProgress(value=0, max=24), HTML(value='')))"
      ]
     },
     "metadata": {},
     "output_type": "display_data"
    },
    {
     "data": {
      "application/vnd.jupyter.widget-view+json": {
       "model_id": "fa066f5bf84a471d99ac814b7c210eb3",
       "version_major": 2,
       "version_minor": 0
      },
      "text/plain": [
       "HBox(children=(IntProgress(value=0, max=24), HTML(value='')))"
      ]
     },
     "metadata": {},
     "output_type": "display_data"
    },
    {
     "data": {
      "application/vnd.jupyter.widget-view+json": {
       "model_id": "7898b24a83e943428792ddbbb3ef7553",
       "version_major": 2,
       "version_minor": 0
      },
      "text/plain": [
       "HBox(children=(IntProgress(value=0, max=24), HTML(value='')))"
      ]
     },
     "metadata": {},
     "output_type": "display_data"
    },
    {
     "data": {
      "application/vnd.jupyter.widget-view+json": {
       "model_id": "af37a5aa170140fbad7885a1b0d011de",
       "version_major": 2,
       "version_minor": 0
      },
      "text/plain": [
       "HBox(children=(IntProgress(value=0, max=24), HTML(value='')))"
      ]
     },
     "metadata": {},
     "output_type": "display_data"
    },
    {
     "data": {
      "application/vnd.jupyter.widget-view+json": {
       "model_id": "185e909b2b784d1cb554f3c9db49ab11",
       "version_major": 2,
       "version_minor": 0
      },
      "text/plain": [
       "HBox(children=(IntProgress(value=0, max=24), HTML(value='')))"
      ]
     },
     "metadata": {},
     "output_type": "display_data"
    },
    {
     "data": {
      "application/vnd.jupyter.widget-view+json": {
       "model_id": "7a7b6be280844f7982f6d046cdc6f9a8",
       "version_major": 2,
       "version_minor": 0
      },
      "text/plain": [
       "HBox(children=(IntProgress(value=0, max=24), HTML(value='')))"
      ]
     },
     "metadata": {},
     "output_type": "display_data"
    },
    {
     "data": {
      "application/vnd.jupyter.widget-view+json": {
       "model_id": "0586ef8c9f684e968a0a21bd6d379f7e",
       "version_major": 2,
       "version_minor": 0
      },
      "text/plain": [
       "HBox(children=(IntProgress(value=0, max=24), HTML(value='')))"
      ]
     },
     "metadata": {},
     "output_type": "display_data"
    },
    {
     "data": {
      "application/vnd.jupyter.widget-view+json": {
       "model_id": "7148d063e7dd4ff69d73baad45b9e2bb",
       "version_major": 2,
       "version_minor": 0
      },
      "text/plain": [
       "HBox(children=(IntProgress(value=0, max=24), HTML(value='')))"
      ]
     },
     "metadata": {},
     "output_type": "display_data"
    },
    {
     "data": {
      "application/vnd.jupyter.widget-view+json": {
       "model_id": "3c109831ecbf498a9e46172992c9a114",
       "version_major": 2,
       "version_minor": 0
      },
      "text/plain": [
       "HBox(children=(IntProgress(value=0, max=24), HTML(value='')))"
      ]
     },
     "metadata": {},
     "output_type": "display_data"
    },
    {
     "data": {
      "application/vnd.jupyter.widget-view+json": {
       "model_id": "e02c45261fcd4ef0ad0559fd53c682c7",
       "version_major": 2,
       "version_minor": 0
      },
      "text/plain": [
       "HBox(children=(IntProgress(value=0, max=24), HTML(value='')))"
      ]
     },
     "metadata": {},
     "output_type": "display_data"
    },
    {
     "data": {
      "application/vnd.jupyter.widget-view+json": {
       "model_id": "d236e14871e24bfb84ac9717ce0f9a65",
       "version_major": 2,
       "version_minor": 0
      },
      "text/plain": [
       "HBox(children=(IntProgress(value=0, max=24), HTML(value='')))"
      ]
     },
     "metadata": {},
     "output_type": "display_data"
    },
    {
     "data": {
      "application/vnd.jupyter.widget-view+json": {
       "model_id": "59389c163452400c83935e0e9fc362c1",
       "version_major": 2,
       "version_minor": 0
      },
      "text/plain": [
       "HBox(children=(IntProgress(value=0, max=24), HTML(value='')))"
      ]
     },
     "metadata": {},
     "output_type": "display_data"
    },
    {
     "data": {
      "application/vnd.jupyter.widget-view+json": {
       "model_id": "f9d5b61076794614aab9f190dcb132b7",
       "version_major": 2,
       "version_minor": 0
      },
      "text/plain": [
       "HBox(children=(IntProgress(value=0, max=24), HTML(value='')))"
      ]
     },
     "metadata": {},
     "output_type": "display_data"
    },
    {
     "data": {
      "application/vnd.jupyter.widget-view+json": {
       "model_id": "9f0bbff4944e4d2ca35375f8850bea36",
       "version_major": 2,
       "version_minor": 0
      },
      "text/plain": [
       "HBox(children=(IntProgress(value=0, max=24), HTML(value='')))"
      ]
     },
     "metadata": {},
     "output_type": "display_data"
    },
    {
     "data": {
      "application/vnd.jupyter.widget-view+json": {
       "model_id": "4159c7ee63bb4f2ab4d5fe6142940531",
       "version_major": 2,
       "version_minor": 0
      },
      "text/plain": [
       "HBox(children=(IntProgress(value=0, max=24), HTML(value='')))"
      ]
     },
     "metadata": {},
     "output_type": "display_data"
    },
    {
     "data": {
      "application/vnd.jupyter.widget-view+json": {
       "model_id": "7d8ce6ff87fe4cbe9c4ddc48dad60a41",
       "version_major": 2,
       "version_minor": 0
      },
      "text/plain": [
       "HBox(children=(IntProgress(value=0, max=24), HTML(value='')))"
      ]
     },
     "metadata": {},
     "output_type": "display_data"
    },
    {
     "data": {
      "application/vnd.jupyter.widget-view+json": {
       "model_id": "244c0fcb3e014aada7ff1a299921da52",
       "version_major": 2,
       "version_minor": 0
      },
      "text/plain": [
       "HBox(children=(IntProgress(value=0, max=24), HTML(value='')))"
      ]
     },
     "metadata": {},
     "output_type": "display_data"
    },
    {
     "data": {
      "application/vnd.jupyter.widget-view+json": {
       "model_id": "abe3e903f40d4ad8943404b304d3b0ea",
       "version_major": 2,
       "version_minor": 0
      },
      "text/plain": [
       "HBox(children=(IntProgress(value=0, max=24), HTML(value='')))"
      ]
     },
     "metadata": {},
     "output_type": "display_data"
    },
    {
     "data": {
      "application/vnd.jupyter.widget-view+json": {
       "model_id": "f41a513c669c4738b65bf772ae981086",
       "version_major": 2,
       "version_minor": 0
      },
      "text/plain": [
       "HBox(children=(IntProgress(value=0, max=24), HTML(value='')))"
      ]
     },
     "metadata": {},
     "output_type": "display_data"
    },
    {
     "data": {
      "application/vnd.jupyter.widget-view+json": {
       "model_id": "4693b1d5c29349a6902f9868efb376f8",
       "version_major": 2,
       "version_minor": 0
      },
      "text/plain": [
       "HBox(children=(IntProgress(value=0, max=24), HTML(value='')))"
      ]
     },
     "metadata": {},
     "output_type": "display_data"
    },
    {
     "data": {
      "application/vnd.jupyter.widget-view+json": {
       "model_id": "31ce2c70cb934ff1815401a9277490e6",
       "version_major": 2,
       "version_minor": 0
      },
      "text/plain": [
       "HBox(children=(IntProgress(value=0, max=24), HTML(value='')))"
      ]
     },
     "metadata": {},
     "output_type": "display_data"
    },
    {
     "data": {
      "application/vnd.jupyter.widget-view+json": {
       "model_id": "76b123f58d844fe0a2f45f3dfb35d20b",
       "version_major": 2,
       "version_minor": 0
      },
      "text/plain": [
       "HBox(children=(IntProgress(value=0, max=24), HTML(value='')))"
      ]
     },
     "metadata": {},
     "output_type": "display_data"
    },
    {
     "data": {
      "application/vnd.jupyter.widget-view+json": {
       "model_id": "bb1cbcf69bf844a794751aecc29cdaca",
       "version_major": 2,
       "version_minor": 0
      },
      "text/plain": [
       "HBox(children=(IntProgress(value=0, max=24), HTML(value='')))"
      ]
     },
     "metadata": {},
     "output_type": "display_data"
    },
    {
     "data": {
      "application/vnd.jupyter.widget-view+json": {
       "model_id": "ff4977ebb4a34b2e89e16ae749855ca3",
       "version_major": 2,
       "version_minor": 0
      },
      "text/plain": [
       "HBox(children=(IntProgress(value=0, max=24), HTML(value='')))"
      ]
     },
     "metadata": {},
     "output_type": "display_data"
    },
    {
     "data": {
      "application/vnd.jupyter.widget-view+json": {
       "model_id": "93ae3087b75442b9b6afe849b53a4902",
       "version_major": 2,
       "version_minor": 0
      },
      "text/plain": [
       "HBox(children=(IntProgress(value=0, max=24), HTML(value='')))"
      ]
     },
     "metadata": {},
     "output_type": "display_data"
    },
    {
     "data": {
      "application/vnd.jupyter.widget-view+json": {
       "model_id": "73205407e2a2412180e15982ad763b62",
       "version_major": 2,
       "version_minor": 0
      },
      "text/plain": [
       "HBox(children=(IntProgress(value=0, max=24), HTML(value='')))"
      ]
     },
     "metadata": {},
     "output_type": "display_data"
    },
    {
     "data": {
      "application/vnd.jupyter.widget-view+json": {
       "model_id": "f990c69cbaeb41c2a67084f949e2c5fd",
       "version_major": 2,
       "version_minor": 0
      },
      "text/plain": [
       "HBox(children=(IntProgress(value=0, max=24), HTML(value='')))"
      ]
     },
     "metadata": {},
     "output_type": "display_data"
    },
    {
     "data": {
      "application/vnd.jupyter.widget-view+json": {
       "model_id": "cf0d68c4e6cd4a8ab493e949a4b64f3e",
       "version_major": 2,
       "version_minor": 0
      },
      "text/plain": [
       "HBox(children=(IntProgress(value=0, max=24), HTML(value='')))"
      ]
     },
     "metadata": {},
     "output_type": "display_data"
    },
    {
     "data": {
      "application/vnd.jupyter.widget-view+json": {
       "model_id": "020fadeb58034d33803580655cc963f7",
       "version_major": 2,
       "version_minor": 0
      },
      "text/plain": [
       "HBox(children=(IntProgress(value=0, max=24), HTML(value='')))"
      ]
     },
     "metadata": {},
     "output_type": "display_data"
    },
    {
     "data": {
      "application/vnd.jupyter.widget-view+json": {
       "model_id": "d11d7208a48346c5943323d5c040e64f",
       "version_major": 2,
       "version_minor": 0
      },
      "text/plain": [
       "HBox(children=(IntProgress(value=0, max=24), HTML(value='')))"
      ]
     },
     "metadata": {},
     "output_type": "display_data"
    },
    {
     "data": {
      "application/vnd.jupyter.widget-view+json": {
       "model_id": "99752b40db64438fbac5f4511a5b2a18",
       "version_major": 2,
       "version_minor": 0
      },
      "text/plain": [
       "HBox(children=(IntProgress(value=0, max=24), HTML(value='')))"
      ]
     },
     "metadata": {},
     "output_type": "display_data"
    },
    {
     "data": {
      "application/vnd.jupyter.widget-view+json": {
       "model_id": "0e5267e69b8e42e894c8cf19d5b46954",
       "version_major": 2,
       "version_minor": 0
      },
      "text/plain": [
       "HBox(children=(IntProgress(value=0, max=24), HTML(value='')))"
      ]
     },
     "metadata": {},
     "output_type": "display_data"
    },
    {
     "data": {
      "application/vnd.jupyter.widget-view+json": {
       "model_id": "dd63523398c449789bff056096c41a72",
       "version_major": 2,
       "version_minor": 0
      },
      "text/plain": [
       "HBox(children=(IntProgress(value=0, max=24), HTML(value='')))"
      ]
     },
     "metadata": {},
     "output_type": "display_data"
    },
    {
     "data": {
      "application/vnd.jupyter.widget-view+json": {
       "model_id": "49be32a542fa471b8afc50b96b97ba13",
       "version_major": 2,
       "version_minor": 0
      },
      "text/plain": [
       "HBox(children=(IntProgress(value=0, max=24), HTML(value='')))"
      ]
     },
     "metadata": {},
     "output_type": "display_data"
    },
    {
     "data": {
      "application/vnd.jupyter.widget-view+json": {
       "model_id": "4995808af33c44448397a2205bf4c985",
       "version_major": 2,
       "version_minor": 0
      },
      "text/plain": [
       "HBox(children=(IntProgress(value=0, max=24), HTML(value='')))"
      ]
     },
     "metadata": {},
     "output_type": "display_data"
    },
    {
     "data": {
      "application/vnd.jupyter.widget-view+json": {
       "model_id": "487de14245204d759c467c6053cc9a2d",
       "version_major": 2,
       "version_minor": 0
      },
      "text/plain": [
       "HBox(children=(IntProgress(value=0, max=24), HTML(value='')))"
      ]
     },
     "metadata": {},
     "output_type": "display_data"
    },
    {
     "data": {
      "application/vnd.jupyter.widget-view+json": {
       "model_id": "b05d90bcc69f43cb8e56788e4ad82fd0",
       "version_major": 2,
       "version_minor": 0
      },
      "text/plain": [
       "HBox(children=(IntProgress(value=0, max=24), HTML(value='')))"
      ]
     },
     "metadata": {},
     "output_type": "display_data"
    },
    {
     "data": {
      "application/vnd.jupyter.widget-view+json": {
       "model_id": "75ae423830194066b293778303dfb3ce",
       "version_major": 2,
       "version_minor": 0
      },
      "text/plain": [
       "HBox(children=(IntProgress(value=0, max=24), HTML(value='')))"
      ]
     },
     "metadata": {},
     "output_type": "display_data"
    },
    {
     "data": {
      "application/vnd.jupyter.widget-view+json": {
       "model_id": "558a6f6ca7fb4a9c80dc2a61a58d4826",
       "version_major": 2,
       "version_minor": 0
      },
      "text/plain": [
       "HBox(children=(IntProgress(value=0, max=24), HTML(value='')))"
      ]
     },
     "metadata": {},
     "output_type": "display_data"
    },
    {
     "data": {
      "application/vnd.jupyter.widget-view+json": {
       "model_id": "1793dc750df54053b8234dc669085376",
       "version_major": 2,
       "version_minor": 0
      },
      "text/plain": [
       "HBox(children=(IntProgress(value=0, max=24), HTML(value='')))"
      ]
     },
     "metadata": {},
     "output_type": "display_data"
    },
    {
     "data": {
      "application/vnd.jupyter.widget-view+json": {
       "model_id": "e3d3928e69fb459581051639e92de82c",
       "version_major": 2,
       "version_minor": 0
      },
      "text/plain": [
       "HBox(children=(IntProgress(value=0, max=24), HTML(value='')))"
      ]
     },
     "metadata": {},
     "output_type": "display_data"
    },
    {
     "data": {
      "application/vnd.jupyter.widget-view+json": {
       "model_id": "2698180d51d041ee9aa54146751cf541",
       "version_major": 2,
       "version_minor": 0
      },
      "text/plain": [
       "HBox(children=(IntProgress(value=0, max=24), HTML(value='')))"
      ]
     },
     "metadata": {},
     "output_type": "display_data"
    },
    {
     "data": {
      "application/vnd.jupyter.widget-view+json": {
       "model_id": "4e2932031fa04c568788e8b8041d1c55",
       "version_major": 2,
       "version_minor": 0
      },
      "text/plain": [
       "HBox(children=(IntProgress(value=0, max=24), HTML(value='')))"
      ]
     },
     "metadata": {},
     "output_type": "display_data"
    },
    {
     "data": {
      "application/vnd.jupyter.widget-view+json": {
       "model_id": "887207ea60d34f9cbf88c7206c7ecf33",
       "version_major": 2,
       "version_minor": 0
      },
      "text/plain": [
       "HBox(children=(IntProgress(value=0, max=24), HTML(value='')))"
      ]
     },
     "metadata": {},
     "output_type": "display_data"
    },
    {
     "data": {
      "application/vnd.jupyter.widget-view+json": {
       "model_id": "ee65cf297a154e33aea9065511bfded0",
       "version_major": 2,
       "version_minor": 0
      },
      "text/plain": [
       "HBox(children=(IntProgress(value=0, max=24), HTML(value='')))"
      ]
     },
     "metadata": {},
     "output_type": "display_data"
    },
    {
     "data": {
      "application/vnd.jupyter.widget-view+json": {
       "model_id": "bc8a6e7d18114afa9354b56d0a9f8948",
       "version_major": 2,
       "version_minor": 0
      },
      "text/plain": [
       "HBox(children=(IntProgress(value=0, max=24), HTML(value='')))"
      ]
     },
     "metadata": {},
     "output_type": "display_data"
    },
    {
     "data": {
      "application/vnd.jupyter.widget-view+json": {
       "model_id": "cfd673f2846c4d5cbe137fb9773d937e",
       "version_major": 2,
       "version_minor": 0
      },
      "text/plain": [
       "HBox(children=(IntProgress(value=0, max=24), HTML(value='')))"
      ]
     },
     "metadata": {},
     "output_type": "display_data"
    },
    {
     "data": {
      "application/vnd.jupyter.widget-view+json": {
       "model_id": "5fe9df8b21094628aad9d4afc35aba6f",
       "version_major": 2,
       "version_minor": 0
      },
      "text/plain": [
       "HBox(children=(IntProgress(value=0, max=24), HTML(value='')))"
      ]
     },
     "metadata": {},
     "output_type": "display_data"
    },
    {
     "data": {
      "application/vnd.jupyter.widget-view+json": {
       "model_id": "d596509ec22149c08a9814ebbfd6b1ee",
       "version_major": 2,
       "version_minor": 0
      },
      "text/plain": [
       "HBox(children=(IntProgress(value=0, max=24), HTML(value='')))"
      ]
     },
     "metadata": {},
     "output_type": "display_data"
    },
    {
     "data": {
      "application/vnd.jupyter.widget-view+json": {
       "model_id": "b5ebba4e601a4bd3890f2f33ab6ccb6c",
       "version_major": 2,
       "version_minor": 0
      },
      "text/plain": [
       "HBox(children=(IntProgress(value=0, max=24), HTML(value='')))"
      ]
     },
     "metadata": {},
     "output_type": "display_data"
    },
    {
     "data": {
      "application/vnd.jupyter.widget-view+json": {
       "model_id": "20b2697828514ad58722e599d963857b",
       "version_major": 2,
       "version_minor": 0
      },
      "text/plain": [
       "HBox(children=(IntProgress(value=0, max=24), HTML(value='')))"
      ]
     },
     "metadata": {},
     "output_type": "display_data"
    },
    {
     "data": {
      "application/vnd.jupyter.widget-view+json": {
       "model_id": "b9a0729db37f486cb8ea85e78096b542",
       "version_major": 2,
       "version_minor": 0
      },
      "text/plain": [
       "HBox(children=(IntProgress(value=0, max=24), HTML(value='')))"
      ]
     },
     "metadata": {},
     "output_type": "display_data"
    },
    {
     "data": {
      "application/vnd.jupyter.widget-view+json": {
       "model_id": "57b3d60ac00442d1a89c4ab6f08dd9b1",
       "version_major": 2,
       "version_minor": 0
      },
      "text/plain": [
       "HBox(children=(IntProgress(value=0, max=24), HTML(value='')))"
      ]
     },
     "metadata": {},
     "output_type": "display_data"
    },
    {
     "data": {
      "application/vnd.jupyter.widget-view+json": {
       "model_id": "60378d5913934643bba0f1967a32fea5",
       "version_major": 2,
       "version_minor": 0
      },
      "text/plain": [
       "HBox(children=(IntProgress(value=0, max=24), HTML(value='')))"
      ]
     },
     "metadata": {},
     "output_type": "display_data"
    },
    {
     "data": {
      "application/vnd.jupyter.widget-view+json": {
       "model_id": "33ba551019e84e9fa536006e8e1e5ac9",
       "version_major": 2,
       "version_minor": 0
      },
      "text/plain": [
       "HBox(children=(IntProgress(value=0, max=24), HTML(value='')))"
      ]
     },
     "metadata": {},
     "output_type": "display_data"
    },
    {
     "data": {
      "application/vnd.jupyter.widget-view+json": {
       "model_id": "cc18aa5a65994962a7679df190bf9fd9",
       "version_major": 2,
       "version_minor": 0
      },
      "text/plain": [
       "HBox(children=(IntProgress(value=0, max=24), HTML(value='')))"
      ]
     },
     "metadata": {},
     "output_type": "display_data"
    },
    {
     "data": {
      "application/vnd.jupyter.widget-view+json": {
       "model_id": "fb689eb6097246c6a643ef03941d2fd1",
       "version_major": 2,
       "version_minor": 0
      },
      "text/plain": [
       "HBox(children=(IntProgress(value=0, max=24), HTML(value='')))"
      ]
     },
     "metadata": {},
     "output_type": "display_data"
    },
    {
     "data": {
      "application/vnd.jupyter.widget-view+json": {
       "model_id": "27414552ea644a3e9cc35a493d832c0a",
       "version_major": 2,
       "version_minor": 0
      },
      "text/plain": [
       "HBox(children=(IntProgress(value=0, max=24), HTML(value='')))"
      ]
     },
     "metadata": {},
     "output_type": "display_data"
    },
    {
     "data": {
      "application/vnd.jupyter.widget-view+json": {
       "model_id": "c04b8e8bcd9a4b45958e0aef71e7f154",
       "version_major": 2,
       "version_minor": 0
      },
      "text/plain": [
       "HBox(children=(IntProgress(value=0, max=24), HTML(value='')))"
      ]
     },
     "metadata": {},
     "output_type": "display_data"
    },
    {
     "data": {
      "application/vnd.jupyter.widget-view+json": {
       "model_id": "9cdd9cf9792841f497173d12f1b678fa",
       "version_major": 2,
       "version_minor": 0
      },
      "text/plain": [
       "HBox(children=(IntProgress(value=0, max=24), HTML(value='')))"
      ]
     },
     "metadata": {},
     "output_type": "display_data"
    },
    {
     "data": {
      "application/vnd.jupyter.widget-view+json": {
       "model_id": "811119e1925d466ba5a3aeca1d5a99e0",
       "version_major": 2,
       "version_minor": 0
      },
      "text/plain": [
       "HBox(children=(IntProgress(value=0, max=24), HTML(value='')))"
      ]
     },
     "metadata": {},
     "output_type": "display_data"
    },
    {
     "data": {
      "application/vnd.jupyter.widget-view+json": {
       "model_id": "bd7deb2b4ea34cb1b0451669b6366baa",
       "version_major": 2,
       "version_minor": 0
      },
      "text/plain": [
       "HBox(children=(IntProgress(value=0, max=24), HTML(value='')))"
      ]
     },
     "metadata": {},
     "output_type": "display_data"
    },
    {
     "data": {
      "application/vnd.jupyter.widget-view+json": {
       "model_id": "69460d62e71846c28427ba794885ccf1",
       "version_major": 2,
       "version_minor": 0
      },
      "text/plain": [
       "HBox(children=(IntProgress(value=0, max=24), HTML(value='')))"
      ]
     },
     "metadata": {},
     "output_type": "display_data"
    },
    {
     "data": {
      "application/vnd.jupyter.widget-view+json": {
       "model_id": "4500b89bc0984ce99f8cbf49566a2e14",
       "version_major": 2,
       "version_minor": 0
      },
      "text/plain": [
       "HBox(children=(IntProgress(value=0, max=24), HTML(value='')))"
      ]
     },
     "metadata": {},
     "output_type": "display_data"
    },
    {
     "data": {
      "application/vnd.jupyter.widget-view+json": {
       "model_id": "14ad4242527f444d9aa421c70b17836a",
       "version_major": 2,
       "version_minor": 0
      },
      "text/plain": [
       "HBox(children=(IntProgress(value=0, max=24), HTML(value='')))"
      ]
     },
     "metadata": {},
     "output_type": "display_data"
    },
    {
     "data": {
      "application/vnd.jupyter.widget-view+json": {
       "model_id": "7b129a95998b413ca7e25411efb52e1b",
       "version_major": 2,
       "version_minor": 0
      },
      "text/plain": [
       "HBox(children=(IntProgress(value=0, max=24), HTML(value='')))"
      ]
     },
     "metadata": {},
     "output_type": "display_data"
    },
    {
     "data": {
      "application/vnd.jupyter.widget-view+json": {
       "model_id": "ff71c107a2af418caf92e4b8a5fdcc4f",
       "version_major": 2,
       "version_minor": 0
      },
      "text/plain": [
       "HBox(children=(IntProgress(value=0, max=24), HTML(value='')))"
      ]
     },
     "metadata": {},
     "output_type": "display_data"
    },
    {
     "data": {
      "application/vnd.jupyter.widget-view+json": {
       "model_id": "0c43353db5b24c21b8ae8196faa1ae9c",
       "version_major": 2,
       "version_minor": 0
      },
      "text/plain": [
       "HBox(children=(IntProgress(value=0, max=24), HTML(value='')))"
      ]
     },
     "metadata": {},
     "output_type": "display_data"
    },
    {
     "data": {
      "application/vnd.jupyter.widget-view+json": {
       "model_id": "cc74c66c4e144b86bad9265e3467c870",
       "version_major": 2,
       "version_minor": 0
      },
      "text/plain": [
       "HBox(children=(IntProgress(value=0, max=24), HTML(value='')))"
      ]
     },
     "metadata": {},
     "output_type": "display_data"
    },
    {
     "data": {
      "application/vnd.jupyter.widget-view+json": {
       "model_id": "f9a1dbec08aa4a8186a5fe43cf9a721f",
       "version_major": 2,
       "version_minor": 0
      },
      "text/plain": [
       "HBox(children=(IntProgress(value=0, max=24), HTML(value='')))"
      ]
     },
     "metadata": {},
     "output_type": "display_data"
    },
    {
     "data": {
      "application/vnd.jupyter.widget-view+json": {
       "model_id": "95568670ddbd426da010e8487a56dcb0",
       "version_major": 2,
       "version_minor": 0
      },
      "text/plain": [
       "HBox(children=(IntProgress(value=0, max=24), HTML(value='')))"
      ]
     },
     "metadata": {},
     "output_type": "display_data"
    },
    {
     "data": {
      "application/vnd.jupyter.widget-view+json": {
       "model_id": "74d22acf177745d497bbda2d6c30dabc",
       "version_major": 2,
       "version_minor": 0
      },
      "text/plain": [
       "HBox(children=(IntProgress(value=0, max=24), HTML(value='')))"
      ]
     },
     "metadata": {},
     "output_type": "display_data"
    },
    {
     "data": {
      "application/vnd.jupyter.widget-view+json": {
       "model_id": "8a97fddb6f44471a9353486801b4b4dc",
       "version_major": 2,
       "version_minor": 0
      },
      "text/plain": [
       "HBox(children=(IntProgress(value=0, max=24), HTML(value='')))"
      ]
     },
     "metadata": {},
     "output_type": "display_data"
    },
    {
     "data": {
      "application/vnd.jupyter.widget-view+json": {
       "model_id": "2c08ee554afd43119ef378bb684b79e5",
       "version_major": 2,
       "version_minor": 0
      },
      "text/plain": [
       "HBox(children=(IntProgress(value=0, max=24), HTML(value='')))"
      ]
     },
     "metadata": {},
     "output_type": "display_data"
    },
    {
     "data": {
      "application/vnd.jupyter.widget-view+json": {
       "model_id": "8c791363c61d4afab3615096759d47d4",
       "version_major": 2,
       "version_minor": 0
      },
      "text/plain": [
       "HBox(children=(IntProgress(value=0, max=24), HTML(value='')))"
      ]
     },
     "metadata": {},
     "output_type": "display_data"
    },
    {
     "data": {
      "application/vnd.jupyter.widget-view+json": {
       "model_id": "c140227c578e42ab97bb5ff2fd73bb3a",
       "version_major": 2,
       "version_minor": 0
      },
      "text/plain": [
       "HBox(children=(IntProgress(value=0, max=24), HTML(value='')))"
      ]
     },
     "metadata": {},
     "output_type": "display_data"
    },
    {
     "data": {
      "application/vnd.jupyter.widget-view+json": {
       "model_id": "ec59dc839684411c835852903a81afa4",
       "version_major": 2,
       "version_minor": 0
      },
      "text/plain": [
       "HBox(children=(IntProgress(value=0, max=24), HTML(value='')))"
      ]
     },
     "metadata": {},
     "output_type": "display_data"
    },
    {
     "data": {
      "application/vnd.jupyter.widget-view+json": {
       "model_id": "b004707fcaf448dca0c86a5ed3df9152",
       "version_major": 2,
       "version_minor": 0
      },
      "text/plain": [
       "HBox(children=(IntProgress(value=0, max=24), HTML(value='')))"
      ]
     },
     "metadata": {},
     "output_type": "display_data"
    },
    {
     "data": {
      "application/vnd.jupyter.widget-view+json": {
       "model_id": "b98090a51c754ee598a498a4ec961ffe",
       "version_major": 2,
       "version_minor": 0
      },
      "text/plain": [
       "HBox(children=(IntProgress(value=0, max=24), HTML(value='')))"
      ]
     },
     "metadata": {},
     "output_type": "display_data"
    },
    {
     "data": {
      "application/vnd.jupyter.widget-view+json": {
       "model_id": "d0abb3460e6a4658bf92b891ebf109a2",
       "version_major": 2,
       "version_minor": 0
      },
      "text/plain": [
       "HBox(children=(IntProgress(value=0, max=24), HTML(value='')))"
      ]
     },
     "metadata": {},
     "output_type": "display_data"
    },
    {
     "data": {
      "application/vnd.jupyter.widget-view+json": {
       "model_id": "125bf2a7e0fd45609b14c07a74b4865d",
       "version_major": 2,
       "version_minor": 0
      },
      "text/plain": [
       "HBox(children=(IntProgress(value=0, max=24), HTML(value='')))"
      ]
     },
     "metadata": {},
     "output_type": "display_data"
    },
    {
     "data": {
      "application/vnd.jupyter.widget-view+json": {
       "model_id": "dc7b68a99d88488b878ba337182ea456",
       "version_major": 2,
       "version_minor": 0
      },
      "text/plain": [
       "HBox(children=(IntProgress(value=0, max=24), HTML(value='')))"
      ]
     },
     "metadata": {},
     "output_type": "display_data"
    },
    {
     "data": {
      "application/vnd.jupyter.widget-view+json": {
       "model_id": "b3da6cd0edee4708b764485907f4cfb9",
       "version_major": 2,
       "version_minor": 0
      },
      "text/plain": [
       "HBox(children=(IntProgress(value=0, max=24), HTML(value='')))"
      ]
     },
     "metadata": {},
     "output_type": "display_data"
    },
    {
     "data": {
      "application/vnd.jupyter.widget-view+json": {
       "model_id": "30af8031c1e643f3884513bb02ee3c28",
       "version_major": 2,
       "version_minor": 0
      },
      "text/plain": [
       "HBox(children=(IntProgress(value=0, max=24), HTML(value='')))"
      ]
     },
     "metadata": {},
     "output_type": "display_data"
    },
    {
     "data": {
      "application/vnd.jupyter.widget-view+json": {
       "model_id": "2bd25bd0b1b84949a8bd4037e65af8b9",
       "version_major": 2,
       "version_minor": 0
      },
      "text/plain": [
       "HBox(children=(IntProgress(value=0, max=24), HTML(value='')))"
      ]
     },
     "metadata": {},
     "output_type": "display_data"
    },
    {
     "data": {
      "application/vnd.jupyter.widget-view+json": {
       "model_id": "35b721638e8f4215af9e7b9c16560ec3",
       "version_major": 2,
       "version_minor": 0
      },
      "text/plain": [
       "HBox(children=(IntProgress(value=0, max=24), HTML(value='')))"
      ]
     },
     "metadata": {},
     "output_type": "display_data"
    },
    {
     "data": {
      "application/vnd.jupyter.widget-view+json": {
       "model_id": "1ee1aff3f0cb42239667161826288020",
       "version_major": 2,
       "version_minor": 0
      },
      "text/plain": [
       "HBox(children=(IntProgress(value=0, max=24), HTML(value='')))"
      ]
     },
     "metadata": {},
     "output_type": "display_data"
    },
    {
     "data": {
      "application/vnd.jupyter.widget-view+json": {
       "model_id": "cba12dc1a7e5438cb10f59f27ee7f109",
       "version_major": 2,
       "version_minor": 0
      },
      "text/plain": [
       "HBox(children=(IntProgress(value=0, max=24), HTML(value='')))"
      ]
     },
     "metadata": {},
     "output_type": "display_data"
    },
    {
     "data": {
      "application/vnd.jupyter.widget-view+json": {
       "model_id": "019c9a7ea9f74dc1bc257f313a9f17ea",
       "version_major": 2,
       "version_minor": 0
      },
      "text/plain": [
       "HBox(children=(IntProgress(value=0, max=24), HTML(value='')))"
      ]
     },
     "metadata": {},
     "output_type": "display_data"
    },
    {
     "data": {
      "application/vnd.jupyter.widget-view+json": {
       "model_id": "a839da40974442ea940b8bcd618efa1d",
       "version_major": 2,
       "version_minor": 0
      },
      "text/plain": [
       "HBox(children=(IntProgress(value=0, max=24), HTML(value='')))"
      ]
     },
     "metadata": {},
     "output_type": "display_data"
    },
    {
     "data": {
      "application/vnd.jupyter.widget-view+json": {
       "model_id": "cbbbbb15f80e44679ffcceacec39b539",
       "version_major": 2,
       "version_minor": 0
      },
      "text/plain": [
       "HBox(children=(IntProgress(value=0, max=24), HTML(value='')))"
      ]
     },
     "metadata": {},
     "output_type": "display_data"
    },
    {
     "data": {
      "application/vnd.jupyter.widget-view+json": {
       "model_id": "d90b309a7d284ba98161e41cdfbc6321",
       "version_major": 2,
       "version_minor": 0
      },
      "text/plain": [
       "HBox(children=(IntProgress(value=0, max=24), HTML(value='')))"
      ]
     },
     "metadata": {},
     "output_type": "display_data"
    },
    {
     "data": {
      "application/vnd.jupyter.widget-view+json": {
       "model_id": "92696b781e30470c865f67da1dd47ec5",
       "version_major": 2,
       "version_minor": 0
      },
      "text/plain": [
       "HBox(children=(IntProgress(value=0, max=24), HTML(value='')))"
      ]
     },
     "metadata": {},
     "output_type": "display_data"
    },
    {
     "data": {
      "application/vnd.jupyter.widget-view+json": {
       "model_id": "d4e20ca0c7034d6cb8afb07ea916a9c9",
       "version_major": 2,
       "version_minor": 0
      },
      "text/plain": [
       "HBox(children=(IntProgress(value=0, max=24), HTML(value='')))"
      ]
     },
     "metadata": {},
     "output_type": "display_data"
    },
    {
     "data": {
      "application/vnd.jupyter.widget-view+json": {
       "model_id": "ad64ff774d3f45fea705974d92dfb2d5",
       "version_major": 2,
       "version_minor": 0
      },
      "text/plain": [
       "HBox(children=(IntProgress(value=0, max=24), HTML(value='')))"
      ]
     },
     "metadata": {},
     "output_type": "display_data"
    },
    {
     "data": {
      "application/vnd.jupyter.widget-view+json": {
       "model_id": "ea38102abf5e4438aa0e83addb61ea32",
       "version_major": 2,
       "version_minor": 0
      },
      "text/plain": [
       "HBox(children=(IntProgress(value=0, max=24), HTML(value='')))"
      ]
     },
     "metadata": {},
     "output_type": "display_data"
    },
    {
     "data": {
      "application/vnd.jupyter.widget-view+json": {
       "model_id": "1ab99b95792240b19b31bb83ad910349",
       "version_major": 2,
       "version_minor": 0
      },
      "text/plain": [
       "HBox(children=(IntProgress(value=0, max=24), HTML(value='')))"
      ]
     },
     "metadata": {},
     "output_type": "display_data"
    },
    {
     "data": {
      "application/vnd.jupyter.widget-view+json": {
       "model_id": "dd3afb275df349af8d7ed4e3acc59a1f",
       "version_major": 2,
       "version_minor": 0
      },
      "text/plain": [
       "HBox(children=(IntProgress(value=0, max=24), HTML(value='')))"
      ]
     },
     "metadata": {},
     "output_type": "display_data"
    },
    {
     "data": {
      "application/vnd.jupyter.widget-view+json": {
       "model_id": "f4fd4864de1847298db73fde05809528",
       "version_major": 2,
       "version_minor": 0
      },
      "text/plain": [
       "HBox(children=(IntProgress(value=0, max=24), HTML(value='')))"
      ]
     },
     "metadata": {},
     "output_type": "display_data"
    },
    {
     "data": {
      "application/vnd.jupyter.widget-view+json": {
       "model_id": "40d622d1182f4bf79ad438dbe35f4d01",
       "version_major": 2,
       "version_minor": 0
      },
      "text/plain": [
       "HBox(children=(IntProgress(value=0, max=24), HTML(value='')))"
      ]
     },
     "metadata": {},
     "output_type": "display_data"
    },
    {
     "data": {
      "application/vnd.jupyter.widget-view+json": {
       "model_id": "7addc84637ac4010870d08765d614dfa",
       "version_major": 2,
       "version_minor": 0
      },
      "text/plain": [
       "HBox(children=(IntProgress(value=0, max=24), HTML(value='')))"
      ]
     },
     "metadata": {},
     "output_type": "display_data"
    },
    {
     "data": {
      "application/vnd.jupyter.widget-view+json": {
       "model_id": "41ce63a7461a427b9c8cb0364621d66e",
       "version_major": 2,
       "version_minor": 0
      },
      "text/plain": [
       "HBox(children=(IntProgress(value=0, max=24), HTML(value='')))"
      ]
     },
     "metadata": {},
     "output_type": "display_data"
    },
    {
     "data": {
      "application/vnd.jupyter.widget-view+json": {
       "model_id": "703ff953516d4052a5f3ee0293641cfe",
       "version_major": 2,
       "version_minor": 0
      },
      "text/plain": [
       "HBox(children=(IntProgress(value=0, max=24), HTML(value='')))"
      ]
     },
     "metadata": {},
     "output_type": "display_data"
    },
    {
     "data": {
      "application/vnd.jupyter.widget-view+json": {
       "model_id": "8f3ef02becef47e180c458599e40add4",
       "version_major": 2,
       "version_minor": 0
      },
      "text/plain": [
       "HBox(children=(IntProgress(value=0, max=24), HTML(value='')))"
      ]
     },
     "metadata": {},
     "output_type": "display_data"
    },
    {
     "data": {
      "application/vnd.jupyter.widget-view+json": {
       "model_id": "f8f330daefd94a1686047b23cee7ac6d",
       "version_major": 2,
       "version_minor": 0
      },
      "text/plain": [
       "HBox(children=(IntProgress(value=0, max=24), HTML(value='')))"
      ]
     },
     "metadata": {},
     "output_type": "display_data"
    },
    {
     "data": {
      "application/vnd.jupyter.widget-view+json": {
       "model_id": "81210ffa28b24eaf975cfd617982ac7c",
       "version_major": 2,
       "version_minor": 0
      },
      "text/plain": [
       "HBox(children=(IntProgress(value=0, max=24), HTML(value='')))"
      ]
     },
     "metadata": {},
     "output_type": "display_data"
    },
    {
     "data": {
      "application/vnd.jupyter.widget-view+json": {
       "model_id": "5f0ad517c6b844c09c46d1e83e0ec2c9",
       "version_major": 2,
       "version_minor": 0
      },
      "text/plain": [
       "HBox(children=(IntProgress(value=0, max=24), HTML(value='')))"
      ]
     },
     "metadata": {},
     "output_type": "display_data"
    },
    {
     "data": {
      "application/vnd.jupyter.widget-view+json": {
       "model_id": "ff24ec80010841ae8a0bc3f7ef33c808",
       "version_major": 2,
       "version_minor": 0
      },
      "text/plain": [
       "HBox(children=(IntProgress(value=0, max=24), HTML(value='')))"
      ]
     },
     "metadata": {},
     "output_type": "display_data"
    },
    {
     "data": {
      "application/vnd.jupyter.widget-view+json": {
       "model_id": "ac6212abd00046e0a69f03f9bbb230cc",
       "version_major": 2,
       "version_minor": 0
      },
      "text/plain": [
       "HBox(children=(IntProgress(value=0, max=24), HTML(value='')))"
      ]
     },
     "metadata": {},
     "output_type": "display_data"
    },
    {
     "data": {
      "application/vnd.jupyter.widget-view+json": {
       "model_id": "afbfd5971f81459bae67424b4b67315f",
       "version_major": 2,
       "version_minor": 0
      },
      "text/plain": [
       "HBox(children=(IntProgress(value=0, max=24), HTML(value='')))"
      ]
     },
     "metadata": {},
     "output_type": "display_data"
    },
    {
     "data": {
      "application/vnd.jupyter.widget-view+json": {
       "model_id": "3fad9d7aa00042fe80a9c97ac32f547f",
       "version_major": 2,
       "version_minor": 0
      },
      "text/plain": [
       "HBox(children=(IntProgress(value=0, max=24), HTML(value='')))"
      ]
     },
     "metadata": {},
     "output_type": "display_data"
    },
    {
     "data": {
      "application/vnd.jupyter.widget-view+json": {
       "model_id": "e50d83cd17b84e57a1543e38663bf5ab",
       "version_major": 2,
       "version_minor": 0
      },
      "text/plain": [
       "HBox(children=(IntProgress(value=0, max=24), HTML(value='')))"
      ]
     },
     "metadata": {},
     "output_type": "display_data"
    },
    {
     "data": {
      "application/vnd.jupyter.widget-view+json": {
       "model_id": "9906c564f2df4333b62f2d519d333fe6",
       "version_major": 2,
       "version_minor": 0
      },
      "text/plain": [
       "HBox(children=(IntProgress(value=0, max=24), HTML(value='')))"
      ]
     },
     "metadata": {},
     "output_type": "display_data"
    },
    {
     "data": {
      "application/vnd.jupyter.widget-view+json": {
       "model_id": "4a94bcb63c1f4196ae1e1b9364652740",
       "version_major": 2,
       "version_minor": 0
      },
      "text/plain": [
       "HBox(children=(IntProgress(value=0, max=24), HTML(value='')))"
      ]
     },
     "metadata": {},
     "output_type": "display_data"
    },
    {
     "data": {
      "application/vnd.jupyter.widget-view+json": {
       "model_id": "5a3f5b983f3d42c2b7e4f177cb9d6d77",
       "version_major": 2,
       "version_minor": 0
      },
      "text/plain": [
       "HBox(children=(IntProgress(value=0, max=24), HTML(value='')))"
      ]
     },
     "metadata": {},
     "output_type": "display_data"
    },
    {
     "data": {
      "application/vnd.jupyter.widget-view+json": {
       "model_id": "99b5d9b3b7c9471abae08e63f6f62e7f",
       "version_major": 2,
       "version_minor": 0
      },
      "text/plain": [
       "HBox(children=(IntProgress(value=0, max=24), HTML(value='')))"
      ]
     },
     "metadata": {},
     "output_type": "display_data"
    },
    {
     "data": {
      "application/vnd.jupyter.widget-view+json": {
       "model_id": "3bde7bc8dc67426da56f99d01ea743c1",
       "version_major": 2,
       "version_minor": 0
      },
      "text/plain": [
       "HBox(children=(IntProgress(value=0, max=24), HTML(value='')))"
      ]
     },
     "metadata": {},
     "output_type": "display_data"
    },
    {
     "data": {
      "application/vnd.jupyter.widget-view+json": {
       "model_id": "3f3141a8b63e4d79a1abd01340b7dbc6",
       "version_major": 2,
       "version_minor": 0
      },
      "text/plain": [
       "HBox(children=(IntProgress(value=0, max=24), HTML(value='')))"
      ]
     },
     "metadata": {},
     "output_type": "display_data"
    },
    {
     "data": {
      "application/vnd.jupyter.widget-view+json": {
       "model_id": "770152d0b72340ccb0472936167bd132",
       "version_major": 2,
       "version_minor": 0
      },
      "text/plain": [
       "HBox(children=(IntProgress(value=0, max=24), HTML(value='')))"
      ]
     },
     "metadata": {},
     "output_type": "display_data"
    },
    {
     "data": {
      "application/vnd.jupyter.widget-view+json": {
       "model_id": "eb297cf191a14aeeb096ce96146a8e2d",
       "version_major": 2,
       "version_minor": 0
      },
      "text/plain": [
       "HBox(children=(IntProgress(value=0, max=24), HTML(value='')))"
      ]
     },
     "metadata": {},
     "output_type": "display_data"
    },
    {
     "data": {
      "application/vnd.jupyter.widget-view+json": {
       "model_id": "c28c4c6ec1a94538806b93d2d88f95b6",
       "version_major": 2,
       "version_minor": 0
      },
      "text/plain": [
       "HBox(children=(IntProgress(value=0, max=24), HTML(value='')))"
      ]
     },
     "metadata": {},
     "output_type": "display_data"
    },
    {
     "data": {
      "application/vnd.jupyter.widget-view+json": {
       "model_id": "c5bbb1e1a0a54510bc3bd40552b891a4",
       "version_major": 2,
       "version_minor": 0
      },
      "text/plain": [
       "HBox(children=(IntProgress(value=0, max=24), HTML(value='')))"
      ]
     },
     "metadata": {},
     "output_type": "display_data"
    },
    {
     "data": {
      "application/vnd.jupyter.widget-view+json": {
       "model_id": "57e978848e33443186da4ef620965965",
       "version_major": 2,
       "version_minor": 0
      },
      "text/plain": [
       "HBox(children=(IntProgress(value=0, max=24), HTML(value='')))"
      ]
     },
     "metadata": {},
     "output_type": "display_data"
    },
    {
     "data": {
      "application/vnd.jupyter.widget-view+json": {
       "model_id": "08cb19f155be4ba2a739aff8839b5773",
       "version_major": 2,
       "version_minor": 0
      },
      "text/plain": [
       "HBox(children=(IntProgress(value=0, max=24), HTML(value='')))"
      ]
     },
     "metadata": {},
     "output_type": "display_data"
    },
    {
     "data": {
      "application/vnd.jupyter.widget-view+json": {
       "model_id": "01e6ab40f04441ac8b2b30dfc1145cdc",
       "version_major": 2,
       "version_minor": 0
      },
      "text/plain": [
       "HBox(children=(IntProgress(value=0, max=24), HTML(value='')))"
      ]
     },
     "metadata": {},
     "output_type": "display_data"
    },
    {
     "data": {
      "application/vnd.jupyter.widget-view+json": {
       "model_id": "2590403a180e4a4883a2698bc93376e4",
       "version_major": 2,
       "version_minor": 0
      },
      "text/plain": [
       "HBox(children=(IntProgress(value=0, max=24), HTML(value='')))"
      ]
     },
     "metadata": {},
     "output_type": "display_data"
    },
    {
     "data": {
      "application/vnd.jupyter.widget-view+json": {
       "model_id": "76424962b2e041a89a5f997dfc4b5c95",
       "version_major": 2,
       "version_minor": 0
      },
      "text/plain": [
       "HBox(children=(IntProgress(value=0, max=24), HTML(value='')))"
      ]
     },
     "metadata": {},
     "output_type": "display_data"
    },
    {
     "data": {
      "application/vnd.jupyter.widget-view+json": {
       "model_id": "afde4e98546b4b1084e09156137d94ac",
       "version_major": 2,
       "version_minor": 0
      },
      "text/plain": [
       "HBox(children=(IntProgress(value=0, max=24), HTML(value='')))"
      ]
     },
     "metadata": {},
     "output_type": "display_data"
    },
    {
     "data": {
      "application/vnd.jupyter.widget-view+json": {
       "model_id": "45914c0f3c924597a95a52df068be220",
       "version_major": 2,
       "version_minor": 0
      },
      "text/plain": [
       "HBox(children=(IntProgress(value=0, max=24), HTML(value='')))"
      ]
     },
     "metadata": {},
     "output_type": "display_data"
    },
    {
     "data": {
      "application/vnd.jupyter.widget-view+json": {
       "model_id": "d53bd0fcdab142609ac17c2c1af108aa",
       "version_major": 2,
       "version_minor": 0
      },
      "text/plain": [
       "HBox(children=(IntProgress(value=0, max=24), HTML(value='')))"
      ]
     },
     "metadata": {},
     "output_type": "display_data"
    },
    {
     "data": {
      "application/vnd.jupyter.widget-view+json": {
       "model_id": "a8cce41c45f34ffbb26ec11d1e1f3737",
       "version_major": 2,
       "version_minor": 0
      },
      "text/plain": [
       "HBox(children=(IntProgress(value=0, max=24), HTML(value='')))"
      ]
     },
     "metadata": {},
     "output_type": "display_data"
    },
    {
     "data": {
      "application/vnd.jupyter.widget-view+json": {
       "model_id": "dfe504cc96fe4f38bf8b8c47d201ce9c",
       "version_major": 2,
       "version_minor": 0
      },
      "text/plain": [
       "HBox(children=(IntProgress(value=0, max=24), HTML(value='')))"
      ]
     },
     "metadata": {},
     "output_type": "display_data"
    },
    {
     "data": {
      "application/vnd.jupyter.widget-view+json": {
       "model_id": "e9c3b2254e99491fb6fc7742e1838582",
       "version_major": 2,
       "version_minor": 0
      },
      "text/plain": [
       "HBox(children=(IntProgress(value=0, max=24), HTML(value='')))"
      ]
     },
     "metadata": {},
     "output_type": "display_data"
    },
    {
     "data": {
      "application/vnd.jupyter.widget-view+json": {
       "model_id": "29eee319b49d40e1a7a923c07ab7f718",
       "version_major": 2,
       "version_minor": 0
      },
      "text/plain": [
       "HBox(children=(IntProgress(value=0, max=24), HTML(value='')))"
      ]
     },
     "metadata": {},
     "output_type": "display_data"
    },
    {
     "data": {
      "application/vnd.jupyter.widget-view+json": {
       "model_id": "364c9c4240aa465ea7128a336b6790f3",
       "version_major": 2,
       "version_minor": 0
      },
      "text/plain": [
       "HBox(children=(IntProgress(value=0, max=24), HTML(value='')))"
      ]
     },
     "metadata": {},
     "output_type": "display_data"
    },
    {
     "name": "stdout",
     "output_type": "stream",
     "text": [
      "\n"
     ]
    }
   ],
   "source": [
    "products_perek = []\n",
    "for i in tqdm_notebook(pages_html):\n",
    "    try:\n",
    "        tmp_products = get_goods_sp(i)\n",
    "    except:\n",
    "        pass\n",
    "    for prod in tqdm_notebook(tmp_products):\n",
    "        products_perek.append(prod)"
   ]
  },
  {
   "cell_type": "code",
   "execution_count": 19,
   "metadata": {},
   "outputs": [],
   "source": [
    "import _pickle as pickle"
   ]
  },
  {
   "cell_type": "code",
   "execution_count": 20,
   "metadata": {},
   "outputs": [],
   "source": [
    "with open('products_perek.pickle', 'wb') as f:\n",
    "    f.write(pickle.dumps({'products': products_perek}))"
   ]
  },
  {
   "cell_type": "code",
   "execution_count": 45,
   "metadata": {
    "scrolled": true
   },
   "outputs": [
    {
     "name": "stderr",
     "output_type": "stream",
     "text": [
      "IOPub data rate exceeded.\n",
      "The notebook server will temporarily stop sending output\n",
      "to the client in order to avoid crashing it.\n",
      "To change this limit, set the config variable\n",
      "`--NotebookApp.iopub_data_rate_limit`.\n",
      "\n",
      "Current values:\n",
      "NotebookApp.iopub_data_rate_limit=1000000.0 (bytes/sec)\n",
      "NotebookApp.rate_limit_window=3.0 (secs)\n",
      "\n"
     ]
    }
   ],
   "source": [
    "print (list_of_html)"
   ]
  },
  {
   "cell_type": "code",
   "execution_count": 16,
   "metadata": {},
   "outputs": [
    {
     "ename": "KeyboardInterrupt",
     "evalue": "",
     "output_type": "error",
     "traceback": [
      "\u001b[0;31m---------------------------------------------------------------------------\u001b[0m",
      "\u001b[0;31mKeyboardInterrupt\u001b[0m                         Traceback (most recent call last)",
      "\u001b[0;32m<ipython-input-16-c8ac6e2fe4ed>\u001b[0m in \u001b[0;36m<module>\u001b[0;34m()\u001b[0m\n\u001b[1;32m     67\u001b[0m     \u001b[0;32mreturn\u001b[0m \u001b[0murls\u001b[0m\u001b[0;34m\u001b[0m\u001b[0m\n\u001b[1;32m     68\u001b[0m \u001b[0;34m\u001b[0m\u001b[0m\n\u001b[0;32m---> 69\u001b[0;31m \u001b[0mcategory_pages_url\u001b[0m \u001b[0;34m=\u001b[0m \u001b[0;34m(\u001b[0m\u001b[0mlist\u001b[0m\u001b[0;34m(\u001b[0m\u001b[0mmap\u001b[0m\u001b[0;34m(\u001b[0m\u001b[0mget_category_page\u001b[0m\u001b[0;34m,\u001b[0m \u001b[0mf_of_category_url\u001b[0m\u001b[0;34m)\u001b[0m\u001b[0;34m)\u001b[0m\u001b[0;34m)\u001b[0m\u001b[0;34m\u001b[0m\u001b[0m\n\u001b[0m\u001b[1;32m     70\u001b[0m \u001b[0;31m#print (category_pages_url)\u001b[0m\u001b[0;34m\u001b[0m\u001b[0;34m\u001b[0m\u001b[0m\n\u001b[1;32m     71\u001b[0m \u001b[0;34m\u001b[0m\u001b[0m\n",
      "\u001b[0;32m<ipython-input-16-c8ac6e2fe4ed>\u001b[0m in \u001b[0;36mget_category_page\u001b[0;34m(base_url)\u001b[0m\n\u001b[1;32m     60\u001b[0m         \u001b[0mxxx\u001b[0m \u001b[0;34m=\u001b[0m \u001b[0mstr\u001b[0m\u001b[0;34m(\u001b[0m\u001b[0mpages\u001b[0m\u001b[0;34m)\u001b[0m\u001b[0;34m.\u001b[0m\u001b[0msplit\u001b[0m\u001b[0;34m(\u001b[0m\u001b[0;34m\">\"\u001b[0m\u001b[0;34m)\u001b[0m\u001b[0;34m[\u001b[0m\u001b[0;36m2\u001b[0m\u001b[0;34m]\u001b[0m\u001b[0;34m.\u001b[0m\u001b[0msplit\u001b[0m\u001b[0;34m(\u001b[0m\u001b[0;34m\"<\"\u001b[0m\u001b[0;34m)\u001b[0m\u001b[0;34m[\u001b[0m\u001b[0;36m0\u001b[0m\u001b[0;34m]\u001b[0m\u001b[0;34m\u001b[0m\u001b[0m\n\u001b[1;32m     61\u001b[0m         \u001b[0;32mreturn\u001b[0m \u001b[0mint\u001b[0m\u001b[0;34m(\u001b[0m\u001b[0mxxx\u001b[0m\u001b[0;34m)\u001b[0m\u001b[0;34m\u001b[0m\u001b[0m\n\u001b[0;32m---> 62\u001b[0;31m     \u001b[0mtotal_pages\u001b[0m \u001b[0;34m=\u001b[0m \u001b[0mget_total_category_pages\u001b[0m\u001b[0;34m(\u001b[0m\u001b[0mready_html\u001b[0m\u001b[0;34m)\u001b[0m\u001b[0;34m\u001b[0m\u001b[0m\n\u001b[0m\u001b[1;32m     63\u001b[0m     \u001b[0murls\u001b[0m \u001b[0;34m=\u001b[0m \u001b[0;34m[\u001b[0m\u001b[0;34m]\u001b[0m\u001b[0;34m\u001b[0m\u001b[0m\n\u001b[1;32m     64\u001b[0m     \u001b[0;32mfor\u001b[0m \u001b[0mi\u001b[0m \u001b[0;32min\u001b[0m \u001b[0mrange\u001b[0m \u001b[0;34m(\u001b[0m\u001b[0;36m1\u001b[0m\u001b[0;34m,\u001b[0m \u001b[0mtotal_pages\u001b[0m \u001b[0;34m+\u001b[0m \u001b[0;36m1\u001b[0m\u001b[0;34m)\u001b[0m\u001b[0;34m:\u001b[0m\u001b[0;34m\u001b[0m\u001b[0m\n",
      "\u001b[0;32m<ipython-input-16-c8ac6e2fe4ed>\u001b[0m in \u001b[0;36mget_total_category_pages\u001b[0;34m(ready_html)\u001b[0m\n\u001b[1;32m     54\u001b[0m     \u001b[0mpage_part\u001b[0m \u001b[0;34m=\u001b[0m \u001b[0;34m\"?page=\"\u001b[0m\u001b[0;34m\u001b[0m\u001b[0m\n\u001b[1;32m     55\u001b[0m     \u001b[0;32mdef\u001b[0m \u001b[0mget_total_category_pages\u001b[0m\u001b[0;34m(\u001b[0m\u001b[0mready_html\u001b[0m\u001b[0;34m)\u001b[0m\u001b[0;34m:\u001b[0m\u001b[0;34m\u001b[0m\u001b[0m\n\u001b[0;32m---> 56\u001b[0;31m         \u001b[0mready_html\u001b[0m \u001b[0;34m=\u001b[0m \u001b[0mget_html\u001b[0m\u001b[0;34m(\u001b[0m\u001b[0mbase_url\u001b[0m\u001b[0;34m)\u001b[0m\u001b[0;34m\u001b[0m\u001b[0m\n\u001b[0m\u001b[1;32m     57\u001b[0m         \u001b[0msoup\u001b[0m \u001b[0;34m=\u001b[0m \u001b[0mBeautifulSoup\u001b[0m\u001b[0;34m(\u001b[0m\u001b[0mready_html\u001b[0m\u001b[0;34m,\u001b[0m \u001b[0;34m'lxml'\u001b[0m\u001b[0;34m)\u001b[0m\u001b[0;34m\u001b[0m\u001b[0m\n\u001b[1;32m     58\u001b[0m         \u001b[0mdivs\u001b[0m \u001b[0;34m=\u001b[0m \u001b[0msoup\u001b[0m\u001b[0;34m.\u001b[0m\u001b[0mfind\u001b[0m\u001b[0;34m(\u001b[0m\u001b[0;34m'div'\u001b[0m\u001b[0;34m,\u001b[0m \u001b[0mclass_\u001b[0m\u001b[0;34m=\u001b[0m\u001b[0;34m'pager'\u001b[0m\u001b[0;34m)\u001b[0m\u001b[0;34m\u001b[0m\u001b[0m\n",
      "\u001b[0;32m<ipython-input-16-c8ac6e2fe4ed>\u001b[0m in \u001b[0;36mget_html\u001b[0;34m(base_url)\u001b[0m\n\u001b[1;32m     47\u001b[0m \u001b[0;34m\u001b[0m\u001b[0m\n\u001b[1;32m     48\u001b[0m \u001b[0;32mdef\u001b[0m \u001b[0mget_html\u001b[0m\u001b[0;34m(\u001b[0m\u001b[0mbase_url\u001b[0m\u001b[0;34m)\u001b[0m\u001b[0;34m:\u001b[0m\u001b[0;34m\u001b[0m\u001b[0m\n\u001b[0;32m---> 49\u001b[0;31m     \u001b[0mr\u001b[0m \u001b[0;34m=\u001b[0m \u001b[0mrequests\u001b[0m\u001b[0;34m.\u001b[0m\u001b[0mget\u001b[0m\u001b[0;34m(\u001b[0m\u001b[0mbase_url\u001b[0m\u001b[0;34m)\u001b[0m\u001b[0;34m\u001b[0m\u001b[0m\n\u001b[0m\u001b[1;32m     50\u001b[0m     \u001b[0mready_html\u001b[0m \u001b[0;34m=\u001b[0m \u001b[0mr\u001b[0m\u001b[0;34m.\u001b[0m\u001b[0mtext\u001b[0m\u001b[0;34m\u001b[0m\u001b[0m\n\u001b[1;32m     51\u001b[0m     \u001b[0;32mreturn\u001b[0m \u001b[0mready_html\u001b[0m\u001b[0;34m\u001b[0m\u001b[0m\n",
      "\u001b[0;32m~/anaconda3/lib/python3.6/site-packages/requests/api.py\u001b[0m in \u001b[0;36mget\u001b[0;34m(url, params, **kwargs)\u001b[0m\n\u001b[1;32m     70\u001b[0m \u001b[0;34m\u001b[0m\u001b[0m\n\u001b[1;32m     71\u001b[0m     \u001b[0mkwargs\u001b[0m\u001b[0;34m.\u001b[0m\u001b[0msetdefault\u001b[0m\u001b[0;34m(\u001b[0m\u001b[0;34m'allow_redirects'\u001b[0m\u001b[0;34m,\u001b[0m \u001b[0;32mTrue\u001b[0m\u001b[0;34m)\u001b[0m\u001b[0;34m\u001b[0m\u001b[0m\n\u001b[0;32m---> 72\u001b[0;31m     \u001b[0;32mreturn\u001b[0m \u001b[0mrequest\u001b[0m\u001b[0;34m(\u001b[0m\u001b[0;34m'get'\u001b[0m\u001b[0;34m,\u001b[0m \u001b[0murl\u001b[0m\u001b[0;34m,\u001b[0m \u001b[0mparams\u001b[0m\u001b[0;34m=\u001b[0m\u001b[0mparams\u001b[0m\u001b[0;34m,\u001b[0m \u001b[0;34m**\u001b[0m\u001b[0mkwargs\u001b[0m\u001b[0;34m)\u001b[0m\u001b[0;34m\u001b[0m\u001b[0m\n\u001b[0m\u001b[1;32m     73\u001b[0m \u001b[0;34m\u001b[0m\u001b[0m\n\u001b[1;32m     74\u001b[0m \u001b[0;34m\u001b[0m\u001b[0m\n",
      "\u001b[0;32m~/anaconda3/lib/python3.6/site-packages/requests/api.py\u001b[0m in \u001b[0;36mrequest\u001b[0;34m(method, url, **kwargs)\u001b[0m\n\u001b[1;32m     56\u001b[0m     \u001b[0;31m# cases, and look like a memory leak in others.\u001b[0m\u001b[0;34m\u001b[0m\u001b[0;34m\u001b[0m\u001b[0m\n\u001b[1;32m     57\u001b[0m     \u001b[0;32mwith\u001b[0m \u001b[0msessions\u001b[0m\u001b[0;34m.\u001b[0m\u001b[0mSession\u001b[0m\u001b[0;34m(\u001b[0m\u001b[0;34m)\u001b[0m \u001b[0;32mas\u001b[0m \u001b[0msession\u001b[0m\u001b[0;34m:\u001b[0m\u001b[0;34m\u001b[0m\u001b[0m\n\u001b[0;32m---> 58\u001b[0;31m         \u001b[0;32mreturn\u001b[0m \u001b[0msession\u001b[0m\u001b[0;34m.\u001b[0m\u001b[0mrequest\u001b[0m\u001b[0;34m(\u001b[0m\u001b[0mmethod\u001b[0m\u001b[0;34m=\u001b[0m\u001b[0mmethod\u001b[0m\u001b[0;34m,\u001b[0m \u001b[0murl\u001b[0m\u001b[0;34m=\u001b[0m\u001b[0murl\u001b[0m\u001b[0;34m,\u001b[0m \u001b[0;34m**\u001b[0m\u001b[0mkwargs\u001b[0m\u001b[0;34m)\u001b[0m\u001b[0;34m\u001b[0m\u001b[0m\n\u001b[0m\u001b[1;32m     59\u001b[0m \u001b[0;34m\u001b[0m\u001b[0m\n\u001b[1;32m     60\u001b[0m \u001b[0;34m\u001b[0m\u001b[0m\n",
      "\u001b[0;32m~/anaconda3/lib/python3.6/site-packages/requests/sessions.py\u001b[0m in \u001b[0;36mrequest\u001b[0;34m(self, method, url, params, data, headers, cookies, files, auth, timeout, allow_redirects, proxies, hooks, stream, verify, cert, json)\u001b[0m\n\u001b[1;32m    506\u001b[0m         }\n\u001b[1;32m    507\u001b[0m         \u001b[0msend_kwargs\u001b[0m\u001b[0;34m.\u001b[0m\u001b[0mupdate\u001b[0m\u001b[0;34m(\u001b[0m\u001b[0msettings\u001b[0m\u001b[0;34m)\u001b[0m\u001b[0;34m\u001b[0m\u001b[0m\n\u001b[0;32m--> 508\u001b[0;31m         \u001b[0mresp\u001b[0m \u001b[0;34m=\u001b[0m \u001b[0mself\u001b[0m\u001b[0;34m.\u001b[0m\u001b[0msend\u001b[0m\u001b[0;34m(\u001b[0m\u001b[0mprep\u001b[0m\u001b[0;34m,\u001b[0m \u001b[0;34m**\u001b[0m\u001b[0msend_kwargs\u001b[0m\u001b[0;34m)\u001b[0m\u001b[0;34m\u001b[0m\u001b[0m\n\u001b[0m\u001b[1;32m    509\u001b[0m \u001b[0;34m\u001b[0m\u001b[0m\n\u001b[1;32m    510\u001b[0m         \u001b[0;32mreturn\u001b[0m \u001b[0mresp\u001b[0m\u001b[0;34m\u001b[0m\u001b[0m\n",
      "\u001b[0;32m~/anaconda3/lib/python3.6/site-packages/requests/sessions.py\u001b[0m in \u001b[0;36msend\u001b[0;34m(self, request, **kwargs)\u001b[0m\n\u001b[1;32m    616\u001b[0m \u001b[0;34m\u001b[0m\u001b[0m\n\u001b[1;32m    617\u001b[0m         \u001b[0;31m# Send the request\u001b[0m\u001b[0;34m\u001b[0m\u001b[0;34m\u001b[0m\u001b[0m\n\u001b[0;32m--> 618\u001b[0;31m         \u001b[0mr\u001b[0m \u001b[0;34m=\u001b[0m \u001b[0madapter\u001b[0m\u001b[0;34m.\u001b[0m\u001b[0msend\u001b[0m\u001b[0;34m(\u001b[0m\u001b[0mrequest\u001b[0m\u001b[0;34m,\u001b[0m \u001b[0;34m**\u001b[0m\u001b[0mkwargs\u001b[0m\u001b[0;34m)\u001b[0m\u001b[0;34m\u001b[0m\u001b[0m\n\u001b[0m\u001b[1;32m    619\u001b[0m \u001b[0;34m\u001b[0m\u001b[0m\n\u001b[1;32m    620\u001b[0m         \u001b[0;31m# Total elapsed time of the request (approximately)\u001b[0m\u001b[0;34m\u001b[0m\u001b[0;34m\u001b[0m\u001b[0m\n",
      "\u001b[0;32m~/anaconda3/lib/python3.6/site-packages/requests/adapters.py\u001b[0m in \u001b[0;36msend\u001b[0;34m(self, request, stream, timeout, verify, cert, proxies)\u001b[0m\n\u001b[1;32m    438\u001b[0m                     \u001b[0mdecode_content\u001b[0m\u001b[0;34m=\u001b[0m\u001b[0;32mFalse\u001b[0m\u001b[0;34m,\u001b[0m\u001b[0;34m\u001b[0m\u001b[0m\n\u001b[1;32m    439\u001b[0m                     \u001b[0mretries\u001b[0m\u001b[0;34m=\u001b[0m\u001b[0mself\u001b[0m\u001b[0;34m.\u001b[0m\u001b[0mmax_retries\u001b[0m\u001b[0;34m,\u001b[0m\u001b[0;34m\u001b[0m\u001b[0m\n\u001b[0;32m--> 440\u001b[0;31m                     \u001b[0mtimeout\u001b[0m\u001b[0;34m=\u001b[0m\u001b[0mtimeout\u001b[0m\u001b[0;34m\u001b[0m\u001b[0m\n\u001b[0m\u001b[1;32m    441\u001b[0m                 )\n\u001b[1;32m    442\u001b[0m \u001b[0;34m\u001b[0m\u001b[0m\n",
      "\u001b[0;32m~/anaconda3/lib/python3.6/site-packages/urllib3/connectionpool.py\u001b[0m in \u001b[0;36murlopen\u001b[0;34m(self, method, url, body, headers, retries, redirect, assert_same_host, timeout, pool_timeout, release_conn, chunked, body_pos, **response_kw)\u001b[0m\n\u001b[1;32m    599\u001b[0m                                                   \u001b[0mtimeout\u001b[0m\u001b[0;34m=\u001b[0m\u001b[0mtimeout_obj\u001b[0m\u001b[0;34m,\u001b[0m\u001b[0;34m\u001b[0m\u001b[0m\n\u001b[1;32m    600\u001b[0m                                                   \u001b[0mbody\u001b[0m\u001b[0;34m=\u001b[0m\u001b[0mbody\u001b[0m\u001b[0;34m,\u001b[0m \u001b[0mheaders\u001b[0m\u001b[0;34m=\u001b[0m\u001b[0mheaders\u001b[0m\u001b[0;34m,\u001b[0m\u001b[0;34m\u001b[0m\u001b[0m\n\u001b[0;32m--> 601\u001b[0;31m                                                   chunked=chunked)\n\u001b[0m\u001b[1;32m    602\u001b[0m \u001b[0;34m\u001b[0m\u001b[0m\n\u001b[1;32m    603\u001b[0m             \u001b[0;31m# If we're going to release the connection in ``finally:``, then\u001b[0m\u001b[0;34m\u001b[0m\u001b[0;34m\u001b[0m\u001b[0m\n",
      "\u001b[0;32m~/anaconda3/lib/python3.6/site-packages/urllib3/connectionpool.py\u001b[0m in \u001b[0;36m_make_request\u001b[0;34m(self, conn, method, url, timeout, chunked, **httplib_request_kw)\u001b[0m\n\u001b[1;32m    344\u001b[0m         \u001b[0;31m# Trigger any extra validation we need to do.\u001b[0m\u001b[0;34m\u001b[0m\u001b[0;34m\u001b[0m\u001b[0m\n\u001b[1;32m    345\u001b[0m         \u001b[0;32mtry\u001b[0m\u001b[0;34m:\u001b[0m\u001b[0;34m\u001b[0m\u001b[0m\n\u001b[0;32m--> 346\u001b[0;31m             \u001b[0mself\u001b[0m\u001b[0;34m.\u001b[0m\u001b[0m_validate_conn\u001b[0m\u001b[0;34m(\u001b[0m\u001b[0mconn\u001b[0m\u001b[0;34m)\u001b[0m\u001b[0;34m\u001b[0m\u001b[0m\n\u001b[0m\u001b[1;32m    347\u001b[0m         \u001b[0;32mexcept\u001b[0m \u001b[0;34m(\u001b[0m\u001b[0mSocketTimeout\u001b[0m\u001b[0;34m,\u001b[0m \u001b[0mBaseSSLError\u001b[0m\u001b[0;34m)\u001b[0m \u001b[0;32mas\u001b[0m \u001b[0me\u001b[0m\u001b[0;34m:\u001b[0m\u001b[0;34m\u001b[0m\u001b[0m\n\u001b[1;32m    348\u001b[0m             \u001b[0;31m# Py2 raises this as a BaseSSLError, Py3 raises it as socket timeout.\u001b[0m\u001b[0;34m\u001b[0m\u001b[0;34m\u001b[0m\u001b[0m\n",
      "\u001b[0;32m~/anaconda3/lib/python3.6/site-packages/urllib3/connectionpool.py\u001b[0m in \u001b[0;36m_validate_conn\u001b[0;34m(self, conn)\u001b[0m\n\u001b[1;32m    848\u001b[0m         \u001b[0;31m# Force connect early to allow us to validate the connection.\u001b[0m\u001b[0;34m\u001b[0m\u001b[0;34m\u001b[0m\u001b[0m\n\u001b[1;32m    849\u001b[0m         \u001b[0;32mif\u001b[0m \u001b[0;32mnot\u001b[0m \u001b[0mgetattr\u001b[0m\u001b[0;34m(\u001b[0m\u001b[0mconn\u001b[0m\u001b[0;34m,\u001b[0m \u001b[0;34m'sock'\u001b[0m\u001b[0;34m,\u001b[0m \u001b[0;32mNone\u001b[0m\u001b[0;34m)\u001b[0m\u001b[0;34m:\u001b[0m  \u001b[0;31m# AppEngine might not have  `.sock`\u001b[0m\u001b[0;34m\u001b[0m\u001b[0m\n\u001b[0;32m--> 850\u001b[0;31m             \u001b[0mconn\u001b[0m\u001b[0;34m.\u001b[0m\u001b[0mconnect\u001b[0m\u001b[0;34m(\u001b[0m\u001b[0;34m)\u001b[0m\u001b[0;34m\u001b[0m\u001b[0m\n\u001b[0m\u001b[1;32m    851\u001b[0m \u001b[0;34m\u001b[0m\u001b[0m\n\u001b[1;32m    852\u001b[0m         \u001b[0;32mif\u001b[0m \u001b[0;32mnot\u001b[0m \u001b[0mconn\u001b[0m\u001b[0;34m.\u001b[0m\u001b[0mis_verified\u001b[0m\u001b[0;34m:\u001b[0m\u001b[0;34m\u001b[0m\u001b[0m\n",
      "\u001b[0;32m~/anaconda3/lib/python3.6/site-packages/urllib3/connection.py\u001b[0m in \u001b[0;36mconnect\u001b[0;34m(self)\u001b[0m\n\u001b[1;32m    324\u001b[0m             \u001b[0mca_cert_dir\u001b[0m\u001b[0;34m=\u001b[0m\u001b[0mself\u001b[0m\u001b[0;34m.\u001b[0m\u001b[0mca_cert_dir\u001b[0m\u001b[0;34m,\u001b[0m\u001b[0;34m\u001b[0m\u001b[0m\n\u001b[1;32m    325\u001b[0m             \u001b[0mserver_hostname\u001b[0m\u001b[0;34m=\u001b[0m\u001b[0mhostname\u001b[0m\u001b[0;34m,\u001b[0m\u001b[0;34m\u001b[0m\u001b[0m\n\u001b[0;32m--> 326\u001b[0;31m             ssl_context=context)\n\u001b[0m\u001b[1;32m    327\u001b[0m \u001b[0;34m\u001b[0m\u001b[0m\n\u001b[1;32m    328\u001b[0m         \u001b[0;32mif\u001b[0m \u001b[0mself\u001b[0m\u001b[0;34m.\u001b[0m\u001b[0massert_fingerprint\u001b[0m\u001b[0;34m:\u001b[0m\u001b[0;34m\u001b[0m\u001b[0m\n",
      "\u001b[0;32m~/anaconda3/lib/python3.6/site-packages/urllib3/util/ssl_.py\u001b[0m in \u001b[0;36mssl_wrap_socket\u001b[0;34m(sock, keyfile, certfile, cert_reqs, ca_certs, server_hostname, ssl_version, ciphers, ssl_context, ca_cert_dir)\u001b[0m\n\u001b[1;32m    327\u001b[0m         \u001b[0mcontext\u001b[0m\u001b[0;34m.\u001b[0m\u001b[0mload_cert_chain\u001b[0m\u001b[0;34m(\u001b[0m\u001b[0mcertfile\u001b[0m\u001b[0;34m,\u001b[0m \u001b[0mkeyfile\u001b[0m\u001b[0;34m)\u001b[0m\u001b[0;34m\u001b[0m\u001b[0m\n\u001b[1;32m    328\u001b[0m     \u001b[0;32mif\u001b[0m \u001b[0mHAS_SNI\u001b[0m\u001b[0;34m:\u001b[0m  \u001b[0;31m# Platform-specific: OpenSSL with enabled SNI\u001b[0m\u001b[0;34m\u001b[0m\u001b[0m\n\u001b[0;32m--> 329\u001b[0;31m         \u001b[0;32mreturn\u001b[0m \u001b[0mcontext\u001b[0m\u001b[0;34m.\u001b[0m\u001b[0mwrap_socket\u001b[0m\u001b[0;34m(\u001b[0m\u001b[0msock\u001b[0m\u001b[0;34m,\u001b[0m \u001b[0mserver_hostname\u001b[0m\u001b[0;34m=\u001b[0m\u001b[0mserver_hostname\u001b[0m\u001b[0;34m)\u001b[0m\u001b[0;34m\u001b[0m\u001b[0m\n\u001b[0m\u001b[1;32m    330\u001b[0m \u001b[0;34m\u001b[0m\u001b[0m\n\u001b[1;32m    331\u001b[0m     warnings.warn(\n",
      "\u001b[0;32m~/anaconda3/lib/python3.6/site-packages/urllib3/contrib/pyopenssl.py\u001b[0m in \u001b[0;36mwrap_socket\u001b[0;34m(self, sock, server_side, do_handshake_on_connect, suppress_ragged_eofs, server_hostname)\u001b[0m\n\u001b[1;32m    439\u001b[0m         \u001b[0;32mwhile\u001b[0m \u001b[0;32mTrue\u001b[0m\u001b[0;34m:\u001b[0m\u001b[0;34m\u001b[0m\u001b[0m\n\u001b[1;32m    440\u001b[0m             \u001b[0;32mtry\u001b[0m\u001b[0;34m:\u001b[0m\u001b[0;34m\u001b[0m\u001b[0m\n\u001b[0;32m--> 441\u001b[0;31m                 \u001b[0mcnx\u001b[0m\u001b[0;34m.\u001b[0m\u001b[0mdo_handshake\u001b[0m\u001b[0;34m(\u001b[0m\u001b[0;34m)\u001b[0m\u001b[0;34m\u001b[0m\u001b[0m\n\u001b[0m\u001b[1;32m    442\u001b[0m             \u001b[0;32mexcept\u001b[0m \u001b[0mOpenSSL\u001b[0m\u001b[0;34m.\u001b[0m\u001b[0mSSL\u001b[0m\u001b[0;34m.\u001b[0m\u001b[0mWantReadError\u001b[0m\u001b[0;34m:\u001b[0m\u001b[0;34m\u001b[0m\u001b[0m\n\u001b[1;32m    443\u001b[0m                 \u001b[0mrd\u001b[0m \u001b[0;34m=\u001b[0m \u001b[0mutil\u001b[0m\u001b[0;34m.\u001b[0m\u001b[0mwait_for_read\u001b[0m\u001b[0;34m(\u001b[0m\u001b[0msock\u001b[0m\u001b[0;34m,\u001b[0m \u001b[0msock\u001b[0m\u001b[0;34m.\u001b[0m\u001b[0mgettimeout\u001b[0m\u001b[0;34m(\u001b[0m\u001b[0;34m)\u001b[0m\u001b[0;34m)\u001b[0m\u001b[0;34m\u001b[0m\u001b[0m\n",
      "\u001b[0;32m~/anaconda3/lib/python3.6/site-packages/OpenSSL/SSL.py\u001b[0m in \u001b[0;36mdo_handshake\u001b[0;34m(self)\u001b[0m\n\u001b[1;32m   1904\u001b[0m         \u001b[0;34m:\u001b[0m\u001b[0;32mreturn\u001b[0m\u001b[0;34m:\u001b[0m \u001b[0;32mNone\u001b[0m\u001b[0;34m.\u001b[0m\u001b[0;34m\u001b[0m\u001b[0m\n\u001b[1;32m   1905\u001b[0m         \"\"\"\n\u001b[0;32m-> 1906\u001b[0;31m         \u001b[0mresult\u001b[0m \u001b[0;34m=\u001b[0m \u001b[0m_lib\u001b[0m\u001b[0;34m.\u001b[0m\u001b[0mSSL_do_handshake\u001b[0m\u001b[0;34m(\u001b[0m\u001b[0mself\u001b[0m\u001b[0;34m.\u001b[0m\u001b[0m_ssl\u001b[0m\u001b[0;34m)\u001b[0m\u001b[0;34m\u001b[0m\u001b[0m\n\u001b[0m\u001b[1;32m   1907\u001b[0m         \u001b[0mself\u001b[0m\u001b[0;34m.\u001b[0m\u001b[0m_raise_ssl_error\u001b[0m\u001b[0;34m(\u001b[0m\u001b[0mself\u001b[0m\u001b[0;34m.\u001b[0m\u001b[0m_ssl\u001b[0m\u001b[0;34m,\u001b[0m \u001b[0mresult\u001b[0m\u001b[0;34m)\u001b[0m\u001b[0;34m\u001b[0m\u001b[0m\n\u001b[1;32m   1908\u001b[0m \u001b[0;34m\u001b[0m\u001b[0m\n",
      "\u001b[0;31mKeyboardInterrupt\u001b[0m: "
     ]
    }
   ],
   "source": [
    "x = \"https://gotovim-doma.ru/category/55-napitki?\"\n",
    "\n",
    "\n",
    "#вытаскиваем html-код главной страницы раздела\n",
    "def get_html(url):\n",
    "    r = requests.get(url)\n",
    "    return r.text\n",
    "\n",
    "ready_html = get_html(x)\n",
    "\n",
    "def get_category_url(ready_html):\n",
    "    soup = BeautifulSoup(ready_html, 'lxml')\n",
    "    table = soup.find(\"table\", class_=\"menu-main\")\n",
    "    tr = table.find('tr')\n",
    "    a = list(tr.find_all('a'))\n",
    "    list_of_category_url = []\n",
    "    for i in a:\n",
    "        href = i.get('href')\n",
    "        category_url = \"https://gotovim-doma.ru\" + href\n",
    "        list_of_category_url.append(category_url)\n",
    "    return list_of_category_url\n",
    "\n",
    "f_of_category_url = list(get_category_url(ready_html))\n",
    "#print (get_category_url(ready_html))\n",
    "\n",
    "def get_html(url):\n",
    "    r = requests.get(url)\n",
    "    return r.text\n",
    "\n",
    "list_of_html = list(map(get_html, f_of_category_url))\n",
    "\n",
    "#print (list_of_html)\n",
    "\n",
    "def get_total_category_pages(ready_html):\n",
    "    def get_html(base_url):\n",
    "                r = requests.get(base_url)\n",
    "                ready_html = r.text\n",
    "                return ready_html\n",
    "    soup = BeautifulSoup(ready_html, 'lxml')\n",
    "    divs = soup.find('div', class_='pager')\n",
    "    pages = divs.find('li', class_='last')\n",
    "    xxx = str(pages).split(\">\")[2].split(\"<\")[0]\n",
    "    return int(xxx)\n",
    "\n",
    "list_of_int_pages = list(map(get_total_category_pages, list_of_html))\n",
    "#print (list_of_int_pages)\n",
    "\n",
    "def get_html(base_url):\n",
    "    r = requests.get(base_url)\n",
    "    ready_html = r.text\n",
    "    return ready_html\n",
    "\n",
    "def get_category_page(base_url):\n",
    "    page_part = \"?page=\"\n",
    "    def get_total_category_pages(ready_html):\n",
    "        ready_html = get_html(base_url)    \n",
    "        soup = BeautifulSoup(ready_html, 'lxml')\n",
    "        divs = soup.find('div', class_='pager')\n",
    "        pages = divs.find('li', class_='last')\n",
    "        xxx = str(pages).split(\">\")[2].split(\"<\")[0]\n",
    "        return int(xxx)\n",
    "    total_pages = get_total_category_pages(ready_html)   \n",
    "    urls = []\n",
    "    for i in range (1, total_pages + 1):\n",
    "        url_gen = base_url + page_part + str(i)\n",
    "        urls.append(url_gen)\n",
    "    return urls\n",
    "\n",
    "category_pages_url = (list(map(get_category_page, f_of_category_url)))\n",
    "#print (category_pages_url)\n",
    "\n",
    "l = category_pages_url\n",
    "list_of_recipes = reduce(lambda x,y: x+y,l)\n",
    "\n",
    "def get_recipes_links(url):   \n",
    "    ready_html = get_html(url)\n",
    "    soup = BeautifulSoup(ready_html, 'lxml')\n",
    "    h4 = list(soup.find_all('h4'))\n",
    "    links = []\n",
    "    for i in h4:\n",
    "        div = i.find('a').get('href')\n",
    "        url = \"https://gotovim-doma.ru\" + div\n",
    "        links.append(url)\n",
    "    return links\n",
    "\n",
    "list_of_list_recipes = list(map(get_recipes_links, list_of_recipes))\n",
    "\n",
    "l1 = list_of_list_recipes\n",
    "list_of_recipes_upd = reduce(lambda x,y: x+y,l1)\n",
    "        \n",
    "uniq_rec = np.unique(list_of_recipes_upd)\n",
    "print (uniq_rec)\n",
    "len(uniq_rec)"
   ]
  },
  {
   "cell_type": "code",
   "execution_count": null,
   "metadata": {},
   "outputs": [],
   "source": []
  }
 ],
 "metadata": {
  "kernelspec": {
   "display_name": "Python 3",
   "language": "python",
   "name": "python3"
  },
  "language_info": {
   "codemirror_mode": {
    "name": "ipython",
    "version": 3
   },
   "file_extension": ".py",
   "mimetype": "text/x-python",
   "name": "python",
   "nbconvert_exporter": "python",
   "pygments_lexer": "ipython3",
   "version": "3.6.5"
  }
 },
 "nbformat": 4,
 "nbformat_minor": 2
}
