{
 "cells": [
  {
   "cell_type": "code",
   "execution_count": null,
   "metadata": {},
   "outputs": [],
   "source": [
    "%%time\n",
    "#вытаскивает со страницы все товары, ссылки на них и цены\n",
    "x1 = \"https://www.perekrestok.ru/catalog/moloko-syr-yaytsa?page=18\"\n",
    "\n",
    "\n",
    "#вытаскиваем html-код главной страницы раздела\n",
    "def get_html(url):\n",
    "    r = requests.get(url)\n",
    "    return r.text\n",
    "\n",
    "ready_html = get_html(x1)\n",
    "\n",
    "#print (ready_html)\n",
    "\n",
    "def get_goods_sp(ready_html):\n",
    "    soup = BeautifulSoup(ready_html, 'lxml')\n",
    "    div = soup.find(\"section\", class_= \"xf-products-section\")\n",
    "    main = div.find(\"main\", class_= \"xf-products-section__products\")\n",
    "    div1 = main.find(\"div\", class_= \"catalog__items-wrap js-catalog-wrap\")\n",
    "    ul = div1.find(\"ul\", class_ = \"xf-catalog js-catalog\")\n",
    "    li = ul.findAll(\"li\", class_ = \"js-catalog-product _additionals xf-catalog__item\")\n",
    "    li = list(li)\n",
    "    list_of_all_products = []\n",
    "    for i in li:\n",
    "        list_of_product_sp = []\n",
    "        a = i.find(\"a\", class_= \"xf-product-title__link js-product__title\")\n",
    "        href = a.get('href')\n",
    "        title = a.get(\"title\")\n",
    "        div2 = i.find(\"div\", class_ = \"xf-product__cost xf-product-cost\")\n",
    "        cost1 = div2.find(class_ = \"xf-price__rouble\")\n",
    "        ncost1 = str(cost1).split(\">\")[1].split(\"<\")[0]\n",
    "        cost2 = div2.find(class_ = \"xf-price__penny\")\n",
    "        ncost2 = str(cost2).split(\">\")[1].split(\" <\")[0]\n",
    "        ncost = str(ncost1 + ncost2).replace('\\n                        ', '')\n",
    "        list_of_product_sp.extend((href, title, ncost))\n",
    "        list_of_all_products.append(list_of_product_sp)\n",
    "    return list_of_all_products\n",
    "\n",
    "print (get_goods_sp(ready_html))\n",
    "#prom_res = get_category_url(ready_html)"
   ]
  },
  {
   "cell_type": "code",
   "execution_count": null,
   "metadata": {},
   "outputs": [],
   "source": [
    "pages_html = category_pages_urls\n",
    "\n",
    "pages_html = np.unique(np.concatenate(pages_html))"
   ]
  },
  {
   "cell_type": "code",
   "execution_count": null,
   "metadata": {},
   "outputs": [],
   "source": [
    "products_perek = {}\n",
    "for i in pages_html:\n",
    "    products_perek.add(get_goods_sp(i))"
   ]
  }
 ],
 "metadata": {
  "kernelspec": {
   "display_name": "Python 3",
   "language": "python",
   "name": "python3"
  },
  "language_info": {
   "codemirror_mode": {
    "name": "ipython",
    "version": 3
   },
   "file_extension": ".py",
   "mimetype": "text/x-python",
   "name": "python",
   "nbconvert_exporter": "python",
   "pygments_lexer": "ipython3",
   "version": "3.6.5"
  }
 },
 "nbformat": 4,
 "nbformat_minor": 2
}
