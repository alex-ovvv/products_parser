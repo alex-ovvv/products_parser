{
 "cells": [
  {
   "cell_type": "code",
   "execution_count": 1,
   "metadata": {},
   "outputs": [
    {
     "name": "stdout",
     "output_type": "stream",
     "text": [
      "CPU times: user 1.42 s, sys: 264 ms, total: 1.68 s\n",
      "Wall time: 6.23 s\n"
     ]
    }
   ],
   "source": [
    "%%time\n",
    "\n",
    "import requests, bs4, tqdm\n",
    "from bs4 import BeautifulSoup\n",
    "import tqdm\n",
    "from tqdm import tqdm_notebook\n",
    "import numpy as np\n",
    "from functools import reduce\n",
    "import pandas as pd\n",
    "import numpy as np\n",
    "from selenium import webdriver"
   ]
  },
  {
   "cell_type": "code",
   "execution_count": 25,
   "metadata": {},
   "outputs": [
    {
     "name": "stdout",
     "output_type": "stream",
     "text": [
      "CPU times: user 98.7 ms, sys: 0 ns, total: 98.7 ms\n",
      "Wall time: 216 ms\n"
     ]
    }
   ],
   "source": [
    "%%time\n",
    "x = \"https://krsk.metro-cc.ru/category/produkty\"\n",
    "\n",
    "\n",
    "#вытаскиваем html-код главной страницы раздела\n",
    "def get_html(url):\n",
    "    r = requests.get(url)\n",
    "    return r.text\n",
    "\n",
    "ready_html = get_html(x)\n",
    "\n",
    "#print (ready_html)"
   ]
  },
  {
   "cell_type": "code",
   "execution_count": 22,
   "metadata": {
    "scrolled": true
   },
   "outputs": [
    {
     "name": "stdout",
     "output_type": "stream",
     "text": [
      "['https://msk.metro-cc.ru/category/produkty/alkogolnaya-produkciya/vino', 'https://msk.metro-cc.ru/category/produkty/alkogolnaya-produkciya/shampanskoe-igristye-vina', 'https://msk.metro-cc.ru/category/produkty/alkogolnaya-produkciya/viski', 'https://msk.metro-cc.ru/category/produkty/alkogolnaya-produkciya/rom', 'https://msk.metro-cc.ru/category/produkty/alkogolnaya-produkciya/konyak-armanyak-brendi', 'https://msk.metro-cc.ru/category/produkty/alkogolnaya-produkciya/vodka', 'https://msk.metro-cc.ru/category/produkty/alkogolnaya-produkciya/nastojki-balzamy-nalivki', 'https://msk.metro-cc.ru/category/produkty/alkogolnaya-produkciya/likery', 'https://msk.metro-cc.ru/category/produkty/alkogolnaya-produkciya/vermuty-aperitivy', 'https://msk.metro-cc.ru/category/produkty/alkogolnaya-produkciya/tekila', 'https://msk.metro-cc.ru/category/produkty/alkogolnaya-produkciya/dzhin-grappa-kalvados-absent', 'https://msk.metro-cc.ru/category/produkty/alkogolnaya-produkciya/pivo_i_sidr', 'https://msk.metro-cc.ru/category/produkty/ovoschi-griby/101009001-svezhie', 'https://msk.metro-cc.ru/category/produkty/ovoschi-griby/101009002-zamorozhennye', 'https://msk.metro-cc.ru/category/produkty/ovoschi-griby/101009003-konservirovannye', 'https://msk.metro-cc.ru/category/produkty/ovoschi-griby/101009004-ekzoticheskie', 'https://msk.metro-cc.ru/category/produkty/frukty-yagody/101010001-svezhye', 'https://msk.metro-cc.ru/category/produkty/frukty-yagody/101010002-zamorozhennye', 'https://msk.metro-cc.ru/category/produkty/frukty-yagody/101010003-konservirovannye', 'https://msk.metro-cc.ru/category/produkty/frukty-yagody/101010004-ekzoticheskye', 'https://msk.metro-cc.ru/category/produkty/myasnye/zamorozhennoe-myaso', 'https://msk.metro-cc.ru/category/produkty/myasnye/ohlazhdennoe-myaso', 'https://msk.metro-cc.ru/category/produkty/myasnye/101007009-konservy', 'https://msk.metro-cc.ru/category/produkty/myasnye/polufabrikaty-101007003', 'https://msk.metro-cc.ru/category/produkty/myasnye/subprodukty', 'https://msk.metro-cc.ru/category/produkty/myasnaya-gastronomiya/varenaya-kolbasa-vetchina', 'https://msk.metro-cc.ru/category/produkty/myasnaya-gastronomiya/kopchenye-kolbasy', 'https://msk.metro-cc.ru/category/produkty/myasnaya-gastronomiya/sosiski-sardelki', 'https://msk.metro-cc.ru/category/produkty/myasnaya-gastronomiya/delikatesy', 'https://msk.metro-cc.ru/category/produkty/myasnaya-gastronomiya/pashtety', 'https://msk.metro-cc.ru/category/produkty/myasnaya-gastronomiya/vegetarianskaya-produkciya', 'https://msk.metro-cc.ru/category/produkty/rybnye/zhivaya-ryba', 'https://msk.metro-cc.ru/category/produkty/rybnye/zamorozhennaya-ryba', 'https://msk.metro-cc.ru/category/produkty/rybnye/ohlazhdennaya-ryba', 'https://msk.metro-cc.ru/category/produkty/rybnye/ikra', 'https://msk.metro-cc.ru/category/produkty/rybnye/moreprodukty', 'https://msk.metro-cc.ru/category/produkty/rybnye/solenye', 'https://msk.metro-cc.ru/category/produkty/rybnye/vyalenye-sushenye', 'https://msk.metro-cc.ru/category/produkty/rybnye/polufabrikaty', 'https://msk.metro-cc.ru/category/produkty/rybnye/101008010-konservy', 'https://msk.metro-cc.ru/category/produkty/rybnye/preservy', 'https://msk.metro-cc.ru/category/produkty/rybnye/ustricy', 'https://msk.metro-cc.ru/category/produkty/rybnye/krabovoe-myaso-palochki', 'https://msk.metro-cc.ru/category/produkty/molochnye/moloko', 'https://msk.metro-cc.ru/category/produkty/molochnye/kislomolochnye-napitki', 'https://msk.metro-cc.ru/category/produkty/molochnye/smetana', 'https://msk.metro-cc.ru/category/produkty/molochnye/tvorog', 'https://msk.metro-cc.ru/category/produkty/molochnye/jogurty', 'https://msk.metro-cc.ru/category/produkty/molochnye/koktejli-napitki', 'https://msk.metro-cc.ru/category/produkty/molochnye/sguschennoe-moloko-kakao', 'https://msk.metro-cc.ru/category/produkty/molochnye/slivki', 'https://msk.metro-cc.ru/category/produkty/molochnye/syrki-glazirovannye', 'https://msk.metro-cc.ru/category/produkty/molochnye/deserty', 'https://msk.metro-cc.ru/category/produkty/molochnye/morozhenoe', 'https://msk.metro-cc.ru/category/produkty/syrnye/tverdye-syry', 'https://msk.metro-cc.ru/category/produkty/syrnye/polutverdye-syry', 'https://msk.metro-cc.ru/category/produkty/syrnye/syry-s-goluboj-plesenyu', 'https://msk.metro-cc.ru/category/produkty/syrnye/syry-s-beloj-plesenyu', 'https://msk.metro-cc.ru/category/produkty/syrnye/plavlenye-syry', 'https://msk.metro-cc.ru/category/produkty/syrnye/tvorozhnye-slivochnye-syry', 'https://msk.metro-cc.ru/category/produkty/syrnye/brynza-feta', 'https://msk.metro-cc.ru/category/produkty/syrnye/kozij-ovechij-syry', 'https://msk.metro-cc.ru/category/produkty/syrnye/syrnye-tarelki', 'https://msk.metro-cc.ru/category/produkty/syrnye/syry-dlya-zharki-fondyu', 'https://msk.metro-cc.ru/category/produkty/syrnye/slivochnoe-maslo', 'https://msk.metro-cc.ru/category/produkty/syrnye/margariny-spredy', 'https://msk.metro-cc.ru/category/produkty/syrnye/yajca', 'https://msk.metro-cc.ru/category/produkty/bakaleya/krupy', 'https://msk.metro-cc.ru/category/produkty/bakaleya/makaronnye-izdeliya', 'https://msk.metro-cc.ru/category/produkty/bakaleya/101004004-vypechka', 'https://msk.metro-cc.ru/category/produkty/bakaleya/rastitelnoe-maslo', 'https://msk.metro-cc.ru/category/produkty/bakaleya/sahar-sol', 'https://msk.metro-cc.ru/category/produkty/bakaleya/bystrogo-prigotovleniya', 'https://msk.metro-cc.ru/category/produkty/bakaleya/orehi-suhofrukty-semechki', 'https://msk.metro-cc.ru/category/produkty/bakaleya/chipsy-suhari-sneki', 'https://msk.metro-cc.ru/category/produkty/bakaleya/med-dzhemy', 'https://msk.metro-cc.ru/category/produkty/bakaleya/zhevatelnaya-rezinka', 'https://msk.metro-cc.ru/category/produkty/bakaleya/siropy-toppingi', 'https://msk.metro-cc.ru/category/produkty/bakaleya/aziatskaya-kuhnya', 'https://msk.metro-cc.ru/category/produkty/bakaleya/suhie-zavtraki', 'https://msk.metro-cc.ru/category/produkty/napitki/zernovoj-kofe', 'https://msk.metro-cc.ru/category/produkty/napitki/molotyj-kofe', 'https://msk.metro-cc.ru/category/produkty/napitki/rastvorimyj-kofe', 'https://msk.metro-cc.ru/category/produkty/napitki/kapsuly-kofe', 'https://msk.metro-cc.ru/category/produkty/napitki/paketirovannyj-kofe-3-1', 'https://msk.metro-cc.ru/category/produkty/napitki/kakao', 'https://msk.metro-cc.ru/category/produkty/napitki/listovoj-chaj', 'https://msk.metro-cc.ru/category/produkty/napitki/paketirovannyj-chaj', 'https://msk.metro-cc.ru/category/produkty/napitki/kofezameniteli', 'https://msk.metro-cc.ru/category/produkty/napitki/cikorij', 'https://msk.metro-cc.ru/category/produkty/holodnye-napitki/pityevaya-voda-kulery', 'https://msk.metro-cc.ru/category/produkty/holodnye-napitki/mineralnaya-voda', 'https://msk.metro-cc.ru/category/produkty/holodnye-napitki/101006003-drugoe', 'https://msk.metro-cc.ru/category/produkty/holodnye-napitki/soki-morsy-nektary', 'https://msk.metro-cc.ru/category/produkty/holodnye-napitki/energetiki', 'https://msk.metro-cc.ru/category/produkty/detskoe-pitanie/zameniteli-moloka-smesi', 'https://msk.metro-cc.ru/category/produkty/detskoe-pitanie/kashi', 'https://msk.metro-cc.ru/category/produkty/detskoe-pitanie/101017004-napitki', 'https://msk.metro-cc.ru/category/produkty/detskoe-pitanie/pure', 'https://msk.metro-cc.ru/category/produkty/detskoe-pitanie/101017005-suhie-zavtraki', 'https://msk.metro-cc.ru/category/produkty/detskoe-pitanie/101017006-deserty', 'https://msk.metro-cc.ru/category/produkty/dieticheskoe-pitanie/produkty-dlya-pohudeniya', 'https://msk.metro-cc.ru/category/produkty/dieticheskoe-pitanie/hlebcy', 'https://msk.metro-cc.ru/category/produkty/dieticheskoe-pitanie/zameniteli-sahara', 'https://msk.metro-cc.ru/category/produkty/dieticheskoe-pitanie/sladosti', 'https://msk.metro-cc.ru/category/produkty/sousy-pripravy/ketchupy', 'https://msk.metro-cc.ru/category/produkty/sousy-pripravy/sousy', 'https://msk.metro-cc.ru/category/produkty/sousy-pripravy/majonez', 'https://msk.metro-cc.ru/category/produkty/sousy-pripravy/specii', 'https://msk.metro-cc.ru/category/produkty/sousy-pripravy/uksus-marinady', 'https://msk.metro-cc.ru/category/produkty/sousy-pripravy/adzhika-gorchica-hren', 'https://msk.metro-cc.ru/category/produkty/konditerskie-izdeliya/shokolad-batonchiki', 'https://msk.metro-cc.ru/category/produkty/konditerskie-izdeliya/konfety', 'https://msk.metro-cc.ru/category/produkty/konditerskie-izdeliya/torty-pirogi-pirozhnye', 'https://msk.metro-cc.ru/category/produkty/konditerskie-izdeliya/pechenje-pryaniki', 'https://msk.metro-cc.ru/category/produkty/konditerskie-izdeliya/keksy-rulety', 'https://msk.metro-cc.ru/category/produkty/konditerskie-izdeliya/vafli', 'https://msk.metro-cc.ru/category/produkty/konditerskie-izdeliya/101011012-vypechka', 'https://msk.metro-cc.ru/category/produkty/konditerskie-izdeliya/vostochnye-sladosti', 'https://msk.metro-cc.ru/category/produkty/konditerskie-izdeliya/marmelad-zefir', 'https://msk.metro-cc.ru/category/produkty/konditerskie-izdeliya/101011005-podarochnye-nabory', 'https://msk.metro-cc.ru/category/produkty/gotovye-bljuda-polufabrikaty/pizza', 'https://msk.metro-cc.ru/category/produkty/gotovye-bljuda-polufabrikaty/blinchiki', 'https://msk.metro-cc.ru/category/produkty/gotovye-bljuda-polufabrikaty/pelmeni-vareniki', 'https://msk.metro-cc.ru/category/produkty/gotovye-bljuda-polufabrikaty/kotlety', 'https://msk.metro-cc.ru/category/produkty/gotovye-bljuda-polufabrikaty/supy-vtorye-bluda', 'https://msk.metro-cc.ru/category/produkty/gotovye-bljuda-polufabrikaty/salati', 'https://msk.metro-cc.ru/category/produkty/hlebobulochnye-izdeliya/baton-lavash', 'https://msk.metro-cc.ru/category/produkty/hlebobulochnye-izdeliya/sdoba', 'https://msk.metro-cc.ru/category/produkty/hlebobulochnye-izdeliya/baranki-suhari', 'https://msk.metro-cc.ru/category/produkty/hlebobulochnye-izdeliya/zamorozhennoe-testo-vypechka', 'https://msk.metro-cc.ru/category/produkty/tabachnaya-produkciya/sigarety', 'https://msk.metro-cc.ru/category/produkty/tabachnaya-produkciya/sigarilly-sigary', 'https://msk.metro-cc.ru/category/produkty/tabachnaya-produkciya/zazhigalki-spichki']\n"
     ]
    }
   ],
   "source": [
    "def get_category_urls(ready_html):\n",
    "    soup = BeautifulSoup(ready_html, 'lxml')\n",
    "    div = soup.find(\"div\", class_= \"l-page_cnt_w\")\n",
    "    table = div.find(\"div\", class_= \"subcatalog cat1\")\n",
    "    a = table.findAll(\"li\", class_ = \"subcatalog_item\")\n",
    "    a = list(a)\n",
    "    list_of_category_url = []\n",
    "    for i in a:\n",
    "        a = i.find(\"a\", class_=\"subcatalog_link\")\n",
    "        href = a.get('href')\n",
    "        category_url = \"https://msk.metro-cc.ru\" + href\n",
    "        list_of_category_url.append(category_url)\n",
    "    return list_of_category_url\n",
    "\n",
    "print (get_category_urls(ready_html))"
   ]
  },
  {
   "cell_type": "code",
   "execution_count": 76,
   "metadata": {},
   "outputs": [
    {
     "name": "stdout",
     "output_type": "stream",
     "text": [
      "65\n"
     ]
    }
   ],
   "source": [
    "#кол-во страниц в категории\n",
    "def get_total_category_pages(ready_url_html):\n",
    "    soup = BeautifulSoup(ready_url_html, 'lxml')\n",
    "    div = soup.find(\"div\", class_=\"l-catalog_cnt cat-view__tile\")\n",
    "    div1 = div.find(\"div\", class_=\"cpaging cpaging-full\")\n",
    "    a = div1.find(\"div\", class_=\"pagination\") \n",
    "    li = a.findAll(\"li\")\n",
    "    li = list(li)\n",
    "    maxi = li[5]\n",
    "    inti = str(maxi).split(\";\")[2].split(\"=\")[1].split(\">\")[1].split(\"<\")[0]\n",
    "    inti = int(inti)\n",
    "    return inti\n",
    "\n",
    "print (get_total_category_pages(ready_url_html))"
   ]
  },
  {
   "cell_type": "code",
   "execution_count": 71,
   "metadata": {},
   "outputs": [],
   "source": [
    "x = \"https://msk.metro-cc.ru/category/produkty/alkogolnaya-produkciya/vino\"\n",
    "\n",
    "def get_html(url):\n",
    "    r = requests.get(url)\n",
    "    return r.text\n",
    "\n",
    "ready_url_html = get_html(x)\n",
    "\n",
    "#print (ready_url_html)"
   ]
  },
  {
   "cell_type": "code",
   "execution_count": null,
   "metadata": {},
   "outputs": [],
   "source": [
    "def get_category_page(base_url):\n",
    "    page_part = \"?page=\"\n",
    "    def get_total_category_pages(ready_html):\n",
    "        ready_html = get_html(base_url)    \n",
    "        soup = BeautifulSoup(ready_html, 'lxml')\n",
    "        divs = soup.find('div', class_='pager')\n",
    "        pages = divs.find('li', class_='last')\n",
    "        xxx = str(pages).split(\">\")[2].split(\"<\")[0]\n",
    "        return int(xxx)\n",
    "    total_pages = get_total_category_pages(ready_html)   \n",
    "    urls = []\n",
    "    for i in range (1, total_pages + 1):\n",
    "        url_gen = base_url + page_part + str(i)\n",
    "        urls.append(url_gen)\n",
    "    return urls\n",
    "\n",
    "category_pages_url = (list(map(get_category_page, f_of_category_url)))\n",
    "#print (category_pages_url)"
   ]
  }
 ],
 "metadata": {
  "kernelspec": {
   "display_name": "Python 3",
   "language": "python",
   "name": "python3"
  },
  "language_info": {
   "codemirror_mode": {
    "name": "ipython",
    "version": 3
   },
   "file_extension": ".py",
   "mimetype": "text/x-python",
   "name": "python",
   "nbconvert_exporter": "python",
   "pygments_lexer": "ipython3",
   "version": "3.6.5"
  }
 },
 "nbformat": 4,
 "nbformat_minor": 2
}
